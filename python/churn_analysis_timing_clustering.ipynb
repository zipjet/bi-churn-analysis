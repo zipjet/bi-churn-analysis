{
 "cells": [
  {
   "cell_type": "markdown",
   "metadata": {},
   "source": [
    "# Churn Analysis: Timing of Targeting"
   ]
  },
  {
   "cell_type": "code",
   "execution_count": 1,
   "metadata": {},
   "outputs": [],
   "source": [
    "import pandas as pd\n",
    "import matplotlib.pyplot as plt\n",
    "import seaborn as sns\n",
    "from datetime import datetime\n",
    "import glob\n",
    "from sklearn import metrics\n",
    "import numpy as np\n",
    "from sklearn.preprocessing import LabelEncoder\n",
    "from sklearn.model_selection import train_test_split, KFold\n",
    "from sklearn.cluster import KMeans\n",
    "from sklearn.externals import joblib\n",
    "\n",
    "%matplotlib inline\n",
    "plt.style.use('ggplot')\n",
    "\n",
    "import warnings\n",
    "warnings.filterwarnings(\"ignore\")"
   ]
  },
  {
   "cell_type": "markdown",
   "metadata": {},
   "source": [
    "# Create Dataset"
   ]
  },
  {
   "cell_type": "code",
   "execution_count": 2,
   "metadata": {},
   "outputs": [],
   "source": [
    "df_ord_orig = pd.read_csv('../data/order_churn_data.csv')\n",
    "df_cus_orig = pd.read_csv('../data/churn_dataset.csv')"
   ]
  },
  {
   "cell_type": "code",
   "execution_count": 3,
   "metadata": {
    "scrolled": true
   },
   "outputs": [
    {
     "name": "stdout",
     "output_type": "stream",
     "text": [
      "33304 / 68891\n"
     ]
    }
   ],
   "source": [
    "# limit dataset to customers who came after 2017\n",
    "cust_ids = df_cus_orig.loc[(df_cus_orig.first_order_created_datetime >= \"2017-01-01\")\n",
    "                          & (df_cus_orig.last_order_created_datetime <= \"2018-09-30\")].customer_db_id\n",
    "print(len(cust_ids), '/',  len(df_cus_orig))"
   ]
  },
  {
   "cell_type": "code",
   "execution_count": 4,
   "metadata": {},
   "outputs": [],
   "source": [
    "df_ord = df_ord_orig.loc[df_ord_orig.customer_db_id.isin(cust_ids)]\n",
    "df_cus = df_cus_orig.loc[df_cus_orig.customer_db_id.isin(cust_ids)]\n",
    "df_ord = df_ord.merge(df_cus[['customer_db_id', 'customer_id', 'completed_orders', 'last_order_created_datetime']], \n",
    "                      on=['customer_db_id', 'customer_id'], how='inner')"
   ]
  },
  {
   "cell_type": "code",
   "execution_count": 5,
   "metadata": {},
   "outputs": [
    {
     "data": {
      "text/plain": [
       "city\n",
       "Berlin    15837\n",
       "London    49233\n",
       "Paris     36495\n",
       "Name: order_id, dtype: int64"
      ]
     },
     "execution_count": 5,
     "metadata": {},
     "output_type": "execute_result"
    }
   ],
   "source": [
    "df_ord.groupby('city').order_id.nunique()"
   ]
  },
  {
   "cell_type": "code",
   "execution_count": 6,
   "metadata": {},
   "outputs": [],
   "source": [
    "df_items = pd.read_csv('../data/input/items.csv')"
   ]
  },
  {
   "cell_type": "code",
   "execution_count": 7,
   "metadata": {},
   "outputs": [],
   "source": [
    "# products one-hot-encoded\n",
    "df_prods = df_items.pivot_table(values='quantity', index='order_id', columns='product_group', fill_value=0)\n",
    "df_prods.columns = ['prod_' + c for c in df_prods.columns]\n",
    "df_prods = df_prods.reset_index()\n",
    "\n",
    "# overall quantity and basket\n",
    "df_prods['quantity'] = df_items.groupby('order_id')['quantity'].transform('sum')\n",
    "df_prods['basket'] = df_items.groupby('order_id')['product_group'].transform(lambda x: ','.join(set(sorted(x))))\n",
    "\n",
    "df_ord = df_ord.merge(df_prods, on=['order_id'], how='left')"
   ]
  },
  {
   "cell_type": "code",
   "execution_count": 8,
   "metadata": {},
   "outputs": [],
   "source": [
    "df_ord['days_since_last_seen'] = (datetime(2018,9,30) - pd.to_datetime(df_ord.last_order_created_datetime)).dt.days\n",
    "df_ord.order_created_datetime = pd.to_datetime(df_ord.order_created_datetime)\n",
    "df_ord['order_day'] = (df_ord.order_created_datetime - datetime(2017, 1, 1)).dt.days\n",
    "df_ord['order_weekday'] = (df_ord.order_created_datetime).dt.weekday\n",
    "df_ord['order_month'] = (df_ord.order_created_datetime).dt.month"
   ]
  },
  {
   "cell_type": "code",
   "execution_count": 9,
   "metadata": {},
   "outputs": [],
   "source": [
    "df_ord = df_ord.drop_duplicates()"
   ]
  },
  {
   "cell_type": "code",
   "execution_count": 10,
   "metadata": {},
   "outputs": [
    {
     "data": {
      "text/plain": [
       "637"
      ]
     },
     "execution_count": 10,
     "metadata": {},
     "output_type": "execute_result"
    }
   ],
   "source": [
    "last_day = (datetime(2018,9,30) - datetime(2017,1,1)).days\n",
    "last_day"
   ]
  },
  {
   "cell_type": "markdown",
   "metadata": {},
   "source": [
    "### Completed Dataset"
   ]
  },
  {
   "cell_type": "code",
   "execution_count": 11,
   "metadata": {},
   "outputs": [],
   "source": [
    "# only completed orders\n",
    "df_comp = df_ord.loc[(df_ord.order_state == \"completed\") & (df_ord.completed_orders > 0)]\n",
    "df_comp = df_comp.sort_values(['customer_db_id', 'order_created_datetime'])\n",
    "df_comp['order_created_datetime'] = pd.to_datetime(df_comp.order_created_datetime)\n",
    "\n",
    "# completed orders\n",
    "df_comp['completed_orders'] = df_comp.groupby(['customer_db_id']).transform('count')\n",
    "df_comp['order_comp_num'] = df_comp.groupby(['customer_db_id']).cumcount()\n",
    "df_comp['next_order_date'] = df_comp.groupby('customer_db_id')['order_created_datetime'].shift(-1)\n",
    "df_comp['last_order_date'] = df_comp.groupby('customer_db_id')['order_created_datetime'].shift(1)\n",
    "df_comp['days_until_next_comp'] = (df_comp.next_order_date.dt.date - df_comp.order_created_datetime.dt.date).dt.days\n",
    "df_comp['days_since_last_comp'] = (df_comp.order_created_datetime.dt.date - df_comp.last_order_date.dt.date).dt.days\n",
    "df_comp['weeks_until_next_comp'] = df_comp.days_until_next_comp // 7\n",
    "\n",
    "df_comp = df_comp.drop(['next_order_date', 'last_order_date'], axis=1)"
   ]
  },
  {
   "cell_type": "code",
   "execution_count": 12,
   "metadata": {},
   "outputs": [],
   "source": [
    "df_comp['first_completed_order'] = df_comp.groupby(['customer_db_id'])['order_created_datetime'].transform('min')\n",
    "df_comp['last_completed_order'] = df_comp.groupby(['customer_db_id'])['order_created_datetime'].transform('max')\n",
    "df_comp['lifetime'] = (df_comp.last_completed_order - df_comp.first_completed_order).dt.days\n",
    "df_comp['first_completed_order_day'] = (df_comp.first_completed_order - datetime(2017, 1, 1)).dt.days\n",
    "df_comp['last_completed_order_day'] = (df_comp.last_completed_order - datetime(2017, 1, 1)).dt.days\n",
    "df_comp['order_day'] = (df_comp.order_created_datetime - datetime(2017, 1, 1)).dt.days"
   ]
  },
  {
   "cell_type": "markdown",
   "metadata": {},
   "source": [
    "# Customer Lifetime\n",
    "Created dataframe for customer lifetime"
   ]
  },
  {
   "cell_type": "code",
   "execution_count": 13,
   "metadata": {},
   "outputs": [],
   "source": [
    "df_life = df_comp.copy()\n",
    "df_life = df_life.sort_values(['customer_id', 'order_day'])\n",
    "\n",
    "df_life['first_order'] = df_life.order_comp_num == 0\n",
    "df_life['last_order'] = df_life.order_comp_num == (df_life.completed_orders - 1)\n",
    "df_life['returned'] = ~df_life.last_order\n",
    "\n",
    "df_life['frequency'] = df_life.groupby('customer_id')['days_since_last_comp'].transform(lambda x: x.expanding().mean())\n",
    "df_life['order_day_expected'] = df_life.order_day + df_life.frequency\n",
    "df_life.order_day_expected = df_life.groupby('customer_id').order_day_expected.shift().fillna(df_life.order_day)\n",
    "df_life['order_expected_diff'] = df_life.order_day - df_life.order_day_expected\n",
    "\n",
    "df_life['churn_factor'] = df_life.days_until_next_comp / df_life.frequency\n",
    "df_life.loc[df_life.last_order, 'churn_factor'] = df_life.days_since_last_seen / df_life.frequency\n",
    "\n",
    "df_life['order_day_expected_45'] = df_life.order_day + 45 + 8\n",
    "df_life.order_day_expected_45 = df_life.groupby('customer_id').order_day_expected_45.shift().fillna(df_life.order_day)\n",
    "df_life['order_expected_45_diff'] = df_life.order_day - df_life.order_day_expected_45\n",
    "\n",
    "df_life['churned_after'] = df_life.days_until_next_comp > (45 + 8)\n",
    "df_life.loc[df_life.last_order, 'churned_after'] = df_life.days_since_last_seen > (45 + 8)\n",
    "df_life['churned_before'] = df_life.groupby('customer_id').churned_after.shift().fillna(False)\n",
    "df_life.loc[df_life.churned_after, 'entered_inactive'] = df_life.order_day + 45 + 8\n",
    "\n",
    "df_life['revenue_voucher'] = df_life.revenue + df_life.voucher_value\n",
    "df_life.loc[~(df_life.voucher_value > 0), 'voucher_channel'] = 'no_voucher'\n",
    "df_life['voucher_ratio'] = (df_life.voucher_value / df_life.revenue_voucher).round(1)\n",
    "\n",
    "df_life['returned_CRM'] = df_life.final_click_channel.str.contains('crm')\n",
    "df_life['returned_CRM'] = df_life.groupby('customer_id').returned_CRM.shift(-1).fillna(False)\n",
    "df_life['returned_voucher'] = df_life.groupby('customer_id').voucher_value.shift(-1).fillna(0)\n",
    "df_life['returned_voucher'] = (df_life.returned_voucher > 0)\n",
    "df_life['over_frequency'] = df_life.churn_factor >= 1\n",
    "df_life['freq_median'] = df_life.groupby('order_day')['frequency'].transform('median')"
   ]
  },
  {
   "cell_type": "code",
   "execution_count": 14,
   "metadata": {},
   "outputs": [],
   "source": [
    "df_life.voucher_channel = df_life.voucher_channel.fillna('unknown')"
   ]
  },
  {
   "cell_type": "code",
   "execution_count": 15,
   "metadata": {},
   "outputs": [],
   "source": [
    "df_life.to_csv('../data/df_life.csv', index=False)"
   ]
  },
  {
   "cell_type": "code",
   "execution_count": 16,
   "metadata": {},
   "outputs": [],
   "source": [
    "def plot_customer_lifetime(sample_customer):\n",
    "    df_life_sample = df_life.loc[df_life.customer_id == sample_customer]\n",
    "    \n",
    "    fig, ax = plt.subplots(figsize=(10,5))\n",
    "    # plot vouchers\n",
    "    sns.scatterplot(data=df_life_sample.loc[df_life_sample.voucher_value > 0], \n",
    "                    x='order_day', y='voucher_value', marker='x', color='black', label='voucher_value')\n",
    "    \n",
    "    # plot journey and expected journy\n",
    "    sns.lineplot(data=df_life_sample, x='order_day', y='revenue_voucher', \n",
    "                 marker='o', label='order revenue', color='green')\n",
    "    sns.lineplot(data=df_life_sample, x='order_day_expected', y='revenue_voucher', \n",
    "                 marker='o', label='expected_order', color='gray', alpha=0.3)\n",
    "    \n",
    "    # plot final click channel\n",
    "    sns.scatterplot(data=df_life_sample.loc[df_life_sample.final_click_channel.str.contains('crm')],\n",
    "                   x='order_day', y='revenue_voucher', color='red', label='crm_click', zorder=10)\n",
    "    \n",
    "    # plot entering inactive segment\n",
    "    sns.rugplot(df_life_sample.entered_inactive, color='black', height=1, linestyle='--', label='inactive')\n",
    "    \n",
    "\n",
    "    plt.xticks(rotation=70)\n",
    "    plt.ylim(0)\n",
    "    plt.title(sample_customer)\n",
    "    plt.legend()\n",
    "    plt.show()"
   ]
  },
  {
   "cell_type": "code",
   "execution_count": 17,
   "metadata": {
    "scrolled": true
   },
   "outputs": [
    {
     "data": {
      "text/plain": [
       "40259    CUS-W-AS-94846208\n",
       "73320    CUS-W-CH-15579034\n",
       "56696    CUS-W-SB-99218812\n",
       "Name: customer_id, dtype: object"
      ]
     },
     "execution_count": 17,
     "metadata": {},
     "output_type": "execute_result"
    }
   ],
   "source": [
    "samples = df_ord.loc[(df_ord.days_until_next_order > 50) & (df_ord.completed_orders > 3) & (df_ord.order_num == 2)]['customer_id'].sample(3)\n",
    "samples"
   ]
  },
  {
   "cell_type": "code",
   "execution_count": 18,
   "metadata": {
    "scrolled": false
   },
   "outputs": [
    {
     "data": {
      "image/png": "[encoded data removed]",
      "text/plain": [
       "<Figure size 720x360 with 1 Axes>"
      ]
     },
     "metadata": {},
     "output_type": "display_data"
    },
    {
     "data": {
      "image/png": "[encoded data removed]",
      "text/plain": [
       "<Figure size 720x360 with 1 Axes>"
      ]
     },
     "metadata": {},
     "output_type": "display_data"
    },
    {
     "data": {
      "image/png": "[encoded data removed]",
      "text/plain": [
       "<Figure size 720x360 with 1 Axes>"
      ]
     },
     "metadata": {},
     "output_type": "display_data"
    }
   ],
   "source": [
    "for s in samples:\n",
    "    plot_customer_lifetime(s)"
   ]
  },
  {
   "cell_type": "markdown",
   "metadata": {},
   "source": [
    "# Current Impact of Targeting\n",
    "- based on customers with more than 1 order to use IOF"
   ]
  },
  {
   "cell_type": "markdown",
   "metadata": {},
   "source": [
    "## Group customers based on frequency\n",
    "Group customers based on their IOF and compare the impact of targeting for each group.\n",
    "- good timing: if frequency 53 (45+8) days +/- 7 days\n",
    "- soon: if frequency > 53+7\n",
    "- late: if frequency < 53-7"
   ]
  },
  {
   "cell_type": "code",
   "execution_count": 19,
   "metadata": {},
   "outputs": [],
   "source": [
    "a = df_life.loc[(df_life.order_comp_num > 0) & (df_life.churned_after)]\n",
    "a['frequency_week'] = a.frequency // 7\n",
    "a['target_timing'] = ['soon' if x >= 53+10 else 'late' if x <= 53-10 else 'correct' for x in a.frequency]\n",
    "a['days_until_next_after_target'] = a['days_until_next_comp'] - 53"
   ]
  },
  {
   "cell_type": "code",
   "execution_count": 20,
   "metadata": {},
   "outputs": [],
   "source": [
    "stats = a.groupby(['frequency_week', 'returned'])['order_id'].nunique().reset_index()\n",
    "stats['freq_week_total'] = stats.groupby(['frequency_week'])['order_id'].transform('sum')\n",
    "stats['returned_perc'] = stats.order_id / stats.freq_week_total"
   ]
  },
  {
   "cell_type": "code",
   "execution_count": 21,
   "metadata": {},
   "outputs": [
    {
     "data": {
      "text/plain": [
       "(0, 30)"
      ]
     },
     "execution_count": 21,
     "metadata": {},
     "output_type": "execute_result"
    },
    {
     "data": {
      "image/png": "[encoded data removed]",
      "text/plain": [
       "<Figure size 432x288 with 1 Axes>"
      ]
     },
     "metadata": {},
     "output_type": "display_data"
    }
   ],
   "source": [
    "sns.lineplot(data=stats, x='frequency_week', y='returned_perc', hue='returned')\n",
    "sns.rugplot(np.ones(len(stats)) * 7.5, height=1, color='black', linestyle='--', label='targeted')\n",
    "plt.legend()\n",
    "plt.xlim(0,30)"
   ]
  },
  {
   "cell_type": "code",
   "execution_count": 22,
   "metadata": {},
   "outputs": [],
   "source": [
    "stats = a.loc[a.churned_after]\\\n",
    "            .groupby(['target_timing', 'returned'])['order_id'].nunique().reset_index()\n",
    "stats['target_total'] = stats.groupby('target_timing')['order_id'].transform('sum')\n",
    "stats['order_perc'] = stats.order_id / stats.target_total"
   ]
  },
  {
   "cell_type": "code",
   "execution_count": 23,
   "metadata": {},
   "outputs": [
    {
     "data": {
      "text/plain": [
       "<matplotlib.axes._subplots.AxesSubplot at 0x25891afeb70>"
      ]
     },
     "execution_count": 23,
     "metadata": {},
     "output_type": "execute_result"
    },
    {
     "data": {
      "image/png": "[encoded data removed]",
      "text/plain": [
       "<Figure size 432x288 with 1 Axes>"
      ]
     },
     "metadata": {},
     "output_type": "display_data"
    }
   ],
   "source": [
    "sns.categorical.barplot(data=stats, x='target_timing', y='order_id', hue='returned')"
   ]
  },
  {
   "cell_type": "code",
   "execution_count": 24,
   "metadata": {},
   "outputs": [
    {
     "data": {
      "text/html": [
       "<div>\n",
       "<style scoped>\n",
       "    .dataframe tbody tr th:only-of-type {\n",
       "        vertical-align: middle;\n",
       "    }\n",
       "\n",
       "    .dataframe tbody tr th {\n",
       "        vertical-align: top;\n",
       "    }\n",
       "\n",
       "    .dataframe thead th {\n",
       "        text-align: right;\n",
       "    }\n",
       "</style>\n",
       "<table border=\"1\" class=\"dataframe\">\n",
       "  <thead>\n",
       "    <tr style=\"text-align: right;\">\n",
       "      <th></th>\n",
       "      <th>target_timing</th>\n",
       "      <th>returned</th>\n",
       "      <th>order_id</th>\n",
       "      <th>target_total</th>\n",
       "      <th>order_perc</th>\n",
       "    </tr>\n",
       "  </thead>\n",
       "  <tbody>\n",
       "    <tr>\n",
       "      <th>0</th>\n",
       "      <td>correct</td>\n",
       "      <td>False</td>\n",
       "      <td>1012</td>\n",
       "      <td>2414</td>\n",
       "      <td>0.419221</td>\n",
       "    </tr>\n",
       "    <tr>\n",
       "      <th>1</th>\n",
       "      <td>correct</td>\n",
       "      <td>True</td>\n",
       "      <td>1402</td>\n",
       "      <td>2414</td>\n",
       "      <td>0.580779</td>\n",
       "    </tr>\n",
       "    <tr>\n",
       "      <th>2</th>\n",
       "      <td>late</td>\n",
       "      <td>False</td>\n",
       "      <td>4152</td>\n",
       "      <td>7412</td>\n",
       "      <td>0.560173</td>\n",
       "    </tr>\n",
       "    <tr>\n",
       "      <th>3</th>\n",
       "      <td>late</td>\n",
       "      <td>True</td>\n",
       "      <td>3260</td>\n",
       "      <td>7412</td>\n",
       "      <td>0.439827</td>\n",
       "    </tr>\n",
       "    <tr>\n",
       "      <th>4</th>\n",
       "      <td>soon</td>\n",
       "      <td>False</td>\n",
       "      <td>2999</td>\n",
       "      <td>5310</td>\n",
       "      <td>0.564783</td>\n",
       "    </tr>\n",
       "    <tr>\n",
       "      <th>5</th>\n",
       "      <td>soon</td>\n",
       "      <td>True</td>\n",
       "      <td>2311</td>\n",
       "      <td>5310</td>\n",
       "      <td>0.435217</td>\n",
       "    </tr>\n",
       "  </tbody>\n",
       "</table>\n",
       "</div>"
      ],
      "text/plain": [
       "  target_timing  returned  order_id  target_total  order_perc\n",
       "0       correct     False      1012          2414    0.419221\n",
       "1       correct      True      1402          2414    0.580779\n",
       "2          late     False      4152          7412    0.560173\n",
       "3          late      True      3260          7412    0.439827\n",
       "4          soon     False      2999          5310    0.564783\n",
       "5          soon      True      2311          5310    0.435217"
      ]
     },
     "execution_count": 24,
     "metadata": {},
     "output_type": "execute_result"
    }
   ],
   "source": [
    "stats"
   ]
  },
  {
   "cell_type": "code",
   "execution_count": 25,
   "metadata": {},
   "outputs": [
    {
     "data": {
      "text/plain": [
       "target_timing  returned_CRM\n",
       "correct        False           0.706134\n",
       "               True            0.293866\n",
       "late           False           0.758896\n",
       "               True            0.241104\n",
       "soon           False           0.610991\n",
       "               True            0.389009\n",
       "Name: order_id, dtype: float64"
      ]
     },
     "execution_count": 25,
     "metadata": {},
     "output_type": "execute_result"
    }
   ],
   "source": [
    "a.loc[a.churned_after & a.returned].groupby(['target_timing', 'returned_CRM'])['order_id'].nunique() / \\\n",
    "a.loc[a.churned_after & a.returned].groupby('target_timing')['order_id'].nunique()"
   ]
  },
  {
   "cell_type": "code",
   "execution_count": 26,
   "metadata": {},
   "outputs": [
    {
     "data": {
      "text/html": [
       "<div>\n",
       "<style scoped>\n",
       "    .dataframe tbody tr th:only-of-type {\n",
       "        vertical-align: middle;\n",
       "    }\n",
       "\n",
       "    .dataframe tbody tr th {\n",
       "        vertical-align: top;\n",
       "    }\n",
       "\n",
       "    .dataframe thead th {\n",
       "        text-align: right;\n",
       "    }\n",
       "</style>\n",
       "<table border=\"1\" class=\"dataframe\">\n",
       "  <thead>\n",
       "    <tr style=\"text-align: right;\">\n",
       "      <th></th>\n",
       "      <th>count</th>\n",
       "      <th>mean</th>\n",
       "      <th>std</th>\n",
       "      <th>min</th>\n",
       "      <th>25%</th>\n",
       "      <th>50%</th>\n",
       "      <th>75%</th>\n",
       "      <th>max</th>\n",
       "    </tr>\n",
       "    <tr>\n",
       "      <th>target_timing</th>\n",
       "      <th></th>\n",
       "      <th></th>\n",
       "      <th></th>\n",
       "      <th></th>\n",
       "      <th></th>\n",
       "      <th></th>\n",
       "      <th></th>\n",
       "      <th></th>\n",
       "    </tr>\n",
       "  </thead>\n",
       "  <tbody>\n",
       "    <tr>\n",
       "      <th>correct</th>\n",
       "      <td>412.0</td>\n",
       "      <td>55.228155</td>\n",
       "      <td>62.241867</td>\n",
       "      <td>1.0</td>\n",
       "      <td>15.00</td>\n",
       "      <td>33.0</td>\n",
       "      <td>71.0</td>\n",
       "      <td>438.0</td>\n",
       "    </tr>\n",
       "    <tr>\n",
       "      <th>late</th>\n",
       "      <td>786.0</td>\n",
       "      <td>64.061069</td>\n",
       "      <td>76.358833</td>\n",
       "      <td>1.0</td>\n",
       "      <td>15.25</td>\n",
       "      <td>38.0</td>\n",
       "      <td>82.0</td>\n",
       "      <td>542.0</td>\n",
       "    </tr>\n",
       "    <tr>\n",
       "      <th>soon</th>\n",
       "      <td>899.0</td>\n",
       "      <td>63.642937</td>\n",
       "      <td>60.308361</td>\n",
       "      <td>1.0</td>\n",
       "      <td>20.00</td>\n",
       "      <td>46.0</td>\n",
       "      <td>89.0</td>\n",
       "      <td>439.0</td>\n",
       "    </tr>\n",
       "  </tbody>\n",
       "</table>\n",
       "</div>"
      ],
      "text/plain": [
       "               count       mean        std  min    25%   50%   75%    max\n",
       "target_timing                                                            \n",
       "correct        412.0  55.228155  62.241867  1.0  15.00  33.0  71.0  438.0\n",
       "late           786.0  64.061069  76.358833  1.0  15.25  38.0  82.0  542.0\n",
       "soon           899.0  63.642937  60.308361  1.0  20.00  46.0  89.0  439.0"
      ]
     },
     "execution_count": 26,
     "metadata": {},
     "output_type": "execute_result"
    }
   ],
   "source": [
    "# what is the time until customers come back with CRM campaign after the targeting starts\n",
    "stats = a.loc[a.returned_CRM].groupby('target_timing')['days_until_next_after_target'].describe()\n",
    "stats"
   ]
  },
  {
   "cell_type": "code",
   "execution_count": 27,
   "metadata": {},
   "outputs": [
    {
     "data": {
      "text/plain": [
       "count    2097.000000\n",
       "mean       62.146400\n",
       "std        67.181678\n",
       "min         1.000000\n",
       "25%        17.000000\n",
       "50%        41.000000\n",
       "75%        82.000000\n",
       "max       542.000000\n",
       "Name: days_until_next_after_target, dtype: float64"
      ]
     },
     "execution_count": 27,
     "metadata": {},
     "output_type": "execute_result"
    }
   ],
   "source": [
    "stats = a.loc[a.returned_CRM]['days_until_next_after_target'].describe()\n",
    "stats"
   ]
  },
  {
   "cell_type": "code",
   "execution_count": 28,
   "metadata": {},
   "outputs": [
    {
     "data": {
      "text/plain": [
       "(0, 175)"
      ]
     },
     "execution_count": 28,
     "metadata": {},
     "output_type": "execute_result"
    },
    {
     "data": {
      "image/png": "[encoded data removed]",
      "text/plain": [
       "<Figure size 432x288 with 1 Axes>"
      ]
     },
     "metadata": {},
     "output_type": "display_data"
    }
   ],
   "source": [
    "sns.categorical.boxplot(data=a, x='target_timing', y='days_until_next_after_target')\n",
    "plt.ylim(0,175)"
   ]
  },
  {
   "cell_type": "markdown",
   "metadata": {},
   "source": [
    "# Predictions\n",
    "Evaluate predictions based on threshold value, IOF and clustering based on basket."
   ]
  },
  {
   "cell_type": "code",
   "execution_count": 29,
   "metadata": {},
   "outputs": [
    {
     "data": {
      "text/plain": [
       "(35453, 121)"
      ]
     },
     "execution_count": 29,
     "metadata": {},
     "output_type": "execute_result"
    }
   ],
   "source": [
    "df_known = df_life.loc[df_life.returned & ~(df_life.corporate) & ~(df_life.returned_voucher) &\n",
    "                       (df_life.days_until_next_comp < 100)]\n",
    "df_known.shape"
   ]
  },
  {
   "cell_type": "code",
   "execution_count": 30,
   "metadata": {},
   "outputs": [
    {
     "data": {
      "text/plain": [
       "(2818, 121)"
      ]
     },
     "execution_count": 30,
     "metadata": {},
     "output_type": "execute_result"
    }
   ],
   "source": [
    "df_life.loc[(df_life.order_comp_num == 0) & (df_life.churned_after) & (df_life.days_until_next_comp > 53 + 40)].shape"
   ]
  },
  {
   "cell_type": "code",
   "execution_count": 31,
   "metadata": {},
   "outputs": [
    {
     "data": {
      "text/plain": [
       "(14615, 121)"
      ]
     },
     "execution_count": 31,
     "metadata": {},
     "output_type": "execute_result"
    }
   ],
   "source": [
    "df_life.loc[(df_life.order_comp_num == 0) & (df_life.churned_after) & ~df_life.returned].shape"
   ]
  },
  {
   "cell_type": "code",
   "execution_count": 32,
   "metadata": {},
   "outputs": [
    {
     "data": {
      "text/plain": [
       "False    1276\n",
       "True      491\n",
       "Name: returned_CRM, dtype: int64"
      ]
     },
     "execution_count": 32,
     "metadata": {},
     "output_type": "execute_result"
    }
   ],
   "source": [
    "df_life.loc[(df_life.order_comp_num == 0) & df_life.churned_after & df_life.returned & (df_life.days_until_next_comp < 53 + 40)].returned_CRM.value_counts()"
   ]
  },
  {
   "cell_type": "code",
   "execution_count": 33,
   "metadata": {},
   "outputs": [
    {
     "data": {
      "text/plain": [
       "(31907, 1773, 1773)"
      ]
     },
     "execution_count": 33,
     "metadata": {},
     "output_type": "execute_result"
    }
   ],
   "source": [
    "train_orders, test_orders = train_test_split(df_known.index, test_size=0.1, random_state=42)\n",
    "test_orders, val_orders = train_test_split(test_orders, test_size=0.5, random_state=42)\n",
    "len(train_orders), len(test_orders), len(val_orders)"
   ]
  },
  {
   "cell_type": "code",
   "execution_count": 34,
   "metadata": {},
   "outputs": [],
   "source": [
    "df_train = df_known.loc[train_orders]\n",
    "df_test = df_known.loc[test_orders]\n",
    "df_val = df_known.loc[val_orders]"
   ]
  },
  {
   "cell_type": "markdown",
   "metadata": {},
   "source": [
    "# Clustering"
   ]
  },
  {
   "cell_type": "code",
   "execution_count": 35,
   "metadata": {},
   "outputs": [
    {
     "data": {
      "text/plain": [
       "['prod_Blazer',\n",
       " 'prod_Blouse',\n",
       " 'prod_Coats',\n",
       " 'prod_Dress',\n",
       " 'prod_DressSpecial',\n",
       " 'prod_Household',\n",
       " 'prod_Knitwear',\n",
       " 'prod_Shirt',\n",
       " 'prod_Shorts',\n",
       " 'prod_Skirt',\n",
       " 'prod_Suit',\n",
       " 'prod_Top',\n",
       " 'prod_Trousers',\n",
       " 'prod_Tshirt',\n",
       " 'prod_Underwear',\n",
       " 'prod_WashFold']"
      ]
     },
     "execution_count": 35,
     "metadata": {},
     "output_type": "execute_result"
    }
   ],
   "source": [
    "prod_cols = [c for c in df_known.columns if 'prod_' in c and c not in ['prod_Accessories', 'prod_Others', 'prod_Skiwear']]\n",
    "prod_cols"
   ]
  },
  {
   "cell_type": "code",
   "execution_count": 36,
   "metadata": {},
   "outputs": [],
   "source": [
    "df_train[prod_cols] = df_train[prod_cols].fillna(0).clip(0,1)\n",
    "df_val[prod_cols] = df_val[prod_cols].fillna(0).clip(0, 1)\n",
    "df_test[prod_cols] = df_test[prod_cols].fillna(0).clip(0,1)"
   ]
  },
  {
   "cell_type": "code",
   "execution_count": 37,
   "metadata": {},
   "outputs": [],
   "source": [
    "X_train = df_train[prod_cols]\n",
    "X_test = df_test[prod_cols]"
   ]
  },
  {
   "cell_type": "code",
   "execution_count": 38,
   "metadata": {
    "scrolled": true
   },
   "outputs": [
    {
     "name": "stdout",
     "output_type": "stream",
     "text": [
      "2 Inertia: 33146.63 \t Sil: 0 \t MAE: 14.3\n",
      "3 Inertia: 28688.07 \t Sil: 0 \t MAE: 13.82\n",
      "4 Inertia: 24968.22 \t Sil: 0 \t MAE: 13.89\n",
      "5 Inertia: 22477.9 \t Sil: 0 \t MAE: 14.01\n",
      "6 Inertia: 20763.58 \t Sil: 0 \t MAE: 13.88\n",
      "7 Inertia: 19410.14 \t Sil: 0 \t MAE: 13.94\n",
      "8 Inertia: 18010.34 \t Sil: 0 \t MAE: 13.83\n",
      "9 Inertia: 17082.48 \t Sil: 0 \t MAE: 13.91\n",
      "10 Inertia: 16429.45 \t Sil: 0 \t MAE: 13.94\n",
      "11 Inertia: 15762.76 \t Sil: 0 \t MAE: 13.97\n",
      "12 Inertia: 15258.31 \t Sil: 0 \t MAE: 13.96\n",
      "13 Inertia: 14785.92 \t Sil: 0 \t MAE: 13.94\n",
      "14 Inertia: 14531.61 \t Sil: 0 \t MAE: 13.95\n",
      "15 Inertia: 14060.09 \t Sil: 0 \t MAE: 14.01\n",
      "16 Inertia: 13719.03 \t Sil: 0 \t MAE: 13.95\n",
      "17 Inertia: 13395.88 \t Sil: 0 \t MAE: 13.94\n",
      "18 Inertia: 13284.28 \t Sil: 0 \t MAE: 13.94\n",
      "19 Inertia: 12744.34 \t Sil: 0 \t MAE: 13.94\n",
      "20 Inertia: 12562.5 \t Sil: 0 \t MAE: 13.98\n",
      "21 Inertia: 12368.27 \t Sil: 0 \t MAE: 13.98\n",
      "22 Inertia: 12122.06 \t Sil: 0 \t MAE: 14.01\n",
      "23 Inertia: 11881.64 \t Sil: 0 \t MAE: 13.95\n",
      "24 Inertia: 11425.22 \t Sil: 0 \t MAE: 13.92\n"
     ]
    }
   ],
   "source": [
    "inertias = []\n",
    "sils = []\n",
    "train_error = []\n",
    "for k in range(2,25):\n",
    "    kmeans = KMeans(k, random_state=42)\n",
    "    kmeans.fit(X_train)\n",
    "    \n",
    "    i = kmeans.inertia_\n",
    "    inertias.append(i)\n",
    "    \n",
    "#     s = metrics.silhouette_score(X_train, kmeans.labels_, random_state=42)\n",
    "#     sils.append(s)\n",
    "    s = 0\n",
    "    \n",
    "    df_train_k = df_train.copy()\n",
    "    df_train_k['cluster'] = kmeans.labels_\n",
    "    cluster_meds = df_train_k.groupby('cluster')['days_until_next_comp'].median()\n",
    "    \n",
    "    df_val_k = df_val.copy()\n",
    "    df_val_k['cluster'] = metrics.pairwise_distances(df_val_k[prod_cols], kmeans.cluster_centers_).argmin(axis=1)\n",
    "    mae = metrics.mean_absolute_error(df_val_k.days_until_next_comp, cluster_meds[df_val_k.cluster])\n",
    "    train_error.append(mae)\n",
    "    \n",
    "    print('{} Inertia: {} \\t Sil: {} \\t MAE: {}'.format(k, round(i, 2), round(s, 2), round(mae, 2)))"
   ]
  },
  {
   "cell_type": "code",
   "execution_count": 39,
   "metadata": {},
   "outputs": [
    {
     "data": {
      "text/plain": [
       "KMeans(algorithm='auto', copy_x=True, init='k-means++', max_iter=300,\n",
       "    n_clusters=10, n_init=10, n_jobs=None, precompute_distances='auto',\n",
       "    random_state=42, tol=0.0001, verbose=0)"
      ]
     },
     "execution_count": 39,
     "metadata": {},
     "output_type": "execute_result"
    }
   ],
   "source": [
    "kmeans = KMeans(10, random_state=42)\n",
    "kmeans.fit(X_train)"
   ]
  },
  {
   "cell_type": "code",
   "execution_count": 40,
   "metadata": {},
   "outputs": [],
   "source": [
    "kmeans = joblib.load('../data/models/kmeans_new.pkl')"
   ]
  },
  {
   "cell_type": "code",
   "execution_count": 41,
   "metadata": {},
   "outputs": [
    {
     "data": {
      "text/plain": [
       "<matplotlib.axes._subplots.AxesSubplot at 0x25891b79d68>"
      ]
     },
     "execution_count": 41,
     "metadata": {},
     "output_type": "execute_result"
    },
    {
     "data": {
      "image/png": "[encoded data removed]",
      "text/plain": [
       "<Figure size 432x288 with 2 Axes>"
      ]
     },
     "metadata": {},
     "output_type": "display_data"
    }
   ],
   "source": [
    "sns.heatmap(kmeans.cluster_centers_.T, yticklabels=prod_cols, cmap='Blues')"
   ]
  },
  {
   "cell_type": "code",
   "execution_count": 42,
   "metadata": {},
   "outputs": [
    {
     "data": {
      "text/plain": [
       "Text(0,0.5,'Days until second order')"
      ]
     },
     "execution_count": 42,
     "metadata": {},
     "output_type": "execute_result"
    },
    {
     "data": {
      "image/png": "[encoded data removed]",
      "text/plain": [
       "<Figure size 432x288 with 1 Axes>"
      ]
     },
     "metadata": {},
     "output_type": "display_data"
    }
   ],
   "source": [
    "df_train['cluster'] = kmeans.labels_\n",
    "sns.categorical.boxplot(df_train.cluster, df_train.loc[df_train.order_comp_num == 0].days_until_next_comp)\n",
    "plt.ylabel('Days until second order')"
   ]
  },
  {
   "cell_type": "code",
   "execution_count": 43,
   "metadata": {},
   "outputs": [],
   "source": [
    "cluster_meds = df_train.loc[df_train.order_comp_num == 0].groupby('cluster').days_until_next_comp.median()"
   ]
  },
  {
   "cell_type": "code",
   "execution_count": 44,
   "metadata": {},
   "outputs": [
    {
     "data": {
      "text/plain": [
       "cluster\n",
       "0    19.0\n",
       "1    14.0\n",
       "2    20.0\n",
       "3    31.0\n",
       "4    22.0\n",
       "5    35.0\n",
       "6    14.0\n",
       "7    37.0\n",
       "8    23.0\n",
       "9    22.0\n",
       "Name: days_until_next_comp, dtype: float64"
      ]
     },
     "execution_count": 44,
     "metadata": {},
     "output_type": "execute_result"
    }
   ],
   "source": [
    "cluster_meds"
   ]
  },
  {
   "cell_type": "code",
   "execution_count": 45,
   "metadata": {},
   "outputs": [],
   "source": [
    "cluster_centers = pd.DataFrame(index=range(0,10), columns=prod_cols, data=kmeans.cluster_centers_)\n",
    "cluster_centers['next_order_prediction_days'] = df_train.loc[df_train.order_comp_num == 0].groupby('cluster').days_until_next_comp.median()\n",
    "cluster_centers.to_csv('../data/cluster_centers.csv', index=True, index_label='cluster_number')"
   ]
  },
  {
   "cell_type": "code",
   "execution_count": 46,
   "metadata": {},
   "outputs": [
    {
     "data": {
      "text/html": [
       "<div>\n",
       "<style scoped>\n",
       "    .dataframe tbody tr th:only-of-type {\n",
       "        vertical-align: middle;\n",
       "    }\n",
       "\n",
       "    .dataframe tbody tr th {\n",
       "        vertical-align: top;\n",
       "    }\n",
       "\n",
       "    .dataframe thead th {\n",
       "        text-align: right;\n",
       "    }\n",
       "</style>\n",
       "<table border=\"1\" class=\"dataframe\">\n",
       "  <thead>\n",
       "    <tr style=\"text-align: right;\">\n",
       "      <th></th>\n",
       "      <th>prod_Blazer</th>\n",
       "      <th>prod_Blouse</th>\n",
       "      <th>prod_Coats</th>\n",
       "      <th>prod_Dress</th>\n",
       "      <th>prod_DressSpecial</th>\n",
       "      <th>prod_Household</th>\n",
       "      <th>prod_Knitwear</th>\n",
       "      <th>prod_Shirt</th>\n",
       "      <th>prod_Shorts</th>\n",
       "      <th>prod_Skirt</th>\n",
       "      <th>prod_Suit</th>\n",
       "      <th>prod_Top</th>\n",
       "      <th>prod_Trousers</th>\n",
       "      <th>prod_Tshirt</th>\n",
       "      <th>prod_Underwear</th>\n",
       "      <th>prod_WashFold</th>\n",
       "      <th>next_order_prediction_days</th>\n",
       "    </tr>\n",
       "  </thead>\n",
       "  <tbody>\n",
       "    <tr>\n",
       "      <th>0</th>\n",
       "      <td>0.064720</td>\n",
       "      <td>0.073832</td>\n",
       "      <td>6.775701e-02</td>\n",
       "      <td>1.258715e-14</td>\n",
       "      <td>0.021963</td>\n",
       "      <td>4.649533e-02</td>\n",
       "      <td>0.082009</td>\n",
       "      <td>9.371495e-01</td>\n",
       "      <td>0.023364</td>\n",
       "      <td>0.012383</td>\n",
       "      <td>1.334112e-01</td>\n",
       "      <td>0.029907</td>\n",
       "      <td>1.000000e+00</td>\n",
       "      <td>0.092290</td>\n",
       "      <td>0.017757</td>\n",
       "      <td>1.478972e-01</td>\n",
       "      <td>19.0</td>\n",
       "    </tr>\n",
       "    <tr>\n",
       "      <th>1</th>\n",
       "      <td>0.004935</td>\n",
       "      <td>0.009870</td>\n",
       "      <td>9.340853e-03</td>\n",
       "      <td>1.586183e-02</td>\n",
       "      <td>0.003525</td>\n",
       "      <td>3.701093e-02</td>\n",
       "      <td>0.008107</td>\n",
       "      <td>8.337775e-14</td>\n",
       "      <td>0.001410</td>\n",
       "      <td>0.002467</td>\n",
       "      <td>3.877335e-03</td>\n",
       "      <td>0.006521</td>\n",
       "      <td>1.744801e-02</td>\n",
       "      <td>0.007755</td>\n",
       "      <td>0.001057</td>\n",
       "      <td>1.000000e+00</td>\n",
       "      <td>14.0</td>\n",
       "    </tr>\n",
       "    <tr>\n",
       "      <th>2</th>\n",
       "      <td>0.022730</td>\n",
       "      <td>0.031801</td>\n",
       "      <td>3.732666e-02</td>\n",
       "      <td>3.472005e-02</td>\n",
       "      <td>0.008133</td>\n",
       "      <td>-3.705369e-15</td>\n",
       "      <td>0.018455</td>\n",
       "      <td>1.000000e+00</td>\n",
       "      <td>0.005213</td>\n",
       "      <td>0.002815</td>\n",
       "      <td>-4.768408e-14</td>\n",
       "      <td>0.009905</td>\n",
       "      <td>2.464695e-14</td>\n",
       "      <td>0.028151</td>\n",
       "      <td>0.006673</td>\n",
       "      <td>3.841372e-14</td>\n",
       "      <td>20.0</td>\n",
       "    </tr>\n",
       "    <tr>\n",
       "      <th>3</th>\n",
       "      <td>0.278545</td>\n",
       "      <td>0.373091</td>\n",
       "      <td>3.054545e-02</td>\n",
       "      <td>7.185455e-01</td>\n",
       "      <td>0.077818</td>\n",
       "      <td>4.509091e-02</td>\n",
       "      <td>0.133091</td>\n",
       "      <td>1.469091e-01</td>\n",
       "      <td>0.035636</td>\n",
       "      <td>0.179636</td>\n",
       "      <td>4.509091e-02</td>\n",
       "      <td>0.360727</td>\n",
       "      <td>1.527273e-02</td>\n",
       "      <td>0.053818</td>\n",
       "      <td>0.021818</td>\n",
       "      <td>6.981818e-02</td>\n",
       "      <td>31.0</td>\n",
       "    </tr>\n",
       "    <tr>\n",
       "      <th>4</th>\n",
       "      <td>0.028005</td>\n",
       "      <td>0.043716</td>\n",
       "      <td>3.756831e-02</td>\n",
       "      <td>6.147541e-02</td>\n",
       "      <td>0.008880</td>\n",
       "      <td>1.000000e+00</td>\n",
       "      <td>0.034836</td>\n",
       "      <td>3.155738e-01</td>\n",
       "      <td>0.008197</td>\n",
       "      <td>0.015710</td>\n",
       "      <td>4.274359e-15</td>\n",
       "      <td>0.034153</td>\n",
       "      <td>4.303279e-02</td>\n",
       "      <td>0.032787</td>\n",
       "      <td>0.016393</td>\n",
       "      <td>-3.885781e-15</td>\n",
       "      <td>22.0</td>\n",
       "    </tr>\n",
       "    <tr>\n",
       "      <th>5</th>\n",
       "      <td>0.079167</td>\n",
       "      <td>0.225694</td>\n",
       "      <td>1.000000e+00</td>\n",
       "      <td>2.923611e-01</td>\n",
       "      <td>0.031944</td>\n",
       "      <td>5.277778e-02</td>\n",
       "      <td>0.191667</td>\n",
       "      <td>7.986111e-02</td>\n",
       "      <td>0.008333</td>\n",
       "      <td>0.069444</td>\n",
       "      <td>3.111111e-01</td>\n",
       "      <td>0.023611</td>\n",
       "      <td>2.819444e-01</td>\n",
       "      <td>0.013889</td>\n",
       "      <td>0.003472</td>\n",
       "      <td>3.055556e-02</td>\n",
       "      <td>35.0</td>\n",
       "    </tr>\n",
       "    <tr>\n",
       "      <th>6</th>\n",
       "      <td>0.037783</td>\n",
       "      <td>0.040932</td>\n",
       "      <td>3.274559e-02</td>\n",
       "      <td>9.886650e-02</td>\n",
       "      <td>0.006297</td>\n",
       "      <td>6.360202e-02</td>\n",
       "      <td>0.027078</td>\n",
       "      <td>1.000000e+00</td>\n",
       "      <td>0.014484</td>\n",
       "      <td>0.008816</td>\n",
       "      <td>9.068010e-02</td>\n",
       "      <td>0.041562</td>\n",
       "      <td>6.467049e-15</td>\n",
       "      <td>0.057935</td>\n",
       "      <td>0.010076</td>\n",
       "      <td>1.000000e+00</td>\n",
       "      <td>14.0</td>\n",
       "    </tr>\n",
       "    <tr>\n",
       "      <th>7</th>\n",
       "      <td>0.056699</td>\n",
       "      <td>0.021033</td>\n",
       "      <td>-7.910339e-16</td>\n",
       "      <td>4.343850e-02</td>\n",
       "      <td>0.010517</td>\n",
       "      <td>2.652035e-02</td>\n",
       "      <td>0.021491</td>\n",
       "      <td>-9.436896e-15</td>\n",
       "      <td>0.002743</td>\n",
       "      <td>0.011431</td>\n",
       "      <td>1.000000e+00</td>\n",
       "      <td>0.008230</td>\n",
       "      <td>1.307727e-01</td>\n",
       "      <td>0.005030</td>\n",
       "      <td>0.004115</td>\n",
       "      <td>8.687700e-03</td>\n",
       "      <td>37.0</td>\n",
       "    </tr>\n",
       "    <tr>\n",
       "      <th>8</th>\n",
       "      <td>0.038547</td>\n",
       "      <td>0.028169</td>\n",
       "      <td>6.115641e-02</td>\n",
       "      <td>6.300964e-02</td>\n",
       "      <td>0.013714</td>\n",
       "      <td>3.409933e-02</td>\n",
       "      <td>0.020385</td>\n",
       "      <td>1.000000e+00</td>\n",
       "      <td>0.001483</td>\n",
       "      <td>0.004818</td>\n",
       "      <td>1.000000e+00</td>\n",
       "      <td>0.017791</td>\n",
       "      <td>2.692291e-15</td>\n",
       "      <td>0.017420</td>\n",
       "      <td>0.008895</td>\n",
       "      <td>1.043610e-14</td>\n",
       "      <td>23.0</td>\n",
       "    </tr>\n",
       "    <tr>\n",
       "      <th>9</th>\n",
       "      <td>0.185093</td>\n",
       "      <td>0.242857</td>\n",
       "      <td>1.149068e-01</td>\n",
       "      <td>9.621118e-01</td>\n",
       "      <td>0.018634</td>\n",
       "      <td>1.186335e-01</td>\n",
       "      <td>0.103727</td>\n",
       "      <td>5.683230e-01</td>\n",
       "      <td>0.083230</td>\n",
       "      <td>0.131677</td>\n",
       "      <td>1.683230e-01</td>\n",
       "      <td>0.396894</td>\n",
       "      <td>9.950311e-01</td>\n",
       "      <td>0.195031</td>\n",
       "      <td>0.080745</td>\n",
       "      <td>2.273292e-01</td>\n",
       "      <td>22.0</td>\n",
       "    </tr>\n",
       "  </tbody>\n",
       "</table>\n",
       "</div>"
      ],
      "text/plain": [
       "   prod_Blazer  prod_Blouse    prod_Coats    prod_Dress  prod_DressSpecial  \\\n",
       "0     0.064720     0.073832  6.775701e-02  1.258715e-14           0.021963   \n",
       "1     0.004935     0.009870  9.340853e-03  1.586183e-02           0.003525   \n",
       "2     0.022730     0.031801  3.732666e-02  3.472005e-02           0.008133   \n",
       "3     0.278545     0.373091  3.054545e-02  7.185455e-01           0.077818   \n",
       "4     0.028005     0.043716  3.756831e-02  6.147541e-02           0.008880   \n",
       "5     0.079167     0.225694  1.000000e+00  2.923611e-01           0.031944   \n",
       "6     0.037783     0.040932  3.274559e-02  9.886650e-02           0.006297   \n",
       "7     0.056699     0.021033 -7.910339e-16  4.343850e-02           0.010517   \n",
       "8     0.038547     0.028169  6.115641e-02  6.300964e-02           0.013714   \n",
       "9     0.185093     0.242857  1.149068e-01  9.621118e-01           0.018634   \n",
       "\n",
       "   prod_Household  prod_Knitwear    prod_Shirt  prod_Shorts  prod_Skirt  \\\n",
       "0    4.649533e-02       0.082009  9.371495e-01     0.023364    0.012383   \n",
       "1    3.701093e-02       0.008107  8.337775e-14     0.001410    0.002467   \n",
       "2   -3.705369e-15       0.018455  1.000000e+00     0.005213    0.002815   \n",
       "3    4.509091e-02       0.133091  1.469091e-01     0.035636    0.179636   \n",
       "4    1.000000e+00       0.034836  3.155738e-01     0.008197    0.015710   \n",
       "5    5.277778e-02       0.191667  7.986111e-02     0.008333    0.069444   \n",
       "6    6.360202e-02       0.027078  1.000000e+00     0.014484    0.008816   \n",
       "7    2.652035e-02       0.021491 -9.436896e-15     0.002743    0.011431   \n",
       "8    3.409933e-02       0.020385  1.000000e+00     0.001483    0.004818   \n",
       "9    1.186335e-01       0.103727  5.683230e-01     0.083230    0.131677   \n",
       "\n",
       "      prod_Suit  prod_Top  prod_Trousers  prod_Tshirt  prod_Underwear  \\\n",
       "0  1.334112e-01  0.029907   1.000000e+00     0.092290        0.017757   \n",
       "1  3.877335e-03  0.006521   1.744801e-02     0.007755        0.001057   \n",
       "2 -4.768408e-14  0.009905   2.464695e-14     0.028151        0.006673   \n",
       "3  4.509091e-02  0.360727   1.527273e-02     0.053818        0.021818   \n",
       "4  4.274359e-15  0.034153   4.303279e-02     0.032787        0.016393   \n",
       "5  3.111111e-01  0.023611   2.819444e-01     0.013889        0.003472   \n",
       "6  9.068010e-02  0.041562   6.467049e-15     0.057935        0.010076   \n",
       "7  1.000000e+00  0.008230   1.307727e-01     0.005030        0.004115   \n",
       "8  1.000000e+00  0.017791   2.692291e-15     0.017420        0.008895   \n",
       "9  1.683230e-01  0.396894   9.950311e-01     0.195031        0.080745   \n",
       "\n",
       "   prod_WashFold  next_order_prediction_days  \n",
       "0   1.478972e-01                        19.0  \n",
       "1   1.000000e+00                        14.0  \n",
       "2   3.841372e-14                        20.0  \n",
       "3   6.981818e-02                        31.0  \n",
       "4  -3.885781e-15                        22.0  \n",
       "5   3.055556e-02                        35.0  \n",
       "6   1.000000e+00                        14.0  \n",
       "7   8.687700e-03                        37.0  \n",
       "8   1.043610e-14                        23.0  \n",
       "9   2.273292e-01                        22.0  "
      ]
     },
     "execution_count": 46,
     "metadata": {},
     "output_type": "execute_result"
    }
   ],
   "source": [
    "cluster_centers"
   ]
  },
  {
   "cell_type": "code",
   "execution_count": 47,
   "metadata": {},
   "outputs": [],
   "source": [
    "cluster_meds = df_train.loc[df_train.order_comp_num == 0].groupby(['city', 'cluster']).days_until_next_comp.median()"
   ]
  },
  {
   "cell_type": "code",
   "execution_count": 48,
   "metadata": {},
   "outputs": [],
   "source": [
    "df_test['cluster'] = metrics.pairwise_distances(df_test[prod_cols], kmeans.cluster_centers_).argmin(axis=1)"
   ]
  },
  {
   "cell_type": "code",
   "execution_count": 49,
   "metadata": {},
   "outputs": [],
   "source": [
    "df_test['cluster_med'] = cluster_meds.loc[df_test.city][df_test.cluster].values\n",
    "df_train['cluster_med'] = cluster_meds[df_train.cluster].values\n",
    "df_test['cluster_error'] = df_test.days_until_next_comp - df_test.cluster_med"
   ]
  },
  {
   "cell_type": "code",
   "execution_count": 50,
   "metadata": {},
   "outputs": [
    {
     "data": {
      "text/plain": [
       "14.753525098702763"
      ]
     },
     "execution_count": 50,
     "metadata": {},
     "output_type": "execute_result"
    }
   ],
   "source": [
    "metrics.mean_absolute_error(df_test.days_until_next_comp, df_test.cluster_med)"
   ]
  },
  {
   "cell_type": "code",
   "execution_count": 51,
   "metadata": {},
   "outputs": [
    {
     "data": {
      "text/plain": [
       "18.055737704918034"
      ]
     },
     "execution_count": 51,
     "metadata": {},
     "output_type": "execute_result"
    }
   ],
   "source": [
    "metrics.mean_absolute_error(df_test.loc[df_test.order_comp_num == 0].days_until_next_comp, df_test.loc[df_test.order_comp_num == 0].cluster_med)"
   ]
  },
  {
   "cell_type": "code",
   "execution_count": 52,
   "metadata": {},
   "outputs": [
    {
     "data": {
      "text/plain": [
       "<matplotlib.axes._subplots.AxesSubplot at 0x25891f86ac8>"
      ]
     },
     "execution_count": 52,
     "metadata": {},
     "output_type": "execute_result"
    },
    {
     "data": {
      "image/png": "[encoded data removed]",
      "text/plain": [
       "<Figure size 432x288 with 1 Axes>"
      ]
     },
     "metadata": {},
     "output_type": "display_data"
    }
   ],
   "source": [
    "sns.categorical.boxplot(df_test.cluster, df_test.cluster_error)"
   ]
  },
  {
   "cell_type": "code",
   "execution_count": 53,
   "metadata": {},
   "outputs": [
    {
     "data": {
      "text/plain": [
       "<matplotlib.axes._subplots.AxesSubplot at 0x25891f24898>"
      ]
     },
     "execution_count": 53,
     "metadata": {},
     "output_type": "execute_result"
    },
    {
     "data": {
      "image/png": "[encoded data removed]",
      "text/plain": [
       "<Figure size 432x288 with 1 Axes>"
      ]
     },
     "metadata": {},
     "output_type": "display_data"
    }
   ],
   "source": [
    "df_test.loc[df_test.order_comp_num == 0].shape, df_test.loc[df_test.order_comp_num > 0].shape\n",
    "sns.distplot(df_test.loc[df_test.order_comp_num == 0].cluster, kde=False, bins=10, norm_hist=True)\n",
    "sns.distplot(df_test.loc[df_test.order_comp_num > 0].cluster, kde=False, bins=10, norm_hist=True)"
   ]
  },
  {
   "cell_type": "code",
   "execution_count": 54,
   "metadata": {},
   "outputs": [
    {
     "data": {
      "text/plain": [
       "(0, 25)"
      ]
     },
     "execution_count": 54,
     "metadata": {},
     "output_type": "execute_result"
    },
    {
     "data": {
      "image/png": "[encoded data removed]",
      "text/plain": [
       "<Figure size 432x288 with 1 Axes>"
      ]
     },
     "metadata": {},
     "output_type": "display_data"
    }
   ],
   "source": [
    "sns.barplot(df_known.order_comp_num, df_known.days_until_next_comp)\n",
    "plt.xlim(0,25)"
   ]
  }
 ],
 "metadata": {
  "kernelspec": {
   "display_name": "Python 3",
   "language": "python",
   "name": "python3"
  },
  "language_info": {
   "codemirror_mode": {
    "name": "ipython",
    "version": 3
   },
   "file_extension": ".py",
   "mimetype": "text/x-python",
   "name": "python",
   "nbconvert_exporter": "python",
   "pygments_lexer": "ipython3",
   "version": "3.6.5"
  }
 },
 "nbformat": 4,
 "nbformat_minor": 2
}
