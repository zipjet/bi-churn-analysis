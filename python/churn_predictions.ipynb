{
 "cells": [
  {
   "cell_type": "code",
   "execution_count": 142,
   "metadata": {},
   "outputs": [],
   "source": [
    "import pandas as pd\n",
    "import numpy as np\n",
    "import matplotlib.pyplot as plt\n",
    "import seaborn as sns\n",
    "from matplotlib.colors import ListedColormap\n",
    "import random\n",
    "\n",
    "from sklearn.preprocessing import StandardScaler\n",
    "from sklearn import linear_model, svm\n",
    "from sklearn.cross_validation import train_test_split\n",
    "from sklearn.neighbors import KNeighborsClassifier\n",
    "from sklearn import metrics\n",
    "from sklearn.naive_bayes import GaussianNB\n",
    "from sklearn.ensemble import RandomForestClassifier\n",
    "from sklearn.preprocessing import OneHotEncoder\n",
    "from sklearn.neural_network import MLPClassifier, MLPRegressor\n",
    "from hmmlearn import hmm\n",
    "\n",
    "import warnings\n",
    "warnings.filterwarnings(\"ignore\")\n",
    "\n",
    "%matplotlib inline"
   ]
  },
  {
   "cell_type": "markdown",
   "metadata": {},
   "source": [
    "# Load Data"
   ]
  },
  {
   "cell_type": "code",
   "execution_count": 91,
   "metadata": {},
   "outputs": [],
   "source": [
    "df_cus = pd.read_csv('../data/churn_dataset.csv')\n",
    "df_cus = df_cus.loc[(df_cus.first_order_created_datetime >= \"2017-01-01\") & (df_cus.last_order_created_datetime < \"2018-09-30\")]"
   ]
  },
  {
   "cell_type": "code",
   "execution_count": 92,
   "metadata": {},
   "outputs": [],
   "source": [
    "df_ord = pd.read_csv('../data/order_churn_data.csv')\n",
    "df_ord = df_ord.merge(df_cus[['customer_db_id', 'completed_orders']], on='customer_db_id', how='left')"
   ]
  },
  {
   "cell_type": "markdown",
   "metadata": {},
   "source": [
    "# Customer deltas"
   ]
  },
  {
   "cell_type": "code",
   "execution_count": 115,
   "metadata": {},
   "outputs": [],
   "source": [
    "df_ord['order_created_datetime'] = pd.to_datetime(df_ord.order_created_datetime)\n",
    "df_ord['order_created_day'] = df_ord.order_created_datetime.dt.weekday"
   ]
  },
  {
   "cell_type": "code",
   "execution_count": 116,
   "metadata": {},
   "outputs": [],
   "source": [
    "df_deltas = df_ord[['customer_db_id', 'order_num', 'days_since_last_order', \n",
    "                    'days_until_next_order', 'order_state' , 'cluster_name',\n",
    "                   'order_created_datetime', 'order_created_day', 'revenue']]"
   ]
  },
  {
   "cell_type": "code",
   "execution_count": 149,
   "metadata": {},
   "outputs": [],
   "source": [
    "cust_sample = random.sample(df_deltas.loc[(df_deltas.order_num > 10) & (~df_deltas.cluster_name.isnull())]\\\n",
    "                            .customer_db_id.unique().tolist(), 10)\n",
    "df_cust = df_deltas.loc[df_deltas.customer_db_id.isin(cust_sample)]"
   ]
  },
  {
   "cell_type": "code",
   "execution_count": 109,
   "metadata": {},
   "outputs": [
    {
     "data": {
      "text/html": [
       "<div>\n",
       "<style scoped>\n",
       "    .dataframe tbody tr th:only-of-type {\n",
       "        vertical-align: middle;\n",
       "    }\n",
       "\n",
       "    .dataframe tbody tr th {\n",
       "        vertical-align: top;\n",
       "    }\n",
       "\n",
       "    .dataframe thead th {\n",
       "        text-align: right;\n",
       "    }\n",
       "</style>\n",
       "<table border=\"1\" class=\"dataframe\">\n",
       "  <thead>\n",
       "    <tr style=\"text-align: right;\">\n",
       "      <th></th>\n",
       "      <th>order_num</th>\n",
       "      <th>days_since_last_order</th>\n",
       "      <th>days_until_next_order</th>\n",
       "      <th>order_created_day</th>\n",
       "      <th>revenue</th>\n",
       "    </tr>\n",
       "  </thead>\n",
       "  <tbody>\n",
       "    <tr>\n",
       "      <th>order_num</th>\n",
       "      <td>1.000000</td>\n",
       "      <td>-0.106002</td>\n",
       "      <td>-0.106002</td>\n",
       "      <td>0.112150</td>\n",
       "      <td>-0.240857</td>\n",
       "    </tr>\n",
       "    <tr>\n",
       "      <th>days_since_last_order</th>\n",
       "      <td>-0.106002</td>\n",
       "      <td>1.000000</td>\n",
       "      <td>-0.406515</td>\n",
       "      <td>-0.023737</td>\n",
       "      <td>0.228919</td>\n",
       "    </tr>\n",
       "    <tr>\n",
       "      <th>days_until_next_order</th>\n",
       "      <td>-0.106002</td>\n",
       "      <td>-0.406515</td>\n",
       "      <td>1.000000</td>\n",
       "      <td>0.065278</td>\n",
       "      <td>0.085618</td>\n",
       "    </tr>\n",
       "    <tr>\n",
       "      <th>order_created_day</th>\n",
       "      <td>0.112150</td>\n",
       "      <td>-0.023737</td>\n",
       "      <td>0.065278</td>\n",
       "      <td>1.000000</td>\n",
       "      <td>-0.103088</td>\n",
       "    </tr>\n",
       "    <tr>\n",
       "      <th>revenue</th>\n",
       "      <td>-0.240857</td>\n",
       "      <td>0.228919</td>\n",
       "      <td>0.085618</td>\n",
       "      <td>-0.103088</td>\n",
       "      <td>1.000000</td>\n",
       "    </tr>\n",
       "  </tbody>\n",
       "</table>\n",
       "</div>"
      ],
      "text/plain": [
       "                       order_num  days_since_last_order  \\\n",
       "order_num               1.000000              -0.106002   \n",
       "days_since_last_order  -0.106002               1.000000   \n",
       "days_until_next_order  -0.106002              -0.406515   \n",
       "order_created_day       0.112150              -0.023737   \n",
       "revenue                -0.240857               0.228919   \n",
       "\n",
       "                       days_until_next_order  order_created_day   revenue  \n",
       "order_num                          -0.106002           0.112150 -0.240857  \n",
       "days_since_last_order              -0.406515          -0.023737  0.228919  \n",
       "days_until_next_order               1.000000           0.065278  0.085618  \n",
       "order_created_day                   0.065278           1.000000 -0.103088  \n",
       "revenue                             0.085618          -0.103088  1.000000  "
      ]
     },
     "execution_count": 109,
     "metadata": {},
     "output_type": "execute_result"
    }
   ],
   "source": [
    "df_deltas.loc[df_deltas.customer_db_id == '5a1ee6e144770903118b466f'].corr()"
   ]
  },
  {
   "cell_type": "code",
   "execution_count": 4,
   "metadata": {},
   "outputs": [],
   "source": [
    "cust_2orders = df_cus.loc[df_cus.completed_orders >= 3]['customer_db_id'].unique().tolist()"
   ]
  },
  {
   "cell_type": "code",
   "execution_count": 37,
   "metadata": {},
   "outputs": [],
   "source": [
    "df_ord2 = df_ord.loc[(df_ord.customer_db_id.isin(cust_2orders)) & (df_ord.order_state == \"completed\")]\n",
    "df_ord2 = df_ord2.sort_values(['customer_db_id', 'order_created_datetime'])\n",
    "\n",
    "df_ord2['order_comp_num'] = df_ord2.groupby(['customer_db_id']).cumcount()\n",
    "df_ord2['order_created_datetime'] = pd.to_datetime(df_ord2.order_created_datetime)\n",
    "\n",
    "df_ord2['next_order_date'] = df_ord2.groupby('customer_db_id')['order_created_datetime'].shift(-1)\n",
    "df_ord2['last_order_date'] = df_ord2.groupby('customer_db_id')['order_created_datetime'].shift(1)\n",
    "df_ord2['days_until_next_comp'] = (df_ord2.next_order_date - df_ord2.order_created_datetime).dt.days\n",
    "df_ord2['days_since_last_comp'] = (df_ord2.order_created_datetime - df_ord2.last_order_date).dt.days\n",
    "\n",
    "df_ord2['weeks_until_next_comp'] = df_ord2.days_until_next_comp // 7\n",
    "df_ord2['weeks_since_last_comp'] = df_ord2.days_since_last_comp // 7\n",
    "\n",
    "df_ord2['last_order_revenue'] = df_ord2.groupby('customer_db_id')['revenue'].shift(1)\n",
    "df_ord2['last_revenue_diff'] = df_ord2.revenue - df_ord2.last_order_revenue\n",
    "\n",
    "df_ord2['revenue_brutto'] = df_ord2.revenue + df_ord2.voucher_value\n",
    "\n",
    "df_ord2 = df_ord2.drop(['next_order_date', 'last_order_date', 'last_order_revenue'], axis=1)"
   ]
  },
  {
   "cell_type": "code",
   "execution_count": 38,
   "metadata": {},
   "outputs": [],
   "source": [
    "# df_ord2 = df_ord2.drop(['cluster', 'cluster_name'], axis=1)\n",
    "# clusters = pd.read_csv('../data/clustering/item_clusters.csv')\n",
    "# df_ord2 = df_ord2.merge(clusters, on='order_id')"
   ]
  },
  {
   "cell_type": "code",
   "execution_count": 39,
   "metadata": {},
   "outputs": [],
   "source": [
    "# items = pd.read_csv('../data/input/items.csv')\n",
    "# df_ord2 = df_ord2.merge(items, on='order_id')"
   ]
  },
  {
   "cell_type": "code",
   "execution_count": 40,
   "metadata": {},
   "outputs": [],
   "source": [
    "df_ord2 = df_ord2.join(pd.get_dummies(df_ord2['cluster'], prefix='cluster'))\n",
    "# df_ord2 = df_ord2.join(pd.get_dummies(df_ord2['product_group'], prefix='product'))\n",
    "# df_ord2 = df_ord2.join(pd.get_dummies(df_ord2['service_class'], prefix='class'))\n",
    "# df_ord2 = df_ord2.drop('product_Skiwear', axis=1)"
   ]
  },
  {
   "cell_type": "code",
   "execution_count": 41,
   "metadata": {},
   "outputs": [
    {
     "data": {
      "text/html": [
       "<div>\n",
       "<style scoped>\n",
       "    .dataframe tbody tr th:only-of-type {\n",
       "        vertical-align: middle;\n",
       "    }\n",
       "\n",
       "    .dataframe tbody tr th {\n",
       "        vertical-align: top;\n",
       "    }\n",
       "\n",
       "    .dataframe thead th {\n",
       "        text-align: right;\n",
       "    }\n",
       "</style>\n",
       "<table border=\"1\" class=\"dataframe\">\n",
       "  <thead>\n",
       "    <tr style=\"text-align: right;\">\n",
       "      <th></th>\n",
       "      <th>260274</th>\n",
       "      <th>139876</th>\n",
       "      <th>195366</th>\n",
       "      <th>230393</th>\n",
       "      <th>298268</th>\n",
       "    </tr>\n",
       "  </thead>\n",
       "  <tbody>\n",
       "    <tr>\n",
       "      <th>order_id</th>\n",
       "      <td>GB-S-33739</td>\n",
       "      <td>GB-B-78803</td>\n",
       "      <td>GB-H-60995</td>\n",
       "      <td>GB-N-24594</td>\n",
       "      <td>GB-X-29500</td>\n",
       "    </tr>\n",
       "    <tr>\n",
       "      <th>customer_db_id</th>\n",
       "      <td>56e8cfd2d4cde8b932bae6a9</td>\n",
       "      <td>56e8cfd2d4cde8b932bae6a9</td>\n",
       "      <td>56e8cfd2d4cde8b932bae6a9</td>\n",
       "      <td>56e8cfd2d4cde8b932bae6a9</td>\n",
       "      <td>571b5744d2cde8e833ff595d</td>\n",
       "    </tr>\n",
       "    <tr>\n",
       "      <th>order_db_id</th>\n",
       "      <td>5904c69c4577094a458b45fb</td>\n",
       "      <td>5941223e457709913d8b45c3</td>\n",
       "      <td>59709c45457709413c8b456a</td>\n",
       "      <td>598fa413457709507a8b45c5</td>\n",
       "      <td>58ba8321447709d6158b4592</td>\n",
       "    </tr>\n",
       "    <tr>\n",
       "      <th>order_x</th>\n",
       "      <td>51.47</td>\n",
       "      <td>51.47</td>\n",
       "      <td>51.47</td>\n",
       "      <td>51.47</td>\n",
       "      <td>51.5542</td>\n",
       "    </tr>\n",
       "    <tr>\n",
       "      <th>order_y</th>\n",
       "      <td>-0.139703</td>\n",
       "      <td>-0.139703</td>\n",
       "      <td>-0.139703</td>\n",
       "      <td>-0.139703</td>\n",
       "      <td>-0.187987</td>\n",
       "    </tr>\n",
       "    <tr>\n",
       "      <th>pickup_timeslot_from_datetime</th>\n",
       "      <td>2017-04-30 12:00:00</td>\n",
       "      <td>2017-06-15 10:00:00</td>\n",
       "      <td>2017-07-21 10:30:00</td>\n",
       "      <td>2017-08-14 10:00:00</td>\n",
       "      <td>2017-03-05 08:00:00</td>\n",
       "    </tr>\n",
       "    <tr>\n",
       "      <th>pickup_timeslot_to_datetime</th>\n",
       "      <td>2017-04-30 12:30:00</td>\n",
       "      <td>2017-06-15 10:30:00</td>\n",
       "      <td>2017-07-21 11:00:00</td>\n",
       "      <td>2017-08-14 10:30:00</td>\n",
       "      <td>2017-03-05 10:00:00</td>\n",
       "    </tr>\n",
       "    <tr>\n",
       "      <th>pickup_zip</th>\n",
       "      <td>SW8 3JD</td>\n",
       "      <td>SW8 3JD</td>\n",
       "      <td>SW8 3JD</td>\n",
       "      <td>SW8 3JD</td>\n",
       "      <td>NW3 7EB</td>\n",
       "    </tr>\n",
       "    <tr>\n",
       "      <th>order_state</th>\n",
       "      <td>completed</td>\n",
       "      <td>completed</td>\n",
       "      <td>completed</td>\n",
       "      <td>completed</td>\n",
       "      <td>completed</td>\n",
       "    </tr>\n",
       "    <tr>\n",
       "      <th>order_created_datetime</th>\n",
       "      <td>2017-04-29 18:00:12</td>\n",
       "      <td>2017-06-14 12:47:10</td>\n",
       "      <td>2017-07-20 13:04:21</td>\n",
       "      <td>2017-08-13 01:57:55</td>\n",
       "      <td>2017-03-04 09:04:33</td>\n",
       "    </tr>\n",
       "    <tr>\n",
       "      <th>service_class</th>\n",
       "      <td>PLUS</td>\n",
       "      <td>EXPRESS</td>\n",
       "      <td>PLUS</td>\n",
       "      <td>EXPRESS</td>\n",
       "      <td>LITE</td>\n",
       "    </tr>\n",
       "    <tr>\n",
       "      <th>software_type</th>\n",
       "      <td>iOS</td>\n",
       "      <td>iOS</td>\n",
       "      <td>iOS</td>\n",
       "      <td>iOS</td>\n",
       "      <td>iOS</td>\n",
       "    </tr>\n",
       "    <tr>\n",
       "      <th>origin</th>\n",
       "      <td>ZJ</td>\n",
       "      <td>ZJ</td>\n",
       "      <td>ZJ</td>\n",
       "      <td>ZJ</td>\n",
       "      <td>ZJ</td>\n",
       "    </tr>\n",
       "    <tr>\n",
       "      <th>city</th>\n",
       "      <td>London</td>\n",
       "      <td>London</td>\n",
       "      <td>London</td>\n",
       "      <td>London</td>\n",
       "      <td>London</td>\n",
       "    </tr>\n",
       "    <tr>\n",
       "      <th>voucher_channel</th>\n",
       "      <td>Facebook</td>\n",
       "      <td>NaN</td>\n",
       "      <td>NaN</td>\n",
       "      <td>NaN</td>\n",
       "      <td>NaN</td>\n",
       "    </tr>\n",
       "    <tr>\n",
       "      <th>final_click_channel</th>\n",
       "      <td>facebook</td>\n",
       "      <td>direct</td>\n",
       "      <td>direct</td>\n",
       "      <td>direct</td>\n",
       "      <td>direct</td>\n",
       "    </tr>\n",
       "    <tr>\n",
       "      <th>final_click_no_voucher</th>\n",
       "      <td>facebook</td>\n",
       "      <td>direct</td>\n",
       "      <td>direct</td>\n",
       "      <td>direct</td>\n",
       "      <td>direct</td>\n",
       "    </tr>\n",
       "    <tr>\n",
       "      <th>gender</th>\n",
       "      <td>male</td>\n",
       "      <td>male</td>\n",
       "      <td>male</td>\n",
       "      <td>male</td>\n",
       "      <td>male</td>\n",
       "    </tr>\n",
       "    <tr>\n",
       "      <th>product_type</th>\n",
       "      <td>NaN</td>\n",
       "      <td>NaN</td>\n",
       "      <td>NaN</td>\n",
       "      <td>NaN</td>\n",
       "      <td>DCLA</td>\n",
       "    </tr>\n",
       "    <tr>\n",
       "      <th>revenue</th>\n",
       "      <td>48.2683</td>\n",
       "      <td>36.9005</td>\n",
       "      <td>27.4691</td>\n",
       "      <td>61.5601</td>\n",
       "      <td>14.4323</td>\n",
       "    </tr>\n",
       "    <tr>\n",
       "      <th>aov</th>\n",
       "      <td>43.5495</td>\n",
       "      <td>43.5495</td>\n",
       "      <td>43.5495</td>\n",
       "      <td>43.5495</td>\n",
       "      <td>27.2255</td>\n",
       "    </tr>\n",
       "    <tr>\n",
       "      <th>num_orders</th>\n",
       "      <td>4</td>\n",
       "      <td>4</td>\n",
       "      <td>4</td>\n",
       "      <td>4</td>\n",
       "      <td>7</td>\n",
       "    </tr>\n",
       "    <tr>\n",
       "      <th>frequency</th>\n",
       "      <td>35.3333</td>\n",
       "      <td>35.3333</td>\n",
       "      <td>35.3333</td>\n",
       "      <td>35.3333</td>\n",
       "      <td>45.5</td>\n",
       "    </tr>\n",
       "    <tr>\n",
       "      <th>segment</th>\n",
       "      <td>GOLD</td>\n",
       "      <td>GOLD</td>\n",
       "      <td>GOLD</td>\n",
       "      <td>GOLD</td>\n",
       "      <td>GREEN.DENSITY</td>\n",
       "    </tr>\n",
       "    <tr>\n",
       "      <th>activity_state</th>\n",
       "      <td>INACTIVE</td>\n",
       "      <td>INACTIVE</td>\n",
       "      <td>INACTIVE</td>\n",
       "      <td>INACTIVE</td>\n",
       "      <td>INACTIVE</td>\n",
       "    </tr>\n",
       "    <tr>\n",
       "      <th>order_num</th>\n",
       "      <td>1</td>\n",
       "      <td>2</td>\n",
       "      <td>5</td>\n",
       "      <td>6</td>\n",
       "      <td>1</td>\n",
       "    </tr>\n",
       "    <tr>\n",
       "      <th>last_order</th>\n",
       "      <td>2017-08-13</td>\n",
       "      <td>2017-08-13</td>\n",
       "      <td>2017-08-13</td>\n",
       "      <td>2017-08-13</td>\n",
       "      <td>2017-12-02</td>\n",
       "    </tr>\n",
       "    <tr>\n",
       "      <th>recency</th>\n",
       "      <td>418</td>\n",
       "      <td>418</td>\n",
       "      <td>418</td>\n",
       "      <td>418</td>\n",
       "      <td>307</td>\n",
       "    </tr>\n",
       "    <tr>\n",
       "      <th>churn_factor</th>\n",
       "      <td>11.8302</td>\n",
       "      <td>11.8302</td>\n",
       "      <td>11.8302</td>\n",
       "      <td>11.8302</td>\n",
       "      <td>6.74725</td>\n",
       "    </tr>\n",
       "    <tr>\n",
       "      <th>days_since_last_order</th>\n",
       "      <td>NaN</td>\n",
       "      <td>46</td>\n",
       "      <td>0</td>\n",
       "      <td>24</td>\n",
       "      <td>NaN</td>\n",
       "    </tr>\n",
       "    <tr>\n",
       "      <th>...</th>\n",
       "      <td>...</td>\n",
       "      <td>...</td>\n",
       "      <td>...</td>\n",
       "      <td>...</td>\n",
       "      <td>...</td>\n",
       "    </tr>\n",
       "    <tr>\n",
       "      <th>product_combinations</th>\n",
       "      <td>NaN</td>\n",
       "      <td>NaN</td>\n",
       "      <td>NaN</td>\n",
       "      <td>NaN</td>\n",
       "      <td>LADC</td>\n",
       "    </tr>\n",
       "    <tr>\n",
       "      <th>product_LA</th>\n",
       "      <td>False</td>\n",
       "      <td>False</td>\n",
       "      <td>False</td>\n",
       "      <td>False</td>\n",
       "      <td>True</td>\n",
       "    </tr>\n",
       "    <tr>\n",
       "      <th>product_DC</th>\n",
       "      <td>False</td>\n",
       "      <td>False</td>\n",
       "      <td>False</td>\n",
       "      <td>False</td>\n",
       "      <td>True</td>\n",
       "    </tr>\n",
       "    <tr>\n",
       "      <th>product_HH</th>\n",
       "      <td>False</td>\n",
       "      <td>False</td>\n",
       "      <td>False</td>\n",
       "      <td>False</td>\n",
       "      <td>False</td>\n",
       "    </tr>\n",
       "    <tr>\n",
       "      <th>product_WF</th>\n",
       "      <td>False</td>\n",
       "      <td>False</td>\n",
       "      <td>False</td>\n",
       "      <td>False</td>\n",
       "      <td>False</td>\n",
       "    </tr>\n",
       "    <tr>\n",
       "      <th>newsletter_optin</th>\n",
       "      <td>False</td>\n",
       "      <td>False</td>\n",
       "      <td>False</td>\n",
       "      <td>False</td>\n",
       "      <td>False</td>\n",
       "    </tr>\n",
       "    <tr>\n",
       "      <th>customer_id</th>\n",
       "      <td>CUS-B0647136</td>\n",
       "      <td>CUS-B0647136</td>\n",
       "      <td>CUS-B0647136</td>\n",
       "      <td>CUS-B0647136</td>\n",
       "      <td>CUS-Y7533326</td>\n",
       "    </tr>\n",
       "    <tr>\n",
       "      <th>email</th>\n",
       "      <td>nathansparling@gmail.com</td>\n",
       "      <td>nathansparling@gmail.com</td>\n",
       "      <td>nathansparling@gmail.com</td>\n",
       "      <td>nathansparling@gmail.com</td>\n",
       "      <td>jeffrmanno@gmail.com</td>\n",
       "    </tr>\n",
       "    <tr>\n",
       "      <th>corporate</th>\n",
       "      <td>False</td>\n",
       "      <td>False</td>\n",
       "      <td>False</td>\n",
       "      <td>False</td>\n",
       "      <td>False</td>\n",
       "    </tr>\n",
       "    <tr>\n",
       "      <th>referred</th>\n",
       "      <td>False</td>\n",
       "      <td>False</td>\n",
       "      <td>False</td>\n",
       "      <td>False</td>\n",
       "      <td>False</td>\n",
       "    </tr>\n",
       "    <tr>\n",
       "      <th>cluster</th>\n",
       "      <td>2</td>\n",
       "      <td>8</td>\n",
       "      <td>8</td>\n",
       "      <td>2</td>\n",
       "      <td>1</td>\n",
       "    </tr>\n",
       "    <tr>\n",
       "      <th>cluster_name</th>\n",
       "      <td>Shirt+Suit</td>\n",
       "      <td>WashFold+Shirt</td>\n",
       "      <td>WashFold+Shirt</td>\n",
       "      <td>Shirt+Suit</td>\n",
       "      <td>Shirt</td>\n",
       "    </tr>\n",
       "    <tr>\n",
       "      <th>completed_orders</th>\n",
       "      <td>4</td>\n",
       "      <td>4</td>\n",
       "      <td>4</td>\n",
       "      <td>4</td>\n",
       "      <td>7</td>\n",
       "    </tr>\n",
       "    <tr>\n",
       "      <th>order_comp_num</th>\n",
       "      <td>0</td>\n",
       "      <td>1</td>\n",
       "      <td>2</td>\n",
       "      <td>3</td>\n",
       "      <td>0</td>\n",
       "    </tr>\n",
       "    <tr>\n",
       "      <th>days_until_next_comp</th>\n",
       "      <td>45</td>\n",
       "      <td>36</td>\n",
       "      <td>23</td>\n",
       "      <td>NaN</td>\n",
       "      <td>29</td>\n",
       "    </tr>\n",
       "    <tr>\n",
       "      <th>days_since_last_comp</th>\n",
       "      <td>NaN</td>\n",
       "      <td>45</td>\n",
       "      <td>36</td>\n",
       "      <td>23</td>\n",
       "      <td>NaN</td>\n",
       "    </tr>\n",
       "    <tr>\n",
       "      <th>weeks_until_next_comp</th>\n",
       "      <td>6</td>\n",
       "      <td>5</td>\n",
       "      <td>3</td>\n",
       "      <td>NaN</td>\n",
       "      <td>4</td>\n",
       "    </tr>\n",
       "    <tr>\n",
       "      <th>weeks_since_last_comp</th>\n",
       "      <td>NaN</td>\n",
       "      <td>6</td>\n",
       "      <td>5</td>\n",
       "      <td>3</td>\n",
       "      <td>NaN</td>\n",
       "    </tr>\n",
       "    <tr>\n",
       "      <th>last_revenue_diff</th>\n",
       "      <td>NaN</td>\n",
       "      <td>-11.3678</td>\n",
       "      <td>-9.43138</td>\n",
       "      <td>34.091</td>\n",
       "      <td>NaN</td>\n",
       "    </tr>\n",
       "    <tr>\n",
       "      <th>revenue_brutto</th>\n",
       "      <td>60.0916</td>\n",
       "      <td>54.0679</td>\n",
       "      <td>33.039</td>\n",
       "      <td>61.5601</td>\n",
       "      <td>14.4323</td>\n",
       "    </tr>\n",
       "    <tr>\n",
       "      <th>cluster_0.0</th>\n",
       "      <td>0</td>\n",
       "      <td>0</td>\n",
       "      <td>0</td>\n",
       "      <td>0</td>\n",
       "      <td>0</td>\n",
       "    </tr>\n",
       "    <tr>\n",
       "      <th>cluster_1.0</th>\n",
       "      <td>0</td>\n",
       "      <td>0</td>\n",
       "      <td>0</td>\n",
       "      <td>0</td>\n",
       "      <td>1</td>\n",
       "    </tr>\n",
       "    <tr>\n",
       "      <th>cluster_2.0</th>\n",
       "      <td>1</td>\n",
       "      <td>0</td>\n",
       "      <td>0</td>\n",
       "      <td>1</td>\n",
       "      <td>0</td>\n",
       "    </tr>\n",
       "    <tr>\n",
       "      <th>cluster_3.0</th>\n",
       "      <td>0</td>\n",
       "      <td>0</td>\n",
       "      <td>0</td>\n",
       "      <td>0</td>\n",
       "      <td>0</td>\n",
       "    </tr>\n",
       "    <tr>\n",
       "      <th>cluster_4.0</th>\n",
       "      <td>0</td>\n",
       "      <td>0</td>\n",
       "      <td>0</td>\n",
       "      <td>0</td>\n",
       "      <td>0</td>\n",
       "    </tr>\n",
       "    <tr>\n",
       "      <th>cluster_5.0</th>\n",
       "      <td>0</td>\n",
       "      <td>0</td>\n",
       "      <td>0</td>\n",
       "      <td>0</td>\n",
       "      <td>0</td>\n",
       "    </tr>\n",
       "    <tr>\n",
       "      <th>cluster_6.0</th>\n",
       "      <td>0</td>\n",
       "      <td>0</td>\n",
       "      <td>0</td>\n",
       "      <td>0</td>\n",
       "      <td>0</td>\n",
       "    </tr>\n",
       "    <tr>\n",
       "      <th>cluster_7.0</th>\n",
       "      <td>0</td>\n",
       "      <td>0</td>\n",
       "      <td>0</td>\n",
       "      <td>0</td>\n",
       "      <td>0</td>\n",
       "    </tr>\n",
       "    <tr>\n",
       "      <th>cluster_8.0</th>\n",
       "      <td>0</td>\n",
       "      <td>1</td>\n",
       "      <td>1</td>\n",
       "      <td>0</td>\n",
       "      <td>0</td>\n",
       "    </tr>\n",
       "    <tr>\n",
       "      <th>cluster_9.0</th>\n",
       "      <td>0</td>\n",
       "      <td>0</td>\n",
       "      <td>0</td>\n",
       "      <td>0</td>\n",
       "      <td>0</td>\n",
       "    </tr>\n",
       "  </tbody>\n",
       "</table>\n",
       "<p>88 rows × 5 columns</p>\n",
       "</div>"
      ],
      "text/plain": [
       "                                                 260274  \\\n",
       "order_id                                     GB-S-33739   \n",
       "customer_db_id                 56e8cfd2d4cde8b932bae6a9   \n",
       "order_db_id                    5904c69c4577094a458b45fb   \n",
       "order_x                                           51.47   \n",
       "order_y                                       -0.139703   \n",
       "pickup_timeslot_from_datetime       2017-04-30 12:00:00   \n",
       "pickup_timeslot_to_datetime         2017-04-30 12:30:00   \n",
       "pickup_zip                                      SW8 3JD   \n",
       "order_state                                   completed   \n",
       "order_created_datetime              2017-04-29 18:00:12   \n",
       "service_class                                      PLUS   \n",
       "software_type                                       iOS   \n",
       "origin                                               ZJ   \n",
       "city                                             London   \n",
       "voucher_channel                                Facebook   \n",
       "final_click_channel                            facebook   \n",
       "final_click_no_voucher                         facebook   \n",
       "gender                                             male   \n",
       "product_type                                        NaN   \n",
       "revenue                                         48.2683   \n",
       "aov                                             43.5495   \n",
       "num_orders                                            4   \n",
       "frequency                                       35.3333   \n",
       "segment                                            GOLD   \n",
       "activity_state                                 INACTIVE   \n",
       "order_num                                             1   \n",
       "last_order                                   2017-08-13   \n",
       "recency                                             418   \n",
       "churn_factor                                    11.8302   \n",
       "days_since_last_order                               NaN   \n",
       "...                                                 ...   \n",
       "product_combinations                                NaN   \n",
       "product_LA                                        False   \n",
       "product_DC                                        False   \n",
       "product_HH                                        False   \n",
       "product_WF                                        False   \n",
       "newsletter_optin                                  False   \n",
       "customer_id                                CUS-B0647136   \n",
       "email                          nathansparling@gmail.com   \n",
       "corporate                                         False   \n",
       "referred                                          False   \n",
       "cluster                                               2   \n",
       "cluster_name                                 Shirt+Suit   \n",
       "completed_orders                                      4   \n",
       "order_comp_num                                        0   \n",
       "days_until_next_comp                                 45   \n",
       "days_since_last_comp                                NaN   \n",
       "weeks_until_next_comp                                 6   \n",
       "weeks_since_last_comp                               NaN   \n",
       "last_revenue_diff                                   NaN   \n",
       "revenue_brutto                                  60.0916   \n",
       "cluster_0.0                                           0   \n",
       "cluster_1.0                                           0   \n",
       "cluster_2.0                                           1   \n",
       "cluster_3.0                                           0   \n",
       "cluster_4.0                                           0   \n",
       "cluster_5.0                                           0   \n",
       "cluster_6.0                                           0   \n",
       "cluster_7.0                                           0   \n",
       "cluster_8.0                                           0   \n",
       "cluster_9.0                                           0   \n",
       "\n",
       "                                                 139876  \\\n",
       "order_id                                     GB-B-78803   \n",
       "customer_db_id                 56e8cfd2d4cde8b932bae6a9   \n",
       "order_db_id                    5941223e457709913d8b45c3   \n",
       "order_x                                           51.47   \n",
       "order_y                                       -0.139703   \n",
       "pickup_timeslot_from_datetime       2017-06-15 10:00:00   \n",
       "pickup_timeslot_to_datetime         2017-06-15 10:30:00   \n",
       "pickup_zip                                      SW8 3JD   \n",
       "order_state                                   completed   \n",
       "order_created_datetime              2017-06-14 12:47:10   \n",
       "service_class                                   EXPRESS   \n",
       "software_type                                       iOS   \n",
       "origin                                               ZJ   \n",
       "city                                             London   \n",
       "voucher_channel                                     NaN   \n",
       "final_click_channel                              direct   \n",
       "final_click_no_voucher                           direct   \n",
       "gender                                             male   \n",
       "product_type                                        NaN   \n",
       "revenue                                         36.9005   \n",
       "aov                                             43.5495   \n",
       "num_orders                                            4   \n",
       "frequency                                       35.3333   \n",
       "segment                                            GOLD   \n",
       "activity_state                                 INACTIVE   \n",
       "order_num                                             2   \n",
       "last_order                                   2017-08-13   \n",
       "recency                                             418   \n",
       "churn_factor                                    11.8302   \n",
       "days_since_last_order                                46   \n",
       "...                                                 ...   \n",
       "product_combinations                                NaN   \n",
       "product_LA                                        False   \n",
       "product_DC                                        False   \n",
       "product_HH                                        False   \n",
       "product_WF                                        False   \n",
       "newsletter_optin                                  False   \n",
       "customer_id                                CUS-B0647136   \n",
       "email                          nathansparling@gmail.com   \n",
       "corporate                                         False   \n",
       "referred                                          False   \n",
       "cluster                                               8   \n",
       "cluster_name                             WashFold+Shirt   \n",
       "completed_orders                                      4   \n",
       "order_comp_num                                        1   \n",
       "days_until_next_comp                                 36   \n",
       "days_since_last_comp                                 45   \n",
       "weeks_until_next_comp                                 5   \n",
       "weeks_since_last_comp                                 6   \n",
       "last_revenue_diff                              -11.3678   \n",
       "revenue_brutto                                  54.0679   \n",
       "cluster_0.0                                           0   \n",
       "cluster_1.0                                           0   \n",
       "cluster_2.0                                           0   \n",
       "cluster_3.0                                           0   \n",
       "cluster_4.0                                           0   \n",
       "cluster_5.0                                           0   \n",
       "cluster_6.0                                           0   \n",
       "cluster_7.0                                           0   \n",
       "cluster_8.0                                           1   \n",
       "cluster_9.0                                           0   \n",
       "\n",
       "                                                 195366  \\\n",
       "order_id                                     GB-H-60995   \n",
       "customer_db_id                 56e8cfd2d4cde8b932bae6a9   \n",
       "order_db_id                    59709c45457709413c8b456a   \n",
       "order_x                                           51.47   \n",
       "order_y                                       -0.139703   \n",
       "pickup_timeslot_from_datetime       2017-07-21 10:30:00   \n",
       "pickup_timeslot_to_datetime         2017-07-21 11:00:00   \n",
       "pickup_zip                                      SW8 3JD   \n",
       "order_state                                   completed   \n",
       "order_created_datetime              2017-07-20 13:04:21   \n",
       "service_class                                      PLUS   \n",
       "software_type                                       iOS   \n",
       "origin                                               ZJ   \n",
       "city                                             London   \n",
       "voucher_channel                                     NaN   \n",
       "final_click_channel                              direct   \n",
       "final_click_no_voucher                           direct   \n",
       "gender                                             male   \n",
       "product_type                                        NaN   \n",
       "revenue                                         27.4691   \n",
       "aov                                             43.5495   \n",
       "num_orders                                            4   \n",
       "frequency                                       35.3333   \n",
       "segment                                            GOLD   \n",
       "activity_state                                 INACTIVE   \n",
       "order_num                                             5   \n",
       "last_order                                   2017-08-13   \n",
       "recency                                             418   \n",
       "churn_factor                                    11.8302   \n",
       "days_since_last_order                                 0   \n",
       "...                                                 ...   \n",
       "product_combinations                                NaN   \n",
       "product_LA                                        False   \n",
       "product_DC                                        False   \n",
       "product_HH                                        False   \n",
       "product_WF                                        False   \n",
       "newsletter_optin                                  False   \n",
       "customer_id                                CUS-B0647136   \n",
       "email                          nathansparling@gmail.com   \n",
       "corporate                                         False   \n",
       "referred                                          False   \n",
       "cluster                                               8   \n",
       "cluster_name                             WashFold+Shirt   \n",
       "completed_orders                                      4   \n",
       "order_comp_num                                        2   \n",
       "days_until_next_comp                                 23   \n",
       "days_since_last_comp                                 36   \n",
       "weeks_until_next_comp                                 3   \n",
       "weeks_since_last_comp                                 5   \n",
       "last_revenue_diff                              -9.43138   \n",
       "revenue_brutto                                   33.039   \n",
       "cluster_0.0                                           0   \n",
       "cluster_1.0                                           0   \n",
       "cluster_2.0                                           0   \n",
       "cluster_3.0                                           0   \n",
       "cluster_4.0                                           0   \n",
       "cluster_5.0                                           0   \n",
       "cluster_6.0                                           0   \n",
       "cluster_7.0                                           0   \n",
       "cluster_8.0                                           1   \n",
       "cluster_9.0                                           0   \n",
       "\n",
       "                                                 230393  \\\n",
       "order_id                                     GB-N-24594   \n",
       "customer_db_id                 56e8cfd2d4cde8b932bae6a9   \n",
       "order_db_id                    598fa413457709507a8b45c5   \n",
       "order_x                                           51.47   \n",
       "order_y                                       -0.139703   \n",
       "pickup_timeslot_from_datetime       2017-08-14 10:00:00   \n",
       "pickup_timeslot_to_datetime         2017-08-14 10:30:00   \n",
       "pickup_zip                                      SW8 3JD   \n",
       "order_state                                   completed   \n",
       "order_created_datetime              2017-08-13 01:57:55   \n",
       "service_class                                   EXPRESS   \n",
       "software_type                                       iOS   \n",
       "origin                                               ZJ   \n",
       "city                                             London   \n",
       "voucher_channel                                     NaN   \n",
       "final_click_channel                              direct   \n",
       "final_click_no_voucher                           direct   \n",
       "gender                                             male   \n",
       "product_type                                        NaN   \n",
       "revenue                                         61.5601   \n",
       "aov                                             43.5495   \n",
       "num_orders                                            4   \n",
       "frequency                                       35.3333   \n",
       "segment                                            GOLD   \n",
       "activity_state                                 INACTIVE   \n",
       "order_num                                             6   \n",
       "last_order                                   2017-08-13   \n",
       "recency                                             418   \n",
       "churn_factor                                    11.8302   \n",
       "days_since_last_order                                24   \n",
       "...                                                 ...   \n",
       "product_combinations                                NaN   \n",
       "product_LA                                        False   \n",
       "product_DC                                        False   \n",
       "product_HH                                        False   \n",
       "product_WF                                        False   \n",
       "newsletter_optin                                  False   \n",
       "customer_id                                CUS-B0647136   \n",
       "email                          nathansparling@gmail.com   \n",
       "corporate                                         False   \n",
       "referred                                          False   \n",
       "cluster                                               2   \n",
       "cluster_name                                 Shirt+Suit   \n",
       "completed_orders                                      4   \n",
       "order_comp_num                                        3   \n",
       "days_until_next_comp                                NaN   \n",
       "days_since_last_comp                                 23   \n",
       "weeks_until_next_comp                               NaN   \n",
       "weeks_since_last_comp                                 3   \n",
       "last_revenue_diff                                34.091   \n",
       "revenue_brutto                                  61.5601   \n",
       "cluster_0.0                                           0   \n",
       "cluster_1.0                                           0   \n",
       "cluster_2.0                                           1   \n",
       "cluster_3.0                                           0   \n",
       "cluster_4.0                                           0   \n",
       "cluster_5.0                                           0   \n",
       "cluster_6.0                                           0   \n",
       "cluster_7.0                                           0   \n",
       "cluster_8.0                                           0   \n",
       "cluster_9.0                                           0   \n",
       "\n",
       "                                                 298268  \n",
       "order_id                                     GB-X-29500  \n",
       "customer_db_id                 571b5744d2cde8e833ff595d  \n",
       "order_db_id                    58ba8321447709d6158b4592  \n",
       "order_x                                         51.5542  \n",
       "order_y                                       -0.187987  \n",
       "pickup_timeslot_from_datetime       2017-03-05 08:00:00  \n",
       "pickup_timeslot_to_datetime         2017-03-05 10:00:00  \n",
       "pickup_zip                                      NW3 7EB  \n",
       "order_state                                   completed  \n",
       "order_created_datetime              2017-03-04 09:04:33  \n",
       "service_class                                      LITE  \n",
       "software_type                                       iOS  \n",
       "origin                                               ZJ  \n",
       "city                                             London  \n",
       "voucher_channel                                     NaN  \n",
       "final_click_channel                              direct  \n",
       "final_click_no_voucher                           direct  \n",
       "gender                                             male  \n",
       "product_type                                       DCLA  \n",
       "revenue                                         14.4323  \n",
       "aov                                             27.2255  \n",
       "num_orders                                            7  \n",
       "frequency                                          45.5  \n",
       "segment                                   GREEN.DENSITY  \n",
       "activity_state                                 INACTIVE  \n",
       "order_num                                             1  \n",
       "last_order                                   2017-12-02  \n",
       "recency                                             307  \n",
       "churn_factor                                    6.74725  \n",
       "days_since_last_order                               NaN  \n",
       "...                                                 ...  \n",
       "product_combinations                               LADC  \n",
       "product_LA                                         True  \n",
       "product_DC                                         True  \n",
       "product_HH                                        False  \n",
       "product_WF                                        False  \n",
       "newsletter_optin                                  False  \n",
       "customer_id                                CUS-Y7533326  \n",
       "email                              jeffrmanno@gmail.com  \n",
       "corporate                                         False  \n",
       "referred                                          False  \n",
       "cluster                                               1  \n",
       "cluster_name                                      Shirt  \n",
       "completed_orders                                      7  \n",
       "order_comp_num                                        0  \n",
       "days_until_next_comp                                 29  \n",
       "days_since_last_comp                                NaN  \n",
       "weeks_until_next_comp                                 4  \n",
       "weeks_since_last_comp                               NaN  \n",
       "last_revenue_diff                                   NaN  \n",
       "revenue_brutto                                  14.4323  \n",
       "cluster_0.0                                           0  \n",
       "cluster_1.0                                           1  \n",
       "cluster_2.0                                           0  \n",
       "cluster_3.0                                           0  \n",
       "cluster_4.0                                           0  \n",
       "cluster_5.0                                           0  \n",
       "cluster_6.0                                           0  \n",
       "cluster_7.0                                           0  \n",
       "cluster_8.0                                           0  \n",
       "cluster_9.0                                           0  \n",
       "\n",
       "[88 rows x 5 columns]"
      ]
     },
     "execution_count": 41,
     "metadata": {},
     "output_type": "execute_result"
    }
   ],
   "source": [
    "df_ord2.head().T"
   ]
  },
  {
   "cell_type": "code",
   "execution_count": 42,
   "metadata": {},
   "outputs": [],
   "source": [
    "df_unknown = df_ord2.loc[(df_ord2.completed_orders == 3) & (df_ord2.order_comp_num == 2)]\n",
    "df_known = df_ord2.loc[(df_ord2.completed_orders > 3) & (df_ord2.order_comp_num == 2)]"
   ]
  },
  {
   "cell_type": "code",
   "execution_count": 43,
   "metadata": {},
   "outputs": [],
   "source": [
    "df_known = df_known.loc[df_known.city == 'London']\n",
    "df_known = df_known.loc[(df_known.days_until_next_comp < 150) & (df_known.days_until_next_comp > 7)]\n",
    "df_known = df_known.loc[(df_known.days_since_last_comp < 150) & (df_known.days_since_last_comp > 7)]\n",
    "df_known = df_known.loc[df_known.revenue < 50]"
   ]
  },
  {
   "cell_type": "code",
   "execution_count": 44,
   "metadata": {},
   "outputs": [
    {
     "data": {
      "text/plain": [
       "count    1472.000000\n",
       "mean       26.389631\n",
       "std        10.630399\n",
       "min         1.120203\n",
       "25%        17.498345\n",
       "50%        24.116227\n",
       "75%        33.677070\n",
       "max        79.239601\n",
       "Name: revenue_brutto, dtype: float64"
      ]
     },
     "execution_count": 44,
     "metadata": {},
     "output_type": "execute_result"
    }
   ],
   "source": [
    "df_known.revenue_brutto.describe()"
   ]
  },
  {
   "cell_type": "code",
   "execution_count": 45,
   "metadata": {},
   "outputs": [
    {
     "data": {
      "text/plain": [
       "male      1035\n",
       "female     410\n",
       "Name: gender, dtype: int64"
      ]
     },
     "execution_count": 45,
     "metadata": {},
     "output_type": "execute_result"
    }
   ],
   "source": [
    "df_known.gender.value_counts()"
   ]
  },
  {
   "cell_type": "code",
   "execution_count": 47,
   "metadata": {},
   "outputs": [
    {
     "data": {
      "text/plain": [
       "<matplotlib.axes._subplots.AxesSubplot at 0x1f03f0835c0>"
      ]
     },
     "execution_count": 47,
     "metadata": {},
     "output_type": "execute_result"
    },
    {
     "data": {
      "image/png": "[encoded data removed]",
      "text/plain": [
       "<Figure size 864x864 with 1 Axes>"
      ]
     },
     "metadata": {},
     "output_type": "display_data"
    }
   ],
   "source": [
    "fig, ax = plt.subplots(figsize=(12,12))\n",
    "plt.xticks(rotation=70)\n",
    "sns.categorical.boxplot(data=df_known, x='cluster_name', y='weeks_until_next_comp')"
   ]
  },
  {
   "cell_type": "code",
   "execution_count": 48,
   "metadata": {},
   "outputs": [
    {
     "data": {
      "text/plain": [
       "<matplotlib.axes._subplots.AxesSubplot at 0x1f04fac3eb8>"
      ]
     },
     "execution_count": 48,
     "metadata": {},
     "output_type": "execute_result"
    },
    {
     "data": {
      "image/png": "[encoded data removed]",
      "text/plain": [
       "<Figure size 432x288 with 1 Axes>"
      ]
     },
     "metadata": {},
     "output_type": "display_data"
    }
   ],
   "source": [
    "df_known.revenue.hist(bins=50)"
   ]
  },
  {
   "cell_type": "code",
   "execution_count": 49,
   "metadata": {},
   "outputs": [
    {
     "data": {
      "text/plain": [
       "<matplotlib.axes._subplots.AxesSubplot at 0x1f040eaa2e8>"
      ]
     },
     "execution_count": 49,
     "metadata": {},
     "output_type": "execute_result"
    },
    {
     "data": {
      "image/png": "[encoded data removed]",
      "text/plain": [
       "<Figure size 432x288 with 1 Axes>"
      ]
     },
     "metadata": {},
     "output_type": "display_data"
    }
   ],
   "source": [
    "df_known.weeks_until_next_comp.hist(bins=df_known.weeks_until_next_comp.nunique())"
   ]
  },
  {
   "cell_type": "code",
   "execution_count": 50,
   "metadata": {},
   "outputs": [
    {
     "data": {
      "text/plain": [
       "<matplotlib.axes._subplots.AxesSubplot at 0x1f040f2d5f8>"
      ]
     },
     "execution_count": 50,
     "metadata": {},
     "output_type": "execute_result"
    },
    {
     "data": {
      "image/png": "[encoded data removed]",
      "text/plain": [
       "<Figure size 432x288 with 1 Axes>"
      ]
     },
     "metadata": {},
     "output_type": "display_data"
    }
   ],
   "source": [
    "df_known.weeks_since_last_comp.hist(bins=df_known.weeks_since_last_comp.nunique())"
   ]
  },
  {
   "cell_type": "code",
   "execution_count": 51,
   "metadata": {},
   "outputs": [
    {
     "data": {
      "text/plain": [
       "(1472, 88)"
      ]
     },
     "execution_count": 51,
     "metadata": {},
     "output_type": "execute_result"
    }
   ],
   "source": [
    "df_known.shape"
   ]
  },
  {
   "cell_type": "markdown",
   "metadata": {},
   "source": [
    "# Predictions"
   ]
  },
  {
   "cell_type": "code",
   "execution_count": 70,
   "metadata": {},
   "outputs": [
    {
     "data": {
      "text/plain": [
       "['gender',\n",
       " 'revenue_brutto',\n",
       " 'weeks_since_last_comp',\n",
       " 'days_since_last_comp',\n",
       " 'cluster_0.0',\n",
       " 'cluster_1.0',\n",
       " 'cluster_2.0',\n",
       " 'cluster_3.0',\n",
       " 'cluster_4.0',\n",
       " 'cluster_5.0',\n",
       " 'cluster_6.0',\n",
       " 'cluster_7.0',\n",
       " 'cluster_8.0',\n",
       " 'cluster_9.0']"
      ]
     },
     "execution_count": 70,
     "metadata": {},
     "output_type": "execute_result"
    }
   ],
   "source": [
    "feats = ['gender', 'revenue_brutto', 'weeks_since_last_comp', 'days_since_last_comp'] + df_known.columns[-10:].tolist()\n",
    "feats"
   ]
  },
  {
   "cell_type": "code",
   "execution_count": 71,
   "metadata": {},
   "outputs": [],
   "source": [
    "# features\n",
    "df_feats = df_known[['weeks_until_next_comp'] + feats]\n",
    "\n",
    "df_feats['gender'] = df_feats.gender.map({'male': -1, 'female': 1}).fillna(0)"
   ]
  },
  {
   "cell_type": "code",
   "execution_count": 72,
   "metadata": {},
   "outputs": [
    {
     "data": {
      "text/plain": [
       "<matplotlib.axes._subplots.AxesSubplot at 0x1f04134e128>"
      ]
     },
     "execution_count": 72,
     "metadata": {},
     "output_type": "execute_result"
    },
    {
     "data": {
      "image/png": "[encoded data removed]",
      "text/plain": [
       "<Figure size 432x288 with 2 Axes>"
      ]
     },
     "metadata": {},
     "output_type": "display_data"
    }
   ],
   "source": [
    "sns.heatmap(df_feats.corr())"
   ]
  },
  {
   "cell_type": "code",
   "execution_count": 73,
   "metadata": {},
   "outputs": [
    {
     "data": {
      "text/plain": [
       "21"
      ]
     },
     "execution_count": 73,
     "metadata": {},
     "output_type": "execute_result"
    }
   ],
   "source": [
    "X = df_feats.iloc[:, 1:].values\n",
    "y = df_feats.iloc[:, 0].values\n",
    "n_classes =  df_feats.iloc[:, 0].nunique()\n",
    "n_classes"
   ]
  },
  {
   "cell_type": "code",
   "execution_count": 74,
   "metadata": {},
   "outputs": [],
   "source": [
    "scaler = StandardScaler()\n",
    "X_norm = scaler.fit_transform(X)\n",
    "y_norm = y.reshape(-1,1)"
   ]
  },
  {
   "cell_type": "code",
   "execution_count": 75,
   "metadata": {},
   "outputs": [],
   "source": [
    "X_train, X_test, y_train, y_test = train_test_split(X_norm, y_norm, test_size=0.25, random_state=42)"
   ]
  },
  {
   "cell_type": "code",
   "execution_count": 76,
   "metadata": {},
   "outputs": [
    {
     "data": {
      "text/plain": [
       "<matplotlib.axes._subplots.AxesSubplot at 0x1f040fe22b0>"
      ]
     },
     "execution_count": 76,
     "metadata": {},
     "output_type": "execute_result"
    },
    {
     "data": {
      "image/png": "[encoded data removed]",
      "text/plain": [
       "<Figure size 432x288 with 1 Axes>"
      ]
     },
     "metadata": {},
     "output_type": "display_data"
    }
   ],
   "source": [
    "sns.distplot(y_test, bins=20)"
   ]
  },
  {
   "cell_type": "code",
   "execution_count": 77,
   "metadata": {},
   "outputs": [
    {
     "name": "stdout",
     "output_type": "stream",
     "text": [
      "train 0.172101449275 test 0.116847826087\n",
      "17.21%\n",
      "11.685%\n"
     ]
    }
   ],
   "source": [
    "reg = linear_model.LogisticRegression(class_weight='balanced').fit(X_train, y_train)\n",
    "print('train', reg.score(X_train, y_train), 'test', reg.score(X_test, y_test)) \n",
    "acc = metrics.accuracy_score(y_train, reg.predict(X_train).reshape(-1,1))\n",
    "print('{}%'.format(round(acc * 100, 3)))\n",
    "acc = metrics.accuracy_score(y_test, reg.predict(X_test).reshape(-1,1))\n",
    "print('{}%'.format(round(acc * 100, 3)))"
   ]
  },
  {
   "cell_type": "code",
   "execution_count": 69,
   "metadata": {},
   "outputs": [
    {
     "data": {
      "text/plain": [
       "<matplotlib.axes._subplots.AxesSubplot at 0x1f0411347b8>"
      ]
     },
     "execution_count": 69,
     "metadata": {},
     "output_type": "execute_result"
    },
    {
     "data": {
      "image/png": "[encoded data removed]",
      "text/plain": [
       "<Figure size 432x288 with 2 Axes>"
      ]
     },
     "metadata": {},
     "output_type": "display_data"
    }
   ],
   "source": [
    "sns.heatmap(metrics.confusion_matrix(y_test, reg.predict(X_test).reshape(-1,1)))"
   ]
  },
  {
   "cell_type": "code",
   "execution_count": 32,
   "metadata": {},
   "outputs": [
    {
     "data": {
      "text/plain": [
       "<matplotlib.axes._subplots.AxesSubplot at 0x1f04f2e4710>"
      ]
     },
     "execution_count": 32,
     "metadata": {},
     "output_type": "execute_result"
    },
    {
     "data": {
      "image/png": "[encoded data removed]",
      "text/plain": [
       "<Figure size 432x288 with 1 Axes>"
      ]
     },
     "metadata": {},
     "output_type": "display_data"
    }
   ],
   "source": [
    "sns.distplot(reg.predict(X_test), bins=10)"
   ]
  },
  {
   "cell_type": "code",
   "execution_count": 33,
   "metadata": {},
   "outputs": [
    {
     "ename": "SyntaxError",
     "evalue": "invalid syntax (<ipython-input-33-7734dfc8b74a>, line 1)",
     "output_type": "error",
     "traceback": [
      "\u001b[1;36m  File \u001b[1;32m\"<ipython-input-33-7734dfc8b74a>\"\u001b[1;36m, line \u001b[1;32m1\u001b[0m\n\u001b[1;33m    reg = linear_model.().fit(X_train, y_train)\u001b[0m\n\u001b[1;37m                       ^\u001b[0m\n\u001b[1;31mSyntaxError\u001b[0m\u001b[1;31m:\u001b[0m invalid syntax\n"
     ]
    }
   ],
   "source": [
    "reg = linear_model.().fit(X_train, y_train)\n",
    "print('train', reg.score(X_train, y_train), 'test', reg.score(X_test, y_test)) "
   ]
  },
  {
   "cell_type": "code",
   "execution_count": 34,
   "metadata": {},
   "outputs": [
    {
     "data": {
      "text/plain": [
       "<matplotlib.axes._subplots.AxesSubplot at 0x1f04fa06048>"
      ]
     },
     "execution_count": 34,
     "metadata": {},
     "output_type": "execute_result"
    },
    {
     "data": {
      "image/png": "[encoded data removed]",
      "text/plain": [
       "<Figure size 432x288 with 1 Axes>"
      ]
     },
     "metadata": {},
     "output_type": "display_data"
    }
   ],
   "source": [
    "sns.distplot(reg.predict(X_test), bins=10)"
   ]
  },
  {
   "cell_type": "code",
   "execution_count": 35,
   "metadata": {},
   "outputs": [
    {
     "name": "stdout",
     "output_type": "stream",
     "text": [
      "[LibSVM]train 0.184071729958 test 0.126382306477\n",
      "12.638%\n"
     ]
    }
   ],
   "source": [
    "sup = svm.SVC(class_weight='balanced', verbose=True, gamma='auto').fit(X_train, y_train)\n",
    "print('train', sup.score(X_train, y_train), 'test', sup.score(X_test, y_test)) \n",
    "acc = metrics.accuracy_score(y_test, sup.predict(X_test).reshape(-1,1))\n",
    "print('{}%'.format(round(acc * 100, 3)))"
   ]
  },
  {
   "cell_type": "code",
   "execution_count": 36,
   "metadata": {},
   "outputs": [
    {
     "name": "stdout",
     "output_type": "stream",
     "text": [
      "train 0.245253164557 test 0.208530805687\n",
      "15.261%\n"
     ]
    }
   ],
   "source": [
    "neigh = KNeighborsClassifier(n_neighbors=40).fit(X_train, y_train) \n",
    "neigh.score(X_test, y_test)\n",
    "print('train', neigh.score(X_train, y_train), 'test', neigh.score(X_test, y_test))\n",
    "acc = metrics.f1_score(y_test, neigh.predict(X_test), average='weighted')\n",
    "print('{}%'.format(round(acc * 100, 3)))"
   ]
  },
  {
   "cell_type": "code",
   "execution_count": null,
   "metadata": {},
   "outputs": [],
   "source": [
    "frst = RandomForestClassifier(n_estimators=200, max_depth=4, class_weight='balanced').fit(X_train, y_train)\n",
    "print('train', frst.score(X_train, y_train), 'test', frst.score(X_test, y_test))\n",
    "acc = metrics.accuracy_score(y_test, frst.predict(X_test))\n",
    "print('{}%'.format(round(acc * 100, 3)))"
   ]
  },
  {
   "cell_type": "code",
   "execution_count": null,
   "metadata": {},
   "outputs": [],
   "source": [
    "mlp = MLPClassifier(solver='lbfgs', hidden_layer_sizes=(10, 10), random_state=1, max_iter=1000, \n",
    "                    learning_rate_init=0.001, verbose=True, batch_size=1, alpha=0.9).fit(X_train, y_train)\n",
    "print('train', mlp.score(X_train, y_train), 'test', mlp.score(X_test, y_test))\n",
    "mlp.fit(X_train, y_train)\n",
    "mlp.score(X_test, y_test)\n",
    "acc = metrics.accuracy_score(y_test, mlp.predict(X_test))\n",
    "print('{}%'.format(round(acc * 100, 3)))"
   ]
  },
  {
   "cell_type": "code",
   "execution_count": null,
   "metadata": {},
   "outputs": [],
   "source": [
    "sns.heatmap(metrics.confusion_matrix(y_test, mlp.predict(X_test).reshape(-1,1)))"
   ]
  },
  {
   "cell_type": "code",
   "execution_count": null,
   "metadata": {},
   "outputs": [],
   "source": [
    "bys = linear_model.BayesianRidge().fit(X_train, y_train)\n",
    "print('train', bys.score(X_train, y_train), 'test', bys.score(X_test, y_test))"
   ]
  },
  {
   "cell_type": "code",
   "execution_count": null,
   "metadata": {},
   "outputs": [],
   "source": [
    "bys.predict(X_test)"
   ]
  },
  {
   "cell_type": "code",
   "execution_count": null,
   "metadata": {},
   "outputs": [],
   "source": [
    "model = hmm.GaussianHMM(n_components=3, covariance_type=\"full\")"
   ]
  },
  {
   "cell_type": "code",
   "execution_count": null,
   "metadata": {},
   "outputs": [],
   "source": []
  }
 ],
 "metadata": {
  "kernelspec": {
   "display_name": "Python 3",
   "language": "python",
   "name": "python3"
  },
  "language_info": {
   "codemirror_mode": {
    "name": "ipython",
    "version": 3
   },
   "file_extension": ".py",
   "mimetype": "text/x-python",
   "name": "python",
   "nbconvert_exporter": "python",
   "pygments_lexer": "ipython3",
   "version": "3.6.5"
  },
  "toc": {
   "base_numbering": 1,
   "nav_menu": {},
   "number_sections": false,
   "sideBar": false,
   "skip_h1_title": false,
   "title_cell": "Table of Contents",
   "title_sidebar": "Contents",
   "toc_cell": false,
   "toc_position": {},
   "toc_section_display": false,
   "toc_window_display": false
  }
 },
 "nbformat": 4,
 "nbformat_minor": 2
}
