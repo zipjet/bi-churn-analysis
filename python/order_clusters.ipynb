{
 "cells": [
  {
   "cell_type": "markdown",
   "metadata": {},
   "source": [
    "# Itemization Clustering\n",
    "Cluster customers into groups based on what products they usually order."
   ]
  },
  {
   "cell_type": "code",
   "execution_count": 1,
   "metadata": {},
   "outputs": [],
   "source": [
    "import pandas as pd\n",
    "import seaborn as sns\n",
    "import matplotlib.pyplot as plt\n",
    "import numpy as np\n",
    "\n",
    "from scripts import product_processing, order_clustering\n",
    "\n",
    "import warnings\n",
    "warnings.filterwarnings(\"ignore\")\n",
    "\n",
    "pd.set_option('display.max_colwidth', 400)"
   ]
  },
  {
   "cell_type": "markdown",
   "metadata": {},
   "source": [
    "## Load Data"
   ]
  },
  {
   "cell_type": "code",
   "execution_count": 4,
   "metadata": {},
   "outputs": [],
   "source": [
    "items_path = '../data/input/items.csv'\n",
    "save_path = '../data/input/clustered_orders.csv'\n",
    "\n",
    "load_model = '../data/models/orders_clf.pkl'"
   ]
  },
  {
   "cell_type": "code",
   "execution_count": 5,
   "metadata": {},
   "outputs": [
    {
     "data": {
      "text/html": [
       "<div>\n",
       "<style scoped>\n",
       "    .dataframe tbody tr th:only-of-type {\n",
       "        vertical-align: middle;\n",
       "    }\n",
       "\n",
       "    .dataframe tbody tr th {\n",
       "        vertical-align: top;\n",
       "    }\n",
       "\n",
       "    .dataframe thead th {\n",
       "        text-align: right;\n",
       "    }\n",
       "</style>\n",
       "<table border=\"1\" class=\"dataframe\">\n",
       "  <thead>\n",
       "    <tr style=\"text-align: right;\">\n",
       "      <th></th>\n",
       "      <th>product_id</th>\n",
       "      <th>order_id</th>\n",
       "      <th>order_date</th>\n",
       "      <th>quantity</th>\n",
       "      <th>price_per_unit</th>\n",
       "      <th>segmentation</th>\n",
       "      <th>category</th>\n",
       "      <th>product_name</th>\n",
       "      <th>product_type</th>\n",
       "      <th>product_group</th>\n",
       "    </tr>\n",
       "  </thead>\n",
       "  <tbody>\n",
       "    <tr>\n",
       "      <th>0</th>\n",
       "      <td>DE-PRO-A1359526</td>\n",
       "      <td>DE-R-50511</td>\n",
       "      <td>2017-01-31 20:59:09</td>\n",
       "      <td>3</td>\n",
       "      <td>7.8</td>\n",
       "      <td>DC</td>\n",
       "      <td>drycleaning</td>\n",
       "      <td>Blazer / Jacket</td>\n",
       "      <td>Blazer</td>\n",
       "      <td>Blazer</td>\n",
       "    </tr>\n",
       "    <tr>\n",
       "      <th>1</th>\n",
       "      <td>DE-PRO-A1359526</td>\n",
       "      <td>DE-H-42244</td>\n",
       "      <td>2017-01-31 20:27:29</td>\n",
       "      <td>1</td>\n",
       "      <td>7.8</td>\n",
       "      <td>DC</td>\n",
       "      <td>drycleaning</td>\n",
       "      <td>Blazer / Jacket</td>\n",
       "      <td>Blazer</td>\n",
       "      <td>Blazer</td>\n",
       "    </tr>\n",
       "    <tr>\n",
       "      <th>2</th>\n",
       "      <td>DE-PRO-A1359526</td>\n",
       "      <td>DE-H-47793</td>\n",
       "      <td>2017-01-31 18:56:12</td>\n",
       "      <td>1</td>\n",
       "      <td>7.8</td>\n",
       "      <td>DC</td>\n",
       "      <td>drycleaning</td>\n",
       "      <td>Blazer / Jacket</td>\n",
       "      <td>Blazer</td>\n",
       "      <td>Blazer</td>\n",
       "    </tr>\n",
       "    <tr>\n",
       "      <th>3</th>\n",
       "      <td>DE-PRO-A1359526</td>\n",
       "      <td>DE-W-08882</td>\n",
       "      <td>2017-01-31 18:42:13</td>\n",
       "      <td>1</td>\n",
       "      <td>7.8</td>\n",
       "      <td>DC</td>\n",
       "      <td>drycleaning</td>\n",
       "      <td>Blazer / Jacket</td>\n",
       "      <td>Blazer</td>\n",
       "      <td>Blazer</td>\n",
       "    </tr>\n",
       "    <tr>\n",
       "      <th>4</th>\n",
       "      <td>DE-PRO-A1359526</td>\n",
       "      <td>DE-F-80243</td>\n",
       "      <td>2017-01-31 18:35:01</td>\n",
       "      <td>1</td>\n",
       "      <td>7.8</td>\n",
       "      <td>DC</td>\n",
       "      <td>drycleaning</td>\n",
       "      <td>Blazer / Jacket</td>\n",
       "      <td>Blazer</td>\n",
       "      <td>Blazer</td>\n",
       "    </tr>\n",
       "  </tbody>\n",
       "</table>\n",
       "</div>"
      ],
      "text/plain": [
       "        product_id    order_id           order_date  quantity  price_per_unit  \\\n",
       "0  DE-PRO-A1359526  DE-R-50511  2017-01-31 20:59:09         3             7.8   \n",
       "1  DE-PRO-A1359526  DE-H-42244  2017-01-31 20:27:29         1             7.8   \n",
       "2  DE-PRO-A1359526  DE-H-47793  2017-01-31 18:56:12         1             7.8   \n",
       "3  DE-PRO-A1359526  DE-W-08882  2017-01-31 18:42:13         1             7.8   \n",
       "4  DE-PRO-A1359526  DE-F-80243  2017-01-31 18:35:01         1             7.8   \n",
       "\n",
       "  segmentation     category     product_name product_type product_group  \n",
       "0           DC  drycleaning  Blazer / Jacket       Blazer        Blazer  \n",
       "1           DC  drycleaning  Blazer / Jacket       Blazer        Blazer  \n",
       "2           DC  drycleaning  Blazer / Jacket       Blazer        Blazer  \n",
       "3           DC  drycleaning  Blazer / Jacket       Blazer        Blazer  \n",
       "4           DC  drycleaning  Blazer / Jacket       Blazer        Blazer  "
      ]
     },
     "execution_count": 5,
     "metadata": {},
     "output_type": "execute_result"
    }
   ],
   "source": [
    "pd.read_csv(items_path).head()"
   ]
  },
  {
   "cell_type": "markdown",
   "metadata": {},
   "source": [
    "## Cluster orders based on product_types"
   ]
  },
  {
   "cell_type": "markdown",
   "metadata": {},
   "source": [
    "Evaluate number of cluster centers:"
   ]
  },
  {
   "cell_type": "code",
   "execution_count": 10,
   "metadata": {},
   "outputs": [],
   "source": [
    "kmeans, df_clusters, df_centers = order_clustering.cluster_orders(\n",
    "    items_path, save_path, save_model_path=load_model, n_clusters=10)"
   ]
  },
  {
   "cell_type": "code",
   "execution_count": 11,
   "metadata": {},
   "outputs": [
    {
     "data": {
      "text/plain": [
       "162495"
      ]
     },
     "execution_count": 11,
     "metadata": {},
     "output_type": "execute_result"
    }
   ],
   "source": [
    "df_clusters.order_id.nunique()"
   ]
  },
  {
   "cell_type": "markdown",
   "metadata": {},
   "source": [
    "## Plot centers"
   ]
  },
  {
   "cell_type": "code",
   "execution_count": 12,
   "metadata": {},
   "outputs": [],
   "source": [
    "df_centers = df_centers.set_index('cluster_name', drop=True)"
   ]
  },
  {
   "cell_type": "code",
   "execution_count": 13,
   "metadata": {
    "scrolled": false
   },
   "outputs": [
    {
     "data": {
      "text/plain": [
       "<matplotlib.axes._subplots.AxesSubplot at 0x216c304f588>"
      ]
     },
     "execution_count": 13,
     "metadata": {},
     "output_type": "execute_result"
    },
    {
     "data": {
      "image/png": "[encoded data removed]",
      "text/plain": [
       "<Figure size 576x576 with 2 Axes>"
      ]
     },
     "metadata": {},
     "output_type": "display_data"
    }
   ],
   "source": [
    "fig, ax = plt.subplots(figsize=(8,8))\n",
    "sns.heatmap(df_centers.sort_index().T, cmap='Blues')"
   ]
  },
  {
   "cell_type": "code",
   "execution_count": null,
   "metadata": {},
   "outputs": [],
   "source": []
  }
 ],
 "metadata": {
  "kernelspec": {
   "display_name": "Python 3",
   "language": "python",
   "name": "python3"
  },
  "language_info": {
   "codemirror_mode": {
    "name": "ipython",
    "version": 3
   },
   "file_extension": ".py",
   "mimetype": "text/x-python",
   "name": "python",
   "nbconvert_exporter": "python",
   "pygments_lexer": "ipython3",
   "version": "3.6.5"
  }
 },
 "nbformat": 4,
 "nbformat_minor": 2
}
