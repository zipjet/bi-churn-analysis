{
 "cells": [
  {
   "cell_type": "code",
   "execution_count": 5,
   "metadata": {},
   "outputs": [],
   "source": [
    "import pandas as pd\n",
    "import matplotlib.pyplot as plt\n",
    "import seaborn as sns\n",
    "from sklearn.preprocessing import LabelEncoder\n",
    "from datetime import datetime as dt\n",
    "import numpy as np\n",
    "from scipy.stats.stats import pearsonr  \n",
    "from sklearn.preprocessing import normalize\n",
    "\n",
    "plt.style.use('ggplot')\n",
    "pd.options.mode.chained_assignment = None\n",
    "import warnings\n",
    "warnings.filterwarnings(\"ignore\")"
   ]
  },
  {
   "cell_type": "code",
   "execution_count": 50,
   "metadata": {},
   "outputs": [],
   "source": [
    "df = pd.read_csv(\"data/churn_dataset.csv\")"
   ]
  },
  {
   "cell_type": "code",
   "execution_count": 51,
   "metadata": {},
   "outputs": [],
   "source": [
    "df['churned'] = [True if x > 1 else False for x in df.churn_factor]"
   ]
  },
  {
   "cell_type": "code",
   "execution_count": 52,
   "metadata": {},
   "outputs": [
    {
     "data": {
      "text/plain": [
       "churned\n",
       "False    26689\n",
       "True     12658\n",
       "Name: customer_db_id, dtype: int64"
      ]
     },
     "execution_count": 52,
     "metadata": {},
     "output_type": "execute_result"
    }
   ],
   "source": [
    "df.groupby('churned').customer_db_id.nunique()"
   ]
  },
  {
   "cell_type": "code",
   "execution_count": 53,
   "metadata": {},
   "outputs": [],
   "source": [
    "df_cluster = pd.read_csv('data/clustered_customers.csv')[['customer_db_id', 'cluster']]"
   ]
  },
  {
   "cell_type": "code",
   "execution_count": 54,
   "metadata": {},
   "outputs": [],
   "source": [
    "df = df.merge(df_cluster, on='customer_db_id', how='left')"
   ]
  },
  {
   "cell_type": "code",
   "execution_count": 65,
   "metadata": {},
   "outputs": [],
   "source": [
    "df_cluster_churn = df.groupby(['cluster', 'churned'])\\\n",
    "    .customer_db_id.nunique()\\\n",
    "    .reset_index()\n",
    "df_cluster_churn = df_cluster_churn.merge(\n",
    "    df.groupby('cluster')\\\n",
    "    .customer_db_id.nunique()\\\n",
    "    .reset_index()\\\n",
    "    .rename(columns={'customer_db_id': 'cluster_total'}),\n",
    "    how = 'left', on='cluster')\n",
    "df_cluster_churn['customer_ratio'] = df_cluster_churn.customer_db_id / df_cluster_churn.cluster_total\n",
    "df_cluster_pivot = df_cluster_churn.pivot(index='cluster', columns='churned', values='customer_ratio')"
   ]
  },
  {
   "cell_type": "code",
   "execution_count": 66,
   "metadata": {},
   "outputs": [
    {
     "data": {
      "text/plain": [
       "<matplotlib.axes._subplots.AxesSubplot at 0x25137050908>"
      ]
     },
     "execution_count": 66,
     "metadata": {},
     "output_type": "execute_result"
    },
    {
     "data": {
      "image/png": "[encoded data removed]",
      "text/plain": [
       "<Figure size 432x288 with 2 Axes>"
      ]
     },
     "metadata": {},
     "output_type": "display_data"
    }
   ],
   "source": [
    "sns.heatmap(df_cluster_pivot, cmap='Blues')"
   ]
  },
  {
   "cell_type": "code",
   "execution_count": 68,
   "metadata": {},
   "outputs": [
    {
     "data": {
      "text/html": [
       "<div>\n",
       "<style scoped>\n",
       "    .dataframe tbody tr th:only-of-type {\n",
       "        vertical-align: middle;\n",
       "    }\n",
       "\n",
       "    .dataframe tbody tr th {\n",
       "        vertical-align: top;\n",
       "    }\n",
       "\n",
       "    .dataframe thead th {\n",
       "        text-align: right;\n",
       "    }\n",
       "</style>\n",
       "<table border=\"1\" class=\"dataframe\">\n",
       "  <thead>\n",
       "    <tr style=\"text-align: right;\">\n",
       "      <th>churned</th>\n",
       "      <th>False</th>\n",
       "      <th>True</th>\n",
       "    </tr>\n",
       "    <tr>\n",
       "      <th>cluster</th>\n",
       "      <th></th>\n",
       "      <th></th>\n",
       "    </tr>\n",
       "  </thead>\n",
       "  <tbody>\n",
       "    <tr>\n",
       "      <th>0.0</th>\n",
       "      <td>0.486122</td>\n",
       "      <td>0.513878</td>\n",
       "    </tr>\n",
       "    <tr>\n",
       "      <th>1.0</th>\n",
       "      <td>0.719286</td>\n",
       "      <td>0.280714</td>\n",
       "    </tr>\n",
       "    <tr>\n",
       "      <th>2.0</th>\n",
       "      <td>0.601660</td>\n",
       "      <td>0.398340</td>\n",
       "    </tr>\n",
       "    <tr>\n",
       "      <th>3.0</th>\n",
       "      <td>0.651295</td>\n",
       "      <td>0.348705</td>\n",
       "    </tr>\n",
       "    <tr>\n",
       "      <th>4.0</th>\n",
       "      <td>0.462517</td>\n",
       "      <td>0.537483</td>\n",
       "    </tr>\n",
       "    <tr>\n",
       "      <th>5.0</th>\n",
       "      <td>0.784711</td>\n",
       "      <td>0.215289</td>\n",
       "    </tr>\n",
       "    <tr>\n",
       "      <th>6.0</th>\n",
       "      <td>0.643588</td>\n",
       "      <td>0.356412</td>\n",
       "    </tr>\n",
       "    <tr>\n",
       "      <th>7.0</th>\n",
       "      <td>0.668161</td>\n",
       "      <td>0.331839</td>\n",
       "    </tr>\n",
       "    <tr>\n",
       "      <th>8.0</th>\n",
       "      <td>0.582062</td>\n",
       "      <td>0.417938</td>\n",
       "    </tr>\n",
       "    <tr>\n",
       "      <th>9.0</th>\n",
       "      <td>0.745960</td>\n",
       "      <td>0.254040</td>\n",
       "    </tr>\n",
       "  </tbody>\n",
       "</table>\n",
       "</div>"
      ],
      "text/plain": [
       "churned     False     True \n",
       "cluster                    \n",
       "0.0      0.486122  0.513878\n",
       "1.0      0.719286  0.280714\n",
       "2.0      0.601660  0.398340\n",
       "3.0      0.651295  0.348705\n",
       "4.0      0.462517  0.537483\n",
       "5.0      0.784711  0.215289\n",
       "6.0      0.643588  0.356412\n",
       "7.0      0.668161  0.331839\n",
       "8.0      0.582062  0.417938\n",
       "9.0      0.745960  0.254040"
      ]
     },
     "execution_count": 68,
     "metadata": {},
     "output_type": "execute_result"
    }
   ],
   "source": [
    "df_cluster_pivot"
   ]
  },
  {
   "cell_type": "code",
   "execution_count": 12,
   "metadata": {},
   "outputs": [],
   "source": [
    "df['bad_experience'] = False\n",
    "df.loc[(df.reclean_orders == 1) |\n",
    "    (df.last_order_rating < 4) |\n",
    "    (df.refunds_success == 1) |\n",
    "    (df.internal_reschedules > 1),\n",
    "       'bad_experience'] = True"
   ]
  },
  {
   "cell_type": "code",
   "execution_count": 29,
   "metadata": {},
   "outputs": [
    {
     "data": {
      "text/plain": [
       "churned  reclean_orders\n",
       "False    0                 26448\n",
       "         1                   226\n",
       "         2                    12\n",
       "         3                     1\n",
       "         4                     2\n",
       "True     0                 12423\n",
       "         1                   201\n",
       "         2                    25\n",
       "         3                     5\n",
       "         4                     2\n",
       "         5                     2\n",
       "Name: customer_db_id, dtype: int64"
      ]
     },
     "execution_count": 29,
     "metadata": {},
     "output_type": "execute_result"
    }
   ],
   "source": [
    "df.groupby(['churned', 'reclean_orders'])['customer_db_id'].nunique()"
   ]
  },
  {
   "cell_type": "code",
   "execution_count": 30,
   "metadata": {},
   "outputs": [
    {
     "data": {
      "text/plain": [
       "churned  last_order_rating\n",
       "False    1.0                   334\n",
       "         2.0                   104\n",
       "         3.0                   271\n",
       "         4.0                   619\n",
       "         5.0                  1884\n",
       "True     1.0                   347\n",
       "         2.0                   149\n",
       "         3.0                   242\n",
       "         4.0                   562\n",
       "         5.0                  1327\n",
       "Name: customer_db_id, dtype: int64"
      ]
     },
     "execution_count": 30,
     "metadata": {},
     "output_type": "execute_result"
    }
   ],
   "source": [
    "df.groupby(['churned', 'last_order_rating'])['customer_db_id'].nunique()"
   ]
  },
  {
   "cell_type": "code",
   "execution_count": 31,
   "metadata": {},
   "outputs": [
    {
     "data": {
      "text/plain": [
       "churned  refunds_success\n",
       "False    1.0                351\n",
       "         2.0                 12\n",
       "         3.0                  2\n",
       "         4.0                  1\n",
       "True     1.0                283\n",
       "         2.0                 10\n",
       "         3.0                  5\n",
       "Name: customer_db_id, dtype: int64"
      ]
     },
     "execution_count": 31,
     "metadata": {},
     "output_type": "execute_result"
    }
   ],
   "source": [
    "df.groupby(['churned', 'refunds_success'])['customer_db_id'].nunique()"
   ]
  },
  {
   "cell_type": "code",
   "execution_count": 33,
   "metadata": {},
   "outputs": [
    {
     "data": {
      "text/plain": [
       "churned  internal_reschedules\n",
       "False    0                       23436\n",
       "         1                        1803\n",
       "         2                         685\n",
       "         3                         295\n",
       "         4                         159\n",
       "         5                          94\n",
       "         6                          78\n",
       "         7                          42\n",
       "         8                          28\n",
       "         9                          16\n",
       "         10                         18\n",
       "         11                         10\n",
       "         12                          5\n",
       "         13                          4\n",
       "         14                          5\n",
       "         15                          5\n",
       "         16                          1\n",
       "         17                          1\n",
       "         19                          2\n",
       "         24                          1\n",
       "         92                          1\n",
       "True     0                        9715\n",
       "         1                        1449\n",
       "         2                         712\n",
       "         3                         317\n",
       "         4                         184\n",
       "         5                          95\n",
       "         6                          67\n",
       "         7                          29\n",
       "         8                          26\n",
       "         9                          17\n",
       "         10                         13\n",
       "         11                         10\n",
       "         12                          4\n",
       "         13                          3\n",
       "         14                          2\n",
       "         15                          6\n",
       "         17                          1\n",
       "         18                          2\n",
       "         20                          2\n",
       "         22                          1\n",
       "         23                          1\n",
       "         28                          1\n",
       "         31                          1\n",
       "Name: customer_db_id, dtype: int64"
      ]
     },
     "execution_count": 33,
     "metadata": {},
     "output_type": "execute_result"
    }
   ],
   "source": [
    "df.groupby(['churned', 'internal_reschedules'])['customer_db_id'].nunique() "
   ]
  },
  {
   "cell_type": "code",
   "execution_count": 34,
   "metadata": {},
   "outputs": [
    {
     "data": {
      "text/plain": [
       "churned\n",
       "False    4241\n",
       "True      720\n",
       "Name: customer_db_id, dtype: int64"
      ]
     },
     "execution_count": 34,
     "metadata": {},
     "output_type": "execute_result"
    }
   ],
   "source": [
    "df.loc[df.unpunctual_ratio > 0.5].groupby('churned').customer_db_id.nunique()"
   ]
  },
  {
   "cell_type": "code",
   "execution_count": 13,
   "metadata": {},
   "outputs": [
    {
     "data": {
      "text/plain": [
       "churned  bad_experience\n",
       "False    False             24270\n",
       "         True               2419\n",
       "True     False             10330\n",
       "         True               2328\n",
       "Name: customer_db_id, dtype: int64"
      ]
     },
     "execution_count": 13,
     "metadata": {},
     "output_type": "execute_result"
    }
   ],
   "source": [
    "df.groupby(['churned', 'bad_experience'])['customer_db_id'].nunique()"
   ]
  },
  {
   "cell_type": "code",
   "execution_count": 37,
   "metadata": {},
   "outputs": [
    {
     "data": {
      "text/plain": [
       "<matplotlib.axes._subplots.AxesSubplot at 0x25130412518>"
      ]
     },
     "execution_count": 37,
     "metadata": {},
     "output_type": "execute_result"
    },
    {
     "data": {
      "image/png": "[encoded data removed]",
      "text/plain": [
       "<Figure size 432x288 with 1 Axes>"
      ]
     },
     "metadata": {},
     "output_type": "display_data"
    }
   ],
   "source": [
    "a = df.loc[(~df.laundry_distance.isnull()) & \n",
    "           (df.laundry_distance < 20000) &\n",
    "           (df.bad_experience == False), \n",
    "           ['churned', 'laundry_distance']]\n",
    "sns.categorical.violinplot(data=a, x='churned', y='laundry_distance')"
   ]
  },
  {
   "cell_type": "code",
   "execution_count": null,
   "metadata": {},
   "outputs": [],
   "source": []
  }
 ],
 "metadata": {
  "kernelspec": {
   "display_name": "Python 3",
   "language": "python",
   "name": "python3"
  },
  "language_info": {
   "codemirror_mode": {
    "name": "ipython",
    "version": 3
   },
   "file_extension": ".py",
   "mimetype": "text/x-python",
   "name": "python",
   "nbconvert_exporter": "python",
   "pygments_lexer": "ipython3",
   "version": "3.6.5"
  }
 },
 "nbformat": 4,
 "nbformat_minor": 2
}
