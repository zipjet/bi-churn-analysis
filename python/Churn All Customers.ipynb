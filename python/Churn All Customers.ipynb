{
 "cells": [
  {
   "cell_type": "code",
   "execution_count": 1,
   "metadata": {},
   "outputs": [],
   "source": [
    "import pandas as pd\n",
    "import seaborn as sns\n",
    "import matplotlib.pyplot as plt\n",
    "from sklearn.preprocessing import LabelEncoder\n",
    "\n",
    "import warnings\n",
    "warnings.filterwarnings(\"ignore\")"
   ]
  },
  {
   "cell_type": "code",
   "execution_count": 2,
   "metadata": {},
   "outputs": [],
   "source": [
    "df = pd.read_csv('./data/churn_dataset.csv')"
   ]
  },
  {
   "cell_type": "code",
   "execution_count": 3,
   "metadata": {
    "scrolled": true
   },
   "outputs": [
    {
     "data": {
      "text/html": [
       "<div>\n",
       "<style scoped>\n",
       "    .dataframe tbody tr th:only-of-type {\n",
       "        vertical-align: middle;\n",
       "    }\n",
       "\n",
       "    .dataframe tbody tr th {\n",
       "        vertical-align: top;\n",
       "    }\n",
       "\n",
       "    .dataframe thead th {\n",
       "        text-align: right;\n",
       "    }\n",
       "</style>\n",
       "<table border=\"1\" class=\"dataframe\">\n",
       "  <thead>\n",
       "    <tr style=\"text-align: right;\">\n",
       "      <th></th>\n",
       "      <th>0</th>\n",
       "      <th>1</th>\n",
       "      <th>2</th>\n",
       "      <th>3</th>\n",
       "      <th>4</th>\n",
       "    </tr>\n",
       "  </thead>\n",
       "  <tbody>\n",
       "    <tr>\n",
       "      <th>Desktop Web</th>\n",
       "      <td>0</td>\n",
       "      <td>1</td>\n",
       "      <td>0</td>\n",
       "      <td>0</td>\n",
       "      <td>0</td>\n",
       "    </tr>\n",
       "    <tr>\n",
       "      <th>Mobile Web</th>\n",
       "      <td>0</td>\n",
       "      <td>0</td>\n",
       "      <td>0</td>\n",
       "      <td>0</td>\n",
       "      <td>0</td>\n",
       "    </tr>\n",
       "    <tr>\n",
       "      <th>iOS</th>\n",
       "      <td>0</td>\n",
       "      <td>0</td>\n",
       "      <td>0</td>\n",
       "      <td>0</td>\n",
       "      <td>2</td>\n",
       "    </tr>\n",
       "    <tr>\n",
       "      <th>NA</th>\n",
       "      <td>2</td>\n",
       "      <td>1</td>\n",
       "      <td>1</td>\n",
       "      <td>1</td>\n",
       "      <td>0</td>\n",
       "    </tr>\n",
       "    <tr>\n",
       "      <th>last_order_software_type</th>\n",
       "      <td>NaN</td>\n",
       "      <td>Desktop Web</td>\n",
       "      <td>NaN</td>\n",
       "      <td>NaN</td>\n",
       "      <td>iOS</td>\n",
       "    </tr>\n",
       "    <tr>\n",
       "      <th>first_order_software_type</th>\n",
       "      <td>NaN</td>\n",
       "      <td>NaN</td>\n",
       "      <td>NaN</td>\n",
       "      <td>NaN</td>\n",
       "      <td>iOS</td>\n",
       "    </tr>\n",
       "    <tr>\n",
       "      <th>product_LA</th>\n",
       "      <td>0</td>\n",
       "      <td>2</td>\n",
       "      <td>0</td>\n",
       "      <td>0</td>\n",
       "      <td>0</td>\n",
       "    </tr>\n",
       "    <tr>\n",
       "      <th>product_HH</th>\n",
       "      <td>0</td>\n",
       "      <td>0</td>\n",
       "      <td>0</td>\n",
       "      <td>0</td>\n",
       "      <td>0</td>\n",
       "    </tr>\n",
       "    <tr>\n",
       "      <th>product_DC</th>\n",
       "      <td>0</td>\n",
       "      <td>2</td>\n",
       "      <td>0</td>\n",
       "      <td>0</td>\n",
       "      <td>0</td>\n",
       "    </tr>\n",
       "    <tr>\n",
       "      <th>product_WF</th>\n",
       "      <td>0</td>\n",
       "      <td>0</td>\n",
       "      <td>0</td>\n",
       "      <td>0</td>\n",
       "      <td>0</td>\n",
       "    </tr>\n",
       "    <tr>\n",
       "      <th>first_order_products</th>\n",
       "      <td>NaN</td>\n",
       "      <td>LADC</td>\n",
       "      <td>NaN</td>\n",
       "      <td>NaN</td>\n",
       "      <td>NaN</td>\n",
       "    </tr>\n",
       "    <tr>\n",
       "      <th>vouchers_used</th>\n",
       "      <td>0</td>\n",
       "      <td>1</td>\n",
       "      <td>0</td>\n",
       "      <td>0</td>\n",
       "      <td>0</td>\n",
       "    </tr>\n",
       "    <tr>\n",
       "      <th>vouchers_revenue_ratio</th>\n",
       "      <td>0</td>\n",
       "      <td>0.672897</td>\n",
       "      <td>0</td>\n",
       "      <td>0</td>\n",
       "      <td>0</td>\n",
       "    </tr>\n",
       "    <tr>\n",
       "      <th>first_order_voucher_channel</th>\n",
       "      <td>NaN</td>\n",
       "      <td>NaN</td>\n",
       "      <td>NaN</td>\n",
       "      <td>NaN</td>\n",
       "      <td>NaN</td>\n",
       "    </tr>\n",
       "    <tr>\n",
       "      <th>first_order_voucher_value</th>\n",
       "      <td>NaN</td>\n",
       "      <td>NaN</td>\n",
       "      <td>NaN</td>\n",
       "      <td>NaN</td>\n",
       "      <td>NaN</td>\n",
       "    </tr>\n",
       "    <tr>\n",
       "      <th>last_order_voucher_channel</th>\n",
       "      <td>NaN</td>\n",
       "      <td>CC</td>\n",
       "      <td>NaN</td>\n",
       "      <td>NaN</td>\n",
       "      <td>NaN</td>\n",
       "    </tr>\n",
       "    <tr>\n",
       "      <th>last_order_voucher_value</th>\n",
       "      <td>NaN</td>\n",
       "      <td>20.8802</td>\n",
       "      <td>NaN</td>\n",
       "      <td>NaN</td>\n",
       "      <td>NaN</td>\n",
       "    </tr>\n",
       "    <tr>\n",
       "      <th>first_order_voucher</th>\n",
       "      <td>False</td>\n",
       "      <td>False</td>\n",
       "      <td>False</td>\n",
       "      <td>False</td>\n",
       "      <td>False</td>\n",
       "    </tr>\n",
       "    <tr>\n",
       "      <th>last_order_voucher</th>\n",
       "      <td>False</td>\n",
       "      <td>True</td>\n",
       "      <td>False</td>\n",
       "      <td>False</td>\n",
       "      <td>False</td>\n",
       "    </tr>\n",
       "    <tr>\n",
       "      <th>first_order_revenue</th>\n",
       "      <td>0</td>\n",
       "      <td>0</td>\n",
       "      <td>0</td>\n",
       "      <td>0</td>\n",
       "      <td>0</td>\n",
       "    </tr>\n",
       "    <tr>\n",
       "      <th>last_order_revenue</th>\n",
       "      <td>0</td>\n",
       "      <td>10.1501</td>\n",
       "      <td>0</td>\n",
       "      <td>0</td>\n",
       "      <td>0</td>\n",
       "    </tr>\n",
       "    <tr>\n",
       "      <th>last_order_revenue_diff</th>\n",
       "      <td>NaN</td>\n",
       "      <td>0</td>\n",
       "      <td>NaN</td>\n",
       "      <td>NaN</td>\n",
       "      <td>NaN</td>\n",
       "    </tr>\n",
       "    <tr>\n",
       "      <th>reclean_orders</th>\n",
       "      <td>0</td>\n",
       "      <td>0</td>\n",
       "      <td>0</td>\n",
       "      <td>0</td>\n",
       "      <td>0</td>\n",
       "    </tr>\n",
       "    <tr>\n",
       "      <th>last_reclean_order</th>\n",
       "      <td>False</td>\n",
       "      <td>False</td>\n",
       "      <td>False</td>\n",
       "      <td>False</td>\n",
       "      <td>False</td>\n",
       "    </tr>\n",
       "    <tr>\n",
       "      <th>reclean_ratio</th>\n",
       "      <td>0</td>\n",
       "      <td>0</td>\n",
       "      <td>0</td>\n",
       "      <td>0</td>\n",
       "      <td>0</td>\n",
       "    </tr>\n",
       "    <tr>\n",
       "      <th>internal_reschedules</th>\n",
       "      <td>0</td>\n",
       "      <td>0</td>\n",
       "      <td>0</td>\n",
       "      <td>0</td>\n",
       "      <td>0</td>\n",
       "    </tr>\n",
       "    <tr>\n",
       "      <th>customer_reschedules</th>\n",
       "      <td>0</td>\n",
       "      <td>0</td>\n",
       "      <td>0</td>\n",
       "      <td>0</td>\n",
       "      <td>0</td>\n",
       "    </tr>\n",
       "    <tr>\n",
       "      <th>last_order_int_reschedules</th>\n",
       "      <td>NaN</td>\n",
       "      <td>NaN</td>\n",
       "      <td>NaN</td>\n",
       "      <td>NaN</td>\n",
       "      <td>NaN</td>\n",
       "    </tr>\n",
       "    <tr>\n",
       "      <th>last_order_rescheduled</th>\n",
       "      <td>NaN</td>\n",
       "      <td>NaN</td>\n",
       "      <td>NaN</td>\n",
       "      <td>NaN</td>\n",
       "      <td>NaN</td>\n",
       "    </tr>\n",
       "    <tr>\n",
       "      <th>rated_orders</th>\n",
       "      <td>0</td>\n",
       "      <td>0</td>\n",
       "      <td>0</td>\n",
       "      <td>0</td>\n",
       "      <td>0</td>\n",
       "    </tr>\n",
       "    <tr>\n",
       "      <th>avg_rating</th>\n",
       "      <td>NaN</td>\n",
       "      <td>NaN</td>\n",
       "      <td>NaN</td>\n",
       "      <td>NaN</td>\n",
       "      <td>NaN</td>\n",
       "    </tr>\n",
       "    <tr>\n",
       "      <th>rated_orders_ratio</th>\n",
       "      <td>0</td>\n",
       "      <td>0</td>\n",
       "      <td>0</td>\n",
       "      <td>0</td>\n",
       "      <td>0</td>\n",
       "    </tr>\n",
       "    <tr>\n",
       "      <th>last_order_rating</th>\n",
       "      <td>NaN</td>\n",
       "      <td>NaN</td>\n",
       "      <td>NaN</td>\n",
       "      <td>NaN</td>\n",
       "      <td>NaN</td>\n",
       "    </tr>\n",
       "    <tr>\n",
       "      <th>rating_diff</th>\n",
       "      <td>NaN</td>\n",
       "      <td>NaN</td>\n",
       "      <td>NaN</td>\n",
       "      <td>NaN</td>\n",
       "      <td>NaN</td>\n",
       "    </tr>\n",
       "    <tr>\n",
       "      <th>first_order_rating</th>\n",
       "      <td>NaN</td>\n",
       "      <td>NaN</td>\n",
       "      <td>NaN</td>\n",
       "      <td>NaN</td>\n",
       "      <td>NaN</td>\n",
       "    </tr>\n",
       "    <tr>\n",
       "      <th>refunds_success</th>\n",
       "      <td>NaN</td>\n",
       "      <td>NaN</td>\n",
       "      <td>NaN</td>\n",
       "      <td>NaN</td>\n",
       "      <td>NaN</td>\n",
       "    </tr>\n",
       "    <tr>\n",
       "      <th>refunds_unsuccess</th>\n",
       "      <td>NaN</td>\n",
       "      <td>NaN</td>\n",
       "      <td>NaN</td>\n",
       "      <td>NaN</td>\n",
       "      <td>NaN</td>\n",
       "    </tr>\n",
       "    <tr>\n",
       "      <th>last_order_refund_request</th>\n",
       "      <td>False</td>\n",
       "      <td>False</td>\n",
       "      <td>False</td>\n",
       "      <td>False</td>\n",
       "      <td>False</td>\n",
       "    </tr>\n",
       "    <tr>\n",
       "      <th>pickup_friday</th>\n",
       "      <td>0</td>\n",
       "      <td>0</td>\n",
       "      <td>0</td>\n",
       "      <td>0</td>\n",
       "      <td>0</td>\n",
       "    </tr>\n",
       "    <tr>\n",
       "      <th>pickup_monday</th>\n",
       "      <td>0</td>\n",
       "      <td>0.5</td>\n",
       "      <td>0</td>\n",
       "      <td>0</td>\n",
       "      <td>0.5</td>\n",
       "    </tr>\n",
       "    <tr>\n",
       "      <th>pickup_saturday</th>\n",
       "      <td>0</td>\n",
       "      <td>0</td>\n",
       "      <td>0</td>\n",
       "      <td>0</td>\n",
       "      <td>0</td>\n",
       "    </tr>\n",
       "    <tr>\n",
       "      <th>pickup_sunday</th>\n",
       "      <td>0</td>\n",
       "      <td>0</td>\n",
       "      <td>0</td>\n",
       "      <td>0</td>\n",
       "      <td>0</td>\n",
       "    </tr>\n",
       "    <tr>\n",
       "      <th>pickup_thursday</th>\n",
       "      <td>0</td>\n",
       "      <td>0</td>\n",
       "      <td>0</td>\n",
       "      <td>0</td>\n",
       "      <td>0</td>\n",
       "    </tr>\n",
       "    <tr>\n",
       "      <th>pickup_tuesday</th>\n",
       "      <td>0</td>\n",
       "      <td>0.5</td>\n",
       "      <td>0</td>\n",
       "      <td>0</td>\n",
       "      <td>0.5</td>\n",
       "    </tr>\n",
       "    <tr>\n",
       "      <th>pickup_wednesday</th>\n",
       "      <td>1</td>\n",
       "      <td>0</td>\n",
       "      <td>1</td>\n",
       "      <td>1</td>\n",
       "      <td>0</td>\n",
       "    </tr>\n",
       "    <tr>\n",
       "      <th>pickup_after_noon</th>\n",
       "      <td>0</td>\n",
       "      <td>0</td>\n",
       "      <td>0</td>\n",
       "      <td>1</td>\n",
       "      <td>0.5</td>\n",
       "    </tr>\n",
       "    <tr>\n",
       "      <th>pickup_before_noon</th>\n",
       "      <td>1</td>\n",
       "      <td>0</td>\n",
       "      <td>0</td>\n",
       "      <td>0</td>\n",
       "      <td>0.5</td>\n",
       "    </tr>\n",
       "    <tr>\n",
       "      <th>pickup_early_morning</th>\n",
       "      <td>0</td>\n",
       "      <td>1</td>\n",
       "      <td>0</td>\n",
       "      <td>0</td>\n",
       "      <td>0</td>\n",
       "    </tr>\n",
       "    <tr>\n",
       "      <th>pickup_evening</th>\n",
       "      <td>0</td>\n",
       "      <td>0</td>\n",
       "      <td>1</td>\n",
       "      <td>0</td>\n",
       "      <td>0</td>\n",
       "    </tr>\n",
       "    <tr>\n",
       "      <th>late_orders</th>\n",
       "      <td>NaN</td>\n",
       "      <td>NaN</td>\n",
       "      <td>NaN</td>\n",
       "      <td>NaN</td>\n",
       "      <td>NaN</td>\n",
       "    </tr>\n",
       "    <tr>\n",
       "      <th>early_orders</th>\n",
       "      <td>NaN</td>\n",
       "      <td>NaN</td>\n",
       "      <td>NaN</td>\n",
       "      <td>NaN</td>\n",
       "      <td>NaN</td>\n",
       "    </tr>\n",
       "    <tr>\n",
       "      <th>unpunctual_orders</th>\n",
       "      <td>NaN</td>\n",
       "      <td>NaN</td>\n",
       "      <td>NaN</td>\n",
       "      <td>NaN</td>\n",
       "      <td>NaN</td>\n",
       "    </tr>\n",
       "    <tr>\n",
       "      <th>unpunctual_ratio</th>\n",
       "      <td>NaN</td>\n",
       "      <td>NaN</td>\n",
       "      <td>NaN</td>\n",
       "      <td>NaN</td>\n",
       "      <td>NaN</td>\n",
       "    </tr>\n",
       "    <tr>\n",
       "      <th>punctual</th>\n",
       "      <td>NaN</td>\n",
       "      <td>NaN</td>\n",
       "      <td>NaN</td>\n",
       "      <td>NaN</td>\n",
       "      <td>NaN</td>\n",
       "    </tr>\n",
       "    <tr>\n",
       "      <th>punctual_mins_ratio_DO</th>\n",
       "      <td>NaN</td>\n",
       "      <td>NaN</td>\n",
       "      <td>NaN</td>\n",
       "      <td>NaN</td>\n",
       "      <td>NaN</td>\n",
       "    </tr>\n",
       "    <tr>\n",
       "      <th>punctual_mins_ratio_PU</th>\n",
       "      <td>NaN</td>\n",
       "      <td>NaN</td>\n",
       "      <td>NaN</td>\n",
       "      <td>NaN</td>\n",
       "      <td>NaN</td>\n",
       "    </tr>\n",
       "    <tr>\n",
       "      <th>last_order_fac_name</th>\n",
       "      <td>NaN</td>\n",
       "      <td>NaN</td>\n",
       "      <td>NaN</td>\n",
       "      <td>NaN</td>\n",
       "      <td>NaN</td>\n",
       "    </tr>\n",
       "    <tr>\n",
       "      <th>first_order_fac_name</th>\n",
       "      <td>NaN</td>\n",
       "      <td>NaN</td>\n",
       "      <td>NaN</td>\n",
       "      <td>NaN</td>\n",
       "      <td>NaN</td>\n",
       "    </tr>\n",
       "    <tr>\n",
       "      <th>zip</th>\n",
       "      <td>WC2B 5</td>\n",
       "      <td>W1D 1BS</td>\n",
       "      <td>WC2B 5</td>\n",
       "      <td>WC2A 3</td>\n",
       "      <td>WC2B 5</td>\n",
       "    </tr>\n",
       "    <tr>\n",
       "      <th>zip_area</th>\n",
       "      <td>wc</td>\n",
       "      <td>w</td>\n",
       "      <td>wc</td>\n",
       "      <td>wc</td>\n",
       "      <td>wc</td>\n",
       "    </tr>\n",
       "  </tbody>\n",
       "</table>\n",
       "</div>"
      ],
      "text/plain": [
       "                                  0            1       2       3       4\n",
       "Desktop Web                       0            1       0       0       0\n",
       "Mobile Web                        0            0       0       0       0\n",
       "iOS                               0            0       0       0       2\n",
       "NA                                2            1       1       1       0\n",
       "last_order_software_type        NaN  Desktop Web     NaN     NaN     iOS\n",
       "first_order_software_type       NaN          NaN     NaN     NaN     iOS\n",
       "product_LA                        0            2       0       0       0\n",
       "product_HH                        0            0       0       0       0\n",
       "product_DC                        0            2       0       0       0\n",
       "product_WF                        0            0       0       0       0\n",
       "first_order_products            NaN         LADC     NaN     NaN     NaN\n",
       "vouchers_used                     0            1       0       0       0\n",
       "vouchers_revenue_ratio            0     0.672897       0       0       0\n",
       "first_order_voucher_channel     NaN          NaN     NaN     NaN     NaN\n",
       "first_order_voucher_value       NaN          NaN     NaN     NaN     NaN\n",
       "last_order_voucher_channel      NaN           CC     NaN     NaN     NaN\n",
       "last_order_voucher_value        NaN      20.8802     NaN     NaN     NaN\n",
       "first_order_voucher           False        False   False   False   False\n",
       "last_order_voucher            False         True   False   False   False\n",
       "first_order_revenue               0            0       0       0       0\n",
       "last_order_revenue                0      10.1501       0       0       0\n",
       "last_order_revenue_diff         NaN            0     NaN     NaN     NaN\n",
       "reclean_orders                    0            0       0       0       0\n",
       "last_reclean_order            False        False   False   False   False\n",
       "reclean_ratio                     0            0       0       0       0\n",
       "internal_reschedules              0            0       0       0       0\n",
       "customer_reschedules              0            0       0       0       0\n",
       "last_order_int_reschedules      NaN          NaN     NaN     NaN     NaN\n",
       "last_order_rescheduled          NaN          NaN     NaN     NaN     NaN\n",
       "rated_orders                      0            0       0       0       0\n",
       "avg_rating                      NaN          NaN     NaN     NaN     NaN\n",
       "rated_orders_ratio                0            0       0       0       0\n",
       "last_order_rating               NaN          NaN     NaN     NaN     NaN\n",
       "rating_diff                     NaN          NaN     NaN     NaN     NaN\n",
       "first_order_rating              NaN          NaN     NaN     NaN     NaN\n",
       "refunds_success                 NaN          NaN     NaN     NaN     NaN\n",
       "refunds_unsuccess               NaN          NaN     NaN     NaN     NaN\n",
       "last_order_refund_request     False        False   False   False   False\n",
       "pickup_friday                     0            0       0       0       0\n",
       "pickup_monday                     0          0.5       0       0     0.5\n",
       "pickup_saturday                   0            0       0       0       0\n",
       "pickup_sunday                     0            0       0       0       0\n",
       "pickup_thursday                   0            0       0       0       0\n",
       "pickup_tuesday                    0          0.5       0       0     0.5\n",
       "pickup_wednesday                  1            0       1       1       0\n",
       "pickup_after_noon                 0            0       0       1     0.5\n",
       "pickup_before_noon                1            0       0       0     0.5\n",
       "pickup_early_morning              0            1       0       0       0\n",
       "pickup_evening                    0            0       1       0       0\n",
       "late_orders                     NaN          NaN     NaN     NaN     NaN\n",
       "early_orders                    NaN          NaN     NaN     NaN     NaN\n",
       "unpunctual_orders               NaN          NaN     NaN     NaN     NaN\n",
       "unpunctual_ratio                NaN          NaN     NaN     NaN     NaN\n",
       "punctual                        NaN          NaN     NaN     NaN     NaN\n",
       "punctual_mins_ratio_DO          NaN          NaN     NaN     NaN     NaN\n",
       "punctual_mins_ratio_PU          NaN          NaN     NaN     NaN     NaN\n",
       "last_order_fac_name             NaN          NaN     NaN     NaN     NaN\n",
       "first_order_fac_name            NaN          NaN     NaN     NaN     NaN\n",
       "zip                          WC2B 5      W1D 1BS  WC2B 5  WC2A 3  WC2B 5\n",
       "zip_area                         wc            w      wc      wc      wc"
      ]
     },
     "execution_count": 3,
     "metadata": {},
     "output_type": "execute_result"
    }
   ],
   "source": [
    "df.head().T[30:]"
   ]
  },
  {
   "cell_type": "code",
   "execution_count": 4,
   "metadata": {},
   "outputs": [
    {
     "data": {
      "text/html": [
       "<div>\n",
       "<style scoped>\n",
       "    .dataframe tbody tr th:only-of-type {\n",
       "        vertical-align: middle;\n",
       "    }\n",
       "\n",
       "    .dataframe tbody tr th {\n",
       "        vertical-align: top;\n",
       "    }\n",
       "\n",
       "    .dataframe thead th {\n",
       "        text-align: right;\n",
       "    }\n",
       "</style>\n",
       "<table border=\"1\" class=\"dataframe\">\n",
       "  <thead>\n",
       "    <tr style=\"text-align: right;\">\n",
       "      <th></th>\n",
       "      <th>Unnamed: 0</th>\n",
       "      <th>customer_db_id</th>\n",
       "      <th>Accessories</th>\n",
       "      <th>BUS_Blazer</th>\n",
       "      <th>BUS_Blouse</th>\n",
       "      <th>BUS_Dress</th>\n",
       "      <th>BUS_Evening Dress</th>\n",
       "      <th>BUS_Shirt</th>\n",
       "      <th>BUS_Skirt</th>\n",
       "      <th>BUS_Suit</th>\n",
       "      <th>...</th>\n",
       "      <th>HH_towels</th>\n",
       "      <th>OUT_Jackets + Coats</th>\n",
       "      <th>OUT_Skiwear</th>\n",
       "      <th>Others</th>\n",
       "      <th>WashFold</th>\n",
       "      <th>cluster</th>\n",
       "      <th>cluster_name</th>\n",
       "      <th>frequency</th>\n",
       "      <th>freq_mean</th>\n",
       "      <th>freq_median</th>\n",
       "    </tr>\n",
       "  </thead>\n",
       "  <tbody>\n",
       "    <tr>\n",
       "      <th>0</th>\n",
       "      <td>0</td>\n",
       "      <td>54478fa4d3cde8d17ca5e4db</td>\n",
       "      <td>0</td>\n",
       "      <td>1</td>\n",
       "      <td>0</td>\n",
       "      <td>0</td>\n",
       "      <td>0</td>\n",
       "      <td>1</td>\n",
       "      <td>0</td>\n",
       "      <td>0</td>\n",
       "      <td>...</td>\n",
       "      <td>0</td>\n",
       "      <td>0</td>\n",
       "      <td>0</td>\n",
       "      <td>0</td>\n",
       "      <td>0</td>\n",
       "      <td>2</td>\n",
       "      <td>Shirt</td>\n",
       "      <td>0.000</td>\n",
       "      <td>70.986182</td>\n",
       "      <td>37.0</td>\n",
       "    </tr>\n",
       "    <tr>\n",
       "      <th>1</th>\n",
       "      <td>1</td>\n",
       "      <td>545b9a8bd2cde8871f009f9b</td>\n",
       "      <td>0</td>\n",
       "      <td>0</td>\n",
       "      <td>0</td>\n",
       "      <td>0</td>\n",
       "      <td>0</td>\n",
       "      <td>1</td>\n",
       "      <td>0</td>\n",
       "      <td>0</td>\n",
       "      <td>...</td>\n",
       "      <td>0</td>\n",
       "      <td>0</td>\n",
       "      <td>0</td>\n",
       "      <td>0</td>\n",
       "      <td>0</td>\n",
       "      <td>2</td>\n",
       "      <td>Shirt</td>\n",
       "      <td>103.625</td>\n",
       "      <td>70.986182</td>\n",
       "      <td>37.0</td>\n",
       "    </tr>\n",
       "    <tr>\n",
       "      <th>2</th>\n",
       "      <td>2</td>\n",
       "      <td>546b0317d4cde899738b81b0</td>\n",
       "      <td>0</td>\n",
       "      <td>0</td>\n",
       "      <td>0</td>\n",
       "      <td>0</td>\n",
       "      <td>0</td>\n",
       "      <td>1</td>\n",
       "      <td>0</td>\n",
       "      <td>0</td>\n",
       "      <td>...</td>\n",
       "      <td>0</td>\n",
       "      <td>0</td>\n",
       "      <td>0</td>\n",
       "      <td>0</td>\n",
       "      <td>1</td>\n",
       "      <td>2</td>\n",
       "      <td>Shirt</td>\n",
       "      <td>416.000</td>\n",
       "      <td>70.986182</td>\n",
       "      <td>37.0</td>\n",
       "    </tr>\n",
       "    <tr>\n",
       "      <th>3</th>\n",
       "      <td>3</td>\n",
       "      <td>546c7131d4cde8a747fe23b0</td>\n",
       "      <td>0</td>\n",
       "      <td>0</td>\n",
       "      <td>0</td>\n",
       "      <td>0</td>\n",
       "      <td>0</td>\n",
       "      <td>1</td>\n",
       "      <td>0</td>\n",
       "      <td>0</td>\n",
       "      <td>...</td>\n",
       "      <td>0</td>\n",
       "      <td>0</td>\n",
       "      <td>0</td>\n",
       "      <td>0</td>\n",
       "      <td>0</td>\n",
       "      <td>2</td>\n",
       "      <td>Shirt</td>\n",
       "      <td>673.000</td>\n",
       "      <td>70.986182</td>\n",
       "      <td>37.0</td>\n",
       "    </tr>\n",
       "    <tr>\n",
       "      <th>4</th>\n",
       "      <td>4</td>\n",
       "      <td>5470c6cfd2cde8a969d236ec</td>\n",
       "      <td>0</td>\n",
       "      <td>0</td>\n",
       "      <td>0</td>\n",
       "      <td>0</td>\n",
       "      <td>0</td>\n",
       "      <td>1</td>\n",
       "      <td>0</td>\n",
       "      <td>0</td>\n",
       "      <td>...</td>\n",
       "      <td>0</td>\n",
       "      <td>0</td>\n",
       "      <td>0</td>\n",
       "      <td>0</td>\n",
       "      <td>0</td>\n",
       "      <td>2</td>\n",
       "      <td>Shirt</td>\n",
       "      <td>86.000</td>\n",
       "      <td>70.986182</td>\n",
       "      <td>37.0</td>\n",
       "    </tr>\n",
       "  </tbody>\n",
       "</table>\n",
       "<p>5 rows × 32 columns</p>\n",
       "</div>"
      ],
      "text/plain": [
       "   Unnamed: 0            customer_db_id  Accessories  BUS_Blazer  BUS_Blouse  \\\n",
       "0           0  54478fa4d3cde8d17ca5e4db            0           1           0   \n",
       "1           1  545b9a8bd2cde8871f009f9b            0           0           0   \n",
       "2           2  546b0317d4cde899738b81b0            0           0           0   \n",
       "3           3  546c7131d4cde8a747fe23b0            0           0           0   \n",
       "4           4  5470c6cfd2cde8a969d236ec            0           0           0   \n",
       "\n",
       "   BUS_Dress  BUS_Evening Dress  BUS_Shirt  BUS_Skirt  BUS_Suit     ...       \\\n",
       "0          0                  0          1          0         0     ...        \n",
       "1          0                  0          1          0         0     ...        \n",
       "2          0                  0          1          0         0     ...        \n",
       "3          0                  0          1          0         0     ...        \n",
       "4          0                  0          1          0         0     ...        \n",
       "\n",
       "   HH_towels  OUT_Jackets + Coats  OUT_Skiwear  Others  WashFold  cluster  \\\n",
       "0          0                    0            0       0         0        2   \n",
       "1          0                    0            0       0         0        2   \n",
       "2          0                    0            0       0         1        2   \n",
       "3          0                    0            0       0         0        2   \n",
       "4          0                    0            0       0         0        2   \n",
       "\n",
       "   cluster_name  frequency  freq_mean  freq_median  \n",
       "0         Shirt      0.000  70.986182         37.0  \n",
       "1         Shirt    103.625  70.986182         37.0  \n",
       "2         Shirt    416.000  70.986182         37.0  \n",
       "3         Shirt    673.000  70.986182         37.0  \n",
       "4         Shirt     86.000  70.986182         37.0  \n",
       "\n",
       "[5 rows x 32 columns]"
      ]
     },
     "execution_count": 4,
     "metadata": {},
     "output_type": "execute_result"
    }
   ],
   "source": [
    "df_cluster = pd.read_csv('data/clustered_customers.csv')\n",
    "df_cluster.head()"
   ]
  },
  {
   "cell_type": "code",
   "execution_count": 5,
   "metadata": {},
   "outputs": [],
   "source": [
    "df = df.merge(df_cluster, on='customer_db_id')"
   ]
  },
  {
   "cell_type": "code",
   "execution_count": 6,
   "metadata": {},
   "outputs": [
    {
     "data": {
      "text/plain": [
       "55588"
      ]
     },
     "execution_count": 6,
     "metadata": {},
     "output_type": "execute_result"
    }
   ],
   "source": [
    "df.customer_db_id.nunique()"
   ]
  },
  {
   "cell_type": "markdown",
   "metadata": {},
   "source": [
    "# Customers with bad experience"
   ]
  },
  {
   "cell_type": "code",
   "execution_count": 7,
   "metadata": {},
   "outputs": [],
   "source": [
    "bad_exp_some = ((df.reclean_orders >= 1) |\n",
    "    (df.avg_rating < 4) |\n",
    "    (df.refunds_success >= 1) |\n",
    "    (df.internal_reschedules >= 1) |\n",
    "    (df.unpunctual_orders >= 1))\n",
    "\n",
    "bad_exp_last = ((df.last_reclean_order == True) |\n",
    "                (df.last_order_rating < 4) |\n",
    "                (df.last_order_refund_request == True) |\n",
    "                (df.last_order_rescheduled == True) |\n",
    "                (df.punctual == False))\n",
    "    \n",
    "df['bad_experience_some'] = False\n",
    "df.loc[bad_exp_some, 'bad_experience_some'] = True\n",
    "\n",
    "df['bad_experience_last'] = False\n",
    "df.loc[bad_exp_last, 'bad_experience_last'] = True"
   ]
  },
  {
   "cell_type": "code",
   "execution_count": 8,
   "metadata": {},
   "outputs": [
    {
     "data": {
      "text/plain": [
       "bad_experience_some\n",
       "False    29541\n",
       "True     26047\n",
       "Name: customer_db_id, dtype: int64"
      ]
     },
     "execution_count": 8,
     "metadata": {},
     "output_type": "execute_result"
    }
   ],
   "source": [
    "df.groupby('bad_experience_some')['customer_db_id'].nunique()"
   ]
  },
  {
   "cell_type": "code",
   "execution_count": 9,
   "metadata": {},
   "outputs": [
    {
     "data": {
      "text/plain": [
       "bad_experience_last\n",
       "False    40974\n",
       "True     14614\n",
       "Name: customer_db_id, dtype: int64"
      ]
     },
     "execution_count": 9,
     "metadata": {},
     "output_type": "execute_result"
    }
   ],
   "source": [
    "df.groupby('bad_experience_last')['customer_db_id'].nunique()"
   ]
  },
  {
   "cell_type": "code",
   "execution_count": 10,
   "metadata": {},
   "outputs": [
    {
     "data": {
      "text/plain": [
       "last_reclean_order\n",
       "False    55161\n",
       "True       427\n",
       "Name: customer_db_id, dtype: int64"
      ]
     },
     "execution_count": 10,
     "metadata": {},
     "output_type": "execute_result"
    }
   ],
   "source": [
    "df.groupby('last_reclean_order')['customer_db_id'].nunique()"
   ]
  },
  {
   "cell_type": "code",
   "execution_count": 11,
   "metadata": {},
   "outputs": [
    {
     "data": {
      "text/plain": [
       "last_order_rating\n",
       "1.0    1293\n",
       "2.0     478\n",
       "3.0     980\n",
       "4.0    2316\n",
       "5.0    6422\n",
       "Name: customer_db_id, dtype: int64"
      ]
     },
     "execution_count": 11,
     "metadata": {},
     "output_type": "execute_result"
    }
   ],
   "source": [
    "df.groupby('last_order_rating')['customer_db_id'].nunique()"
   ]
  },
  {
   "cell_type": "code",
   "execution_count": 12,
   "metadata": {},
   "outputs": [
    {
     "data": {
      "text/plain": [
       "last_order_rescheduled\n",
       "False    1495\n",
       "True      721\n",
       "Name: customer_db_id, dtype: int64"
      ]
     },
     "execution_count": 12,
     "metadata": {},
     "output_type": "execute_result"
    }
   ],
   "source": [
    "df.groupby('last_order_rescheduled')['customer_db_id'].nunique()"
   ]
  },
  {
   "cell_type": "markdown",
   "metadata": {},
   "source": [
    "# 2017"
   ]
  },
  {
   "cell_type": "code",
   "execution_count": 13,
   "metadata": {},
   "outputs": [],
   "source": [
    "# df18 = df.loc[df.first_order_date > \"2017-01-01\"]\n",
    "dff = df.copy()\n",
    "dff = dff.loc[~dff.last_order_state.isin(['open', 'reserved', 'processing', 'blocked'])]\n",
    "dff['churned'] = [True if x > 2 else False for x in dff.churn_factor]\n",
    "dff['churn_factor_cluster'] = dff.recency / dff.freq_median\n",
    "dff['churned_cluster'] = [True if x > 2 else False for x in dff.churn_factor_cluster]\n",
    "\n",
    "df18 = dff.loc[dff.completed_orders >= 3]"
   ]
  },
  {
   "cell_type": "code",
   "execution_count": 14,
   "metadata": {},
   "outputs": [],
   "source": [
    "df3 = dff.loc[dff.completed_orders < 3]"
   ]
  },
  {
   "cell_type": "code",
   "execution_count": 15,
   "metadata": {},
   "outputs": [
    {
     "data": {
      "text/plain": [
       "18733"
      ]
     },
     "execution_count": 15,
     "metadata": {},
     "output_type": "execute_result"
    }
   ],
   "source": [
    "df18.customer_db_id.nunique()"
   ]
  },
  {
   "cell_type": "code",
   "execution_count": 16,
   "metadata": {},
   "outputs": [
    {
     "data": {
      "text/plain": [
       "True     11624\n",
       "False     7228\n",
       "Name: churned, dtype: int64"
      ]
     },
     "execution_count": 16,
     "metadata": {},
     "output_type": "execute_result"
    }
   ],
   "source": [
    "df18.churned.value_counts()"
   ]
  },
  {
   "cell_type": "code",
   "execution_count": 17,
   "metadata": {},
   "outputs": [
    {
     "data": {
      "text/plain": [
       "True     12401\n",
       "False     6451\n",
       "Name: churned_cluster, dtype: int64"
      ]
     },
     "execution_count": 17,
     "metadata": {},
     "output_type": "execute_result"
    }
   ],
   "source": [
    "df18.churned_cluster.value_counts()"
   ]
  },
  {
   "cell_type": "markdown",
   "metadata": {},
   "source": [
    "# No last bad experience and churned"
   ]
  },
  {
   "cell_type": "code",
   "execution_count": 18,
   "metadata": {},
   "outputs": [],
   "source": [
    "def relative_countplot(df, x, hue):\n",
    "    counts = (df.groupby([hue])[x]\n",
    "                         .value_counts(normalize=True)\n",
    "                         .rename('percentage')\n",
    "                         .mul(100)\n",
    "                         .reset_index()\n",
    "                         .sort_values(x))\n",
    "    p = sns.barplot(x=x, y=\"percentage\", hue=hue, data=counts)\n",
    "    _ = plt.setp(p.get_xticklabels(), rotation=90)  # Rotate labels"
   ]
  },
  {
   "cell_type": "code",
   "execution_count": 19,
   "metadata": {},
   "outputs": [
    {
     "data": {
      "text/plain": [
       "<matplotlib.axes._subplots.AxesSubplot at 0x25c380bdbe0>"
      ]
     },
     "execution_count": 19,
     "metadata": {},
     "output_type": "execute_result"
    },
    {
     "data": {
      "image/png": "[encoded data removed]",
      "text/plain": [
       "<Figure size 432x288 with 1 Axes>"
      ]
     },
     "metadata": {},
     "output_type": "display_data"
    }
   ],
   "source": [
    "sns.countplot(x=\"bad_experience_last\", hue=\"churned\", data=df18)"
   ]
  },
  {
   "cell_type": "code",
   "execution_count": 62,
   "metadata": {},
   "outputs": [
    {
     "data": {
      "text/plain": [
       "<matplotlib.axes._subplots.AxesSubplot at 0x25c37d9f748>"
      ]
     },
     "execution_count": 62,
     "metadata": {},
     "output_type": "execute_result"
    },
    {
     "data": {
      "image/png": "[encoded data removed]",
      "text/plain": [
       "<Figure size 432x288 with 1 Axes>"
      ]
     },
     "metadata": {},
     "output_type": "display_data"
    }
   ],
   "source": [
    "sns.countplot(x=\"bad_experience_last\", hue=\"churned\", data=df3)"
   ]
  },
  {
   "cell_type": "code",
   "execution_count": 20,
   "metadata": {},
   "outputs": [
    {
     "data": {
      "text/plain": [
       "churned  bad_experience_some\n",
       "False    True                   5958\n",
       "         False                  1270\n",
       "True     True                   7926\n",
       "         False                  3698\n",
       "Name: bad_experience_some, dtype: int64"
      ]
     },
     "execution_count": 20,
     "metadata": {},
     "output_type": "execute_result"
    }
   ],
   "source": [
    "df18.groupby('churned')['bad_experience_some'].value_counts()"
   ]
  },
  {
   "cell_type": "code",
   "execution_count": 63,
   "metadata": {},
   "outputs": [
    {
     "data": {
      "text/plain": [
       "churned  bad_experience_some\n",
       "False    False                   3616\n",
       "         True                    3479\n",
       "True     False                  20872\n",
       "         True                    8107\n",
       "Name: bad_experience_some, dtype: int64"
      ]
     },
     "execution_count": 63,
     "metadata": {},
     "output_type": "execute_result"
    }
   ],
   "source": [
    "df3.groupby('churned')['bad_experience_some'].value_counts()"
   ]
  },
  {
   "cell_type": "code",
   "execution_count": 79,
   "metadata": {},
   "outputs": [],
   "source": [
    "df18.groupby(['churned', 'bad_experience_last', 'bad_experience_some', 'city'])\\\n",
    "            ['customer_db_id'].nunique().reset_index()\\\n",
    "            .to_csv('./data/pbi_churn.csv', index=False)"
   ]
  },
  {
   "cell_type": "code",
   "execution_count": 65,
   "metadata": {},
   "outputs": [],
   "source": [
    "df3.groupby(['churned_cluster', 'bad_experience_last', 'bad_experience_some'])\\\n",
    "            ['customer_db_id'].nunique().reset_index()\\\n",
    "            .to_csv('./data/pbi_churn3.csv', index=False)"
   ]
  },
  {
   "cell_type": "code",
   "execution_count": 22,
   "metadata": {},
   "outputs": [
    {
     "data": {
      "image/png": "[encoded data removed]",
      "text/plain": [
       "<Figure size 432x288 with 1 Axes>"
      ]
     },
     "metadata": {},
     "output_type": "display_data"
    }
   ],
   "source": [
    "relative_countplot(df18, 'bad_experience_last', 'churned')"
   ]
  },
  {
   "cell_type": "code",
   "execution_count": 23,
   "metadata": {},
   "outputs": [],
   "source": [
    "df18['good_exp_churned'] = False\n",
    "df18.loc[df18.churned & ~df18.bad_experience_last, 'good_exp_churned'] = True"
   ]
  },
  {
   "cell_type": "code",
   "execution_count": 24,
   "metadata": {},
   "outputs": [
    {
     "data": {
      "text/plain": [
       "False    10106\n",
       "True      8746\n",
       "Name: good_exp_churned, dtype: int64"
      ]
     },
     "execution_count": 24,
     "metadata": {},
     "output_type": "execute_result"
    }
   ],
   "source": [
    "df18.good_exp_churned.value_counts()"
   ]
  },
  {
   "cell_type": "code",
   "execution_count": 25,
   "metadata": {},
   "outputs": [
    {
     "data": {
      "image/png": "[encoded data removed]",
      "text/plain": [
       "<Figure size 432x288 with 1 Axes>"
      ]
     },
     "metadata": {},
     "output_type": "display_data"
    }
   ],
   "source": [
    "relative_countplot(df18, 'last_order_fac_name', 'good_exp_churned')"
   ]
  },
  {
   "cell_type": "code",
   "execution_count": 26,
   "metadata": {
    "scrolled": false
   },
   "outputs": [
    {
     "data": {
      "image/png": "[encoded data removed]",
      "text/plain": [
       "<Figure size 432x288 with 1 Axes>"
      ]
     },
     "metadata": {},
     "output_type": "display_data"
    }
   ],
   "source": [
    "relative_countplot(df18, 'cluster_name', 'good_exp_churned')"
   ]
  },
  {
   "cell_type": "code",
   "execution_count": 27,
   "metadata": {},
   "outputs": [
    {
     "data": {
      "image/png": "[encoded data removed]",
      "text/plain": [
       "<Figure size 432x288 with 1 Axes>"
      ]
     },
     "metadata": {},
     "output_type": "display_data"
    }
   ],
   "source": [
    "relative_countplot(df18, 'last_order_voucher_channel', 'good_exp_churned')"
   ]
  },
  {
   "cell_type": "code",
   "execution_count": 28,
   "metadata": {},
   "outputs": [
    {
     "data": {
      "text/plain": [
       "<matplotlib.axes._subplots.AxesSubplot at 0x25c376a3c88>"
      ]
     },
     "execution_count": 28,
     "metadata": {},
     "output_type": "execute_result"
    },
    {
     "data": {
      "image/png": "[encoded data removed]",
      "text/plain": [
       "<Figure size 432x288 with 1 Axes>"
      ]
     },
     "metadata": {},
     "output_type": "display_data"
    }
   ],
   "source": [
    "sns.categorical.violinplot(data=df18, x='good_exp_churned', y='vouchers_revenue_ratio')"
   ]
  },
  {
   "cell_type": "code",
   "execution_count": 29,
   "metadata": {},
   "outputs": [
    {
     "data": {
      "text/plain": [
       "['Accessories',\n",
       " 'Android',\n",
       " 'BUS_Blazer',\n",
       " 'BUS_Blouse',\n",
       " 'BUS_Dress',\n",
       " 'BUS_Evening Dress',\n",
       " 'BUS_Shirt',\n",
       " 'BUS_Skirt',\n",
       " 'BUS_Suit',\n",
       " 'BUS_Trousers',\n",
       " 'Before Service Class',\n",
       " 'CAS_Knitwear',\n",
       " 'CAS_Shorts',\n",
       " 'CAS_Top',\n",
       " 'CAS_Tshirt',\n",
       " 'CAS_Underwear',\n",
       " 'CLASSIC',\n",
       " 'Desktop Web',\n",
       " 'EXPRESS',\n",
       " 'HH_blanket',\n",
       " 'HH_covers',\n",
       " 'HH_cushions',\n",
       " 'HH_linens',\n",
       " 'HH_others',\n",
       " 'HH_pillow_case',\n",
       " 'HH_towels',\n",
       " 'LITE',\n",
       " 'Mobile Web',\n",
       " 'NA',\n",
       " 'OUT_Jackets + Coats',\n",
       " 'OUT_Skiwear',\n",
       " 'Others',\n",
       " 'PERSIL',\n",
       " 'PLUS',\n",
       " 'Unnamed: 0',\n",
       " 'WashFold',\n",
       " 'aov',\n",
       " 'avg_rating',\n",
       " 'bad_experience_last',\n",
       " 'bad_experience_some',\n",
       " 'canceled_orders',\n",
       " 'churn_factor',\n",
       " 'churn_factor_cluster',\n",
       " 'churned',\n",
       " 'churned_cluster',\n",
       " 'city',\n",
       " 'cluster',\n",
       " 'cluster_name',\n",
       " 'completed_orders',\n",
       " 'customer_db_id',\n",
       " 'customer_id',\n",
       " 'customer_reschedules',\n",
       " 'early_orders',\n",
       " 'first_order_date',\n",
       " 'first_order_fac_name',\n",
       " 'first_order_products',\n",
       " 'first_order_rating',\n",
       " 'first_order_recency',\n",
       " 'first_order_revenue',\n",
       " 'first_order_service_class',\n",
       " 'first_order_software_type',\n",
       " 'first_order_voucher',\n",
       " 'first_order_voucher_channel',\n",
       " 'first_order_voucher_value',\n",
       " 'freq_mean',\n",
       " 'freq_median',\n",
       " 'frequency_x',\n",
       " 'frequency_y',\n",
       " 'gender',\n",
       " 'good_exp_churned',\n",
       " 'iOS',\n",
       " 'internal_reschedules',\n",
       " 'last_order_date',\n",
       " 'last_order_fac_name',\n",
       " 'last_order_int_reschedules',\n",
       " 'last_order_rating',\n",
       " 'last_order_refund_request',\n",
       " 'last_order_rescheduled',\n",
       " 'last_order_revenue',\n",
       " 'last_order_revenue_diff',\n",
       " 'last_order_service_class',\n",
       " 'last_order_software_type',\n",
       " 'last_order_state',\n",
       " 'last_order_voucher',\n",
       " 'last_order_voucher_channel',\n",
       " 'last_order_voucher_value',\n",
       " 'last_reclean_order',\n",
       " 'late_orders',\n",
       " 'newsletter_optin',\n",
       " 'open_orders',\n",
       " 'pay_error_orders',\n",
       " 'pickup_after_noon',\n",
       " 'pickup_before_noon',\n",
       " 'pickup_early_morning',\n",
       " 'pickup_evening',\n",
       " 'pickup_friday',\n",
       " 'pickup_monday',\n",
       " 'pickup_saturday',\n",
       " 'pickup_sunday',\n",
       " 'pickup_thursday',\n",
       " 'pickup_tuesday',\n",
       " 'pickup_wednesday',\n",
       " 'product_DC',\n",
       " 'product_HH',\n",
       " 'product_LA',\n",
       " 'product_WF',\n",
       " 'punctual',\n",
       " 'punctual_mins_ratio_DO',\n",
       " 'punctual_mins_ratio_PU',\n",
       " 'rated_orders',\n",
       " 'rated_orders_ratio',\n",
       " 'rating_diff',\n",
       " 'recency',\n",
       " 'reclean_orders',\n",
       " 'reclean_ratio',\n",
       " 'referred',\n",
       " 'refunds_success',\n",
       " 'refunds_unsuccess',\n",
       " 'second_order_date',\n",
       " 'segment',\n",
       " 'total_orders',\n",
       " 'unpunctual_orders',\n",
       " 'unpunctual_ratio',\n",
       " 'vouchers_revenue_ratio',\n",
       " 'vouchers_used',\n",
       " 'zip',\n",
       " 'zip_area']"
      ]
     },
     "execution_count": 29,
     "metadata": {},
     "output_type": "execute_result"
    }
   ],
   "source": [
    "sorted(df18.columns.tolist())"
   ]
  },
  {
   "cell_type": "markdown",
   "metadata": {},
   "source": [
    "# Feature Selection"
   ]
  },
  {
   "cell_type": "code",
   "execution_count": 30,
   "metadata": {},
   "outputs": [],
   "source": [
    "df18['gender'] = df18.gender.fillna('unknown')\n",
    "df18['last_order_voucher_channel'] = df18.last_order_voucher_channel.fillna('none')\n",
    "df18['first_order_voucher_channel'] = df18.first_order_voucher_channel.fillna('none')\n",
    "\n",
    "df18['punctual'] = df18.punctual.fillna(False)\n",
    "df18['last_order_rescheduled'] = df18.last_order_rescheduled.fillna(False)"
   ]
  },
  {
   "cell_type": "code",
   "execution_count": 76,
   "metadata": {},
   "outputs": [],
   "source": [
    "keep_cols = [\n",
    "    # individual\n",
    "    'gender', 'aov', 'referred', 'last_order_state', \n",
    "    'last_order_service_class',  'last_order_software_type', \n",
    "    # vouchers\n",
    "    'vouchers_revenue_ratio', 'first_order_voucher_channel', \n",
    "    'last_order_voucher_channel', 'last_order_voucher',\n",
    "    # revenue\n",
    "    'last_order_revenue', 'last_order_revenue_diff',\n",
    "    # recleans\n",
    "    'reclean_orders', 'last_reclean_order', 'reclean_ratio',\n",
    "    # reschedules\n",
    "    'internal_reschedules', 'customer_reschedules',\n",
    "    'last_order_rescheduled',\n",
    "    # rating\n",
    "    'rated_orders', 'avg_rating', 'rated_orders_ratio', \n",
    "    'last_order_rating', 'rating_diff',\n",
    "    # refunds\n",
    "    'refunds_success', 'refunds_unsuccess', 'last_order_refund_request',\n",
    "    # pickup \n",
    "    'pickup_friday', 'pickup_thursday', 'pickup_wednesday', 'pickup_tuesday', 'pickup_monday',\n",
    "    'pickup_after_noon', 'pickup_before_noon', 'pickup_early_morning', 'pickup_evening',\n",
    "    # punctuality\n",
    "    'late_orders', 'early_orders', 'unpunctual_orders', 'unpunctual_ratio', 'punctual',\n",
    "    # products\n",
    "    'cluster',\n",
    "    # experience\n",
    "    'bad_experience_some', 'bad_experience_last'\n",
    "]"
   ]
  },
  {
   "cell_type": "code",
   "execution_count": 72,
   "metadata": {},
   "outputs": [],
   "source": [
    "keep_cols = [\n",
    "    # individual\n",
    "    'last_order_state', 'last_order_service_class',  'last_order_software_type', \n",
    "    # vouchers\n",
    "    'last_order_voucher_channel', 'last_order_voucher',\n",
    "    # revenue\n",
    "    'last_order_revenue', 'last_order_revenue_diff',\n",
    "    # recleans\n",
    "    'last_reclean_order',\n",
    "    # reschedules\n",
    "    'last_order_rescheduled',\n",
    "    # rating\n",
    "    'last_order_rating',\n",
    "    # refunds\n",
    "    'last_order_refund_request',\n",
    "    # punctuality\n",
    "    'punctual',\n",
    "    # products\n",
    "    'cluster_name',\n",
    "    # experience\n",
    "    'bad_experience_last'\n",
    "]"
   ]
  },
  {
   "cell_type": "code",
   "execution_count": 78,
   "metadata": {},
   "outputs": [
    {
     "data": {
      "text/plain": [
       "internal_reschedules        -0.238436\n",
       "customer_reschedules        -0.195289\n",
       "rated_orders_ratio          -0.185831\n",
       "bad_experience_some         -0.157195\n",
       "rated_orders                -0.133774\n",
       "last_order_voucher          -0.101461\n",
       "avg_rating                  -0.083199\n",
       "bad_experience_last         -0.080134\n",
       "referred                    -0.075168\n",
       "last_order_rescheduled      -0.070750\n",
       "last_order_rating           -0.070083\n",
       "cluster                     -0.067676\n",
       "pickup_early_morning        -0.065900\n",
       "unpunctual_orders           -0.060197\n",
       "pickup_wednesday            -0.059579\n",
       "late_orders                 -0.052706\n",
       "reclean_ratio               -0.048286\n",
       "reclean_orders              -0.046424\n",
       "last_order_revenue          -0.039853\n",
       "unpunctual_ratio            -0.037217\n",
       "early_orders                -0.036341\n",
       "pickup_evening              -0.035524\n",
       "aov                         -0.031202\n",
       "rating_diff                 -0.030902\n",
       "punctual                    -0.025568\n",
       "pickup_monday               -0.019759\n",
       "refunds_success             -0.017424\n",
       "last_order_refund_request   -0.015387\n",
       "last_order_revenue_diff     -0.004320\n",
       "last_reclean_order          -0.002788\n",
       "pickup_after_noon            0.015412\n",
       "pickup_tuesday               0.029196\n",
       "pickup_thursday              0.031848\n",
       "pickup_friday                0.038514\n",
       "vouchers_revenue_ratio       0.046421\n",
       "pickup_before_noon           0.120206\n",
       "churned                      1.000000\n",
       "refunds_unsuccess                 NaN\n",
       "Name: churned, dtype: float64"
      ]
     },
     "execution_count": 78,
     "metadata": {},
     "output_type": "execute_result"
    }
   ],
   "source": [
    "df18[keep_cols + ['churned']].corr()['churned'].sort_values()"
   ]
  },
  {
   "cell_type": "code",
   "execution_count": 33,
   "metadata": {},
   "outputs": [],
   "source": [
    "X_df = df18.copy()[keep_cols]"
   ]
  },
  {
   "cell_type": "code",
   "execution_count": 34,
   "metadata": {},
   "outputs": [],
   "source": [
    "X_df = X_df.fillna(-999)"
   ]
  },
  {
   "cell_type": "code",
   "execution_count": 35,
   "metadata": {},
   "outputs": [
    {
     "name": "stdout",
     "output_type": "stream",
     "text": [
      "last_order_state\n",
      "canceled     0.060524\n",
      "completed    0.939476\n",
      "dtype: float64\n",
      "\n",
      "last_order_service_class\n",
      "PERSIL                  0.002599\n",
      "CLASSIC                 0.006525\n",
      "EXPRESS                 0.077817\n",
      "Before Service Class    0.145343\n",
      "PLUS                    0.320921\n",
      "LITE                    0.446796\n",
      "dtype: float64\n",
      "\n",
      "last_order_software_type\n",
      "-999           0.003289\n",
      "Mobile Web     0.029015\n",
      "Android        0.126565\n",
      "Desktop Web    0.182474\n",
      "iOS            0.658657\n",
      "dtype: float64\n",
      "\n",
      "last_order_voucher_channel\n",
      "SEO               0.000053\n",
      "Out of Home       0.000053\n",
      "Refer a friend    0.000106\n",
      "Other             0.000106\n",
      "PR                0.000159\n",
      "Corporate         0.000265\n",
      "Affiliate         0.000318\n",
      "Social Media      0.000424\n",
      "Twitter           0.000583\n",
      "SEM               0.001114\n",
      "Facebook          0.001591\n",
      "Flyering          0.002334\n",
      "Flash Sales       0.004668\n",
      "Internal          0.004827\n",
      "Cooperations      0.005729\n",
      "CC                0.047740\n",
      "CRM-Journey       0.049597\n",
      "CRM-Campaign      0.131657\n",
      "none              0.748674\n",
      "dtype: float64\n",
      "\n",
      "cluster_name\n",
      "Jackets+Coats                 0.038457\n",
      "Dress+Blouse+Skirt+Top        0.061267\n",
      "Household                     0.064980\n",
      "Suit                          0.067632\n",
      "WashFold                      0.095852\n",
      "Shirt+Trousers                0.103119\n",
      "Shirt                         0.110439\n",
      "Shirt+Trousers+Suit+Blazer    0.130384\n",
      "Mix                           0.132294\n",
      "Suit+Shirt                    0.195576\n",
      "dtype: float64\n",
      "\n"
     ]
    }
   ],
   "source": [
    "for col in X_df.select_dtypes(include=['object']):\n",
    "#     lab_enc = LabelEncoder()\n",
    "#     lab_enc.fit(X_df[col])\n",
    "#     X_df[col + '_enc'] = lab_enc.transform(X_df[col].tolist())\n",
    "#     print(lab_enc.classes_)\n",
    "#     print(lab_enc.transform(lab_enc.classes_) )\n",
    "\n",
    "    enc = X_df.groupby(col).size()\n",
    "    enc = enc/len(X_df)\n",
    "    X_df[col + '_enc'] = X_df[col].map(enc)\n",
    "    print(enc.sort_values())\n",
    "    print()\n",
    "    \n",
    "    keep_cols[keep_cols.index(col)] = col + '_enc'"
   ]
  },
  {
   "cell_type": "code",
   "execution_count": 36,
   "metadata": {},
   "outputs": [],
   "source": [
    "y_df = df18.churned"
   ]
  },
  {
   "cell_type": "markdown",
   "metadata": {},
   "source": [
    "# Random Forest"
   ]
  },
  {
   "cell_type": "code",
   "execution_count": 37,
   "metadata": {},
   "outputs": [],
   "source": [
    "from sklearn.ensemble import RandomForestRegressor, RandomForestClassifier, ExtraTreesClassifier\n",
    "from sklearn.model_selection import train_test_split\n",
    "from sklearn.model_selection import cross_val_score"
   ]
  },
  {
   "cell_type": "markdown",
   "metadata": {},
   "source": [
    "## Split train/test"
   ]
  },
  {
   "cell_type": "code",
   "execution_count": 38,
   "metadata": {},
   "outputs": [],
   "source": [
    "X_train, X_test, y_train, y_test = train_test_split(X_df[keep_cols], y_df, test_size=0.1, random_state=0)"
   ]
  },
  {
   "cell_type": "code",
   "execution_count": 39,
   "metadata": {},
   "outputs": [
    {
     "name": "stdout",
     "output_type": "stream",
     "text": [
      "X_train (16966, 14)\n",
      "X_test (1886, 14)\n",
      "y_train (16966,)\n",
      "y_test (1886,)\n"
     ]
    }
   ],
   "source": [
    "print('X_train', X_train.shape)\n",
    "print('X_test', X_test.shape)\n",
    "print('y_train', y_train.shape)\n",
    "print('y_test', y_test.shape)"
   ]
  },
  {
   "cell_type": "code",
   "execution_count": 40,
   "metadata": {},
   "outputs": [
    {
     "data": {
      "text/plain": [
       "True     0.61582\n",
       "False    0.38418\n",
       "Name: churned, dtype: float64"
      ]
     },
     "execution_count": 40,
     "metadata": {},
     "output_type": "execute_result"
    }
   ],
   "source": [
    "y_train.value_counts() / len(y_train)"
   ]
  },
  {
   "cell_type": "code",
   "execution_count": 41,
   "metadata": {},
   "outputs": [
    {
     "data": {
      "text/plain": [
       "True     0.623542\n",
       "False    0.376458\n",
       "Name: churned, dtype: float64"
      ]
     },
     "execution_count": 41,
     "metadata": {},
     "output_type": "execute_result"
    }
   ],
   "source": [
    "y_test.value_counts() / len(y_test)"
   ]
  },
  {
   "cell_type": "markdown",
   "metadata": {},
   "source": [
    "# XGBoost"
   ]
  },
  {
   "cell_type": "code",
   "execution_count": 42,
   "metadata": {},
   "outputs": [],
   "source": [
    "from xgboost import XGBClassifier\n",
    "from sklearn.model_selection import cross_val_score\n",
    "from sklearn.metrics import f1_score\n",
    "from sklearn import tree\n",
    "from xgboost import to_graphviz"
   ]
  },
  {
   "cell_type": "code",
   "execution_count": 43,
   "metadata": {},
   "outputs": [
    {
     "data": {
      "text/plain": [
       "XGBClassifier(base_score=0.5, booster='gbtree', colsample_bylevel=1,\n",
       "       colsample_bytree=1, gamma=0, learning_rate=0.1, max_delta_step=0,\n",
       "       max_depth=4, min_child_weight=1, missing=None, n_estimators=50,\n",
       "       n_jobs=1, nthread=None, objective='binary:logistic', random_state=0,\n",
       "       reg_alpha=0, reg_lambda=1, scale_pos_weight=1, seed=None,\n",
       "       silent=True, subsample=1)"
      ]
     },
     "execution_count": 43,
     "metadata": {},
     "output_type": "execute_result"
    }
   ],
   "source": [
    "xgb = XGBClassifier(max_depth=4, n_estimators=50)\n",
    "xgb.fit(X_train, y_train, eval_metric=f1_score, verbose=True)"
   ]
  },
  {
   "cell_type": "code",
   "execution_count": 44,
   "metadata": {},
   "outputs": [
    {
     "data": {
      "text/plain": [
       "0.672322375397667"
      ]
     },
     "execution_count": 44,
     "metadata": {},
     "output_type": "execute_result"
    }
   ],
   "source": [
    "xgb.score(X_test, y_test)"
   ]
  },
  {
   "cell_type": "code",
   "execution_count": 45,
   "metadata": {},
   "outputs": [
    {
     "data": {
      "text/html": [
       "<div>\n",
       "<style scoped>\n",
       "    .dataframe tbody tr th:only-of-type {\n",
       "        vertical-align: middle;\n",
       "    }\n",
       "\n",
       "    .dataframe tbody tr th {\n",
       "        vertical-align: top;\n",
       "    }\n",
       "\n",
       "    .dataframe thead th {\n",
       "        text-align: right;\n",
       "    }\n",
       "</style>\n",
       "<table border=\"1\" class=\"dataframe\">\n",
       "  <thead>\n",
       "    <tr style=\"text-align: right;\">\n",
       "      <th></th>\n",
       "      <th>0</th>\n",
       "    </tr>\n",
       "  </thead>\n",
       "  <tbody>\n",
       "    <tr>\n",
       "      <th>last_order_state_enc</th>\n",
       "      <td>0.005626</td>\n",
       "    </tr>\n",
       "    <tr>\n",
       "      <th>last_order_service_class_enc</th>\n",
       "      <td>0.167370</td>\n",
       "    </tr>\n",
       "    <tr>\n",
       "      <th>last_order_software_type_enc</th>\n",
       "      <td>0.071730</td>\n",
       "    </tr>\n",
       "    <tr>\n",
       "      <th>last_order_voucher_channel_enc</th>\n",
       "      <td>0.165963</td>\n",
       "    </tr>\n",
       "    <tr>\n",
       "      <th>last_order_voucher</th>\n",
       "      <td>0.000000</td>\n",
       "    </tr>\n",
       "    <tr>\n",
       "      <th>last_order_revenue</th>\n",
       "      <td>0.225035</td>\n",
       "    </tr>\n",
       "    <tr>\n",
       "      <th>last_order_revenue_diff</th>\n",
       "      <td>0.102672</td>\n",
       "    </tr>\n",
       "    <tr>\n",
       "      <th>last_reclean_order</th>\n",
       "      <td>0.007032</td>\n",
       "    </tr>\n",
       "    <tr>\n",
       "      <th>last_order_rescheduled</th>\n",
       "      <td>0.015471</td>\n",
       "    </tr>\n",
       "    <tr>\n",
       "      <th>last_order_rating</th>\n",
       "      <td>0.047820</td>\n",
       "    </tr>\n",
       "    <tr>\n",
       "      <th>last_order_refund_request</th>\n",
       "      <td>0.005626</td>\n",
       "    </tr>\n",
       "    <tr>\n",
       "      <th>punctual</th>\n",
       "      <td>0.030942</td>\n",
       "    </tr>\n",
       "    <tr>\n",
       "      <th>cluster_name_enc</th>\n",
       "      <td>0.120956</td>\n",
       "    </tr>\n",
       "    <tr>\n",
       "      <th>bad_experience_last</th>\n",
       "      <td>0.033755</td>\n",
       "    </tr>\n",
       "  </tbody>\n",
       "</table>\n",
       "</div>"
      ],
      "text/plain": [
       "                                       0\n",
       "last_order_state_enc            0.005626\n",
       "last_order_service_class_enc    0.167370\n",
       "last_order_software_type_enc    0.071730\n",
       "last_order_voucher_channel_enc  0.165963\n",
       "last_order_voucher              0.000000\n",
       "last_order_revenue              0.225035\n",
       "last_order_revenue_diff         0.102672\n",
       "last_reclean_order              0.007032\n",
       "last_order_rescheduled          0.015471\n",
       "last_order_rating               0.047820\n",
       "last_order_refund_request       0.005626\n",
       "punctual                        0.030942\n",
       "cluster_name_enc                0.120956\n",
       "bad_experience_last             0.033755"
      ]
     },
     "execution_count": 45,
     "metadata": {},
     "output_type": "execute_result"
    }
   ],
   "source": [
    "pd.DataFrame(data=xgb.feature_importances_, index=keep_cols)"
   ]
  },
  {
   "cell_type": "code",
   "execution_count": 46,
   "metadata": {},
   "outputs": [
    {
     "data": {
      "text/plain": [
       "'tree.png'"
      ]
     },
     "execution_count": 46,
     "metadata": {},
     "output_type": "execute_result"
    }
   ],
   "source": [
    "dot = to_graphviz(xgb, num_trees=1)\n",
    "dot.format = 'png'\n",
    "dot.render(\"tree\")"
   ]
  },
  {
   "cell_type": "markdown",
   "metadata": {},
   "source": [
    "# Logistic Regression"
   ]
  },
  {
   "cell_type": "code",
   "execution_count": 47,
   "metadata": {},
   "outputs": [],
   "source": [
    "from sklearn.linear_model import LogisticRegression"
   ]
  },
  {
   "cell_type": "code",
   "execution_count": 48,
   "metadata": {},
   "outputs": [],
   "source": [
    "from sklearn.preprocessing import StandardScaler"
   ]
  },
  {
   "cell_type": "code",
   "execution_count": 49,
   "metadata": {},
   "outputs": [],
   "source": [
    "lr = LogisticRegression(max_iter=10)"
   ]
  },
  {
   "cell_type": "code",
   "execution_count": 50,
   "metadata": {},
   "outputs": [],
   "source": [
    "X_train_s = StandardScaler().fit_transform(X_train)\n",
    "X_test_s = StandardScaler().fit_transform(X_test)"
   ]
  },
  {
   "cell_type": "code",
   "execution_count": 51,
   "metadata": {},
   "outputs": [
    {
     "data": {
      "text/plain": [
       "LogisticRegression(C=1.0, class_weight=None, dual=False, fit_intercept=True,\n",
       "          intercept_scaling=1, max_iter=10, multi_class='ovr', n_jobs=1,\n",
       "          penalty='l2', random_state=None, solver='liblinear', tol=0.0001,\n",
       "          verbose=0, warm_start=False)"
      ]
     },
     "execution_count": 51,
     "metadata": {},
     "output_type": "execute_result"
    }
   ],
   "source": [
    "lr.fit(X_train_s, y_train)"
   ]
  },
  {
   "cell_type": "code",
   "execution_count": 52,
   "metadata": {},
   "outputs": [
    {
     "data": {
      "text/plain": [
       "0.7624954396205764"
      ]
     },
     "execution_count": 52,
     "metadata": {},
     "output_type": "execute_result"
    }
   ],
   "source": [
    "f1_score(y_test, lr.predict(X_test_s))"
   ]
  },
  {
   "cell_type": "markdown",
   "metadata": {},
   "source": [
    "# SVM"
   ]
  },
  {
   "cell_type": "code",
   "execution_count": 53,
   "metadata": {},
   "outputs": [],
   "source": [
    "from sklearn import svm"
   ]
  },
  {
   "cell_type": "code",
   "execution_count": 54,
   "metadata": {},
   "outputs": [],
   "source": [
    "s = svm.SVC()"
   ]
  },
  {
   "cell_type": "code",
   "execution_count": 55,
   "metadata": {},
   "outputs": [
    {
     "data": {
      "text/plain": [
       "SVC(C=1.0, cache_size=200, class_weight=None, coef0=0.0,\n",
       "  decision_function_shape='ovr', degree=3, gamma='auto', kernel='rbf',\n",
       "  max_iter=-1, probability=False, random_state=None, shrinking=True,\n",
       "  tol=0.001, verbose=False)"
      ]
     },
     "execution_count": 55,
     "metadata": {},
     "output_type": "execute_result"
    }
   ],
   "source": [
    "s.fit(X_train_s, y_train)"
   ]
  },
  {
   "cell_type": "code",
   "execution_count": 56,
   "metadata": {},
   "outputs": [
    {
     "data": {
      "text/plain": [
       "0.7548313755210307"
      ]
     },
     "execution_count": 56,
     "metadata": {},
     "output_type": "execute_result"
    }
   ],
   "source": [
    "f1_score(y_test, s.predict(X_test_s))"
   ]
  },
  {
   "cell_type": "markdown",
   "metadata": {},
   "source": [
    "# Decision Tree"
   ]
  },
  {
   "cell_type": "code",
   "execution_count": 57,
   "metadata": {},
   "outputs": [],
   "source": [
    "from sklearn.tree import DecisionTreeClassifier"
   ]
  },
  {
   "cell_type": "code",
   "execution_count": 58,
   "metadata": {},
   "outputs": [],
   "source": [
    "dt = DecisionTreeClassifier(max_depth=6)"
   ]
  },
  {
   "cell_type": "code",
   "execution_count": 59,
   "metadata": {},
   "outputs": [
    {
     "data": {
      "text/plain": [
       "DecisionTreeClassifier(class_weight=None, criterion='gini', max_depth=6,\n",
       "            max_features=None, max_leaf_nodes=None,\n",
       "            min_impurity_decrease=0.0, min_impurity_split=None,\n",
       "            min_samples_leaf=1, min_samples_split=2,\n",
       "            min_weight_fraction_leaf=0.0, presort=False, random_state=None,\n",
       "            splitter='best')"
      ]
     },
     "execution_count": 59,
     "metadata": {},
     "output_type": "execute_result"
    }
   ],
   "source": [
    "dt.fit(X_train, y_train)"
   ]
  },
  {
   "cell_type": "code",
   "execution_count": 60,
   "metadata": {},
   "outputs": [
    {
     "data": {
      "text/plain": [
       "0.7613200306983884"
      ]
     },
     "execution_count": 60,
     "metadata": {},
     "output_type": "execute_result"
    }
   ],
   "source": [
    "f1_score(y_test, dt.predict(X_test))"
   ]
  },
  {
   "cell_type": "code",
   "execution_count": 61,
   "metadata": {},
   "outputs": [],
   "source": [
    "tree.export_graphviz(dt, 'tree_dt.dot', feature_names=keep_cols, class_names=['not churned', 'churned'])"
   ]
  },
  {
   "cell_type": "code",
   "execution_count": null,
   "metadata": {},
   "outputs": [],
   "source": []
  }
 ],
 "metadata": {
  "kernelspec": {
   "display_name": "Python 3",
   "language": "python",
   "name": "python3"
  },
  "language_info": {
   "codemirror_mode": {
    "name": "ipython",
    "version": 3
   },
   "file_extension": ".py",
   "mimetype": "text/x-python",
   "name": "python",
   "nbconvert_exporter": "python",
   "pygments_lexer": "ipython3",
   "version": "3.6.5"
  }
 },
 "nbformat": 4,
 "nbformat_minor": 2
}
