{
 "cells": [
  {
   "cell_type": "code",
   "execution_count": 1,
   "metadata": {},
   "outputs": [],
   "source": [
    "import pandas as pd\n",
    "import matplotlib.pyplot as plt\n",
    "import seaborn as sns\n",
    "from datetime import datetime\n",
    "import glob\n",
    "from sklearn import metrics\n",
    "import numpy as np\n",
    "from sklearn.preprocessing import LabelEncoder\n",
    "\n",
    "%matplotlib inline\n",
    "plt.style.use('ggplot')\n",
    "\n",
    "import warnings\n",
    "warnings.filterwarnings(\"ignore\")"
   ]
  },
  {
   "cell_type": "code",
   "execution_count": 2,
   "metadata": {},
   "outputs": [],
   "source": [
    "df_ord_orig = pd.read_csv('../data/order_churn_data.csv')\n",
    "df_cus_orig = pd.read_csv('../data/churn_dataset.csv')"
   ]
  },
  {
   "cell_type": "code",
   "execution_count": 3,
   "metadata": {
    "scrolled": true
   },
   "outputs": [
    {
     "name": "stdout",
     "output_type": "stream",
     "text": [
      "33304 / 68891\n"
     ]
    }
   ],
   "source": [
    "# limit dataset to customers who came after 2017\n",
    "cust_ids = df_cus_orig.loc[(df_cus_orig.first_order_created_datetime >= \"2017-01-01\")\n",
    "                          & (df_cus_orig.last_order_created_datetime <= \"2018-09-30\")].customer_db_id\n",
    "print(len(cust_ids), '/',  len(df_cus_orig))"
   ]
  },
  {
   "cell_type": "code",
   "execution_count": 4,
   "metadata": {},
   "outputs": [],
   "source": [
    "df_ord = df_ord_orig.loc[df_ord_orig.customer_db_id.isin(cust_ids)]\n",
    "df_cus = df_cus_orig.loc[df_cus_orig.customer_db_id.isin(cust_ids)]\n",
    "df_ord = df_ord.merge(df_cus[['customer_db_id', 'customer_id', 'completed_orders', 'last_order_created_datetime']], \n",
    "                      on=['customer_db_id', 'customer_id'], how='inner')"
   ]
  },
  {
   "cell_type": "code",
   "execution_count": 5,
   "metadata": {},
   "outputs": [],
   "source": [
    "df_items = pd.read_csv('../data/input/items.csv')\n",
    "df_items = df_items.groupby('order_id').agg({'quantity': 'sum', 'product_id': 'nunique'}).reset_index()\n",
    "df_items = df_items.rename(columns={'product_id': 'num_products'})\n",
    "df_ord = df_ord.merge(df_items, on=['order_id'], how='left')"
   ]
  },
  {
   "cell_type": "code",
   "execution_count": 6,
   "metadata": {},
   "outputs": [],
   "source": [
    "df_braze = pd.read_csv('../data/braze_customers.csv')\n",
    "df_braze = df_braze[['customer_id', 'email_subscribe', 'push_subscribe']]\n",
    "df_braze.email_subscribe = df_braze.email_subscribe.isin(['subscribed', 'opted_in'])\n",
    "df_braze.push_subscribe = df_braze.push_subscribe.isin(['subscribed', 'opted_in'])\n",
    "\n",
    "df_ord = df_ord.merge(df_braze, on='customer_id', how='left')\n",
    "df_ord.email_subscribe = df_ord.email_subscribe.fillna(False)\n",
    "df_ord.push_subscribe = df_ord.push_subscribe.fillna(False)"
   ]
  },
  {
   "cell_type": "code",
   "execution_count": 7,
   "metadata": {},
   "outputs": [],
   "source": [
    "df_ord['days_since_last_seen'] = (datetime(2018,9,30) - pd.to_datetime(df_ord.last_order_created_datetime)).dt.days\n",
    "df_ord.order_created_datetime = pd.to_datetime(df_ord.order_created_datetime)\n",
    "df_ord['order_day'] = (df_ord.order_created_datetime - datetime(2017, 1, 1)).dt.days\n",
    "df_ord['order_weekday'] = (df_ord.order_created_datetime).dt.weekday\n",
    "df_ord['order_month'] = (df_ord.order_created_datetime).dt.month"
   ]
  },
  {
   "cell_type": "code",
   "execution_count": 8,
   "metadata": {},
   "outputs": [],
   "source": [
    "df_ord = df_ord.drop_duplicates()"
   ]
  },
  {
   "cell_type": "code",
   "execution_count": 9,
   "metadata": {},
   "outputs": [
    {
     "data": {
      "text/plain": [
       "637"
      ]
     },
     "execution_count": 9,
     "metadata": {},
     "output_type": "execute_result"
    }
   ],
   "source": [
    "last_day = (datetime(2018,9,30) - datetime(2017,1,1)).days\n",
    "last_day"
   ]
  },
  {
   "cell_type": "code",
   "execution_count": 10,
   "metadata": {},
   "outputs": [
    {
     "data": {
      "text/html": [
       "<div>\n",
       "<style scoped>\n",
       "    .dataframe tbody tr th:only-of-type {\n",
       "        vertical-align: middle;\n",
       "    }\n",
       "\n",
       "    .dataframe tbody tr th {\n",
       "        vertical-align: top;\n",
       "    }\n",
       "\n",
       "    .dataframe thead th {\n",
       "        text-align: right;\n",
       "    }\n",
       "</style>\n",
       "<table border=\"1\" class=\"dataframe\">\n",
       "  <thead>\n",
       "    <tr style=\"text-align: right;\">\n",
       "      <th></th>\n",
       "      <th>order_id</th>\n",
       "      <th>customer_db_id</th>\n",
       "      <th>order_db_id</th>\n",
       "      <th>order_x</th>\n",
       "      <th>order_y</th>\n",
       "      <th>pickup_timeslot_from_datetime</th>\n",
       "      <th>pickup_timeslot_to_datetime</th>\n",
       "      <th>pickup_zip</th>\n",
       "      <th>order_state</th>\n",
       "      <th>order_created_datetime</th>\n",
       "      <th>...</th>\n",
       "      <th>completed_orders</th>\n",
       "      <th>last_order_created_datetime</th>\n",
       "      <th>quantity</th>\n",
       "      <th>num_products</th>\n",
       "      <th>email_subscribe</th>\n",
       "      <th>push_subscribe</th>\n",
       "      <th>days_since_last_seen</th>\n",
       "      <th>order_day</th>\n",
       "      <th>order_weekday</th>\n",
       "      <th>order_month</th>\n",
       "    </tr>\n",
       "  </thead>\n",
       "  <tbody>\n",
       "    <tr>\n",
       "      <th>0</th>\n",
       "      <td>DE-A-00061</td>\n",
       "      <td>5a1ee6e144770903118b466f</td>\n",
       "      <td>5b69531a19207a30fd59e8af</td>\n",
       "      <td>52.491111</td>\n",
       "      <td>13.429692</td>\n",
       "      <td>2018-08-08 09:00:00</td>\n",
       "      <td>2018-08-08 10:00:00</td>\n",
       "      <td>12047</td>\n",
       "      <td>completed</td>\n",
       "      <td>2018-08-07 10:06:50</td>\n",
       "      <td>...</td>\n",
       "      <td>21</td>\n",
       "      <td>2018-09-26 10:18:16</td>\n",
       "      <td>1.0</td>\n",
       "      <td>1.0</td>\n",
       "      <td>True</td>\n",
       "      <td>True</td>\n",
       "      <td>3</td>\n",
       "      <td>583</td>\n",
       "      <td>1</td>\n",
       "      <td>8</td>\n",
       "    </tr>\n",
       "    <tr>\n",
       "      <th>1</th>\n",
       "      <td>DE-B-20696</td>\n",
       "      <td>5a1ee6e144770903118b466f</td>\n",
       "      <td>5abe2737467709f94e8b4695</td>\n",
       "      <td>52.491111</td>\n",
       "      <td>13.429692</td>\n",
       "      <td>2018-04-04 06:00:00</td>\n",
       "      <td>2018-04-04 07:00:00</td>\n",
       "      <td>12047</td>\n",
       "      <td>completed</td>\n",
       "      <td>2018-03-30 14:01:59</td>\n",
       "      <td>...</td>\n",
       "      <td>21</td>\n",
       "      <td>2018-09-26 10:18:16</td>\n",
       "      <td>2.0</td>\n",
       "      <td>1.0</td>\n",
       "      <td>True</td>\n",
       "      <td>True</td>\n",
       "      <td>3</td>\n",
       "      <td>453</td>\n",
       "      <td>4</td>\n",
       "      <td>3</td>\n",
       "    </tr>\n",
       "    <tr>\n",
       "      <th>2</th>\n",
       "      <td>DE-B-72139</td>\n",
       "      <td>5a1ee6e144770903118b466f</td>\n",
       "      <td>5b8a56d5ee1b6a373e38f39c</td>\n",
       "      <td>52.491111</td>\n",
       "      <td>13.429692</td>\n",
       "      <td>2018-09-03 10:00:00</td>\n",
       "      <td>2018-09-03 11:00:00</td>\n",
       "      <td>12047</td>\n",
       "      <td>completed</td>\n",
       "      <td>2018-09-01 11:07:33</td>\n",
       "      <td>...</td>\n",
       "      <td>21</td>\n",
       "      <td>2018-09-26 10:18:16</td>\n",
       "      <td>1.0</td>\n",
       "      <td>1.0</td>\n",
       "      <td>True</td>\n",
       "      <td>True</td>\n",
       "      <td>3</td>\n",
       "      <td>608</td>\n",
       "      <td>5</td>\n",
       "      <td>9</td>\n",
       "    </tr>\n",
       "    <tr>\n",
       "      <th>3</th>\n",
       "      <td>DE-B-87918</td>\n",
       "      <td>5a1ee6e144770903118b466f</td>\n",
       "      <td>5afc6c33c3436275d6724815</td>\n",
       "      <td>52.491111</td>\n",
       "      <td>13.429692</td>\n",
       "      <td>2018-05-22 07:00:00</td>\n",
       "      <td>2018-05-22 08:00:00</td>\n",
       "      <td>12047</td>\n",
       "      <td>completed</td>\n",
       "      <td>2018-05-16 19:36:51</td>\n",
       "      <td>...</td>\n",
       "      <td>21</td>\n",
       "      <td>2018-09-26 10:18:16</td>\n",
       "      <td>3.0</td>\n",
       "      <td>1.0</td>\n",
       "      <td>True</td>\n",
       "      <td>True</td>\n",
       "      <td>3</td>\n",
       "      <td>500</td>\n",
       "      <td>2</td>\n",
       "      <td>5</td>\n",
       "    </tr>\n",
       "    <tr>\n",
       "      <th>4</th>\n",
       "      <td>DE-C-27253</td>\n",
       "      <td>5a1ee6e144770903118b466f</td>\n",
       "      <td>5b20cb79ee1b6a090e115c25</td>\n",
       "      <td>52.491111</td>\n",
       "      <td>13.429692</td>\n",
       "      <td>2018-06-16 12:00:00</td>\n",
       "      <td>2018-06-16 13:00:00</td>\n",
       "      <td>12047</td>\n",
       "      <td>completed</td>\n",
       "      <td>2018-06-13 09:44:57</td>\n",
       "      <td>...</td>\n",
       "      <td>21</td>\n",
       "      <td>2018-09-26 10:18:16</td>\n",
       "      <td>1.0</td>\n",
       "      <td>1.0</td>\n",
       "      <td>True</td>\n",
       "      <td>True</td>\n",
       "      <td>3</td>\n",
       "      <td>528</td>\n",
       "      <td>2</td>\n",
       "      <td>6</td>\n",
       "    </tr>\n",
       "  </tbody>\n",
       "</table>\n",
       "<p>5 rows × 80 columns</p>\n",
       "</div>"
      ],
      "text/plain": [
       "     order_id            customer_db_id               order_db_id    order_x  \\\n",
       "0  DE-A-00061  5a1ee6e144770903118b466f  5b69531a19207a30fd59e8af  52.491111   \n",
       "1  DE-B-20696  5a1ee6e144770903118b466f  5abe2737467709f94e8b4695  52.491111   \n",
       "2  DE-B-72139  5a1ee6e144770903118b466f  5b8a56d5ee1b6a373e38f39c  52.491111   \n",
       "3  DE-B-87918  5a1ee6e144770903118b466f  5afc6c33c3436275d6724815  52.491111   \n",
       "4  DE-C-27253  5a1ee6e144770903118b466f  5b20cb79ee1b6a090e115c25  52.491111   \n",
       "\n",
       "     order_y pickup_timeslot_from_datetime pickup_timeslot_to_datetime  \\\n",
       "0  13.429692           2018-08-08 09:00:00         2018-08-08 10:00:00   \n",
       "1  13.429692           2018-04-04 06:00:00         2018-04-04 07:00:00   \n",
       "2  13.429692           2018-09-03 10:00:00         2018-09-03 11:00:00   \n",
       "3  13.429692           2018-05-22 07:00:00         2018-05-22 08:00:00   \n",
       "4  13.429692           2018-06-16 12:00:00         2018-06-16 13:00:00   \n",
       "\n",
       "  pickup_zip order_state order_created_datetime     ...      completed_orders  \\\n",
       "0      12047   completed    2018-08-07 10:06:50     ...                    21   \n",
       "1      12047   completed    2018-03-30 14:01:59     ...                    21   \n",
       "2      12047   completed    2018-09-01 11:07:33     ...                    21   \n",
       "3      12047   completed    2018-05-16 19:36:51     ...                    21   \n",
       "4      12047   completed    2018-06-13 09:44:57     ...                    21   \n",
       "\n",
       "  last_order_created_datetime quantity num_products email_subscribe  \\\n",
       "0         2018-09-26 10:18:16      1.0          1.0            True   \n",
       "1         2018-09-26 10:18:16      2.0          1.0            True   \n",
       "2         2018-09-26 10:18:16      1.0          1.0            True   \n",
       "3         2018-09-26 10:18:16      3.0          1.0            True   \n",
       "4         2018-09-26 10:18:16      1.0          1.0            True   \n",
       "\n",
       "  push_subscribe days_since_last_seen order_day order_weekday  order_month  \n",
       "0           True                    3       583             1            8  \n",
       "1           True                    3       453             4            3  \n",
       "2           True                    3       608             5            9  \n",
       "3           True                    3       500             2            5  \n",
       "4           True                    3       528             2            6  \n",
       "\n",
       "[5 rows x 80 columns]"
      ]
     },
     "execution_count": 10,
     "metadata": {},
     "output_type": "execute_result"
    }
   ],
   "source": [
    "df_ord.head()"
   ]
  },
  {
   "cell_type": "code",
   "execution_count": 11,
   "metadata": {
    "scrolled": true
   },
   "outputs": [
    {
     "data": {
      "text/plain": [
       "['activity_state',\n",
       " 'aov',\n",
       " 'churn_factor',\n",
       " 'city',\n",
       " 'cluster',\n",
       " 'cluster_name',\n",
       " 'completed_orders',\n",
       " 'corporate',\n",
       " 'customer_db_id',\n",
       " 'customer_id',\n",
       " 'customer_rescheduled',\n",
       " 'days_since_last_order',\n",
       " 'days_since_last_seen',\n",
       " 'days_until_next_order',\n",
       " 'delay_mins_DO',\n",
       " 'delay_mins_PU',\n",
       " 'driver_db_id_DO',\n",
       " 'driver_db_id_PU',\n",
       " 'email',\n",
       " 'email_subscribe',\n",
       " 'fac_name',\n",
       " 'final_click_channel',\n",
       " 'final_click_no_voucher',\n",
       " 'frequency',\n",
       " 'gender',\n",
       " 'internal_rescheduled',\n",
       " 'last_order',\n",
       " 'last_order_created_datetime',\n",
       " 'newsletter_optin',\n",
       " 'num_customer_reschedules',\n",
       " 'num_internal_reschedules',\n",
       " 'num_orders',\n",
       " 'num_products',\n",
       " 'order_created_datetime',\n",
       " 'order_day',\n",
       " 'order_db_id',\n",
       " 'order_id',\n",
       " 'order_month',\n",
       " 'order_num',\n",
       " 'order_state',\n",
       " 'order_weekday',\n",
       " 'order_x',\n",
       " 'order_y',\n",
       " 'origin',\n",
       " 'pickup_timeslot_from_datetime',\n",
       " 'pickup_timeslot_to_datetime',\n",
       " 'pickup_zip',\n",
       " 'product_DC',\n",
       " 'product_HH',\n",
       " 'product_LA',\n",
       " 'product_WF',\n",
       " 'product_combinations',\n",
       " 'product_type',\n",
       " 'punctual_5min_DO',\n",
       " 'punctual_5min_PU',\n",
       " 'punctual_order',\n",
       " 'push_subscribe',\n",
       " 'quantity',\n",
       " 'rating',\n",
       " 'rating_cleaning_quality',\n",
       " 'rating_damaged_item',\n",
       " 'rating_driver_conduct',\n",
       " 'rating_ironing_quality',\n",
       " 'rating_missing_items',\n",
       " 'rating_punctuality',\n",
       " 'recency',\n",
       " 'reclean_order',\n",
       " 'referred',\n",
       " 'refund_approved',\n",
       " 'refund_liability',\n",
       " 'refund_request',\n",
       " 'refund_type',\n",
       " 'revenue',\n",
       " 'segment',\n",
       " 'service_class',\n",
       " 'software_type',\n",
       " 'voucher_channel',\n",
       " 'voucher_revenue_ratio',\n",
       " 'voucher_used',\n",
       " 'voucher_value']"
      ]
     },
     "execution_count": 11,
     "metadata": {},
     "output_type": "execute_result"
    }
   ],
   "source": [
    "sorted(df_ord.columns)"
   ]
  },
  {
   "cell_type": "markdown",
   "metadata": {},
   "source": [
    "### Completed Dataset"
   ]
  },
  {
   "cell_type": "code",
   "execution_count": 12,
   "metadata": {},
   "outputs": [],
   "source": [
    "# only completed orders\n",
    "df_comp = df_ord.loc[(df_ord.order_state == \"completed\") & (df_ord.completed_orders > 0)]\n",
    "df_comp = df_comp.sort_values(['customer_db_id', 'order_created_datetime'])\n",
    "df_comp['order_created_datetime'] = pd.to_datetime(df_comp.order_created_datetime)\n",
    "\n",
    "# completed orders\n",
    "df_comp['completed_orders'] = df_comp.groupby(['customer_db_id']).transform('count')\n",
    "df_comp['order_comp_num'] = df_comp.groupby(['customer_db_id']).cumcount()\n",
    "df_comp['next_order_date'] = df_comp.groupby('customer_db_id')['order_created_datetime'].shift(-1)\n",
    "df_comp['last_order_date'] = df_comp.groupby('customer_db_id')['order_created_datetime'].shift(1)\n",
    "df_comp['days_until_next_comp'] = (df_comp.next_order_date - df_comp.order_created_datetime).dt.days\n",
    "df_comp['days_since_last_comp'] = (df_comp.order_created_datetime - df_comp.last_order_date).dt.days\n",
    "df_comp['weeks_until_next_comp'] = df_comp.days_until_next_comp // 7\n",
    "\n",
    "df_comp = df_comp.drop(['next_order_date', 'last_order_date'], axis=1)"
   ]
  },
  {
   "cell_type": "code",
   "execution_count": 13,
   "metadata": {},
   "outputs": [],
   "source": [
    "df_comp['first_completed_order'] = df_comp.groupby(['customer_db_id'])['order_created_datetime'].transform('min')\n",
    "df_comp['last_completed_order'] = df_comp.groupby(['customer_db_id'])['order_created_datetime'].transform('max')\n",
    "df_comp['lifetime'] = (df_comp.last_completed_order - df_comp.first_completed_order).dt.days\n",
    "df_comp['first_completed_order_day'] = (df_comp.first_completed_order - datetime(2017, 1, 1)).dt.days\n",
    "df_comp['last_completed_order_day'] = (df_comp.last_completed_order - datetime(2017, 1, 1)).dt.days\n",
    "df_comp['order_day'] = (df_comp.order_created_datetime - datetime(2017, 1, 1)).dt.days"
   ]
  },
  {
   "cell_type": "markdown",
   "metadata": {},
   "source": [
    "# Customer Lifetime\n",
    "Created dataframe for customer lifetime"
   ]
  },
  {
   "cell_type": "code",
   "execution_count": 14,
   "metadata": {},
   "outputs": [],
   "source": [
    "df_life = df_comp.copy()\n",
    "df_life = df_life.sort_values(['customer_id', 'order_day'])\n",
    "\n",
    "df_life['first_order'] = df_life.order_comp_num == 0\n",
    "df_life['last_order'] = df_life.order_comp_num == (df_life.completed_orders - 1)\n",
    "df_life['returned'] = ~df_life.last_order\n",
    "\n",
    "df_life['frequency'] = df_life.groupby('customer_id')['days_since_last_comp'].transform(lambda x: x.expanding().mean())\n",
    "df_life['order_day_expected'] = df_life.order_day + df_life.frequency\n",
    "df_life.order_day_expected = df_life.groupby('customer_id').order_day_expected.shift().fillna(df_life.order_day)\n",
    "df_life['order_expected_diff'] = df_life.order_day - df_life.order_day_expected\n",
    "\n",
    "df_life['churn_factor'] = df_life.days_until_next_comp / df_life.frequency\n",
    "df_life.loc[df_life.last_order, 'churn_factor'] = df_life.days_since_last_seen / df_life.frequency\n",
    "\n",
    "df_life['order_day_expected_45'] = df_life.order_day + 45 + 8\n",
    "df_life.order_day_expected_45 = df_life.groupby('customer_id').order_day_expected_45.shift().fillna(df_life.order_day)\n",
    "df_life['order_expected_45_diff'] = df_life.order_day - df_life.order_day_expected_45\n",
    "\n",
    "df_life['churned_after'] = df_life.days_until_next_comp > (45 + 8)\n",
    "df_life.loc[df_life.last_order, 'churned_after'] = df_life.days_since_last_seen > (45 + 8)\n",
    "df_life['churned_before'] = df_life.groupby('customer_id').churned_after.shift().fillna(False)\n",
    "df_life.loc[df_life.churned_after, 'entered_inactive'] = df_life.order_day + 45 + 8\n",
    "\n",
    "df_life['revenue_voucher'] = df_life.revenue + df_life.voucher_value\n",
    "df_life.loc[~(df_life.voucher_value > 0), 'voucher_channel'] = 'no_voucher'\n",
    "df_life['voucher_ratio'] = (df_life.voucher_value / df_life.revenue_voucher).round(1)\n",
    "\n",
    "df_life['returned_CRM'] = df_life.final_click_channel.str.contains('crm')\n",
    "df_life['returned_CRM'] = df_life.groupby('customer_id').returned_CRM.shift(-1).fillna(False)\n",
    "df_life['returned_voucher'] = df_life.groupby('customer_id').voucher_value.shift(-1).fillna(0)\n",
    "df_life['returned_voucher'] = (df_life.returned_voucher > 0)\n",
    "df_life['over_frequency'] = df_life.churn_factor >= 1\n",
    "df_life['freq_median'] = df_life.groupby('order_day')['frequency'].transform('median')"
   ]
  },
  {
   "cell_type": "code",
   "execution_count": 15,
   "metadata": {},
   "outputs": [],
   "source": [
    "df_life.voucher_channel = df_life.voucher_channel.fillna('unknown')"
   ]
  },
  {
   "cell_type": "markdown",
   "metadata": {},
   "source": [
    "### Sample Customer"
   ]
  },
  {
   "cell_type": "code",
   "execution_count": 16,
   "metadata": {},
   "outputs": [],
   "source": [
    "def plot_customer_lifetime(sample_customer):\n",
    "    df_life_sample = df_life.loc[df_life.customer_id == sample_customer]\n",
    "    \n",
    "    fig, ax = plt.subplots(figsize=(10,5))\n",
    "    # plot vouchers\n",
    "    sns.scatterplot(data=df_life_sample.loc[df_life_sample.voucher_value > 0], \n",
    "                    x='order_day', y='voucher_value', marker='x', color='black', label='voucher_value')\n",
    "    \n",
    "    # plot journey and expected journy\n",
    "    sns.lineplot(data=df_life_sample, x='order_day', y='revenue_voucher', \n",
    "                 marker='o', label='order revenue', color='green')\n",
    "    sns.lineplot(data=df_life_sample, x='order_day_expected', y='revenue_voucher', \n",
    "                 marker='o', label='expected_order', color='gray', alpha=0.3)\n",
    "    \n",
    "    # plot final click channel\n",
    "    sns.scatterplot(data=df_life_sample.loc[df_life_sample.final_click_channel.str.contains('crm')],\n",
    "                   x='order_day', y='revenue_voucher', color='red', label='crm_click', zorder=10)\n",
    "    \n",
    "    # plot entering inactive segment\n",
    "    sns.rugplot(df_life_sample.entered_inactive, color='black', height=1, linestyle='--', label='inactive')\n",
    "    \n",
    "\n",
    "    plt.xticks(rotation=70)\n",
    "    plt.ylim(0)\n",
    "    plt.title(sample_customer)\n",
    "    plt.legend()\n",
    "    plt.show()"
   ]
  },
  {
   "cell_type": "code",
   "execution_count": 17,
   "metadata": {
    "scrolled": true
   },
   "outputs": [
    {
     "data": {
      "text/plain": [
       "17881    CUS-N8798789\n",
       "13828    CUS-E8962811\n",
       "4888     CUS-L8514871\n",
       "Name: customer_id, dtype: object"
      ]
     },
     "execution_count": 17,
     "metadata": {},
     "output_type": "execute_result"
    }
   ],
   "source": [
    "samples = df_ord.loc[(df_ord.days_until_next_order > 50) & (df_ord.completed_orders > 3) & (df_ord.order_num == 2)]['customer_id'].sample(3)\n",
    "samples"
   ]
  },
  {
   "cell_type": "code",
   "execution_count": 18,
   "metadata": {
    "scrolled": false
   },
   "outputs": [
    {
     "data": {
      "image/png": "[encoded data removed]",
      "text/plain": [
       "<Figure size 720x360 with 1 Axes>"
      ]
     },
     "metadata": {},
     "output_type": "display_data"
    },
    {
     "data": {
      "image/png": "[encoded data removed]",
      "text/plain": [
       "<Figure size 720x360 with 1 Axes>"
      ]
     },
     "metadata": {},
     "output_type": "display_data"
    },
    {
     "data": {
      "image/png": "[encoded data removed]",
      "text/plain": [
       "<Figure size 720x360 with 1 Axes>"
      ]
     },
     "metadata": {},
     "output_type": "display_data"
    }
   ],
   "source": [
    "for s in samples:\n",
    "    plot_customer_lifetime(s)"
   ]
  },
  {
   "cell_type": "markdown",
   "metadata": {},
   "source": [
    "# Time Prediction Comparison\n",
    "- How does timing of churn impact if customers return"
   ]
  },
  {
   "cell_type": "markdown",
   "metadata": {},
   "source": [
    "### Prediction: IOF"
   ]
  },
  {
   "cell_type": "code",
   "execution_count": 19,
   "metadata": {},
   "outputs": [
    {
     "data": {
      "text/plain": [
       "count    40514.000000\n",
       "mean         2.658542\n",
       "std         49.974405\n",
       "min       -560.000000\n",
       "25%         -8.000000\n",
       "50%          0.000000\n",
       "75%          9.300000\n",
       "max        560.000000\n",
       "Name: order_expected_diff, dtype: float64"
      ]
     },
     "execution_count": 19,
     "metadata": {},
     "output_type": "execute_result"
    },
    {
     "data": {
      "image/png": "[encoded data removed]",
      "text/plain": [
       "<Figure size 432x288 with 1 Axes>"
      ]
     },
     "metadata": {},
     "output_type": "display_data"
    }
   ],
   "source": [
    "a = df_life.loc[df_life.order_comp_num > 1]\n",
    "sns.distplot(a.order_expected_diff, bins=1000, kde=False)\n",
    "plt.xlim(-200,200)\n",
    "a.order_expected_diff.describe()"
   ]
  },
  {
   "cell_type": "code",
   "execution_count": 20,
   "metadata": {},
   "outputs": [
    {
     "data": {
      "text/plain": [
       "23.594522853990572"
      ]
     },
     "execution_count": 20,
     "metadata": {},
     "output_type": "execute_result"
    }
   ],
   "source": [
    "metrics.mean_absolute_error(a.order_day, a.order_day_expected)"
   ]
  },
  {
   "cell_type": "markdown",
   "metadata": {},
   "source": [
    "### Prediction: 45 Days"
   ]
  },
  {
   "cell_type": "code",
   "execution_count": 21,
   "metadata": {},
   "outputs": [
    {
     "data": {
      "text/plain": [
       "37.119069951128004"
      ]
     },
     "execution_count": 21,
     "metadata": {},
     "output_type": "execute_result"
    }
   ],
   "source": [
    "metrics.mean_absolute_error(a.order_day, a.order_day_expected_45)"
   ]
  },
  {
   "cell_type": "code",
   "execution_count": 22,
   "metadata": {},
   "outputs": [
    {
     "data": {
      "text/plain": [
       "[<matplotlib.lines.Line2D at 0x20b52a8b1d0>]"
      ]
     },
     "execution_count": 22,
     "metadata": {},
     "output_type": "execute_result"
    },
    {
     "data": {
      "image/png": "[encoded data removed]",
      "text/plain": [
       "<Figure size 432x288 with 1 Axes>"
      ]
     },
     "metadata": {},
     "output_type": "display_data"
    }
   ],
   "source": [
    "l = []\n",
    "for d in range(0,60):\n",
    "    l.append(metrics.mean_absolute_error(a.order_day, a.order_day - a.days_since_last_comp + d))\n",
    "plt.plot(l)"
   ]
  },
  {
   "cell_type": "code",
   "execution_count": 23,
   "metadata": {},
   "outputs": [
    {
     "data": {
      "text/plain": [
       "23.71661647825443"
      ]
     },
     "execution_count": 23,
     "metadata": {},
     "output_type": "execute_result"
    }
   ],
   "source": [
    "min(l)"
   ]
  },
  {
   "cell_type": "code",
   "execution_count": 24,
   "metadata": {},
   "outputs": [
    {
     "data": {
      "text/plain": [
       "count    40514.000000\n",
       "mean       -17.771437\n",
       "std         45.514431\n",
       "min        -53.000000\n",
       "25%        -41.000000\n",
       "50%        -32.000000\n",
       "75%        -13.000000\n",
       "max        542.000000\n",
       "Name: order_expected_45_diff, dtype: float64"
      ]
     },
     "execution_count": 24,
     "metadata": {},
     "output_type": "execute_result"
    },
    {
     "data": {
      "image/png": "[encoded data removed]",
      "text/plain": [
       "<Figure size 432x288 with 1 Axes>"
      ]
     },
     "metadata": {},
     "output_type": "display_data"
    }
   ],
   "source": [
    "sns.distplot(a.order_expected_45_diff, bins=1000, kde=False)\n",
    "plt.xlim(-200,200)\n",
    "a.order_expected_45_diff.describe()"
   ]
  },
  {
   "cell_type": "markdown",
   "metadata": {},
   "source": [
    "## Group customers based on frequency\n",
    "- good timing: if frequency 53 (45+8) days +/- 7 days\n",
    "- soon: if frequency > 53+7\n",
    "- late: if frequency < 53-7"
   ]
  },
  {
   "cell_type": "code",
   "execution_count": 25,
   "metadata": {},
   "outputs": [],
   "source": [
    "df_life_2 = df_life.loc[df_life.order_comp_num > 1]\n",
    "df_life_2['target_timing'] = ['soon' if x >= 53+7 else 'late' if x <= 53-7 else 'correct' for x in df_life_2.frequency]"
   ]
  },
  {
   "cell_type": "code",
   "execution_count": 26,
   "metadata": {},
   "outputs": [],
   "source": [
    "stats = df_life_2.loc[df_life_2.churned_after].groupby(['target_timing', 'returned'])['order_id'].nunique().reset_index()\n",
    "stats['target_total'] = stats.groupby('target_timing')['order_id'].transform('sum')\n",
    "stats['order_perc'] = stats.order_id / stats.target_total"
   ]
  },
  {
   "cell_type": "code",
   "execution_count": 27,
   "metadata": {},
   "outputs": [
    {
     "data": {
      "text/plain": [
       "<matplotlib.axes._subplots.AxesSubplot at 0x20b52ea72b0>"
      ]
     },
     "execution_count": 27,
     "metadata": {},
     "output_type": "execute_result"
    },
    {
     "data": {
      "image/png": "[encoded data removed]",
      "text/plain": [
       "<Figure size 432x288 with 1 Axes>"
      ]
     },
     "metadata": {},
     "output_type": "display_data"
    }
   ],
   "source": [
    "sns.categorical.barplot(data=stats, x='target_timing', y='order_id', hue='returned')"
   ]
  },
  {
   "cell_type": "markdown",
   "metadata": {},
   "source": [
    "# New Customers"
   ]
  },
  {
   "cell_type": "code",
   "execution_count": 28,
   "metadata": {},
   "outputs": [],
   "source": [
    "df_life0 = df_life.loc[(df_life.order_comp_num == 0) & ~df_life.last_order]\n",
    "df_life1 = df_life.loc[(df_life.order_comp_num > 0) & ~df_life.last_order]"
   ]
  },
  {
   "cell_type": "code",
   "execution_count": 29,
   "metadata": {},
   "outputs": [
    {
     "data": {
      "text/plain": [
       "<matplotlib.legend.Legend at 0x20b52b016a0>"
      ]
     },
     "execution_count": 29,
     "metadata": {},
     "output_type": "execute_result"
    },
    {
     "data": {
      "image/png": "[encoded data removed]",
      "text/plain": [
       "<Figure size 432x288 with 1 Axes>"
      ]
     },
     "metadata": {},
     "output_type": "display_data"
    }
   ],
   "source": [
    "sns.distplot(df_life0.days_until_next_comp, norm_hist=True, hist=False, label='new_customers')\n",
    "sns.distplot(df_life1.days_until_next_comp, norm_hist=True, hist=False, label='active_customers')\n",
    "plt.xlim(-10,200)\n",
    "plt.legend()"
   ]
  },
  {
   "cell_type": "code",
   "execution_count": 30,
   "metadata": {},
   "outputs": [
    {
     "data": {
      "text/plain": [
       "count    12593.000000\n",
       "mean        66.394584\n",
       "std         85.621369\n",
       "min          0.000000\n",
       "25%         13.000000\n",
       "50%         33.000000\n",
       "75%         83.000000\n",
       "max        602.000000\n",
       "Name: days_until_next_comp, dtype: float64"
      ]
     },
     "execution_count": 30,
     "metadata": {},
     "output_type": "execute_result"
    }
   ],
   "source": [
    "df_life0.days_until_next_comp.describe()"
   ]
  },
  {
   "cell_type": "markdown",
   "metadata": {},
   "source": [
    "## Remove Outliers"
   ]
  },
  {
   "cell_type": "code",
   "execution_count": 31,
   "metadata": {},
   "outputs": [],
   "source": [
    "df_life0 = df_life0.loc[df_life0.days_until_next_comp < 90]\n",
    "df_life1 = df_life1.loc[df_life1.days_until_next_comp < 90]\n"
   ]
  },
  {
   "cell_type": "code",
   "execution_count": 32,
   "metadata": {},
   "outputs": [
    {
     "data": {
      "text/plain": [
       "<matplotlib.legend.Legend at 0x20b52d65d30>"
      ]
     },
     "execution_count": 32,
     "metadata": {},
     "output_type": "execute_result"
    },
    {
     "data": {
      "image/png": "[encoded data removed]",
      "text/plain": [
       "<Figure size 432x288 with 1 Axes>"
      ]
     },
     "metadata": {},
     "output_type": "display_data"
    }
   ],
   "source": [
    "sns.distplot(df_life0.days_until_next_comp, norm_hist=True, hist=False, label='new_customers')\n",
    "sns.distplot(df_life1.days_until_next_comp, norm_hist=True, hist=False, label='active_customers')\n",
    "plt.legend()"
   ]
  },
  {
   "cell_type": "code",
   "execution_count": 33,
   "metadata": {},
   "outputs": [],
   "source": [
    "df_mae_new = pd.Series(index=range(1,60))\n",
    "df_mae_ret = pd.Series(index=range(1,60))\n",
    "for days_threshold in range(1,60):\n",
    "    mae_new = metrics.mean_absolute_error(df_life0.days_until_next_comp, np.ones(len(df_life0)) * days_threshold)\n",
    "    df_mae_new[days_threshold] = mae_new\n",
    "    mae_ret = metrics.mean_absolute_error(df_life1.days_until_next_comp, np.ones(len(df_life1)) * days_threshold)\n",
    "    df_mae_ret[days_threshold] = mae_ret"
   ]
  },
  {
   "cell_type": "code",
   "execution_count": 34,
   "metadata": {},
   "outputs": [
    {
     "data": {
      "text/plain": [
       "(0, 37.84805642318255)"
      ]
     },
     "execution_count": 34,
     "metadata": {},
     "output_type": "execute_result"
    },
    {
     "data": {
      "image/png": "[encoded data removed]",
      "text/plain": [
       "<Figure size 432x288 with 1 Axes>"
      ]
     },
     "metadata": {},
     "output_type": "display_data"
    }
   ],
   "source": [
    "df_mae_new.plot(label='new_customers')\n",
    "df_mae_ret.plot(label='active_customers')\n",
    "plt.xlabel('predicted_days_threshold')\n",
    "plt.ylabel('mean_absolute_error')\n",
    "plt.scatter(df_mae_new.argmin(), df_mae_new.min())\n",
    "plt.scatter(df_mae_ret.argmin(), df_mae_ret.min())\n",
    "plt.legend()\n",
    "plt.ylim(0)"
   ]
  },
  {
   "cell_type": "code",
   "execution_count": 35,
   "metadata": {},
   "outputs": [
    {
     "data": {
      "text/plain": [
       "(22, 17.971920008289295)"
      ]
     },
     "execution_count": 35,
     "metadata": {},
     "output_type": "execute_result"
    }
   ],
   "source": [
    "df_mae_new.argmin(), df_mae_new.min()"
   ]
  },
  {
   "cell_type": "code",
   "execution_count": 36,
   "metadata": {},
   "outputs": [
    {
     "data": {
      "text/plain": [
       "25.032431872344834"
      ]
     },
     "execution_count": 36,
     "metadata": {},
     "output_type": "execute_result"
    }
   ],
   "source": [
    "df_mae_new[45]"
   ]
  },
  {
   "cell_type": "code",
   "execution_count": 37,
   "metadata": {},
   "outputs": [
    {
     "data": {
      "text/plain": [
       "<matplotlib.axes._subplots.AxesSubplot at 0x20b4d2daac8>"
      ]
     },
     "execution_count": 37,
     "metadata": {},
     "output_type": "execute_result"
    },
    {
     "data": {
      "image/png": "[encoded data removed]",
      "text/plain": [
       "<Figure size 432x288 with 1 Axes>"
      ]
     },
     "metadata": {},
     "output_type": "display_data"
    }
   ],
   "source": [
    "sns.distplot((df_life0.order_day + df_life0.days_until_next_comp) - (df_life0.order_day + 22))"
   ]
  },
  {
   "cell_type": "markdown",
   "metadata": {},
   "source": [
    "## Find correlated variables"
   ]
  },
  {
   "cell_type": "code",
   "execution_count": 38,
   "metadata": {},
   "outputs": [
    {
     "data": {
      "image/png": "[encoded data removed]",
      "text/plain": [
       "<Figure size 720x360 with 1 Axes>"
      ]
     },
     "metadata": {},
     "output_type": "display_data"
    }
   ],
   "source": [
    "# is the number of days between first and second order representative of number of orders customer will ahve in total\n",
    "fig = plt.figure(figsize=(10,5))\n",
    "sns.barplot(data=df_life0, x='completed_orders', y='days_until_next_comp')\n",
    "plt.xticks(rotation=70)\n",
    "plt.ylabel('days_until_second_order')\n",
    "plt.xlim(-0.5,20)\n",
    "plt.show()"
   ]
  },
  {
   "cell_type": "code",
   "execution_count": 153,
   "metadata": {},
   "outputs": [],
   "source": [
    "col = 'order_month'"
   ]
  },
  {
   "cell_type": "code",
   "execution_count": 154,
   "metadata": {},
   "outputs": [
    {
     "data": {
      "text/plain": [
       "<matplotlib.axes._subplots.AxesSubplot at 0x20b53e54c50>"
      ]
     },
     "execution_count": 154,
     "metadata": {},
     "output_type": "execute_result"
    },
    {
     "data": {
      "image/png": "[encoded data removed]",
      "text/plain": [
       "<Figure size 432x288 with 1 Axes>"
      ]
     },
     "metadata": {},
     "output_type": "display_data"
    }
   ],
   "source": [
    "sns.boxplot(data=df_life0, x=col, y='days_until_next_comp')"
   ]
  },
  {
   "cell_type": "code",
   "execution_count": 155,
   "metadata": {},
   "outputs": [
    {
     "data": {
      "text/plain": [
       "order_month\n",
       "1     26.0\n",
       "2     25.0\n",
       "3     24.0\n",
       "4     25.0\n",
       "5     23.0\n",
       "6     20.0\n",
       "7     15.0\n",
       "8     15.0\n",
       "9     14.0\n",
       "10    23.0\n",
       "11    23.0\n",
       "12    34.0\n",
       "Name: days_until_next_comp, dtype: float64"
      ]
     },
     "execution_count": 155,
     "metadata": {},
     "output_type": "execute_result"
    }
   ],
   "source": [
    "medians = df_life0.groupby(col).days_until_next_comp.median()\n",
    "medians"
   ]
  },
  {
   "cell_type": "code",
   "execution_count": 156,
   "metadata": {},
   "outputs": [
    {
     "data": {
      "text/plain": [
       "17.51828826028391"
      ]
     },
     "execution_count": 156,
     "metadata": {},
     "output_type": "execute_result"
    }
   ],
   "source": [
    "metrics.mean_absolute_error(df_life0.days_until_next_comp, medians[df_life0[col].fillna(0)])\n",
    "# metrics.mean_absolute_error(df_life0.days_until_next_comp, [27 if x == False else 32 for x in df_life0[col]])"
   ]
  },
  {
   "cell_type": "markdown",
   "metadata": {},
   "source": [
    "# Predict days"
   ]
  },
  {
   "cell_type": "code",
   "execution_count": 158,
   "metadata": {},
   "outputs": [],
   "source": [
    "from sklearn import linear_model\n",
    "from sklearn.preprocessing import PolynomialFeatures\n",
    "from sklearn.model_selection import train_test_split, KFold, cross_val_score"
   ]
  },
  {
   "cell_type": "code",
   "execution_count": 159,
   "metadata": {},
   "outputs": [],
   "source": [
    "pred_cols = ['order_month', 'city']\n",
    "pred_name = ['days_until_next_comp']\n",
    "df_pred = df_life0[pred_cols + pred_name]"
   ]
  },
  {
   "cell_type": "code",
   "execution_count": 160,
   "metadata": {},
   "outputs": [],
   "source": [
    "df_pred['city'] = LabelEncoder().fit_transform(df_pred.city)\n",
    "# df_pred['service_class'] = LabelEncoder().fit_transform(df_pred.service_class)\n",
    "# df_pred['voucher_channel'] = LabelEncoder().fit_transform(df_pred.voucher_channel)\n",
    "# df_pred['final_click_channel'] = LabelEncoder().fit_transform(df_pred.final_click_channel)"
   ]
  },
  {
   "cell_type": "code",
   "execution_count": 161,
   "metadata": {},
   "outputs": [],
   "source": [
    "df_pred = df_pred.fillna(0)"
   ]
  },
  {
   "cell_type": "code",
   "execution_count": 162,
   "metadata": {},
   "outputs": [
    {
     "data": {
      "text/html": [
       "<div>\n",
       "<style scoped>\n",
       "    .dataframe tbody tr th:only-of-type {\n",
       "        vertical-align: middle;\n",
       "    }\n",
       "\n",
       "    .dataframe tbody tr th {\n",
       "        vertical-align: top;\n",
       "    }\n",
       "\n",
       "    .dataframe thead th {\n",
       "        text-align: right;\n",
       "    }\n",
       "</style>\n",
       "<table border=\"1\" class=\"dataframe\">\n",
       "  <thead>\n",
       "    <tr style=\"text-align: right;\">\n",
       "      <th></th>\n",
       "      <th>order_month</th>\n",
       "      <th>city</th>\n",
       "      <th>days_until_next_comp</th>\n",
       "    </tr>\n",
       "  </thead>\n",
       "  <tbody>\n",
       "    <tr>\n",
       "      <th>53773</th>\n",
       "      <td>7</td>\n",
       "      <td>1</td>\n",
       "      <td>7.0</td>\n",
       "    </tr>\n",
       "    <tr>\n",
       "      <th>41617</th>\n",
       "      <td>3</td>\n",
       "      <td>2</td>\n",
       "      <td>25.0</td>\n",
       "    </tr>\n",
       "    <tr>\n",
       "      <th>23734</th>\n",
       "      <td>8</td>\n",
       "      <td>2</td>\n",
       "      <td>26.0</td>\n",
       "    </tr>\n",
       "    <tr>\n",
       "      <th>81161</th>\n",
       "      <td>12</td>\n",
       "      <td>1</td>\n",
       "      <td>59.0</td>\n",
       "    </tr>\n",
       "    <tr>\n",
       "      <th>86872</th>\n",
       "      <td>1</td>\n",
       "      <td>1</td>\n",
       "      <td>77.0</td>\n",
       "    </tr>\n",
       "  </tbody>\n",
       "</table>\n",
       "</div>"
      ],
      "text/plain": [
       "       order_month  city  days_until_next_comp\n",
       "53773            7     1                   7.0\n",
       "41617            3     2                  25.0\n",
       "23734            8     2                  26.0\n",
       "81161           12     1                  59.0\n",
       "86872            1     1                  77.0"
      ]
     },
     "execution_count": 162,
     "metadata": {},
     "output_type": "execute_result"
    }
   ],
   "source": [
    "df_pred.head()"
   ]
  },
  {
   "cell_type": "code",
   "execution_count": 163,
   "metadata": {},
   "outputs": [],
   "source": [
    "X = df_pred[pred_cols].values\n",
    "y = df_pred[pred_name].values"
   ]
  },
  {
   "cell_type": "code",
   "execution_count": 137,
   "metadata": {},
   "outputs": [
    {
     "data": {
      "text/plain": [
       "(7720, 1931)"
      ]
     },
     "execution_count": 137,
     "metadata": {},
     "output_type": "execute_result"
    }
   ],
   "source": [
    "X_train, X_test, y_train, y_test = train_test_split(X, y, test_size=0.2)\n",
    "len(X_train), len(X_test)"
   ]
  },
  {
   "cell_type": "code",
   "execution_count": 138,
   "metadata": {
    "scrolled": true
   },
   "outputs": [
    {
     "data": {
      "text/plain": [
       "LinearRegression(copy_X=True, fit_intercept=True, n_jobs=None,\n",
       "         normalize=False)"
      ]
     },
     "execution_count": 138,
     "metadata": {},
     "output_type": "execute_result"
    }
   ],
   "source": [
    "lin_reg = linear_model.LinearRegression()\n",
    "lin_reg.fit(X_train, y_train)"
   ]
  },
  {
   "cell_type": "code",
   "execution_count": 139,
   "metadata": {},
   "outputs": [
    {
     "data": {
      "text/plain": [
       "-18.41905459897646"
      ]
     },
     "execution_count": 139,
     "metadata": {},
     "output_type": "execute_result"
    }
   ],
   "source": [
    "cross_val_score(lin_reg, X_train, y_train, scoring='neg_mean_absolute_error', cv=4).mean()"
   ]
  },
  {
   "cell_type": "code",
   "execution_count": 140,
   "metadata": {},
   "outputs": [],
   "source": [
    "poly = PolynomialFeatures(3)\n",
    "X_train_poly = poly.fit_transform(X_train)\n",
    "X_test_poly = poly.transform(X_test)"
   ]
  },
  {
   "cell_type": "code",
   "execution_count": 141,
   "metadata": {
    "scrolled": true
   },
   "outputs": [
    {
     "data": {
      "text/plain": [
       "array([[ 3.        , 15.5       ,  0.        ,  1.        ,  2.        ,\n",
       "        42.425     ],\n",
       "       [ 3.        , 10.23809524,  0.7       ,  6.        ,  2.        ,\n",
       "         5.        ],\n",
       "       [ 1.        ,  0.        ,  0.5       ,  6.        ,  1.        ,\n",
       "        12.21993555],\n",
       "       ...,\n",
       "       [ 7.        , 14.75      ,  0.        ,  1.        ,  1.        ,\n",
       "        10.3607089 ],\n",
       "       [ 4.        , 31.14285714,  0.3       ,  7.        ,  1.        ,\n",
       "        36.90020519],\n",
       "       [ 7.        , 20.        ,  0.        ,  7.        ,  1.        ,\n",
       "         5.12966521]])"
      ]
     },
     "execution_count": 141,
     "metadata": {},
     "output_type": "execute_result"
    }
   ],
   "source": [
    "X_train"
   ]
  },
  {
   "cell_type": "code",
   "execution_count": 142,
   "metadata": {
    "scrolled": true
   },
   "outputs": [
    {
     "data": {
      "text/plain": [
       "array([[1.00000000e+00, 3.00000000e+00, 1.55000000e+01, ...,\n",
       "        1.69700000e+02, 3.59976125e+03, 7.63599355e+04],\n",
       "       [1.00000000e+00, 3.00000000e+00, 1.02380952e+01, ...,\n",
       "        2.00000000e+01, 5.00000000e+01, 1.25000000e+02],\n",
       "       [1.00000000e+00, 1.00000000e+00, 0.00000000e+00, ...,\n",
       "        1.22199355e+01, 1.49326825e+02, 1.82476417e+03],\n",
       "       ...,\n",
       "       [1.00000000e+00, 7.00000000e+00, 1.47500000e+01, ...,\n",
       "        1.03607089e+01, 1.07344289e+02, 1.11216293e+03],\n",
       "       [1.00000000e+00, 4.00000000e+00, 3.11428571e+01, ...,\n",
       "        3.69002052e+01, 1.36162514e+03, 5.02442472e+04],\n",
       "       [1.00000000e+00, 7.00000000e+00, 2.00000000e+01, ...,\n",
       "        5.12966521e+00, 2.63134652e+01, 1.34979267e+02]])"
      ]
     },
     "execution_count": 142,
     "metadata": {},
     "output_type": "execute_result"
    }
   ],
   "source": [
    "X_train_poly"
   ]
  },
  {
   "cell_type": "code",
   "execution_count": 143,
   "metadata": {},
   "outputs": [
    {
     "data": {
      "text/plain": [
       "LinearRegression(copy_X=True, fit_intercept=True, n_jobs=None,\n",
       "         normalize=False)"
      ]
     },
     "execution_count": 143,
     "metadata": {},
     "output_type": "execute_result"
    }
   ],
   "source": [
    "lin_reg.fit(X_train_poly, y_train)"
   ]
  },
  {
   "cell_type": "code",
   "execution_count": 144,
   "metadata": {},
   "outputs": [
    {
     "data": {
      "text/plain": [
       "-18.60703307043332"
      ]
     },
     "execution_count": 144,
     "metadata": {},
     "output_type": "execute_result"
    }
   ],
   "source": [
    "cross_val_score(lin_reg, X_train_poly, y_train, scoring='neg_mean_absolute_error', cv=4).mean()"
   ]
  },
  {
   "cell_type": "code",
   "execution_count": 145,
   "metadata": {},
   "outputs": [],
   "source": [
    "y_pred = lin_reg.predict(X_test_poly).clip(0, 90)"
   ]
  },
  {
   "cell_type": "code",
   "execution_count": 146,
   "metadata": {},
   "outputs": [
    {
     "data": {
      "text/plain": [
       "17.750068996844988"
      ]
     },
     "execution_count": 146,
     "metadata": {},
     "output_type": "execute_result"
    }
   ],
   "source": [
    "metrics.mean_absolute_error(y_test, y_pred)"
   ]
  },
  {
   "cell_type": "code",
   "execution_count": 115,
   "metadata": {},
   "outputs": [
    {
     "data": {
      "text/plain": [
       "<matplotlib.legend.Legend at 0x20b52fc2ef0>"
      ]
     },
     "execution_count": 115,
     "metadata": {},
     "output_type": "execute_result"
    },
    {
     "data": {
      "image/png": "[encoded data removed]",
      "text/plain": [
       "<Figure size 432x288 with 1 Axes>"
      ]
     },
     "metadata": {},
     "output_type": "display_data"
    }
   ],
   "source": [
    "sns.distplot(y_pred, label='y_pred')\n",
    "sns.distplot(y_test, label='y_test')\n",
    "plt.legend()"
   ]
  },
  {
   "cell_type": "code",
   "execution_count": 58,
   "metadata": {
    "scrolled": true
   },
   "outputs": [
    {
     "data": {
      "text/plain": [
       "MLPRegressor(activation='relu', alpha=0.0001, batch_size='auto', beta_1=0.9,\n",
       "       beta_2=0.999, early_stopping=False, epsilon=1e-08,\n",
       "       hidden_layer_sizes=(100, 50), learning_rate='adaptive',\n",
       "       learning_rate_init=0.003, max_iter=200, momentum=0.9,\n",
       "       n_iter_no_change=10, nesterovs_momentum=True, power_t=0.5,\n",
       "       random_state=None, shuffle=True, solver='adam', tol=0.0001,\n",
       "       validation_fraction=0.1, verbose=False, warm_start=False)"
      ]
     },
     "execution_count": 58,
     "metadata": {},
     "output_type": "execute_result"
    }
   ],
   "source": [
    "from sklearn.neural_network import MLPRegressor\n",
    "mlp = MLPRegressor(hidden_layer_sizes=(100,50), learning_rate_init=0.003, learning_rate='adaptive',\n",
    "                   n_iter_no_change=10, max_iter=200)\n",
    "mlp.fit(X_train, y_train)"
   ]
  },
  {
   "cell_type": "code",
   "execution_count": 59,
   "metadata": {},
   "outputs": [
    {
     "data": {
      "text/plain": [
       "-17.705169641539175"
      ]
     },
     "execution_count": 59,
     "metadata": {},
     "output_type": "execute_result"
    }
   ],
   "source": [
    "cross_val_score(mlp, X_train, y_train, scoring='neg_mean_absolute_error', cv=3).mean()"
   ]
  },
  {
   "cell_type": "code",
   "execution_count": 60,
   "metadata": {},
   "outputs": [],
   "source": [
    "y_pred = mlp.predict(X_test).clip(0, 90)"
   ]
  },
  {
   "cell_type": "code",
   "execution_count": 61,
   "metadata": {},
   "outputs": [
    {
     "data": {
      "text/plain": [
       "<matplotlib.legend.Legend at 0x20b4d2a86d8>"
      ]
     },
     "execution_count": 61,
     "metadata": {},
     "output_type": "execute_result"
    },
    {
     "data": {
      "image/png": "[encoded data removed]",
      "text/plain": [
       "<Figure size 432x288 with 1 Axes>"
      ]
     },
     "metadata": {},
     "output_type": "display_data"
    }
   ],
   "source": [
    "sns.distplot(y_pred, label='y_pred')\n",
    "sns.distplot(y_test, label='y_test')\n",
    "plt.legend()"
   ]
  },
  {
   "cell_type": "code",
   "execution_count": 62,
   "metadata": {},
   "outputs": [
    {
     "data": {
      "text/plain": [
       "KNeighborsRegressor(algorithm='auto', leaf_size=30, metric='minkowski',\n",
       "          metric_params=None, n_jobs=None, n_neighbors=5, p=2,\n",
       "          weights='uniform')"
      ]
     },
     "execution_count": 62,
     "metadata": {},
     "output_type": "execute_result"
    }
   ],
   "source": [
    "from sklearn.neighbors import KNeighborsRegressor\n",
    "nei = KNeighborsRegressor()\n",
    "nei.fit(X_train, y_train)"
   ]
  },
  {
   "cell_type": "code",
   "execution_count": 63,
   "metadata": {},
   "outputs": [
    {
     "data": {
      "text/plain": [
       "-18.651321243523316"
      ]
     },
     "execution_count": 63,
     "metadata": {},
     "output_type": "execute_result"
    }
   ],
   "source": [
    "cross_val_score(nei, X_train, y_train, scoring='neg_mean_absolute_error', cv=4).mean()"
   ]
  },
  {
   "cell_type": "markdown",
   "metadata": {},
   "source": [
    "# Classification"
   ]
  },
  {
   "cell_type": "code",
   "execution_count": 88,
   "metadata": {},
   "outputs": [],
   "source": [
    "from sklearn.ensemble import RandomForestClassifier\n",
    "from sklearn.neural_network import MLPClassifier"
   ]
  },
  {
   "cell_type": "code",
   "execution_count": 68,
   "metadata": {},
   "outputs": [],
   "source": [
    "pred_cols = ['order_month', 'freq_median', 'voucher_ratio', 'order_month', 'cluster']\n",
    "pred_name = ['weeks_until_next_comp']\n",
    "df_pred = df_life0[pred_cols + pred_name]"
   ]
  },
  {
   "cell_type": "code",
   "execution_count": 69,
   "metadata": {},
   "outputs": [],
   "source": [
    "df_pred = df_pred.fillna(0)"
   ]
  },
  {
   "cell_type": "code",
   "execution_count": 70,
   "metadata": {},
   "outputs": [
    {
     "data": {
      "text/plain": [
       "(7720, 1931)"
      ]
     },
     "execution_count": 70,
     "metadata": {},
     "output_type": "execute_result"
    }
   ],
   "source": [
    "X = df_pred[pred_cols].values\n",
    "y = df_pred[pred_name].values\n",
    "\n",
    "X_train, X_test, y_train, y_test = train_test_split(X, y, test_size=0.2)\n",
    "len(X_train), len(X_test)"
   ]
  },
  {
   "cell_type": "code",
   "execution_count": 86,
   "metadata": {},
   "outputs": [],
   "source": [
    "frst = RandomForestClassifier(max_depth=6)"
   ]
  },
  {
   "cell_type": "code",
   "execution_count": 87,
   "metadata": {},
   "outputs": [
    {
     "data": {
      "text/plain": [
       "-2.8851010860638393"
      ]
     },
     "execution_count": 87,
     "metadata": {},
     "output_type": "execute_result"
    }
   ],
   "source": [
    "cross_val_score(frst, X_train, y_train, scoring='neg_mean_absolute_error', cv=4).mean()"
   ]
  },
  {
   "cell_type": "code",
   "execution_count": 92,
   "metadata": {},
   "outputs": [
    {
     "data": {
      "text/plain": [
       "-2.8416125074579774"
      ]
     },
     "execution_count": 92,
     "metadata": {},
     "output_type": "execute_result"
    }
   ],
   "source": [
    "# classifier MLP\n",
    "cls = MLPClassifier(verbose=False, learning_rate_init=0.002, max_iter=400)\n",
    "cross_val_score(cls, X_train, y_train, scoring='neg_mean_absolute_error', cv=4).mean()"
   ]
  },
  {
   "cell_type": "code",
   "execution_count": null,
   "metadata": {},
   "outputs": [],
   "source": []
  }
 ],
 "metadata": {
  "kernelspec": {
   "display_name": "Python 3",
   "language": "python",
   "name": "python3"
  },
  "language_info": {
   "codemirror_mode": {
    "name": "ipython",
    "version": 3
   },
   "file_extension": ".py",
   "mimetype": "text/x-python",
   "name": "python",
   "nbconvert_exporter": "python",
   "pygments_lexer": "ipython3",
   "version": "3.6.5"
  }
 },
 "nbformat": 4,
 "nbformat_minor": 2
}
