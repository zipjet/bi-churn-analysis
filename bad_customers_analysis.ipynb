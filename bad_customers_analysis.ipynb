{
 "cells": [
  {
   "cell_type": "code",
   "execution_count": 1,
   "metadata": {},
   "outputs": [],
   "source": [
    "import pandas as pd\n",
    "import matplotlib.pyplot as plt\n",
    "import seaborn as sns\n",
    "from sklearn.preprocessing import LabelEncoder\n",
    "from datetime import datetime as dt\n",
    "import numpy as np\n",
    "from scipy.stats.stats import pearsonr  \n",
    "from sklearn.preprocessing import normalize\n",
    "\n",
    "plt.style.use('ggplot')\n",
    "pd.options.mode.chained_assignment = None\n",
    "import warnings\n",
    "warnings.filterwarnings(\"ignore\")"
   ]
  },
  {
   "cell_type": "code",
   "execution_count": 2,
   "metadata": {},
   "outputs": [],
   "source": [
    "df = pd.read_csv(\"data/churn_dataset.csv\")"
   ]
  },
  {
   "cell_type": "code",
   "execution_count": 3,
   "metadata": {},
   "outputs": [
    {
     "data": {
      "text/plain": [
       "(38822, 77)"
      ]
     },
     "execution_count": 3,
     "metadata": {},
     "output_type": "execute_result"
    }
   ],
   "source": [
    "df.shape"
   ]
  },
  {
   "cell_type": "code",
   "execution_count": 4,
   "metadata": {},
   "outputs": [
    {
     "data": {
      "text/html": [
       "<div>\n",
       "<style scoped>\n",
       "    .dataframe tbody tr th:only-of-type {\n",
       "        vertical-align: middle;\n",
       "    }\n",
       "\n",
       "    .dataframe tbody tr th {\n",
       "        vertical-align: top;\n",
       "    }\n",
       "\n",
       "    .dataframe thead th {\n",
       "        text-align: right;\n",
       "    }\n",
       "</style>\n",
       "<table border=\"1\" class=\"dataframe\">\n",
       "  <thead>\n",
       "    <tr style=\"text-align: right;\">\n",
       "      <th></th>\n",
       "      <th>0</th>\n",
       "      <th>1</th>\n",
       "      <th>2</th>\n",
       "      <th>3</th>\n",
       "      <th>4</th>\n",
       "    </tr>\n",
       "  </thead>\n",
       "  <tbody>\n",
       "    <tr>\n",
       "      <th>customer_db_id</th>\n",
       "      <td>54478736d4cde82247f1345f</td>\n",
       "      <td>54478fa4d3cde8d17ca5e4db</td>\n",
       "      <td>5447eefcd3cde8cf7ca5e4eb</td>\n",
       "      <td>5447f1a2d4cde82147f1347d</td>\n",
       "      <td>544976fad4cde8f3415bedb0</td>\n",
       "    </tr>\n",
       "    <tr>\n",
       "      <th>customer_id</th>\n",
       "      <td>GB-CUS-Y8922200</td>\n",
       "      <td>GB-CUS-K3854440</td>\n",
       "      <td>GB-CUS-L2277081</td>\n",
       "      <td>GB-CUS-C3589820</td>\n",
       "      <td>GB-CUS-P7798401</td>\n",
       "    </tr>\n",
       "    <tr>\n",
       "      <th>gender</th>\n",
       "      <td>male</td>\n",
       "      <td>female</td>\n",
       "      <td>male</td>\n",
       "      <td>male</td>\n",
       "      <td>male</td>\n",
       "    </tr>\n",
       "    <tr>\n",
       "      <th>segment</th>\n",
       "      <td>NaN</td>\n",
       "      <td>RED</td>\n",
       "      <td>NaN</td>\n",
       "      <td>NaN</td>\n",
       "      <td>NaN</td>\n",
       "    </tr>\n",
       "    <tr>\n",
       "      <th>aov</th>\n",
       "      <td>NaN</td>\n",
       "      <td>10.1501</td>\n",
       "      <td>NaN</td>\n",
       "      <td>NaN</td>\n",
       "      <td>NaN</td>\n",
       "    </tr>\n",
       "    <tr>\n",
       "      <th>recency</th>\n",
       "      <td>1370</td>\n",
       "      <td>1211</td>\n",
       "      <td>1370</td>\n",
       "      <td>1370</td>\n",
       "      <td>1190</td>\n",
       "    </tr>\n",
       "    <tr>\n",
       "      <th>frequency</th>\n",
       "      <td>0</td>\n",
       "      <td>0</td>\n",
       "      <td>0</td>\n",
       "      <td>0</td>\n",
       "      <td>0</td>\n",
       "    </tr>\n",
       "    <tr>\n",
       "      <th>churn_factor</th>\n",
       "      <td>1</td>\n",
       "      <td>1</td>\n",
       "      <td>1</td>\n",
       "      <td>1</td>\n",
       "      <td>1</td>\n",
       "    </tr>\n",
       "    <tr>\n",
       "      <th>referred</th>\n",
       "      <td>False</td>\n",
       "      <td>False</td>\n",
       "      <td>False</td>\n",
       "      <td>False</td>\n",
       "      <td>False</td>\n",
       "    </tr>\n",
       "    <tr>\n",
       "      <th>newsletter_optin</th>\n",
       "      <td>False</td>\n",
       "      <td>False</td>\n",
       "      <td>False</td>\n",
       "      <td>False</td>\n",
       "      <td>False</td>\n",
       "    </tr>\n",
       "    <tr>\n",
       "      <th>city</th>\n",
       "      <td>London</td>\n",
       "      <td>London</td>\n",
       "      <td>London</td>\n",
       "      <td>London</td>\n",
       "      <td>London</td>\n",
       "    </tr>\n",
       "    <tr>\n",
       "      <th>valid_orders</th>\n",
       "      <td>0</td>\n",
       "      <td>1</td>\n",
       "      <td>0</td>\n",
       "      <td>0</td>\n",
       "      <td>0</td>\n",
       "    </tr>\n",
       "    <tr>\n",
       "      <th>open_orders</th>\n",
       "      <td>0</td>\n",
       "      <td>0</td>\n",
       "      <td>0</td>\n",
       "      <td>0</td>\n",
       "      <td>0</td>\n",
       "    </tr>\n",
       "    <tr>\n",
       "      <th>canceled_orders</th>\n",
       "      <td>2</td>\n",
       "      <td>1</td>\n",
       "      <td>1</td>\n",
       "      <td>1</td>\n",
       "      <td>2</td>\n",
       "    </tr>\n",
       "    <tr>\n",
       "      <th>pay_error_orders</th>\n",
       "      <td>0</td>\n",
       "      <td>0</td>\n",
       "      <td>0</td>\n",
       "      <td>0</td>\n",
       "      <td>0</td>\n",
       "    </tr>\n",
       "    <tr>\n",
       "      <th>completed_orders</th>\n",
       "      <td>0</td>\n",
       "      <td>1</td>\n",
       "      <td>0</td>\n",
       "      <td>0</td>\n",
       "      <td>0</td>\n",
       "    </tr>\n",
       "    <tr>\n",
       "      <th>total_orders</th>\n",
       "      <td>2</td>\n",
       "      <td>2</td>\n",
       "      <td>1</td>\n",
       "      <td>1</td>\n",
       "      <td>2</td>\n",
       "    </tr>\n",
       "    <tr>\n",
       "      <th>last_order_state</th>\n",
       "      <td>canceled</td>\n",
       "      <td>completed</td>\n",
       "      <td>canceled</td>\n",
       "      <td>canceled</td>\n",
       "      <td>canceled</td>\n",
       "    </tr>\n",
       "    <tr>\n",
       "      <th>last_order_date</th>\n",
       "      <td>2014-10-22 11:34:35</td>\n",
       "      <td>2015-03-30 12:22:29</td>\n",
       "      <td>2014-10-22 18:53:03</td>\n",
       "      <td>2014-10-22 19:04:20</td>\n",
       "      <td>2015-04-20 15:42:09</td>\n",
       "    </tr>\n",
       "    <tr>\n",
       "      <th>first_order_date</th>\n",
       "      <td>2014-10-22 11:30:16</td>\n",
       "      <td>2014-10-22 12:06:13</td>\n",
       "      <td>2014-10-22 18:53:03</td>\n",
       "      <td>2014-10-22 19:04:20</td>\n",
       "      <td>2015-02-10 10:48:22</td>\n",
       "    </tr>\n",
       "    <tr>\n",
       "      <th>second_order_date</th>\n",
       "      <td>NaN</td>\n",
       "      <td>NaN</td>\n",
       "      <td>NaN</td>\n",
       "      <td>NaN</td>\n",
       "      <td>NaN</td>\n",
       "    </tr>\n",
       "    <tr>\n",
       "      <th>first_order_recency</th>\n",
       "      <td>NaN</td>\n",
       "      <td>NaN</td>\n",
       "      <td>NaN</td>\n",
       "      <td>NaN</td>\n",
       "      <td>NaN</td>\n",
       "    </tr>\n",
       "    <tr>\n",
       "      <th>Before Service Class</th>\n",
       "      <td>2</td>\n",
       "      <td>2</td>\n",
       "      <td>1</td>\n",
       "      <td>1</td>\n",
       "      <td>2</td>\n",
       "    </tr>\n",
       "    <tr>\n",
       "      <th>CLASSIC</th>\n",
       "      <td>0</td>\n",
       "      <td>0</td>\n",
       "      <td>0</td>\n",
       "      <td>0</td>\n",
       "      <td>0</td>\n",
       "    </tr>\n",
       "    <tr>\n",
       "      <th>EXPRESS</th>\n",
       "      <td>0</td>\n",
       "      <td>0</td>\n",
       "      <td>0</td>\n",
       "      <td>0</td>\n",
       "      <td>0</td>\n",
       "    </tr>\n",
       "    <tr>\n",
       "      <th>LITE</th>\n",
       "      <td>0</td>\n",
       "      <td>0</td>\n",
       "      <td>0</td>\n",
       "      <td>0</td>\n",
       "      <td>0</td>\n",
       "    </tr>\n",
       "    <tr>\n",
       "      <th>PERSIL</th>\n",
       "      <td>0</td>\n",
       "      <td>0</td>\n",
       "      <td>0</td>\n",
       "      <td>0</td>\n",
       "      <td>0</td>\n",
       "    </tr>\n",
       "    <tr>\n",
       "      <th>PLUS</th>\n",
       "      <td>0</td>\n",
       "      <td>0</td>\n",
       "      <td>0</td>\n",
       "      <td>0</td>\n",
       "      <td>0</td>\n",
       "    </tr>\n",
       "    <tr>\n",
       "      <th>last_order_service_class</th>\n",
       "      <td>Before Service Class</td>\n",
       "      <td>Before Service Class</td>\n",
       "      <td>Before Service Class</td>\n",
       "      <td>Before Service Class</td>\n",
       "      <td>Before Service Class</td>\n",
       "    </tr>\n",
       "    <tr>\n",
       "      <th>first_order_service_class</th>\n",
       "      <td>Before Service Class</td>\n",
       "      <td>Before Service Class</td>\n",
       "      <td>Before Service Class</td>\n",
       "      <td>Before Service Class</td>\n",
       "      <td>Before Service Class</td>\n",
       "    </tr>\n",
       "    <tr>\n",
       "      <th>...</th>\n",
       "      <td>...</td>\n",
       "      <td>...</td>\n",
       "      <td>...</td>\n",
       "      <td>...</td>\n",
       "      <td>...</td>\n",
       "    </tr>\n",
       "    <tr>\n",
       "      <th>reclean_ratio</th>\n",
       "      <td>0</td>\n",
       "      <td>0</td>\n",
       "      <td>0</td>\n",
       "      <td>0</td>\n",
       "      <td>0</td>\n",
       "    </tr>\n",
       "    <tr>\n",
       "      <th>internal_reschedules</th>\n",
       "      <td>0</td>\n",
       "      <td>0</td>\n",
       "      <td>0</td>\n",
       "      <td>0</td>\n",
       "      <td>0</td>\n",
       "    </tr>\n",
       "    <tr>\n",
       "      <th>customer_reschedules</th>\n",
       "      <td>0</td>\n",
       "      <td>0</td>\n",
       "      <td>0</td>\n",
       "      <td>0</td>\n",
       "      <td>0</td>\n",
       "    </tr>\n",
       "    <tr>\n",
       "      <th>rated_orders</th>\n",
       "      <td>0</td>\n",
       "      <td>0</td>\n",
       "      <td>0</td>\n",
       "      <td>0</td>\n",
       "      <td>0</td>\n",
       "    </tr>\n",
       "    <tr>\n",
       "      <th>avg_rating</th>\n",
       "      <td>NaN</td>\n",
       "      <td>NaN</td>\n",
       "      <td>NaN</td>\n",
       "      <td>NaN</td>\n",
       "      <td>NaN</td>\n",
       "    </tr>\n",
       "    <tr>\n",
       "      <th>rated_orders_ratio</th>\n",
       "      <td>0</td>\n",
       "      <td>0</td>\n",
       "      <td>0</td>\n",
       "      <td>0</td>\n",
       "      <td>0</td>\n",
       "    </tr>\n",
       "    <tr>\n",
       "      <th>last_order_rating</th>\n",
       "      <td>NaN</td>\n",
       "      <td>NaN</td>\n",
       "      <td>NaN</td>\n",
       "      <td>NaN</td>\n",
       "      <td>NaN</td>\n",
       "    </tr>\n",
       "    <tr>\n",
       "      <th>rating_diff</th>\n",
       "      <td>NaN</td>\n",
       "      <td>NaN</td>\n",
       "      <td>NaN</td>\n",
       "      <td>NaN</td>\n",
       "      <td>NaN</td>\n",
       "    </tr>\n",
       "    <tr>\n",
       "      <th>first_order_rating</th>\n",
       "      <td>NaN</td>\n",
       "      <td>NaN</td>\n",
       "      <td>NaN</td>\n",
       "      <td>NaN</td>\n",
       "      <td>NaN</td>\n",
       "    </tr>\n",
       "    <tr>\n",
       "      <th>refunds_success</th>\n",
       "      <td>NaN</td>\n",
       "      <td>NaN</td>\n",
       "      <td>NaN</td>\n",
       "      <td>NaN</td>\n",
       "      <td>NaN</td>\n",
       "    </tr>\n",
       "    <tr>\n",
       "      <th>refunds_unsuccess</th>\n",
       "      <td>NaN</td>\n",
       "      <td>NaN</td>\n",
       "      <td>NaN</td>\n",
       "      <td>NaN</td>\n",
       "      <td>NaN</td>\n",
       "    </tr>\n",
       "    <tr>\n",
       "      <th>last_order_refund_request</th>\n",
       "      <td>False</td>\n",
       "      <td>False</td>\n",
       "      <td>False</td>\n",
       "      <td>False</td>\n",
       "      <td>False</td>\n",
       "    </tr>\n",
       "    <tr>\n",
       "      <th>pickup_friday</th>\n",
       "      <td>0</td>\n",
       "      <td>0</td>\n",
       "      <td>0</td>\n",
       "      <td>0</td>\n",
       "      <td>0</td>\n",
       "    </tr>\n",
       "    <tr>\n",
       "      <th>pickup_monday</th>\n",
       "      <td>0</td>\n",
       "      <td>0.5</td>\n",
       "      <td>0</td>\n",
       "      <td>0</td>\n",
       "      <td>0.5</td>\n",
       "    </tr>\n",
       "    <tr>\n",
       "      <th>pickup_saturday</th>\n",
       "      <td>0</td>\n",
       "      <td>0</td>\n",
       "      <td>0</td>\n",
       "      <td>0</td>\n",
       "      <td>0</td>\n",
       "    </tr>\n",
       "    <tr>\n",
       "      <th>pickup_sunday</th>\n",
       "      <td>0</td>\n",
       "      <td>0</td>\n",
       "      <td>0</td>\n",
       "      <td>0</td>\n",
       "      <td>0</td>\n",
       "    </tr>\n",
       "    <tr>\n",
       "      <th>pickup_thursday</th>\n",
       "      <td>0</td>\n",
       "      <td>0</td>\n",
       "      <td>0</td>\n",
       "      <td>0</td>\n",
       "      <td>0</td>\n",
       "    </tr>\n",
       "    <tr>\n",
       "      <th>pickup_tuesday</th>\n",
       "      <td>0</td>\n",
       "      <td>0.5</td>\n",
       "      <td>0</td>\n",
       "      <td>0</td>\n",
       "      <td>0.5</td>\n",
       "    </tr>\n",
       "    <tr>\n",
       "      <th>pickup_wednesday</th>\n",
       "      <td>1</td>\n",
       "      <td>0</td>\n",
       "      <td>1</td>\n",
       "      <td>1</td>\n",
       "      <td>0</td>\n",
       "    </tr>\n",
       "    <tr>\n",
       "      <th>pickup_after_noon</th>\n",
       "      <td>0</td>\n",
       "      <td>0</td>\n",
       "      <td>0</td>\n",
       "      <td>1</td>\n",
       "      <td>0.5</td>\n",
       "    </tr>\n",
       "    <tr>\n",
       "      <th>pickup_before_noon</th>\n",
       "      <td>1</td>\n",
       "      <td>0</td>\n",
       "      <td>0</td>\n",
       "      <td>0</td>\n",
       "      <td>0.5</td>\n",
       "    </tr>\n",
       "    <tr>\n",
       "      <th>pickup_early_morning</th>\n",
       "      <td>0</td>\n",
       "      <td>1</td>\n",
       "      <td>0</td>\n",
       "      <td>0</td>\n",
       "      <td>0</td>\n",
       "    </tr>\n",
       "    <tr>\n",
       "      <th>pickup_evening</th>\n",
       "      <td>0</td>\n",
       "      <td>0</td>\n",
       "      <td>1</td>\n",
       "      <td>0</td>\n",
       "      <td>0</td>\n",
       "    </tr>\n",
       "    <tr>\n",
       "      <th>last_order_fac_name</th>\n",
       "      <td>NaN</td>\n",
       "      <td>NaN</td>\n",
       "      <td>NaN</td>\n",
       "      <td>NaN</td>\n",
       "      <td>NaN</td>\n",
       "    </tr>\n",
       "    <tr>\n",
       "      <th>first_order_fac_name</th>\n",
       "      <td>NaN</td>\n",
       "      <td>NaN</td>\n",
       "      <td>NaN</td>\n",
       "      <td>NaN</td>\n",
       "      <td>NaN</td>\n",
       "    </tr>\n",
       "    <tr>\n",
       "      <th>zip</th>\n",
       "      <td>WC2B 5</td>\n",
       "      <td>W1D 1BS</td>\n",
       "      <td>WC2B 5</td>\n",
       "      <td>WC2A 3</td>\n",
       "      <td>WC2B 5</td>\n",
       "    </tr>\n",
       "    <tr>\n",
       "      <th>zip_area</th>\n",
       "      <td>wc</td>\n",
       "      <td>w</td>\n",
       "      <td>wc</td>\n",
       "      <td>wc</td>\n",
       "      <td>wc</td>\n",
       "    </tr>\n",
       "    <tr>\n",
       "      <th>avg_hub_distance</th>\n",
       "      <td>4133.5</td>\n",
       "      <td>4169.65</td>\n",
       "      <td>4133.5</td>\n",
       "      <td>4093.85</td>\n",
       "      <td>4129.54</td>\n",
       "    </tr>\n",
       "    <tr>\n",
       "      <th>last_order_hub_distance</th>\n",
       "      <td>4133.5</td>\n",
       "      <td>4209.76</td>\n",
       "      <td>4133.5</td>\n",
       "      <td>4093.85</td>\n",
       "      <td>4129.54</td>\n",
       "    </tr>\n",
       "    <tr>\n",
       "      <th>first_order_hub_distance</th>\n",
       "      <td>4133.5</td>\n",
       "      <td>4129.54</td>\n",
       "      <td>4133.5</td>\n",
       "      <td>4093.85</td>\n",
       "      <td>4129.54</td>\n",
       "    </tr>\n",
       "  </tbody>\n",
       "</table>\n",
       "<p>77 rows × 5 columns</p>\n",
       "</div>"
      ],
      "text/plain": [
       "                                                  0                         1  \\\n",
       "customer_db_id             54478736d4cde82247f1345f  54478fa4d3cde8d17ca5e4db   \n",
       "customer_id                         GB-CUS-Y8922200           GB-CUS-K3854440   \n",
       "gender                                         male                    female   \n",
       "segment                                         NaN                       RED   \n",
       "aov                                             NaN                   10.1501   \n",
       "recency                                        1370                      1211   \n",
       "frequency                                         0                         0   \n",
       "churn_factor                                      1                         1   \n",
       "referred                                      False                     False   \n",
       "newsletter_optin                              False                     False   \n",
       "city                                         London                    London   \n",
       "valid_orders                                      0                         1   \n",
       "open_orders                                       0                         0   \n",
       "canceled_orders                                   2                         1   \n",
       "pay_error_orders                                  0                         0   \n",
       "completed_orders                                  0                         1   \n",
       "total_orders                                      2                         2   \n",
       "last_order_state                           canceled                 completed   \n",
       "last_order_date                 2014-10-22 11:34:35       2015-03-30 12:22:29   \n",
       "first_order_date                2014-10-22 11:30:16       2014-10-22 12:06:13   \n",
       "second_order_date                               NaN                       NaN   \n",
       "first_order_recency                             NaN                       NaN   \n",
       "Before Service Class                              2                         2   \n",
       "CLASSIC                                           0                         0   \n",
       "EXPRESS                                           0                         0   \n",
       "LITE                                              0                         0   \n",
       "PERSIL                                            0                         0   \n",
       "PLUS                                              0                         0   \n",
       "last_order_service_class       Before Service Class      Before Service Class   \n",
       "first_order_service_class      Before Service Class      Before Service Class   \n",
       "...                                             ...                       ...   \n",
       "reclean_ratio                                     0                         0   \n",
       "internal_reschedules                              0                         0   \n",
       "customer_reschedules                              0                         0   \n",
       "rated_orders                                      0                         0   \n",
       "avg_rating                                      NaN                       NaN   \n",
       "rated_orders_ratio                                0                         0   \n",
       "last_order_rating                               NaN                       NaN   \n",
       "rating_diff                                     NaN                       NaN   \n",
       "first_order_rating                              NaN                       NaN   \n",
       "refunds_success                                 NaN                       NaN   \n",
       "refunds_unsuccess                               NaN                       NaN   \n",
       "last_order_refund_request                     False                     False   \n",
       "pickup_friday                                     0                         0   \n",
       "pickup_monday                                     0                       0.5   \n",
       "pickup_saturday                                   0                         0   \n",
       "pickup_sunday                                     0                         0   \n",
       "pickup_thursday                                   0                         0   \n",
       "pickup_tuesday                                    0                       0.5   \n",
       "pickup_wednesday                                  1                         0   \n",
       "pickup_after_noon                                 0                         0   \n",
       "pickup_before_noon                                1                         0   \n",
       "pickup_early_morning                              0                         1   \n",
       "pickup_evening                                    0                         0   \n",
       "last_order_fac_name                             NaN                       NaN   \n",
       "first_order_fac_name                            NaN                       NaN   \n",
       "zip                                          WC2B 5                   W1D 1BS   \n",
       "zip_area                                         wc                         w   \n",
       "avg_hub_distance                             4133.5                   4169.65   \n",
       "last_order_hub_distance                      4133.5                   4209.76   \n",
       "first_order_hub_distance                     4133.5                   4129.54   \n",
       "\n",
       "                                                  2                         3  \\\n",
       "customer_db_id             5447eefcd3cde8cf7ca5e4eb  5447f1a2d4cde82147f1347d   \n",
       "customer_id                         GB-CUS-L2277081           GB-CUS-C3589820   \n",
       "gender                                         male                      male   \n",
       "segment                                         NaN                       NaN   \n",
       "aov                                             NaN                       NaN   \n",
       "recency                                        1370                      1370   \n",
       "frequency                                         0                         0   \n",
       "churn_factor                                      1                         1   \n",
       "referred                                      False                     False   \n",
       "newsletter_optin                              False                     False   \n",
       "city                                         London                    London   \n",
       "valid_orders                                      0                         0   \n",
       "open_orders                                       0                         0   \n",
       "canceled_orders                                   1                         1   \n",
       "pay_error_orders                                  0                         0   \n",
       "completed_orders                                  0                         0   \n",
       "total_orders                                      1                         1   \n",
       "last_order_state                           canceled                  canceled   \n",
       "last_order_date                 2014-10-22 18:53:03       2014-10-22 19:04:20   \n",
       "first_order_date                2014-10-22 18:53:03       2014-10-22 19:04:20   \n",
       "second_order_date                               NaN                       NaN   \n",
       "first_order_recency                             NaN                       NaN   \n",
       "Before Service Class                              1                         1   \n",
       "CLASSIC                                           0                         0   \n",
       "EXPRESS                                           0                         0   \n",
       "LITE                                              0                         0   \n",
       "PERSIL                                            0                         0   \n",
       "PLUS                                              0                         0   \n",
       "last_order_service_class       Before Service Class      Before Service Class   \n",
       "first_order_service_class      Before Service Class      Before Service Class   \n",
       "...                                             ...                       ...   \n",
       "reclean_ratio                                     0                         0   \n",
       "internal_reschedules                              0                         0   \n",
       "customer_reschedules                              0                         0   \n",
       "rated_orders                                      0                         0   \n",
       "avg_rating                                      NaN                       NaN   \n",
       "rated_orders_ratio                                0                         0   \n",
       "last_order_rating                               NaN                       NaN   \n",
       "rating_diff                                     NaN                       NaN   \n",
       "first_order_rating                              NaN                       NaN   \n",
       "refunds_success                                 NaN                       NaN   \n",
       "refunds_unsuccess                               NaN                       NaN   \n",
       "last_order_refund_request                     False                     False   \n",
       "pickup_friday                                     0                         0   \n",
       "pickup_monday                                     0                         0   \n",
       "pickup_saturday                                   0                         0   \n",
       "pickup_sunday                                     0                         0   \n",
       "pickup_thursday                                   0                         0   \n",
       "pickup_tuesday                                    0                         0   \n",
       "pickup_wednesday                                  1                         1   \n",
       "pickup_after_noon                                 0                         1   \n",
       "pickup_before_noon                                0                         0   \n",
       "pickup_early_morning                              0                         0   \n",
       "pickup_evening                                    1                         0   \n",
       "last_order_fac_name                             NaN                       NaN   \n",
       "first_order_fac_name                            NaN                       NaN   \n",
       "zip                                          WC2B 5                    WC2A 3   \n",
       "zip_area                                         wc                        wc   \n",
       "avg_hub_distance                             4133.5                   4093.85   \n",
       "last_order_hub_distance                      4133.5                   4093.85   \n",
       "first_order_hub_distance                     4133.5                   4093.85   \n",
       "\n",
       "                                                  4  \n",
       "customer_db_id             544976fad4cde8f3415bedb0  \n",
       "customer_id                         GB-CUS-P7798401  \n",
       "gender                                         male  \n",
       "segment                                         NaN  \n",
       "aov                                             NaN  \n",
       "recency                                        1190  \n",
       "frequency                                         0  \n",
       "churn_factor                                      1  \n",
       "referred                                      False  \n",
       "newsletter_optin                              False  \n",
       "city                                         London  \n",
       "valid_orders                                      0  \n",
       "open_orders                                       0  \n",
       "canceled_orders                                   2  \n",
       "pay_error_orders                                  0  \n",
       "completed_orders                                  0  \n",
       "total_orders                                      2  \n",
       "last_order_state                           canceled  \n",
       "last_order_date                 2015-04-20 15:42:09  \n",
       "first_order_date                2015-02-10 10:48:22  \n",
       "second_order_date                               NaN  \n",
       "first_order_recency                             NaN  \n",
       "Before Service Class                              2  \n",
       "CLASSIC                                           0  \n",
       "EXPRESS                                           0  \n",
       "LITE                                              0  \n",
       "PERSIL                                            0  \n",
       "PLUS                                              0  \n",
       "last_order_service_class       Before Service Class  \n",
       "first_order_service_class      Before Service Class  \n",
       "...                                             ...  \n",
       "reclean_ratio                                     0  \n",
       "internal_reschedules                              0  \n",
       "customer_reschedules                              0  \n",
       "rated_orders                                      0  \n",
       "avg_rating                                      NaN  \n",
       "rated_orders_ratio                                0  \n",
       "last_order_rating                               NaN  \n",
       "rating_diff                                     NaN  \n",
       "first_order_rating                              NaN  \n",
       "refunds_success                                 NaN  \n",
       "refunds_unsuccess                               NaN  \n",
       "last_order_refund_request                     False  \n",
       "pickup_friday                                     0  \n",
       "pickup_monday                                   0.5  \n",
       "pickup_saturday                                   0  \n",
       "pickup_sunday                                     0  \n",
       "pickup_thursday                                   0  \n",
       "pickup_tuesday                                  0.5  \n",
       "pickup_wednesday                                  0  \n",
       "pickup_after_noon                               0.5  \n",
       "pickup_before_noon                              0.5  \n",
       "pickup_early_morning                              0  \n",
       "pickup_evening                                    0  \n",
       "last_order_fac_name                             NaN  \n",
       "first_order_fac_name                            NaN  \n",
       "zip                                          WC2B 5  \n",
       "zip_area                                         wc  \n",
       "avg_hub_distance                            4129.54  \n",
       "last_order_hub_distance                     4129.54  \n",
       "first_order_hub_distance                    4129.54  \n",
       "\n",
       "[77 rows x 5 columns]"
      ]
     },
     "execution_count": 4,
     "metadata": {},
     "output_type": "execute_result"
    }
   ],
   "source": [
    "df.head().T"
   ]
  },
  {
   "cell_type": "markdown",
   "metadata": {},
   "source": [
    "# Preprocessing"
   ]
  },
  {
   "cell_type": "code",
   "execution_count": 5,
   "metadata": {},
   "outputs": [],
   "source": [
    "df['churned'] = [True if x > 1 else False for x in df.churn_factor]\n",
    "df['first_order_voucher_revenue_ratio'] = df.first_order_voucher_value / (df.first_order_voucher_value + df.first_order_revenue)"
   ]
  },
  {
   "cell_type": "markdown",
   "metadata": {},
   "source": [
    "## Fill NAs"
   ]
  },
  {
   "cell_type": "code",
   "execution_count": 6,
   "metadata": {},
   "outputs": [
    {
     "data": {
      "text/plain": [
       "refunds_unsuccess                    38801\n",
       "refunds_success                      38179\n",
       "last_order_rating                    32774\n",
       "rating_diff                          32774\n",
       "first_order_rating                   30620\n",
       "first_order_fac_name                 26065\n",
       "avg_rating                           25465\n",
       "last_order_voucher_channel           23218\n",
       "second_order_date                    22559\n",
       "first_order_recency                  22559\n",
       "last_order_fac_name                  20815\n",
       "first_order_voucher_channel          20005\n",
       "first_order_products                 10820\n",
       "first_order_voucher_revenue_ratio     7315\n",
       "first_order_voucher_value             7314\n",
       "last_order_voucher_value              6360\n",
       "last_order_hub_distance               5837\n",
       "first_order_hub_distance              5779\n",
       "avg_hub_distance                      4720\n",
       "aov                                   4115\n",
       "segment                               4115\n",
       "gender                                1140\n",
       "zip_area                               613\n",
       "zip                                    498\n",
       "dtype: int64"
      ]
     },
     "execution_count": 6,
     "metadata": {},
     "output_type": "execute_result"
    }
   ],
   "source": [
    "nans = df.isnull().sum()\n",
    "nans[nans > 0].sort_values(ascending = False)"
   ]
  },
  {
   "cell_type": "code",
   "execution_count": 7,
   "metadata": {},
   "outputs": [],
   "source": [
    "df['first_order_products'] = df['first_order_products'].fillna(\"\")"
   ]
  },
  {
   "cell_type": "code",
   "execution_count": 8,
   "metadata": {},
   "outputs": [],
   "source": [
    "df[['refunds_unsuccess', 'refunds_success']] = df[['refunds_unsuccess', 'refunds_success']].fillna(0)"
   ]
  },
  {
   "cell_type": "code",
   "execution_count": 9,
   "metadata": {},
   "outputs": [
    {
     "data": {
      "text/html": [
       "<div>\n",
       "<style scoped>\n",
       "    .dataframe tbody tr th:only-of-type {\n",
       "        vertical-align: middle;\n",
       "    }\n",
       "\n",
       "    .dataframe tbody tr th {\n",
       "        vertical-align: top;\n",
       "    }\n",
       "\n",
       "    .dataframe thead th {\n",
       "        text-align: right;\n",
       "    }\n",
       "</style>\n",
       "<table border=\"1\" class=\"dataframe\">\n",
       "  <thead>\n",
       "    <tr style=\"text-align: right;\">\n",
       "      <th></th>\n",
       "      <th>avg_rating</th>\n",
       "      <th>rating_diff</th>\n",
       "      <th>last_order_rating</th>\n",
       "      <th>rated_orders</th>\n",
       "      <th>first_order_rating</th>\n",
       "    </tr>\n",
       "  </thead>\n",
       "  <tbody>\n",
       "    <tr>\n",
       "      <th>31</th>\n",
       "      <td>5.000000</td>\n",
       "      <td>-999.000000</td>\n",
       "      <td>-999.0</td>\n",
       "      <td>1</td>\n",
       "      <td>-999.0</td>\n",
       "    </tr>\n",
       "    <tr>\n",
       "      <th>33</th>\n",
       "      <td>4.821429</td>\n",
       "      <td>-999.000000</td>\n",
       "      <td>-999.0</td>\n",
       "      <td>28</td>\n",
       "      <td>-999.0</td>\n",
       "    </tr>\n",
       "    <tr>\n",
       "      <th>38</th>\n",
       "      <td>4.897436</td>\n",
       "      <td>-999.000000</td>\n",
       "      <td>-999.0</td>\n",
       "      <td>39</td>\n",
       "      <td>-999.0</td>\n",
       "    </tr>\n",
       "    <tr>\n",
       "      <th>44</th>\n",
       "      <td>3.888889</td>\n",
       "      <td>-999.000000</td>\n",
       "      <td>-999.0</td>\n",
       "      <td>9</td>\n",
       "      <td>-999.0</td>\n",
       "    </tr>\n",
       "    <tr>\n",
       "      <th>46</th>\n",
       "      <td>2.333333</td>\n",
       "      <td>2.666667</td>\n",
       "      <td>5.0</td>\n",
       "      <td>3</td>\n",
       "      <td>-999.0</td>\n",
       "    </tr>\n",
       "  </tbody>\n",
       "</table>\n",
       "</div>"
      ],
      "text/plain": [
       "    avg_rating  rating_diff  last_order_rating  rated_orders  \\\n",
       "31    5.000000  -999.000000             -999.0             1   \n",
       "33    4.821429  -999.000000             -999.0            28   \n",
       "38    4.897436  -999.000000             -999.0            39   \n",
       "44    3.888889  -999.000000             -999.0             9   \n",
       "46    2.333333     2.666667                5.0             3   \n",
       "\n",
       "    first_order_rating  \n",
       "31              -999.0  \n",
       "33              -999.0  \n",
       "38              -999.0  \n",
       "44              -999.0  \n",
       "46              -999.0  "
      ]
     },
     "execution_count": 9,
     "metadata": {},
     "output_type": "execute_result"
    }
   ],
   "source": [
    "rating_cols = ['avg_rating', 'rating_diff', 'last_order_rating', 'rated_orders', 'first_order_rating']\n",
    "df[rating_cols] = df[rating_cols].fillna(-999)\n",
    "df.loc[df.rated_orders > 0, rating_cols].head()"
   ]
  },
  {
   "cell_type": "code",
   "execution_count": 10,
   "metadata": {},
   "outputs": [],
   "source": [
    "df.aov = df.aov.fillna(0)\n",
    "df.segment = df.segment.fillna('None')\n",
    "df.gender = df.gender.fillna('Unknown')"
   ]
  },
  {
   "cell_type": "code",
   "execution_count": 11,
   "metadata": {},
   "outputs": [],
   "source": [
    "df.zip = df.zip.fillna('Unknown')\n",
    "df.zip_area = df.zip_area.fillna('Unknown')\n",
    "\n",
    "df.avg_hub_distance = df.avg_hub_distance.fillna(-999)\n",
    "df.last_order_hub_distance = df.last_order_hub_distance.fillna(-999)\n",
    "df.first_order_hub_distance = df.first_order_hub_distance.fillna(-999)"
   ]
  },
  {
   "cell_type": "code",
   "execution_count": 12,
   "metadata": {},
   "outputs": [],
   "source": [
    "df.first_order_date = pd.to_datetime(df.first_order_date)\n",
    "df['first_order_week'] = df['first_order_date'].dt.week\n",
    "df['first_order_year'] = df['first_order_date'].dt.year\n",
    "df['first_order_day'] = df['first_order_date'].dt.day\n",
    "df['first_order_month'] = df['first_order_date'].dt.month"
   ]
  },
  {
   "cell_type": "code",
   "execution_count": 13,
   "metadata": {},
   "outputs": [],
   "source": [
    "df.first_order_fac_name = df.first_order_fac_name.fillna('unknown')\n",
    "df.first_order_voucher_channel = df.first_order_voucher_channel.fillna('unknown')\n",
    "df.first_order_voucher_value = df.first_order_voucher_value.fillna(-999)\n",
    "df.first_order_voucher_revenue_ratio = df.first_order_voucher_revenue_ratio.fillna(0)\n",
    "df.last_order_fac_name = df.last_order_fac_name.fillna('unknown')\n",
    "df.last_order_voucher_channel = df.last_order_voucher_channel.fillna('unknown')\n",
    "df.last_order_voucher_value = df.last_order_voucher_value.fillna(-999)"
   ]
  },
  {
   "cell_type": "code",
   "execution_count": 14,
   "metadata": {},
   "outputs": [
    {
     "data": {
      "text/plain": [
       "first_order_recency    22559\n",
       "second_order_date      22559\n",
       "dtype: int64"
      ]
     },
     "execution_count": 14,
     "metadata": {},
     "output_type": "execute_result"
    }
   ],
   "source": [
    "nans = df.isnull().sum()\n",
    "nans[nans > 0].sort_values(ascending = False)"
   ]
  },
  {
   "cell_type": "markdown",
   "metadata": {},
   "source": [
    "## Label Encoding"
   ]
  },
  {
   "cell_type": "code",
   "execution_count": 15,
   "metadata": {},
   "outputs": [],
   "source": [
    "voucher_channel_le = LabelEncoder()\n",
    "voucher_channel_le.fit(df.first_order_voucher_channel)\n",
    "df['first_order_voucher_channel_enc'] = voucher_channel_le.transform(df.first_order_voucher_channel.tolist())\n",
    "\n",
    "products_le = LabelEncoder()\n",
    "products_le.fit(df.first_order_products)\n",
    "df['first_order_products_enc'] = products_le.transform(df.first_order_products.tolist())\n",
    "\n",
    "facility_le = LabelEncoder()\n",
    "facility_le.fit(df.first_order_fac_name)\n",
    "df['first_order_fac_name_enc'] = facility_le.transform(df.first_order_fac_name.tolist())\n",
    "\n",
    "order_date_le = LabelEncoder()\n",
    "order_date_le.fit(df.first_order_date.sort_values().dt.strftime('%Y-%m-%d'))\n",
    "df['first_order_date_enc'] = order_date_le.transform(df.first_order_date.dt.strftime('%Y-%m-%d').tolist())"
   ]
  },
  {
   "cell_type": "markdown",
   "metadata": {},
   "source": [
    "# Bad vs Good Voucher Customers\n",
    "*Assumption: Bad customers are customers who had one completed order using a voucher, had a good customer experience and didn't place another order for more than a year. These customers should be excluded from churn analysis.*\n",
    "\n",
    "We want to analyse, if there are any specific features, such as area, channels, products that identify bad customers. In order to analyse, we create a comparison 'Good Customers' group, which are customers, who have returned after their first order with vouchers within a year.\n",
    "\n",
    "Bad Voucher customers: \n",
    "- First_Order_Voucher == TRUE\n",
    "- Completed_Orders == 1\n",
    "- Total_Orders == 1\n",
    "- Last_Order > 365 days ago\n",
    "\n",
    "Good Voucher customers:\n",
    "- First_Order_Voucher == TRUE\n",
    "- Completed_Orders > 1\n",
    "- Second completed order within a year"
   ]
  },
  {
   "cell_type": "code",
   "execution_count": 16,
   "metadata": {},
   "outputs": [],
   "source": [
    "df_vou = df.loc[df.first_order_voucher & df.valid_orders > 0]\n",
    "df_vou_good = df_vou.loc[(df_vou.valid_orders > 1) & (df_vou.first_order_recency < 365)]\n",
    "df_vou_bad = df_vou.loc[(df_vou.valid_orders == 1) & (df_vou.total_orders == 1) & (df_vou.recency > 365)]\n",
    "\n",
    "df_vou_bad = df_vou_bad.loc[df_vou_bad.first_order_date < \"2017-07-21\"]\n",
    "df_vou_good = df_vou_good.loc[df_vou_good.first_order_date < \"2017-07-21\"]"
   ]
  },
  {
   "cell_type": "code",
   "execution_count": 17,
   "metadata": {},
   "outputs": [
    {
     "name": "stdout",
     "output_type": "stream",
     "text": [
      "Number of Bad customers:  6873\n",
      "Number of Good customers:  2180\n"
     ]
    }
   ],
   "source": [
    "print('Number of Bad customers: ', df_vou_bad.shape[0])\n",
    "print('Number of Good customers: ', df_vou_good.shape[0])\n",
    "\n",
    "df_vou_bad['customer_type'] = 'bad'\n",
    "df_vou_good['customer_type'] = 'good'"
   ]
  },
  {
   "cell_type": "markdown",
   "metadata": {},
   "source": [
    "# Bad customers with Bad experience\n",
    "*Assumption: If a BAD customer churned because of bad experience, he should be included in the churn analysis*\n",
    "\n",
    "Customers falling into the following groups should not be excluded from analysis:\n",
    "* reclean_order\n",
    "* order_rating < 4\n",
    "* internal_reschedules > 1\n",
    "* refund"
   ]
  },
  {
   "cell_type": "code",
   "execution_count": 25,
   "metadata": {},
   "outputs": [],
   "source": [
    "def plot_bad_vs_good_by_column(column_name):\n",
    "    df_bad = df_vou_bad.groupby(column_name)['customer_db_id'].nunique() / df_vou_bad.shape[0]\n",
    "    df_good = df_vou_good.groupby(column_name)['customer_db_id'].nunique() / df_vou_good.shape[0]\n",
    "    df_diff = df_good - df_bad\n",
    "    df_diff_relative = df_diff / (df_bad + df_good)\n",
    "    df = pd.concat([df_bad, df_good, df_diff, df_diff_relative], \n",
    "                  axis=1, keys=['bad', 'good', 'diff', 'diff_relative'], sort=True)\n",
    "    \n",
    "    df = df.sort_values('diff', ascending=False)\n",
    "    df[['bad', 'good']].plot(kind='bar', title=column_name)\n",
    "    df[['diff']].plot(kind='bar', title='diff (+ more good / - more bad)', color='orange')\n",
    "#     df[['diff_relative']].sort_values('diff_relative', ascending=False).plot(kind='bar', title='diff relative (diff / all customers)', color='orange')"
   ]
  },
  {
   "cell_type": "code",
   "execution_count": 18,
   "metadata": {
    "scrolled": false
   },
   "outputs": [
    {
     "data": {
      "text/plain": [
       "reclean_orders\n",
       "0    6861\n",
       "1      12\n",
       "Name: customer_db_id, dtype: int64"
      ]
     },
     "execution_count": 18,
     "metadata": {},
     "output_type": "execute_result"
    }
   ],
   "source": [
    "df_vou_bad.groupby(['reclean_orders'])['customer_db_id'].nunique()"
   ]
  },
  {
   "cell_type": "code",
   "execution_count": 19,
   "metadata": {
    "scrolled": false
   },
   "outputs": [
    {
     "data": {
      "text/plain": [
       "last_order_rating\n",
       "-999.0    5704\n",
       " 1.0       101\n",
       " 2.0        37\n",
       " 3.0       106\n",
       " 4.0       247\n",
       " 5.0       678\n",
       "Name: customer_db_id, dtype: int64"
      ]
     },
     "execution_count": 19,
     "metadata": {},
     "output_type": "execute_result"
    }
   ],
   "source": [
    "df_vou_bad.groupby(['last_order_rating'])['customer_db_id'].nunique()"
   ]
  },
  {
   "cell_type": "code",
   "execution_count": 20,
   "metadata": {
    "scrolled": false
   },
   "outputs": [
    {
     "data": {
      "text/plain": [
       "internal_reschedules\n",
       "0    6546\n",
       "1     249\n",
       "2      56\n",
       "3      18\n",
       "4       3\n",
       "5       1\n",
       "Name: customer_db_id, dtype: int64"
      ]
     },
     "execution_count": 20,
     "metadata": {},
     "output_type": "execute_result"
    }
   ],
   "source": [
    "df_vou_bad.groupby(['internal_reschedules'])['customer_db_id'].nunique()"
   ]
  },
  {
   "cell_type": "code",
   "execution_count": 21,
   "metadata": {
    "scrolled": false
   },
   "outputs": [
    {
     "data": {
      "text/plain": [
       "refunds_success\n",
       "0.0    6865\n",
       "1.0       8\n",
       "Name: customer_db_id, dtype: int64"
      ]
     },
     "execution_count": 21,
     "metadata": {},
     "output_type": "execute_result"
    }
   ],
   "source": [
    "df_vou_bad.groupby(['refunds_success'])['customer_db_id'].nunique()"
   ]
  },
  {
   "cell_type": "code",
   "execution_count": 23,
   "metadata": {},
   "outputs": [
    {
     "name": "stdout",
     "output_type": "stream",
     "text": [
      "Bad with bad experience:  233\n",
      "Bad with good experience:  6545\n"
     ]
    }
   ],
   "source": [
    "df_vou_bad_exp = df_vou_bad.loc[\n",
    "    (df_vou_bad.reclean_orders == 1) |\n",
    "    ((df_vou_bad.last_order_rating < 4) & (df_vou_bad.last_order_rating > 0)) |\n",
    "    (df_vou_bad.refunds_success == 1) |\n",
    "    (df_vou_bad.internal_reschedules > 1)\n",
    "]\n",
    "\n",
    "df_vou_bad = df_vou_bad.loc[~df_vou_bad.customer_db_id.isin(df_vou_bad_exp.customer_db_id)]\n",
    "df_both = pd.concat([df_vou_bad, df_vou_good])\n",
    "df_both['customer_type_enc'] = df_both['customer_type'].map({'bad': -1, 'good': 1})\n",
    "\n",
    "print('Bad with bad experience: ', df_vou_bad_exp.shape[0])\n",
    "print('Bad with good experience: ', df_vou_bad.shape[0])"
   ]
  },
  {
   "cell_type": "markdown",
   "metadata": {},
   "source": [
    "# Bad Customers with Good Experience"
   ]
  },
  {
   "cell_type": "markdown",
   "metadata": {},
   "source": [
    "## Voucher Channel\n",
    "*Assumption: The channel through which the customer has received the voucher influences if the acquired customer is going to come back after the first order.*"
   ]
  },
  {
   "cell_type": "code",
   "execution_count": 26,
   "metadata": {},
   "outputs": [
    {
     "data": {
      "image/png": "[encoded data removed]",
      "text/plain": [
       "<Figure size 432x288 with 1 Axes>"
      ]
     },
     "metadata": {},
     "output_type": "display_data"
    },
    {
     "data": {
      "image/png": "[encoded data removed]",
      "text/plain": [
       "<Figure size 432x288 with 1 Axes>"
      ]
     },
     "metadata": {},
     "output_type": "display_data"
    }
   ],
   "source": [
    "plot_bad_vs_good_by_column('first_order_voucher_channel')"
   ]
  },
  {
   "cell_type": "markdown",
   "metadata": {},
   "source": [
    "Conclusion: Customers that have acquired their vouchers from the following channels are **likely to churn after first order, even if they had a good customer experience**, and should be excluded from the analysis.\n",
    "* SEO\n",
    "* SEM\n",
    "* Appco/Direct Sales\n",
    "\n"
   ]
  },
  {
   "cell_type": "code",
   "execution_count": null,
   "metadata": {},
   "outputs": [],
   "source": [
    "bad_voucher_channels = ['SEO', 'SEM', 'Appco/Direct Sales']"
   ]
  },
  {
   "cell_type": "markdown",
   "metadata": {},
   "source": [
    "## Voucher Value"
   ]
  },
  {
   "cell_type": "code",
   "execution_count": 27,
   "metadata": {
    "scrolled": true
   },
   "outputs": [
    {
     "data": {
      "text/html": [
       "<div>\n",
       "<style scoped>\n",
       "    .dataframe tbody tr th:only-of-type {\n",
       "        vertical-align: middle;\n",
       "    }\n",
       "\n",
       "    .dataframe tbody tr th {\n",
       "        vertical-align: top;\n",
       "    }\n",
       "\n",
       "    .dataframe thead th {\n",
       "        text-align: right;\n",
       "    }\n",
       "</style>\n",
       "<table border=\"1\" class=\"dataframe\">\n",
       "  <thead>\n",
       "    <tr style=\"text-align: right;\">\n",
       "      <th></th>\n",
       "      <th>customer_type</th>\n",
       "      <th>bad</th>\n",
       "      <th>good</th>\n",
       "    </tr>\n",
       "  </thead>\n",
       "  <tbody>\n",
       "    <tr>\n",
       "      <th rowspan=\"8\" valign=\"top\">first_order_voucher_value</th>\n",
       "      <th>count</th>\n",
       "      <td>6450.000000</td>\n",
       "      <td>2037.000000</td>\n",
       "    </tr>\n",
       "    <tr>\n",
       "      <th>mean</th>\n",
       "      <td>18.150263</td>\n",
       "      <td>17.214461</td>\n",
       "    </tr>\n",
       "    <tr>\n",
       "      <th>std</th>\n",
       "      <td>10.752234</td>\n",
       "      <td>10.138337</td>\n",
       "    </tr>\n",
       "    <tr>\n",
       "      <th>min</th>\n",
       "      <td>0.000000</td>\n",
       "      <td>0.000000</td>\n",
       "    </tr>\n",
       "    <tr>\n",
       "      <th>25%</th>\n",
       "      <td>12.685630</td>\n",
       "      <td>12.652380</td>\n",
       "    </tr>\n",
       "    <tr>\n",
       "      <th>50%</th>\n",
       "      <td>17.158107</td>\n",
       "      <td>13.920107</td>\n",
       "    </tr>\n",
       "    <tr>\n",
       "      <th>75%</th>\n",
       "      <td>19.692571</td>\n",
       "      <td>19.140354</td>\n",
       "    </tr>\n",
       "    <tr>\n",
       "      <th>max</th>\n",
       "      <td>182.227405</td>\n",
       "      <td>128.244158</td>\n",
       "    </tr>\n",
       "  </tbody>\n",
       "</table>\n",
       "</div>"
      ],
      "text/plain": [
       "customer_type                            bad         good\n",
       "first_order_voucher_value count  6450.000000  2037.000000\n",
       "                          mean     18.150263    17.214461\n",
       "                          std      10.752234    10.138337\n",
       "                          min       0.000000     0.000000\n",
       "                          25%      12.685630    12.652380\n",
       "                          50%      17.158107    13.920107\n",
       "                          75%      19.692571    19.140354\n",
       "                          max     182.227405   128.244158"
      ]
     },
     "execution_count": 27,
     "metadata": {},
     "output_type": "execute_result"
    },
    {
     "data": {
      "image/png": "[encoded data removed]",
      "text/plain": [
       "<Figure size 432x288 with 1 Axes>"
      ]
     },
     "metadata": {},
     "output_type": "display_data"
    }
   ],
   "source": [
    "a = df_both.loc[df_both.first_order_voucher_value != -999, ['customer_type', 'first_order_voucher_value']]\n",
    "sns.categorical.violinplot(data=a, x='customer_type', y='first_order_voucher_value')\n",
    "\n",
    "a.groupby('customer_type').describe().T"
   ]
  },
  {
   "cell_type": "code",
   "execution_count": 28,
   "metadata": {},
   "outputs": [
    {
     "data": {
      "text/html": [
       "<div>\n",
       "<style scoped>\n",
       "    .dataframe tbody tr th:only-of-type {\n",
       "        vertical-align: middle;\n",
       "    }\n",
       "\n",
       "    .dataframe tbody tr th {\n",
       "        vertical-align: top;\n",
       "    }\n",
       "\n",
       "    .dataframe thead th {\n",
       "        text-align: right;\n",
       "    }\n",
       "</style>\n",
       "<table border=\"1\" class=\"dataframe\">\n",
       "  <thead>\n",
       "    <tr style=\"text-align: right;\">\n",
       "      <th></th>\n",
       "      <th>customer_type</th>\n",
       "      <th>bad</th>\n",
       "      <th>good</th>\n",
       "    </tr>\n",
       "  </thead>\n",
       "  <tbody>\n",
       "    <tr>\n",
       "      <th rowspan=\"8\" valign=\"top\">first_order_voucher_revenue_ratio</th>\n",
       "      <th>count</th>\n",
       "      <td>6545.000000</td>\n",
       "      <td>2180.000000</td>\n",
       "    </tr>\n",
       "    <tr>\n",
       "      <th>mean</th>\n",
       "      <td>0.605705</td>\n",
       "      <td>0.510217</td>\n",
       "    </tr>\n",
       "    <tr>\n",
       "      <th>std</th>\n",
       "      <td>0.284457</td>\n",
       "      <td>0.298407</td>\n",
       "    </tr>\n",
       "    <tr>\n",
       "      <th>min</th>\n",
       "      <td>0.000000</td>\n",
       "      <td>0.000000</td>\n",
       "    </tr>\n",
       "    <tr>\n",
       "      <th>25%</th>\n",
       "      <td>0.381073</td>\n",
       "      <td>0.266667</td>\n",
       "    </tr>\n",
       "    <tr>\n",
       "      <th>50%</th>\n",
       "      <td>0.615700</td>\n",
       "      <td>0.493151</td>\n",
       "    </tr>\n",
       "    <tr>\n",
       "      <th>75%</th>\n",
       "      <td>0.860832</td>\n",
       "      <td>0.706159</td>\n",
       "    </tr>\n",
       "    <tr>\n",
       "      <th>max</th>\n",
       "      <td>1.000000</td>\n",
       "      <td>1.000000</td>\n",
       "    </tr>\n",
       "  </tbody>\n",
       "</table>\n",
       "</div>"
      ],
      "text/plain": [
       "customer_type                                    bad         good\n",
       "first_order_voucher_revenue_ratio count  6545.000000  2180.000000\n",
       "                                  mean      0.605705     0.510217\n",
       "                                  std       0.284457     0.298407\n",
       "                                  min       0.000000     0.000000\n",
       "                                  25%       0.381073     0.266667\n",
       "                                  50%       0.615700     0.493151\n",
       "                                  75%       0.860832     0.706159\n",
       "                                  max       1.000000     1.000000"
      ]
     },
     "execution_count": 28,
     "metadata": {},
     "output_type": "execute_result"
    },
    {
     "data": {
      "image/png": "[encoded data removed]",
      "text/plain": [
       "<Figure size 432x288 with 1 Axes>"
      ]
     },
     "metadata": {},
     "output_type": "display_data"
    }
   ],
   "source": [
    "a = df_both.loc[df_both.first_order_voucher_revenue_ratio != np.inf, ['customer_type', 'first_order_voucher_revenue_ratio']]\n",
    "sns.categorical.violinplot(data=a, x='customer_type', y='first_order_voucher_revenue_ratio')\n",
    "\n",
    "a.groupby('customer_type').describe().T"
   ]
  },
  {
   "cell_type": "markdown",
   "metadata": {},
   "source": [
    "## First Order Revenue\n",
    "*Assumption: Depending on how much the customer actually spent on their first voucher order, determines if they are going to order again or not. Customer who spend more, tend to be good customers, because they can afford our service regularly*"
   ]
  },
  {
   "cell_type": "code",
   "execution_count": null,
   "metadata": {
    "scrolled": true
   },
   "outputs": [],
   "source": [
    "a = df_both[['customer_type', 'first_order_revenue']]\n",
    "sns.categorical.violinplot(data=a, x='customer_type', y='first_order_revenue')"
   ]
  },
  {
   "cell_type": "code",
   "execution_count": null,
   "metadata": {},
   "outputs": [],
   "source": [
    "a = df_both.loc[df_both.first_order_revenue < 80, ['customer_type', 'first_order_revenue']]\n",
    "sns.categorical.violinplot(data=a, x='customer_type', y='first_order_revenue')\n",
    "\n",
    "f, (ax1, ax2) = plt.subplots(2, sharex=True, sharey=True,figsize=(6,6))\n",
    "sns.distplot(a.loc[a.customer_type == 'bad', 'first_order_revenue'], ax=ax1, color='red', bins=50)\n",
    "ax1.set_title('Bad Customers')\n",
    "sns.distplot(a.loc[a.customer_type == 'good', 'first_order_revenue'], ax=ax2, color='blue', bins=50)\n",
    "ax2.set_title('Good Customers')\n",
    "plt.tight_layout()\n",
    "\n",
    "a.groupby('customer_type').describe().T"
   ]
  },
  {
   "cell_type": "markdown",
   "metadata": {},
   "source": [
    "## Distance to Hub\n",
    "*Assumption: The distance of the customer to the hub influences the availability he/she sees when they place an order.*"
   ]
  },
  {
   "cell_type": "code",
   "execution_count": 35,
   "metadata": {},
   "outputs": [
    {
     "data": {
      "image/png": "[encoded data removed]",
      "text/plain": [
       "<Figure size 432x288 with 1 Axes>"
      ]
     },
     "metadata": {},
     "output_type": "display_data"
    },
    {
     "data": {
      "image/png": "[encoded data removed]",
      "text/plain": [
       "<Figure size 432x432 with 2 Axes>"
      ]
     },
     "metadata": {},
     "output_type": "display_data"
    }
   ],
   "source": [
    "a = df_both.loc[df_both.first_order_hub_distance != -999, ['customer_type', 'first_order_hub_distance']]\n",
    "sns.categorical.violinplot(data=a, x='customer_type', y='first_order_hub_distance')\n",
    "\n",
    "f, (ax1, ax2) = plt.subplots(2, sharex=True, sharey=True,figsize=(6,6))\n",
    "sns.distplot(a.loc[a.customer_type == 'bad', 'first_order_hub_distance'], ax=ax1, color='red', bins=25)\n",
    "ax1.set_title('Bad Customers')\n",
    "sns.distplot(a.loc[a.customer_type == 'good', 'first_order_hub_distance'], ax=ax2, color='blue', bins=25)\n",
    "ax2.set_title('Good Customers')\n",
    "plt.tight_layout()"
   ]
  },
  {
   "cell_type": "markdown",
   "metadata": {},
   "source": [
    "*Conclusion*: It doesn't seem that distance to hub plays a role in the first_voucher_order churn."
   ]
  },
  {
   "cell_type": "markdown",
   "metadata": {},
   "source": [
    "## Dates\n",
    "*Assumption: The dates when more bad customers came than good, could mean that there was a certain period of campaigns that attracted undesirable customers.*"
   ]
  },
  {
   "cell_type": "code",
   "execution_count": 29,
   "metadata": {},
   "outputs": [],
   "source": [
    "bad_limit = df_vou_bad.loc[df_vou_bad.first_order_date < \"2017-07-21\"]\n",
    "good_limit = df_vou_good.loc[df_vou_good.first_order_date < \"2017-07-21\"]\n",
    "bad = bad_limit\\\n",
    "        .groupby('first_order_date')['customer_db_id']\\\n",
    "        .nunique() / bad_limit.shape[0]\n",
    "good = good_limit\\\n",
    "        .groupby('first_order_date')['customer_db_id']\\\n",
    "        .nunique() / good_limit.shape[0]\n",
    "\n",
    "df_plot = pd.concat([bad, good], axis=1, keys=['bad', 'good']).reset_index()\n",
    "df_plot = df_plot.groupby([pd.Grouper(key='first_order_date', freq='MS')])[['bad', 'good']]\\\n",
    "        .sum()\\\n",
    "        .reset_index()\\\n",
    "        .sort_values('first_order_date')\\\n",
    "        .set_index('first_order_date')"
   ]
  },
  {
   "cell_type": "code",
   "execution_count": 30,
   "metadata": {},
   "outputs": [
    {
     "data": {
      "text/plain": [
       "<matplotlib.axes._subplots.AxesSubplot at 0x2c7842d4ac8>"
      ]
     },
     "execution_count": 30,
     "metadata": {},
     "output_type": "execute_result"
    },
    {
     "data": {
      "image/png": "[encoded data removed]",
      "text/plain": [
       "<Figure size 432x288 with 1 Axes>"
      ]
     },
     "metadata": {},
     "output_type": "display_data"
    }
   ],
   "source": [
    "df_plot.plot()"
   ]
  },
  {
   "cell_type": "markdown",
   "metadata": {},
   "source": [
    "*Conclusion*: Seems that there were some areas, especially around Feb - April 2016, where loads of \"bad customers\" were coming in. We should look at what kind of campaigns there were running at that time."
   ]
  },
  {
   "cell_type": "markdown",
   "metadata": {},
   "source": [
    "## Facility\n",
    "*Assumption: Some facilities provide better services and therefore customers who churned after first order, although having a 'good' facility, are concidered bad.*"
   ]
  },
  {
   "cell_type": "code",
   "execution_count": 32,
   "metadata": {},
   "outputs": [
    {
     "data": {
      "text/plain": [
       "<matplotlib.axes._subplots.AxesSubplot at 0x2c7831900b8>"
      ]
     },
     "execution_count": 32,
     "metadata": {},
     "output_type": "execute_result"
    },
    {
     "data": {
      "image/png": "[encoded data removed]",
      "text/plain": [
       "<Figure size 432x288 with 1 Axes>"
      ]
     },
     "metadata": {},
     "output_type": "display_data"
    },
    {
     "data": {
      "image/png": "[encoded data removed]",
      "text/plain": [
       "<Figure size 432x288 with 1 Axes>"
      ]
     },
     "metadata": {},
     "output_type": "display_data"
    }
   ],
   "source": [
    "df_bad = df_vou_bad.loc[df_vou_bad.first_order_fac_name != \"unknown\"]\\\n",
    "        .groupby('first_order_fac_name')['customer_db_id'].nunique() / df_vou_bad.shape[0]\n",
    "df_good = df_vou_good.loc[df_vou_good.first_order_fac_name != \"unknown\"]\\\n",
    "        .groupby('first_order_fac_name')['customer_db_id'].nunique() / df_vou_good.shape[0]\n",
    "df_diff = df_good - df_bad\n",
    "df_diff_relative = df_diff / (df_bad + df_good)\n",
    "df = pd.concat([df_bad, df_good, df_diff, df_diff_relative], \n",
    "              axis=1, keys=['bad', 'good', 'diff', 'diff_relative'], sort=True)\n",
    "\n",
    "df = df.sort_values('diff', ascending=False)\n",
    "df[['bad', 'good']].plot(kind='bar', title='first_order_fac_name')\n",
    "df[['diff']].plot(kind='bar', title='diff (+ more good / - more bad)', color='orange')"
   ]
  },
  {
   "cell_type": "markdown",
   "metadata": {},
   "source": [
    "## Product Segmentation\n",
    "*Assumption: Bad customers order certain type of products*\n",
    "\n",
    "TODO: too many UNKNOWN values for bad customers, need to include itemization"
   ]
  },
  {
   "cell_type": "code",
   "execution_count": 31,
   "metadata": {},
   "outputs": [
    {
     "data": {
      "image/png": "[encoded data removed]",
      "text/plain": [
       "<Figure size 432x288 with 1 Axes>"
      ]
     },
     "metadata": {},
     "output_type": "display_data"
    },
    {
     "data": {
      "image/png": "[encoded data removed]",
      "text/plain": [
       "<Figure size 432x288 with 1 Axes>"
      ]
     },
     "metadata": {},
     "output_type": "display_data"
    }
   ],
   "source": [
    "plot_bad_vs_good_by_column('first_order_products')"
   ]
  },
  {
   "cell_type": "markdown",
   "metadata": {},
   "source": [
    "## Dates\n",
    "*Assumption: There is a certain pattern in the recency of the second order for the good customers.*"
   ]
  },
  {
   "cell_type": "code",
   "execution_count": 33,
   "metadata": {
    "scrolled": true
   },
   "outputs": [
    {
     "data": {
      "text/plain": [
       "<matplotlib.axes._subplots.AxesSubplot at 0x2c782fa3400>"
      ]
     },
     "execution_count": 33,
     "metadata": {},
     "output_type": "execute_result"
    },
    {
     "data": {
      "image/png": "[encoded data removed]",
      "text/plain": [
       "<Figure size 432x288 with 1 Axes>"
      ]
     },
     "metadata": {},
     "output_type": "display_data"
    }
   ],
   "source": [
    "sns.distplot(df_vou_good.first_order_recency)"
   ]
  },
  {
   "cell_type": "code",
   "execution_count": 34,
   "metadata": {
    "scrolled": true
   },
   "outputs": [
    {
     "data": {
      "text/plain": [
       "count    2180.000000\n",
       "mean       63.345872\n",
       "std        73.852573\n",
       "min         0.000000\n",
       "25%        14.000000\n",
       "50%        33.000000\n",
       "75%        86.000000\n",
       "max       364.000000\n",
       "Name: first_order_recency, dtype: float64"
      ]
     },
     "execution_count": 34,
     "metadata": {},
     "output_type": "execute_result"
    }
   ],
   "source": [
    "df_vou_good.first_order_recency.describe()"
   ]
  },
  {
   "cell_type": "markdown",
   "metadata": {},
   "source": [
    "# Correlations"
   ]
  },
  {
   "cell_type": "code",
   "execution_count": null,
   "metadata": {},
   "outputs": [],
   "source": [
    "df_both.columns"
   ]
  },
  {
   "cell_type": "code",
   "execution_count": null,
   "metadata": {},
   "outputs": [],
   "source": [
    "df_good = df_vou_good.loc[df_vou_good.first_order_voucher_value != -999].sample(df_vou_bad.shape[0])\n",
    "df_bad = df_vou_bad.copy()\n",
    "df_sample = pd.concat([df_good, df_bad])\n",
    "df_sample['customer_type_enc'] = df_sample['customer_type'].map({'bad': -1, 'good': 1})\n",
    "\n",
    "print('Bad: {}, Good: {}'.format(df_bad.shape[0], df_good.shape[0]))"
   ]
  },
  {
   "cell_type": "code",
   "execution_count": null,
   "metadata": {},
   "outputs": [],
   "source": [
    "features = ['customer_type_enc', 'first_order_products_enc', 'first_order_voucher_channel_enc', \n",
    "            'first_order_voucher_value', 'first_order_revenue',             'first_order_voucher_revenue_ratio']\n",
    "df_plot = df_sample[features]"
   ]
  },
  {
   "cell_type": "code",
   "execution_count": null,
   "metadata": {},
   "outputs": [],
   "source": [
    "df_plot.corr()"
   ]
  },
  {
   "cell_type": "code",
   "execution_count": null,
   "metadata": {},
   "outputs": [],
   "source": [
    "sns.heatmap(df_plot.corr(), \n",
    "            xticklabels=df_plot.corr().columns.values,\n",
    "            yticklabels=df_plot.corr().columns.values)"
   ]
  },
  {
   "cell_type": "code",
   "execution_count": null,
   "metadata": {},
   "outputs": [],
   "source": [
    "X = df_plot[df_plot.columns.tolist()[1:]].values\n",
    "y = df_plot['customer_type_enc'].values"
   ]
  },
  {
   "cell_type": "code",
   "execution_count": null,
   "metadata": {},
   "outputs": [],
   "source": [
    "from sklearn.tree import DecisionTreeClassifier\n",
    "import sklearn.tree as tree\n",
    "neigh = DecisionTreeClassifier()\n",
    "neigh.fit(X, y)"
   ]
  },
  {
   "cell_type": "code",
   "execution_count": null,
   "metadata": {},
   "outputs": [],
   "source": [
    "neigh.feature_importances_"
   ]
  },
  {
   "cell_type": "code",
   "execution_count": null,
   "metadata": {},
   "outputs": [],
   "source": [
    "pd.DataFrame(index=df_plot.columns.tolist()[1:], data=neigh.feature_importances_)"
   ]
  },
  {
   "cell_type": "code",
   "execution_count": null,
   "metadata": {},
   "outputs": [],
   "source": []
  }
 ],
 "metadata": {
  "kernelspec": {
   "display_name": "Python 3",
   "language": "python",
   "name": "python3"
  },
  "language_info": {
   "codemirror_mode": {
    "name": "ipython",
    "version": 3
   },
   "file_extension": ".py",
   "mimetype": "text/x-python",
   "name": "python",
   "nbconvert_exporter": "python",
   "pygments_lexer": "ipython3",
   "version": "3.6.5"
  }
 },
 "nbformat": 4,
 "nbformat_minor": 2
}
