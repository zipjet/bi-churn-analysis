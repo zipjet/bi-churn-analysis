{
 "cells": [
  {
   "cell_type": "code",
   "execution_count": null,
   "metadata": {},
   "outputs": [],
   "source": [
    "import pandas as pd\n",
    "import matplotlib.pyplot as plt\n",
    "import seaborn as sns\n",
    "from sklearn.preprocessing import LabelEncoder\n",
    "\n",
    "plt.style.use('ggplot')\n",
    "pd.options.mode.chained_assignment = None\n",
    "import warnings\n",
    "warnings.filterwarnings(\"ignore\")"
   ]
  },
  {
   "cell_type": "code",
   "execution_count": null,
   "metadata": {},
   "outputs": [],
   "source": [
    "df = pd.read_csv(\"data/churn_dataset.csv\")"
   ]
  },
  {
   "cell_type": "code",
   "execution_count": null,
   "metadata": {},
   "outputs": [],
   "source": [
    "df.shape"
   ]
  },
  {
   "cell_type": "code",
   "execution_count": null,
   "metadata": {},
   "outputs": [],
   "source": [
    "df.head().T"
   ]
  },
  {
   "cell_type": "markdown",
   "metadata": {},
   "source": [
    "# Fill NA values"
   ]
  },
  {
   "cell_type": "code",
   "execution_count": null,
   "metadata": {},
   "outputs": [],
   "source": [
    "nans = df.isnull().sum()\n",
    "nans[nans > 0].sort_values(ascending = False)"
   ]
  },
  {
   "cell_type": "code",
   "execution_count": null,
   "metadata": {},
   "outputs": [],
   "source": [
    "df['first_order_products'] = df['first_order_products'].fillna(\"\")"
   ]
  },
  {
   "cell_type": "code",
   "execution_count": null,
   "metadata": {},
   "outputs": [],
   "source": [
    "df[['refunds_unsuccess', 'refunds_success']] = df[['refunds_unsuccess', 'refunds_success']].fillna(0)"
   ]
  },
  {
   "cell_type": "code",
   "execution_count": null,
   "metadata": {},
   "outputs": [],
   "source": [
    "rating_cols = ['avg_rating', 'rating_diff', 'last_order_rating', 'rated_orders', 'first_order_rating']\n",
    "df[rating_cols] = df[rating_cols].fillna(-999)\n",
    "df.loc[df.rated_orders > 0, rating_cols].head()"
   ]
  },
  {
   "cell_type": "code",
   "execution_count": null,
   "metadata": {},
   "outputs": [],
   "source": [
    "df.aov = df.aov.fillna(0)\n",
    "df.segment = df.segment.fillna('None')\n",
    "df.gender = df.gender.fillna('Unknown')"
   ]
  },
  {
   "cell_type": "code",
   "execution_count": null,
   "metadata": {},
   "outputs": [],
   "source": [
    "df.zip = df.zip.fillna('Unknown')\n",
    "df.zip_area = df.zip_area.fillna('Unknown')\n",
    "df.avg_fac_distance = df.avg_fac_distance.fillna(-999)"
   ]
  },
  {
   "cell_type": "code",
   "execution_count": null,
   "metadata": {},
   "outputs": [],
   "source": [
    "nans = df.isnull().sum()\n",
    "nans[nans > 0].sort_values(ascending = False)"
   ]
  },
  {
   "cell_type": "markdown",
   "metadata": {},
   "source": [
    "# Bad vs Good Voucher Customers\n",
    "Identify customers that have used a voucher on their first order, filter out those that didn't come back afterwards as bad and those who came back as good."
   ]
  },
  {
   "cell_type": "code",
   "execution_count": null,
   "metadata": {},
   "outputs": [],
   "source": [
    "def plot_bad_vs_good_by_column(column_name):\n",
    "    df_bad = df_vou_bad.groupby(column_name)['customer_db_id'].nunique() / df_vou_bad.shape[0]\n",
    "    df_good = df_vou_good.groupby(column_name)['customer_db_id'].nunique() / df_vou_good.shape[0]\n",
    "    df_diff = df_bad - df_good\n",
    "    df_diff_abs = df_diff.abs()\n",
    "    df = pd.concat([df_bad, df_good, df_diff, df_diff_abs], \n",
    "                  axis=1, keys=['bad', 'good', 'diff', 'diff_abs'], sort=True)\n",
    "    df = df.sort_values('diff', ascending=False)\n",
    "    df[['bad', 'good']].plot(kind='bar', title=column_name)\n",
    "    df[['diff']].plot(kind='bar', title='diff bad - good', color='orange')"
   ]
  },
  {
   "cell_type": "code",
   "execution_count": null,
   "metadata": {},
   "outputs": [],
   "source": [
    "df_vou = df.copy()\n",
    "df_vou = df.loc[df.first_order_voucher & df.valid_orders > 0]\n",
    "df_vou_good = df_vou.loc[(df_vou.valid_orders > 1)]\n",
    "df_vou_bad = df_vou.loc[(df_vou.valid_orders == 1) & (df_vou.recency > 365)]\n",
    "\n",
    "print('Bad customers', df_vou_bad.shape)\n",
    "print('Good customers', df_vou_good.shape)\n",
    "\n",
    "df_vou_bad['customer_type'] = 'bad'\n",
    "df_vou_good['customer_type'] = 'good'\n",
    "df_both = pd.concat([df_vou_bad, df_vou_good])"
   ]
  },
  {
   "cell_type": "markdown",
   "metadata": {},
   "source": [
    "## Distance to Facility "
   ]
  },
  {
   "cell_type": "code",
   "execution_count": null,
   "metadata": {},
   "outputs": [],
   "source": [
    "a = df_both.loc[df_both.avg_fac_distance != -999, ['customer_type', 'avg_fac_distance']]\n",
    "sns.categorical.stripplot(data=a, x='customer_type', y='avg_fac_distance')"
   ]
  },
  {
   "cell_type": "code",
   "execution_count": null,
   "metadata": {},
   "outputs": [],
   "source": [
    "f, (ax1, ax2) = plt.subplots(2, sharex=True, sharey=True,figsize=(6,6))\n",
    "sns.distplot(a.loc[a.customer_type == 'bad', 'avg_fac_distance'], ax=ax1, color='red', bins=25)\n",
    "ax1.set_title('Bad Customers')\n",
    "sns.distplot(a.loc[a.customer_type == 'good', 'avg_fac_distance'], ax=ax2, color='blue', bins=25)\n",
    "ax2.set_title('Good Customers')\n",
    "plt.tight_layout()"
   ]
  },
  {
   "cell_type": "markdown",
   "metadata": {},
   "source": [
    "## Facility"
   ]
  },
  {
   "cell_type": "code",
   "execution_count": null,
   "metadata": {},
   "outputs": [],
   "source": [
    "plot_bad_vs_good_by_column('first_order_fac_name')"
   ]
  },
  {
   "cell_type": "markdown",
   "metadata": {},
   "source": [
    "## Service Class"
   ]
  },
  {
   "cell_type": "code",
   "execution_count": null,
   "metadata": {},
   "outputs": [],
   "source": [
    "plot_bad_vs_good_by_column('first_order_service_class')"
   ]
  },
  {
   "cell_type": "markdown",
   "metadata": {},
   "source": [
    "# Voucher Channel"
   ]
  },
  {
   "cell_type": "code",
   "execution_count": null,
   "metadata": {},
   "outputs": [],
   "source": [
    "plot_bad_vs_good_by_column('first_order_voucher_channel')"
   ]
  },
  {
   "cell_type": "markdown",
   "metadata": {},
   "source": [
    "## Gender"
   ]
  },
  {
   "cell_type": "code",
   "execution_count": null,
   "metadata": {},
   "outputs": [],
   "source": [
    "plot_bad_vs_good_by_column('gender')"
   ]
  },
  {
   "cell_type": "markdown",
   "metadata": {},
   "source": [
    "## Zip Area"
   ]
  },
  {
   "cell_type": "code",
   "execution_count": null,
   "metadata": {},
   "outputs": [],
   "source": [
    "plot_bad_vs_good_by_column('zip_area')"
   ]
  },
  {
   "cell_type": "markdown",
   "metadata": {},
   "source": [
    "## Product Segmentation"
   ]
  },
  {
   "cell_type": "code",
   "execution_count": null,
   "metadata": {},
   "outputs": [],
   "source": [
    "plot_bad_vs_good_by_column('first_order_products')"
   ]
  },
  {
   "cell_type": "code",
   "execution_count": null,
   "metadata": {},
   "outputs": [],
   "source": [
    "df_both.gender.unique()"
   ]
  },
  {
   "cell_type": "code",
   "execution_count": null,
   "metadata": {},
   "outputs": [],
   "source": [
    "df_both['gender'] = df_both['gender'].map({'male': -1, 'female': 1, 'Unknown': 0})"
   ]
  },
  {
   "cell_type": "code",
   "execution_count": null,
   "metadata": {},
   "outputs": [],
   "source": [
    "df_both['customer_type'] = df_both['customer_type'].map({'bad': -1, 'good': 1})"
   ]
  },
  {
   "cell_type": "code",
   "execution_count": null,
   "metadata": {},
   "outputs": [],
   "source": [
    "df_both.first_order_voucher_channel.unique()"
   ]
  },
  {
   "cell_type": "code",
   "execution_count": null,
   "metadata": {},
   "outputs": [],
   "source": [
    "vou_channel_le = LabelEncoder()\n",
    "vou_channel_le.fit(df_both.first_order_voucher_channel)\n",
    "df_both['first_order_voucher_channel_enc'] = vou_channel_le.transform(df_both.first_order_voucher_channel.tolist())"
   ]
  },
  {
   "cell_type": "code",
   "execution_count": null,
   "metadata": {},
   "outputs": [],
   "source": [
    "serv_class_le = LabelEncoder()\n",
    "serv_class_le.fit(df_both.first_order_service_class)\n",
    "df_both['first_order_service_class_enc'] = serv_class_le.transform(df_both.first_order_service_class.tolist())"
   ]
  },
  {
   "cell_type": "code",
   "execution_count": null,
   "metadata": {},
   "outputs": [],
   "source": [
    "products_le = LabelEncoder()\n",
    "products_le.fit(df_both.first_order_products)\n",
    "df_both['first_order_products_enc'] = products_le.transform(df_both.first_order_products.tolist())"
   ]
  },
  {
   "cell_type": "code",
   "execution_count": null,
   "metadata": {},
   "outputs": [],
   "source": [
    "cor = df_both[['customer_type', 'gender', 'referred', 'newsletter_optin', \n",
    "         'product_LA', 'product_HH', 'product_DC', 'product_WF', \n",
    "         'first_order_voucher_channel_enc', 'first_order_service_class_enc', \n",
    "         'first_order_products_enc', 'avg_fac_distance']].corr()"
   ]
  },
  {
   "cell_type": "code",
   "execution_count": null,
   "metadata": {},
   "outputs": [],
   "source": [
    "cor.loc['customer_type']"
   ]
  },
  {
   "cell_type": "code",
   "execution_count": null,
   "metadata": {},
   "outputs": [],
   "source": [
    "sns.heatmap(cor, \n",
    "            xticklabels=cor.columns.values,\n",
    "            yticklabels=cor.columns.values)"
   ]
  },
  {
   "cell_type": "code",
   "execution_count": null,
   "metadata": {},
   "outputs": [],
   "source": []
  }
 ],
 "metadata": {
  "kernelspec": {
   "display_name": "Python 3",
   "language": "python",
   "name": "python3"
  },
  "language_info": {
   "codemirror_mode": {
    "name": "ipython",
    "version": 3
   },
   "file_extension": ".py",
   "mimetype": "text/x-python",
   "name": "python",
   "nbconvert_exporter": "python",
   "pygments_lexer": "ipython3",
   "version": "3.6.5"
  }
 },
 "nbformat": 4,
 "nbformat_minor": 2
}
