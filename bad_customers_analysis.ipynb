{
 "cells": [
  {
   "cell_type": "code",
   "execution_count": 1,
   "metadata": {},
   "outputs": [],
   "source": [
    "import pandas as pd\n",
    "import matplotlib.pyplot as plt\n",
    "import seaborn as sns\n",
    "from sklearn.preprocessing import LabelEncoder\n",
    "from datetime import datetime as dt\n",
    "import numpy as np\n",
    "\n",
    "plt.style.use('ggplot')\n",
    "pd.options.mode.chained_assignment = None\n",
    "import warnings\n",
    "warnings.filterwarnings(\"ignore\")"
   ]
  },
  {
   "cell_type": "code",
   "execution_count": 2,
   "metadata": {},
   "outputs": [],
   "source": [
    "df = pd.read_csv(\"data/churn_dataset.csv\")"
   ]
  },
  {
   "cell_type": "code",
   "execution_count": 3,
   "metadata": {},
   "outputs": [
    {
     "data": {
      "text/plain": [
       "(38822, 71)"
      ]
     },
     "execution_count": 3,
     "metadata": {},
     "output_type": "execute_result"
    }
   ],
   "source": [
    "df.shape"
   ]
  },
  {
   "cell_type": "code",
   "execution_count": 4,
   "metadata": {},
   "outputs": [
    {
     "data": {
      "text/html": [
       "<div>\n",
       "<style scoped>\n",
       "    .dataframe tbody tr th:only-of-type {\n",
       "        vertical-align: middle;\n",
       "    }\n",
       "\n",
       "    .dataframe tbody tr th {\n",
       "        vertical-align: top;\n",
       "    }\n",
       "\n",
       "    .dataframe thead th {\n",
       "        text-align: right;\n",
       "    }\n",
       "</style>\n",
       "<table border=\"1\" class=\"dataframe\">\n",
       "  <thead>\n",
       "    <tr style=\"text-align: right;\">\n",
       "      <th></th>\n",
       "      <th>0</th>\n",
       "      <th>1</th>\n",
       "      <th>2</th>\n",
       "      <th>3</th>\n",
       "      <th>4</th>\n",
       "    </tr>\n",
       "  </thead>\n",
       "  <tbody>\n",
       "    <tr>\n",
       "      <th>customer_db_id</th>\n",
       "      <td>54478736d4cde82247f1345f</td>\n",
       "      <td>54478fa4d3cde8d17ca5e4db</td>\n",
       "      <td>5447eefcd3cde8cf7ca5e4eb</td>\n",
       "      <td>5447f1a2d4cde82147f1347d</td>\n",
       "      <td>544976fad4cde8f3415bedb0</td>\n",
       "    </tr>\n",
       "    <tr>\n",
       "      <th>customer_id</th>\n",
       "      <td>GB-CUS-Y8922200</td>\n",
       "      <td>GB-CUS-K3854440</td>\n",
       "      <td>GB-CUS-L2277081</td>\n",
       "      <td>GB-CUS-C3589820</td>\n",
       "      <td>GB-CUS-P7798401</td>\n",
       "    </tr>\n",
       "    <tr>\n",
       "      <th>gender</th>\n",
       "      <td>male</td>\n",
       "      <td>female</td>\n",
       "      <td>male</td>\n",
       "      <td>male</td>\n",
       "      <td>male</td>\n",
       "    </tr>\n",
       "    <tr>\n",
       "      <th>segment</th>\n",
       "      <td>NaN</td>\n",
       "      <td>RED</td>\n",
       "      <td>NaN</td>\n",
       "      <td>NaN</td>\n",
       "      <td>NaN</td>\n",
       "    </tr>\n",
       "    <tr>\n",
       "      <th>aov</th>\n",
       "      <td>NaN</td>\n",
       "      <td>10.1501</td>\n",
       "      <td>NaN</td>\n",
       "      <td>NaN</td>\n",
       "      <td>NaN</td>\n",
       "    </tr>\n",
       "    <tr>\n",
       "      <th>recency</th>\n",
       "      <td>1370</td>\n",
       "      <td>1211</td>\n",
       "      <td>1370</td>\n",
       "      <td>1370</td>\n",
       "      <td>1190</td>\n",
       "    </tr>\n",
       "    <tr>\n",
       "      <th>frequency</th>\n",
       "      <td>0</td>\n",
       "      <td>0</td>\n",
       "      <td>0</td>\n",
       "      <td>0</td>\n",
       "      <td>0</td>\n",
       "    </tr>\n",
       "    <tr>\n",
       "      <th>churn_factor</th>\n",
       "      <td>1</td>\n",
       "      <td>1</td>\n",
       "      <td>1</td>\n",
       "      <td>1</td>\n",
       "      <td>1</td>\n",
       "    </tr>\n",
       "    <tr>\n",
       "      <th>referred</th>\n",
       "      <td>False</td>\n",
       "      <td>False</td>\n",
       "      <td>False</td>\n",
       "      <td>False</td>\n",
       "      <td>False</td>\n",
       "    </tr>\n",
       "    <tr>\n",
       "      <th>newsletter_optin</th>\n",
       "      <td>False</td>\n",
       "      <td>False</td>\n",
       "      <td>False</td>\n",
       "      <td>False</td>\n",
       "      <td>False</td>\n",
       "    </tr>\n",
       "    <tr>\n",
       "      <th>city</th>\n",
       "      <td>London</td>\n",
       "      <td>London</td>\n",
       "      <td>London</td>\n",
       "      <td>London</td>\n",
       "      <td>London</td>\n",
       "    </tr>\n",
       "    <tr>\n",
       "      <th>valid_orders</th>\n",
       "      <td>0</td>\n",
       "      <td>1</td>\n",
       "      <td>0</td>\n",
       "      <td>0</td>\n",
       "      <td>0</td>\n",
       "    </tr>\n",
       "    <tr>\n",
       "      <th>open_orders</th>\n",
       "      <td>0</td>\n",
       "      <td>0</td>\n",
       "      <td>0</td>\n",
       "      <td>0</td>\n",
       "      <td>0</td>\n",
       "    </tr>\n",
       "    <tr>\n",
       "      <th>canceled_orders</th>\n",
       "      <td>2</td>\n",
       "      <td>1</td>\n",
       "      <td>1</td>\n",
       "      <td>1</td>\n",
       "      <td>2</td>\n",
       "    </tr>\n",
       "    <tr>\n",
       "      <th>pay_error_orders</th>\n",
       "      <td>0</td>\n",
       "      <td>0</td>\n",
       "      <td>0</td>\n",
       "      <td>0</td>\n",
       "      <td>0</td>\n",
       "    </tr>\n",
       "    <tr>\n",
       "      <th>completed_orders</th>\n",
       "      <td>0</td>\n",
       "      <td>1</td>\n",
       "      <td>0</td>\n",
       "      <td>0</td>\n",
       "      <td>0</td>\n",
       "    </tr>\n",
       "    <tr>\n",
       "      <th>total_orders</th>\n",
       "      <td>2</td>\n",
       "      <td>2</td>\n",
       "      <td>1</td>\n",
       "      <td>1</td>\n",
       "      <td>2</td>\n",
       "    </tr>\n",
       "    <tr>\n",
       "      <th>last_order_state</th>\n",
       "      <td>canceled</td>\n",
       "      <td>completed</td>\n",
       "      <td>canceled</td>\n",
       "      <td>canceled</td>\n",
       "      <td>canceled</td>\n",
       "    </tr>\n",
       "    <tr>\n",
       "      <th>last_order_date</th>\n",
       "      <td>2014-10-22 11:34:35</td>\n",
       "      <td>2015-03-30 12:22:29</td>\n",
       "      <td>2014-10-22 18:53:03</td>\n",
       "      <td>2014-10-22 19:04:20</td>\n",
       "      <td>2015-04-20 15:42:09</td>\n",
       "    </tr>\n",
       "    <tr>\n",
       "      <th>first_order_date</th>\n",
       "      <td>2014-10-22 11:30:16</td>\n",
       "      <td>2014-10-22 12:06:13</td>\n",
       "      <td>2014-10-22 18:53:03</td>\n",
       "      <td>2014-10-22 19:04:20</td>\n",
       "      <td>2015-02-10 10:48:22</td>\n",
       "    </tr>\n",
       "    <tr>\n",
       "      <th>Before Service Class</th>\n",
       "      <td>2</td>\n",
       "      <td>2</td>\n",
       "      <td>1</td>\n",
       "      <td>1</td>\n",
       "      <td>2</td>\n",
       "    </tr>\n",
       "    <tr>\n",
       "      <th>CLASSIC</th>\n",
       "      <td>0</td>\n",
       "      <td>0</td>\n",
       "      <td>0</td>\n",
       "      <td>0</td>\n",
       "      <td>0</td>\n",
       "    </tr>\n",
       "    <tr>\n",
       "      <th>EXPRESS</th>\n",
       "      <td>0</td>\n",
       "      <td>0</td>\n",
       "      <td>0</td>\n",
       "      <td>0</td>\n",
       "      <td>0</td>\n",
       "    </tr>\n",
       "    <tr>\n",
       "      <th>LITE</th>\n",
       "      <td>0</td>\n",
       "      <td>0</td>\n",
       "      <td>0</td>\n",
       "      <td>0</td>\n",
       "      <td>0</td>\n",
       "    </tr>\n",
       "    <tr>\n",
       "      <th>PERSIL</th>\n",
       "      <td>0</td>\n",
       "      <td>0</td>\n",
       "      <td>0</td>\n",
       "      <td>0</td>\n",
       "      <td>0</td>\n",
       "    </tr>\n",
       "    <tr>\n",
       "      <th>PLUS</th>\n",
       "      <td>0</td>\n",
       "      <td>0</td>\n",
       "      <td>0</td>\n",
       "      <td>0</td>\n",
       "      <td>0</td>\n",
       "    </tr>\n",
       "    <tr>\n",
       "      <th>last_order_service_class</th>\n",
       "      <td>Before Service Class</td>\n",
       "      <td>Before Service Class</td>\n",
       "      <td>Before Service Class</td>\n",
       "      <td>Before Service Class</td>\n",
       "      <td>Before Service Class</td>\n",
       "    </tr>\n",
       "    <tr>\n",
       "      <th>first_order_service_class</th>\n",
       "      <td>Before Service Class</td>\n",
       "      <td>Before Service Class</td>\n",
       "      <td>Before Service Class</td>\n",
       "      <td>Before Service Class</td>\n",
       "      <td>Before Service Class</td>\n",
       "    </tr>\n",
       "    <tr>\n",
       "      <th>product_LA</th>\n",
       "      <td>0</td>\n",
       "      <td>2</td>\n",
       "      <td>0</td>\n",
       "      <td>0</td>\n",
       "      <td>0</td>\n",
       "    </tr>\n",
       "    <tr>\n",
       "      <th>product_HH</th>\n",
       "      <td>0</td>\n",
       "      <td>0</td>\n",
       "      <td>0</td>\n",
       "      <td>0</td>\n",
       "      <td>0</td>\n",
       "    </tr>\n",
       "    <tr>\n",
       "      <th>...</th>\n",
       "      <td>...</td>\n",
       "      <td>...</td>\n",
       "      <td>...</td>\n",
       "      <td>...</td>\n",
       "      <td>...</td>\n",
       "    </tr>\n",
       "    <tr>\n",
       "      <th>reclean_ratio</th>\n",
       "      <td>0</td>\n",
       "      <td>0</td>\n",
       "      <td>0</td>\n",
       "      <td>0</td>\n",
       "      <td>0</td>\n",
       "    </tr>\n",
       "    <tr>\n",
       "      <th>internal_reschedules</th>\n",
       "      <td>0</td>\n",
       "      <td>0</td>\n",
       "      <td>0</td>\n",
       "      <td>0</td>\n",
       "      <td>0</td>\n",
       "    </tr>\n",
       "    <tr>\n",
       "      <th>customer_reschedules</th>\n",
       "      <td>0</td>\n",
       "      <td>0</td>\n",
       "      <td>0</td>\n",
       "      <td>0</td>\n",
       "      <td>0</td>\n",
       "    </tr>\n",
       "    <tr>\n",
       "      <th>rated_orders</th>\n",
       "      <td>0</td>\n",
       "      <td>0</td>\n",
       "      <td>0</td>\n",
       "      <td>0</td>\n",
       "      <td>0</td>\n",
       "    </tr>\n",
       "    <tr>\n",
       "      <th>avg_rating</th>\n",
       "      <td>NaN</td>\n",
       "      <td>NaN</td>\n",
       "      <td>NaN</td>\n",
       "      <td>NaN</td>\n",
       "      <td>NaN</td>\n",
       "    </tr>\n",
       "    <tr>\n",
       "      <th>rated_orders_ratio</th>\n",
       "      <td>0</td>\n",
       "      <td>0</td>\n",
       "      <td>0</td>\n",
       "      <td>0</td>\n",
       "      <td>0</td>\n",
       "    </tr>\n",
       "    <tr>\n",
       "      <th>last_order_rating</th>\n",
       "      <td>NaN</td>\n",
       "      <td>NaN</td>\n",
       "      <td>NaN</td>\n",
       "      <td>NaN</td>\n",
       "      <td>NaN</td>\n",
       "    </tr>\n",
       "    <tr>\n",
       "      <th>rating_diff</th>\n",
       "      <td>NaN</td>\n",
       "      <td>NaN</td>\n",
       "      <td>NaN</td>\n",
       "      <td>NaN</td>\n",
       "      <td>NaN</td>\n",
       "    </tr>\n",
       "    <tr>\n",
       "      <th>first_order_rating</th>\n",
       "      <td>NaN</td>\n",
       "      <td>NaN</td>\n",
       "      <td>NaN</td>\n",
       "      <td>NaN</td>\n",
       "      <td>NaN</td>\n",
       "    </tr>\n",
       "    <tr>\n",
       "      <th>refunds_success</th>\n",
       "      <td>NaN</td>\n",
       "      <td>NaN</td>\n",
       "      <td>NaN</td>\n",
       "      <td>NaN</td>\n",
       "      <td>NaN</td>\n",
       "    </tr>\n",
       "    <tr>\n",
       "      <th>refunds_unsuccess</th>\n",
       "      <td>NaN</td>\n",
       "      <td>NaN</td>\n",
       "      <td>NaN</td>\n",
       "      <td>NaN</td>\n",
       "      <td>NaN</td>\n",
       "    </tr>\n",
       "    <tr>\n",
       "      <th>last_order_refund_request</th>\n",
       "      <td>False</td>\n",
       "      <td>False</td>\n",
       "      <td>False</td>\n",
       "      <td>False</td>\n",
       "      <td>False</td>\n",
       "    </tr>\n",
       "    <tr>\n",
       "      <th>last_order_fac_name</th>\n",
       "      <td>NaN</td>\n",
       "      <td>NaN</td>\n",
       "      <td>NaN</td>\n",
       "      <td>NaN</td>\n",
       "      <td>NaN</td>\n",
       "    </tr>\n",
       "    <tr>\n",
       "      <th>first_order_fac_name</th>\n",
       "      <td>NaN</td>\n",
       "      <td>NaN</td>\n",
       "      <td>NaN</td>\n",
       "      <td>NaN</td>\n",
       "      <td>NaN</td>\n",
       "    </tr>\n",
       "    <tr>\n",
       "      <th>pickup_friday</th>\n",
       "      <td>0</td>\n",
       "      <td>0</td>\n",
       "      <td>0</td>\n",
       "      <td>0</td>\n",
       "      <td>0</td>\n",
       "    </tr>\n",
       "    <tr>\n",
       "      <th>pickup_monday</th>\n",
       "      <td>0</td>\n",
       "      <td>0.5</td>\n",
       "      <td>0</td>\n",
       "      <td>0</td>\n",
       "      <td>0.5</td>\n",
       "    </tr>\n",
       "    <tr>\n",
       "      <th>pickup_saturday</th>\n",
       "      <td>0</td>\n",
       "      <td>0</td>\n",
       "      <td>0</td>\n",
       "      <td>0</td>\n",
       "      <td>0</td>\n",
       "    </tr>\n",
       "    <tr>\n",
       "      <th>pickup_sunday</th>\n",
       "      <td>0</td>\n",
       "      <td>0</td>\n",
       "      <td>0</td>\n",
       "      <td>0</td>\n",
       "      <td>0</td>\n",
       "    </tr>\n",
       "    <tr>\n",
       "      <th>pickup_thursday</th>\n",
       "      <td>0</td>\n",
       "      <td>0</td>\n",
       "      <td>0</td>\n",
       "      <td>0</td>\n",
       "      <td>0</td>\n",
       "    </tr>\n",
       "    <tr>\n",
       "      <th>pickup_tuesday</th>\n",
       "      <td>0</td>\n",
       "      <td>0.5</td>\n",
       "      <td>0</td>\n",
       "      <td>0</td>\n",
       "      <td>0.5</td>\n",
       "    </tr>\n",
       "    <tr>\n",
       "      <th>pickup_wednesday</th>\n",
       "      <td>1</td>\n",
       "      <td>0</td>\n",
       "      <td>1</td>\n",
       "      <td>1</td>\n",
       "      <td>0</td>\n",
       "    </tr>\n",
       "    <tr>\n",
       "      <th>pickup_after_noon</th>\n",
       "      <td>0</td>\n",
       "      <td>0</td>\n",
       "      <td>0</td>\n",
       "      <td>1</td>\n",
       "      <td>0.5</td>\n",
       "    </tr>\n",
       "    <tr>\n",
       "      <th>pickup_before_noon</th>\n",
       "      <td>1</td>\n",
       "      <td>0</td>\n",
       "      <td>0</td>\n",
       "      <td>0</td>\n",
       "      <td>0.5</td>\n",
       "    </tr>\n",
       "    <tr>\n",
       "      <th>pickup_early_morning</th>\n",
       "      <td>0</td>\n",
       "      <td>1</td>\n",
       "      <td>0</td>\n",
       "      <td>0</td>\n",
       "      <td>0</td>\n",
       "    </tr>\n",
       "    <tr>\n",
       "      <th>pickup_evening</th>\n",
       "      <td>0</td>\n",
       "      <td>0</td>\n",
       "      <td>1</td>\n",
       "      <td>0</td>\n",
       "      <td>0</td>\n",
       "    </tr>\n",
       "    <tr>\n",
       "      <th>zip</th>\n",
       "      <td>WC2B 5</td>\n",
       "      <td>W1D 1BS</td>\n",
       "      <td>WC2B 5</td>\n",
       "      <td>WC2A 3</td>\n",
       "      <td>WC2B 5</td>\n",
       "    </tr>\n",
       "    <tr>\n",
       "      <th>zip_area</th>\n",
       "      <td>wc</td>\n",
       "      <td>w</td>\n",
       "      <td>wc</td>\n",
       "      <td>wc</td>\n",
       "      <td>wc</td>\n",
       "    </tr>\n",
       "    <tr>\n",
       "      <th>avg_hub_distance</th>\n",
       "      <td>4133.5</td>\n",
       "      <td>4169.65</td>\n",
       "      <td>4133.5</td>\n",
       "      <td>4093.85</td>\n",
       "      <td>4129.54</td>\n",
       "    </tr>\n",
       "    <tr>\n",
       "      <th>last_order_hub_distance</th>\n",
       "      <td>4133.5</td>\n",
       "      <td>4209.76</td>\n",
       "      <td>4133.5</td>\n",
       "      <td>4093.85</td>\n",
       "      <td>4129.54</td>\n",
       "    </tr>\n",
       "    <tr>\n",
       "      <th>first_order_hub_distance</th>\n",
       "      <td>4133.5</td>\n",
       "      <td>4129.54</td>\n",
       "      <td>4133.5</td>\n",
       "      <td>4093.85</td>\n",
       "      <td>4129.54</td>\n",
       "    </tr>\n",
       "  </tbody>\n",
       "</table>\n",
       "<p>71 rows × 5 columns</p>\n",
       "</div>"
      ],
      "text/plain": [
       "                                                  0                         1  \\\n",
       "customer_db_id             54478736d4cde82247f1345f  54478fa4d3cde8d17ca5e4db   \n",
       "customer_id                         GB-CUS-Y8922200           GB-CUS-K3854440   \n",
       "gender                                         male                    female   \n",
       "segment                                         NaN                       RED   \n",
       "aov                                             NaN                   10.1501   \n",
       "recency                                        1370                      1211   \n",
       "frequency                                         0                         0   \n",
       "churn_factor                                      1                         1   \n",
       "referred                                      False                     False   \n",
       "newsletter_optin                              False                     False   \n",
       "city                                         London                    London   \n",
       "valid_orders                                      0                         1   \n",
       "open_orders                                       0                         0   \n",
       "canceled_orders                                   2                         1   \n",
       "pay_error_orders                                  0                         0   \n",
       "completed_orders                                  0                         1   \n",
       "total_orders                                      2                         2   \n",
       "last_order_state                           canceled                 completed   \n",
       "last_order_date                 2014-10-22 11:34:35       2015-03-30 12:22:29   \n",
       "first_order_date                2014-10-22 11:30:16       2014-10-22 12:06:13   \n",
       "Before Service Class                              2                         2   \n",
       "CLASSIC                                           0                         0   \n",
       "EXPRESS                                           0                         0   \n",
       "LITE                                              0                         0   \n",
       "PERSIL                                            0                         0   \n",
       "PLUS                                              0                         0   \n",
       "last_order_service_class       Before Service Class      Before Service Class   \n",
       "first_order_service_class      Before Service Class      Before Service Class   \n",
       "product_LA                                        0                         2   \n",
       "product_HH                                        0                         0   \n",
       "...                                             ...                       ...   \n",
       "reclean_ratio                                     0                         0   \n",
       "internal_reschedules                              0                         0   \n",
       "customer_reschedules                              0                         0   \n",
       "rated_orders                                      0                         0   \n",
       "avg_rating                                      NaN                       NaN   \n",
       "rated_orders_ratio                                0                         0   \n",
       "last_order_rating                               NaN                       NaN   \n",
       "rating_diff                                     NaN                       NaN   \n",
       "first_order_rating                              NaN                       NaN   \n",
       "refunds_success                                 NaN                       NaN   \n",
       "refunds_unsuccess                               NaN                       NaN   \n",
       "last_order_refund_request                     False                     False   \n",
       "last_order_fac_name                             NaN                       NaN   \n",
       "first_order_fac_name                            NaN                       NaN   \n",
       "pickup_friday                                     0                         0   \n",
       "pickup_monday                                     0                       0.5   \n",
       "pickup_saturday                                   0                         0   \n",
       "pickup_sunday                                     0                         0   \n",
       "pickup_thursday                                   0                         0   \n",
       "pickup_tuesday                                    0                       0.5   \n",
       "pickup_wednesday                                  1                         0   \n",
       "pickup_after_noon                                 0                         0   \n",
       "pickup_before_noon                                1                         0   \n",
       "pickup_early_morning                              0                         1   \n",
       "pickup_evening                                    0                         0   \n",
       "zip                                          WC2B 5                   W1D 1BS   \n",
       "zip_area                                         wc                         w   \n",
       "avg_hub_distance                             4133.5                   4169.65   \n",
       "last_order_hub_distance                      4133.5                   4209.76   \n",
       "first_order_hub_distance                     4133.5                   4129.54   \n",
       "\n",
       "                                                  2                         3  \\\n",
       "customer_db_id             5447eefcd3cde8cf7ca5e4eb  5447f1a2d4cde82147f1347d   \n",
       "customer_id                         GB-CUS-L2277081           GB-CUS-C3589820   \n",
       "gender                                         male                      male   \n",
       "segment                                         NaN                       NaN   \n",
       "aov                                             NaN                       NaN   \n",
       "recency                                        1370                      1370   \n",
       "frequency                                         0                         0   \n",
       "churn_factor                                      1                         1   \n",
       "referred                                      False                     False   \n",
       "newsletter_optin                              False                     False   \n",
       "city                                         London                    London   \n",
       "valid_orders                                      0                         0   \n",
       "open_orders                                       0                         0   \n",
       "canceled_orders                                   1                         1   \n",
       "pay_error_orders                                  0                         0   \n",
       "completed_orders                                  0                         0   \n",
       "total_orders                                      1                         1   \n",
       "last_order_state                           canceled                  canceled   \n",
       "last_order_date                 2014-10-22 18:53:03       2014-10-22 19:04:20   \n",
       "first_order_date                2014-10-22 18:53:03       2014-10-22 19:04:20   \n",
       "Before Service Class                              1                         1   \n",
       "CLASSIC                                           0                         0   \n",
       "EXPRESS                                           0                         0   \n",
       "LITE                                              0                         0   \n",
       "PERSIL                                            0                         0   \n",
       "PLUS                                              0                         0   \n",
       "last_order_service_class       Before Service Class      Before Service Class   \n",
       "first_order_service_class      Before Service Class      Before Service Class   \n",
       "product_LA                                        0                         0   \n",
       "product_HH                                        0                         0   \n",
       "...                                             ...                       ...   \n",
       "reclean_ratio                                     0                         0   \n",
       "internal_reschedules                              0                         0   \n",
       "customer_reschedules                              0                         0   \n",
       "rated_orders                                      0                         0   \n",
       "avg_rating                                      NaN                       NaN   \n",
       "rated_orders_ratio                                0                         0   \n",
       "last_order_rating                               NaN                       NaN   \n",
       "rating_diff                                     NaN                       NaN   \n",
       "first_order_rating                              NaN                       NaN   \n",
       "refunds_success                                 NaN                       NaN   \n",
       "refunds_unsuccess                               NaN                       NaN   \n",
       "last_order_refund_request                     False                     False   \n",
       "last_order_fac_name                             NaN                       NaN   \n",
       "first_order_fac_name                            NaN                       NaN   \n",
       "pickup_friday                                     0                         0   \n",
       "pickup_monday                                     0                         0   \n",
       "pickup_saturday                                   0                         0   \n",
       "pickup_sunday                                     0                         0   \n",
       "pickup_thursday                                   0                         0   \n",
       "pickup_tuesday                                    0                         0   \n",
       "pickup_wednesday                                  1                         1   \n",
       "pickup_after_noon                                 0                         1   \n",
       "pickup_before_noon                                0                         0   \n",
       "pickup_early_morning                              0                         0   \n",
       "pickup_evening                                    1                         0   \n",
       "zip                                          WC2B 5                    WC2A 3   \n",
       "zip_area                                         wc                        wc   \n",
       "avg_hub_distance                             4133.5                   4093.85   \n",
       "last_order_hub_distance                      4133.5                   4093.85   \n",
       "first_order_hub_distance                     4133.5                   4093.85   \n",
       "\n",
       "                                                  4  \n",
       "customer_db_id             544976fad4cde8f3415bedb0  \n",
       "customer_id                         GB-CUS-P7798401  \n",
       "gender                                         male  \n",
       "segment                                         NaN  \n",
       "aov                                             NaN  \n",
       "recency                                        1190  \n",
       "frequency                                         0  \n",
       "churn_factor                                      1  \n",
       "referred                                      False  \n",
       "newsletter_optin                              False  \n",
       "city                                         London  \n",
       "valid_orders                                      0  \n",
       "open_orders                                       0  \n",
       "canceled_orders                                   2  \n",
       "pay_error_orders                                  0  \n",
       "completed_orders                                  0  \n",
       "total_orders                                      2  \n",
       "last_order_state                           canceled  \n",
       "last_order_date                 2015-04-20 15:42:09  \n",
       "first_order_date                2015-02-10 10:48:22  \n",
       "Before Service Class                              2  \n",
       "CLASSIC                                           0  \n",
       "EXPRESS                                           0  \n",
       "LITE                                              0  \n",
       "PERSIL                                            0  \n",
       "PLUS                                              0  \n",
       "last_order_service_class       Before Service Class  \n",
       "first_order_service_class      Before Service Class  \n",
       "product_LA                                        0  \n",
       "product_HH                                        0  \n",
       "...                                             ...  \n",
       "reclean_ratio                                     0  \n",
       "internal_reschedules                              0  \n",
       "customer_reschedules                              0  \n",
       "rated_orders                                      0  \n",
       "avg_rating                                      NaN  \n",
       "rated_orders_ratio                                0  \n",
       "last_order_rating                               NaN  \n",
       "rating_diff                                     NaN  \n",
       "first_order_rating                              NaN  \n",
       "refunds_success                                 NaN  \n",
       "refunds_unsuccess                               NaN  \n",
       "last_order_refund_request                     False  \n",
       "last_order_fac_name                             NaN  \n",
       "first_order_fac_name                            NaN  \n",
       "pickup_friday                                     0  \n",
       "pickup_monday                                   0.5  \n",
       "pickup_saturday                                   0  \n",
       "pickup_sunday                                     0  \n",
       "pickup_thursday                                   0  \n",
       "pickup_tuesday                                  0.5  \n",
       "pickup_wednesday                                  0  \n",
       "pickup_after_noon                               0.5  \n",
       "pickup_before_noon                              0.5  \n",
       "pickup_early_morning                              0  \n",
       "pickup_evening                                    0  \n",
       "zip                                          WC2B 5  \n",
       "zip_area                                         wc  \n",
       "avg_hub_distance                            4129.54  \n",
       "last_order_hub_distance                     4129.54  \n",
       "first_order_hub_distance                    4129.54  \n",
       "\n",
       "[71 rows x 5 columns]"
      ]
     },
     "execution_count": 4,
     "metadata": {},
     "output_type": "execute_result"
    }
   ],
   "source": [
    "df.head().T"
   ]
  },
  {
   "cell_type": "markdown",
   "metadata": {},
   "source": [
    "# Fill NA values"
   ]
  },
  {
   "cell_type": "code",
   "execution_count": 5,
   "metadata": {},
   "outputs": [
    {
     "data": {
      "text/plain": [
       "refunds_unsuccess              38801\n",
       "refunds_success                38179\n",
       "rating_diff                    32774\n",
       "last_order_rating              32774\n",
       "first_order_rating             30620\n",
       "first_order_fac_name           26065\n",
       "avg_rating                     25465\n",
       "last_order_voucher_channel     23218\n",
       "last_order_fac_name            20815\n",
       "first_order_voucher_channel    20005\n",
       "first_order_products           10820\n",
       "last_order_hub_distance         5837\n",
       "first_order_hub_distance        5779\n",
       "avg_hub_distance                4720\n",
       "aov                             4115\n",
       "segment                         4115\n",
       "gender                          1140\n",
       "zip_area                         613\n",
       "zip                              498\n",
       "dtype: int64"
      ]
     },
     "execution_count": 5,
     "metadata": {},
     "output_type": "execute_result"
    }
   ],
   "source": [
    "nans = df.isnull().sum()\n",
    "nans[nans > 0].sort_values(ascending = False)"
   ]
  },
  {
   "cell_type": "code",
   "execution_count": 6,
   "metadata": {},
   "outputs": [],
   "source": [
    "df['first_order_products'] = df['first_order_products'].fillna(\"\")"
   ]
  },
  {
   "cell_type": "code",
   "execution_count": 7,
   "metadata": {},
   "outputs": [],
   "source": [
    "df[['refunds_unsuccess', 'refunds_success']] = df[['refunds_unsuccess', 'refunds_success']].fillna(0)"
   ]
  },
  {
   "cell_type": "code",
   "execution_count": 8,
   "metadata": {},
   "outputs": [
    {
     "data": {
      "text/html": [
       "<div>\n",
       "<style scoped>\n",
       "    .dataframe tbody tr th:only-of-type {\n",
       "        vertical-align: middle;\n",
       "    }\n",
       "\n",
       "    .dataframe tbody tr th {\n",
       "        vertical-align: top;\n",
       "    }\n",
       "\n",
       "    .dataframe thead th {\n",
       "        text-align: right;\n",
       "    }\n",
       "</style>\n",
       "<table border=\"1\" class=\"dataframe\">\n",
       "  <thead>\n",
       "    <tr style=\"text-align: right;\">\n",
       "      <th></th>\n",
       "      <th>avg_rating</th>\n",
       "      <th>rating_diff</th>\n",
       "      <th>last_order_rating</th>\n",
       "      <th>rated_orders</th>\n",
       "      <th>first_order_rating</th>\n",
       "    </tr>\n",
       "  </thead>\n",
       "  <tbody>\n",
       "    <tr>\n",
       "      <th>31</th>\n",
       "      <td>5.000000</td>\n",
       "      <td>-999.000000</td>\n",
       "      <td>-999.0</td>\n",
       "      <td>1</td>\n",
       "      <td>-999.0</td>\n",
       "    </tr>\n",
       "    <tr>\n",
       "      <th>33</th>\n",
       "      <td>4.821429</td>\n",
       "      <td>-999.000000</td>\n",
       "      <td>-999.0</td>\n",
       "      <td>28</td>\n",
       "      <td>-999.0</td>\n",
       "    </tr>\n",
       "    <tr>\n",
       "      <th>38</th>\n",
       "      <td>4.897436</td>\n",
       "      <td>-999.000000</td>\n",
       "      <td>-999.0</td>\n",
       "      <td>39</td>\n",
       "      <td>-999.0</td>\n",
       "    </tr>\n",
       "    <tr>\n",
       "      <th>44</th>\n",
       "      <td>3.888889</td>\n",
       "      <td>-999.000000</td>\n",
       "      <td>-999.0</td>\n",
       "      <td>9</td>\n",
       "      <td>-999.0</td>\n",
       "    </tr>\n",
       "    <tr>\n",
       "      <th>46</th>\n",
       "      <td>2.333333</td>\n",
       "      <td>2.666667</td>\n",
       "      <td>5.0</td>\n",
       "      <td>3</td>\n",
       "      <td>-999.0</td>\n",
       "    </tr>\n",
       "  </tbody>\n",
       "</table>\n",
       "</div>"
      ],
      "text/plain": [
       "    avg_rating  rating_diff  last_order_rating  rated_orders  \\\n",
       "31    5.000000  -999.000000             -999.0             1   \n",
       "33    4.821429  -999.000000             -999.0            28   \n",
       "38    4.897436  -999.000000             -999.0            39   \n",
       "44    3.888889  -999.000000             -999.0             9   \n",
       "46    2.333333     2.666667                5.0             3   \n",
       "\n",
       "    first_order_rating  \n",
       "31              -999.0  \n",
       "33              -999.0  \n",
       "38              -999.0  \n",
       "44              -999.0  \n",
       "46              -999.0  "
      ]
     },
     "execution_count": 8,
     "metadata": {},
     "output_type": "execute_result"
    }
   ],
   "source": [
    "rating_cols = ['avg_rating', 'rating_diff', 'last_order_rating', 'rated_orders', 'first_order_rating']\n",
    "df[rating_cols] = df[rating_cols].fillna(-999)\n",
    "df.loc[df.rated_orders > 0, rating_cols].head()"
   ]
  },
  {
   "cell_type": "code",
   "execution_count": 9,
   "metadata": {},
   "outputs": [],
   "source": [
    "df.aov = df.aov.fillna(0)\n",
    "df.segment = df.segment.fillna('None')\n",
    "df.gender = df.gender.fillna('Unknown')"
   ]
  },
  {
   "cell_type": "code",
   "execution_count": 10,
   "metadata": {},
   "outputs": [],
   "source": [
    "df.zip = df.zip.fillna('Unknown')\n",
    "df.zip_area = df.zip_area.fillna('Unknown')\n",
    "\n",
    "df.avg_hub_distance = df.avg_hub_distance.fillna(-999)\n",
    "df.last_order_hub_distance = df.last_order_hub_distance.fillna(-999)\n",
    "df.first_order_hub_distance = df.first_order_hub_distance.fillna(-999)"
   ]
  },
  {
   "cell_type": "code",
   "execution_count": 11,
   "metadata": {},
   "outputs": [],
   "source": [
    "df.first_order_date = pd.to_datetime(df.first_order_date)\n",
    "df['first_order_week'] = df['first_order_date'].dt.week\n",
    "df['first_order_year'] = df['first_order_date'].dt.year\n",
    "df['first_order_yearweek'] = df['first_order_year'].astype(str) + '-' +  df['first_order_week'].astype(str)"
   ]
  },
  {
   "cell_type": "code",
   "execution_count": 12,
   "metadata": {},
   "outputs": [],
   "source": [
    "df.first_order_fac_name = df.first_order_fac_name.fillna('unknown')\n",
    "df.first_order_voucher_channel = df.first_order_voucher_channel.fillna('unknown')\n",
    "df.last_order_fac_name = df.last_order_fac_name.fillna('unknown')\n",
    "df.last_order_voucher_channel = df.last_order_voucher_channel.fillna('unknown')"
   ]
  },
  {
   "cell_type": "code",
   "execution_count": 13,
   "metadata": {},
   "outputs": [
    {
     "data": {
      "text/plain": [
       "Series([], dtype: int64)"
      ]
     },
     "execution_count": 13,
     "metadata": {},
     "output_type": "execute_result"
    }
   ],
   "source": [
    "nans = df.isnull().sum()\n",
    "nans[nans > 0].sort_values(ascending = False)"
   ]
  },
  {
   "cell_type": "code",
   "execution_count": 14,
   "metadata": {},
   "outputs": [],
   "source": [
    "df['churned'] = [True if x > 1 else False for x in df.churn_factor]"
   ]
  },
  {
   "cell_type": "markdown",
   "metadata": {},
   "source": [
    "# All customers analysis"
   ]
  },
  {
   "cell_type": "code",
   "execution_count": 15,
   "metadata": {},
   "outputs": [
    {
     "data": {
      "text/html": [
       "<div>\n",
       "<style scoped>\n",
       "    .dataframe tbody tr th:only-of-type {\n",
       "        vertical-align: middle;\n",
       "    }\n",
       "\n",
       "    .dataframe tbody tr th {\n",
       "        vertical-align: top;\n",
       "    }\n",
       "\n",
       "    .dataframe thead th {\n",
       "        text-align: right;\n",
       "    }\n",
       "</style>\n",
       "<table border=\"1\" class=\"dataframe\">\n",
       "  <thead>\n",
       "    <tr style=\"text-align: right;\">\n",
       "      <th></th>\n",
       "      <th>customer_db_id</th>\n",
       "      <th>customer_id</th>\n",
       "      <th>gender</th>\n",
       "      <th>segment</th>\n",
       "      <th>aov</th>\n",
       "      <th>recency</th>\n",
       "      <th>frequency</th>\n",
       "      <th>churn_factor</th>\n",
       "      <th>referred</th>\n",
       "      <th>newsletter_optin</th>\n",
       "      <th>...</th>\n",
       "      <th>pickup_evening</th>\n",
       "      <th>zip</th>\n",
       "      <th>zip_area</th>\n",
       "      <th>avg_hub_distance</th>\n",
       "      <th>last_order_hub_distance</th>\n",
       "      <th>first_order_hub_distance</th>\n",
       "      <th>first_order_week</th>\n",
       "      <th>first_order_year</th>\n",
       "      <th>first_order_yearweek</th>\n",
       "      <th>churned</th>\n",
       "    </tr>\n",
       "  </thead>\n",
       "  <tbody>\n",
       "    <tr>\n",
       "      <th>0</th>\n",
       "      <td>54478736d4cde82247f1345f</td>\n",
       "      <td>GB-CUS-Y8922200</td>\n",
       "      <td>male</td>\n",
       "      <td>None</td>\n",
       "      <td>0.000000</td>\n",
       "      <td>1370</td>\n",
       "      <td>0.0</td>\n",
       "      <td>1.0</td>\n",
       "      <td>False</td>\n",
       "      <td>False</td>\n",
       "      <td>...</td>\n",
       "      <td>0.0</td>\n",
       "      <td>WC2B 5</td>\n",
       "      <td>wc</td>\n",
       "      <td>4133.502686</td>\n",
       "      <td>4133.502686</td>\n",
       "      <td>4133.502686</td>\n",
       "      <td>43</td>\n",
       "      <td>2014</td>\n",
       "      <td>2014-43</td>\n",
       "      <td>False</td>\n",
       "    </tr>\n",
       "    <tr>\n",
       "      <th>1</th>\n",
       "      <td>54478fa4d3cde8d17ca5e4db</td>\n",
       "      <td>GB-CUS-K3854440</td>\n",
       "      <td>female</td>\n",
       "      <td>RED</td>\n",
       "      <td>10.150078</td>\n",
       "      <td>1211</td>\n",
       "      <td>0.0</td>\n",
       "      <td>1.0</td>\n",
       "      <td>False</td>\n",
       "      <td>False</td>\n",
       "      <td>...</td>\n",
       "      <td>0.0</td>\n",
       "      <td>W1D 1BS</td>\n",
       "      <td>w</td>\n",
       "      <td>4169.647505</td>\n",
       "      <td>4209.759086</td>\n",
       "      <td>4129.535924</td>\n",
       "      <td>43</td>\n",
       "      <td>2014</td>\n",
       "      <td>2014-43</td>\n",
       "      <td>False</td>\n",
       "    </tr>\n",
       "    <tr>\n",
       "      <th>2</th>\n",
       "      <td>5447eefcd3cde8cf7ca5e4eb</td>\n",
       "      <td>GB-CUS-L2277081</td>\n",
       "      <td>male</td>\n",
       "      <td>None</td>\n",
       "      <td>0.000000</td>\n",
       "      <td>1370</td>\n",
       "      <td>0.0</td>\n",
       "      <td>1.0</td>\n",
       "      <td>False</td>\n",
       "      <td>False</td>\n",
       "      <td>...</td>\n",
       "      <td>1.0</td>\n",
       "      <td>WC2B 5</td>\n",
       "      <td>wc</td>\n",
       "      <td>4133.502686</td>\n",
       "      <td>4133.502686</td>\n",
       "      <td>4133.502686</td>\n",
       "      <td>43</td>\n",
       "      <td>2014</td>\n",
       "      <td>2014-43</td>\n",
       "      <td>False</td>\n",
       "    </tr>\n",
       "    <tr>\n",
       "      <th>3</th>\n",
       "      <td>5447f1a2d4cde82147f1347d</td>\n",
       "      <td>GB-CUS-C3589820</td>\n",
       "      <td>male</td>\n",
       "      <td>None</td>\n",
       "      <td>0.000000</td>\n",
       "      <td>1370</td>\n",
       "      <td>0.0</td>\n",
       "      <td>1.0</td>\n",
       "      <td>False</td>\n",
       "      <td>False</td>\n",
       "      <td>...</td>\n",
       "      <td>0.0</td>\n",
       "      <td>WC2A 3</td>\n",
       "      <td>wc</td>\n",
       "      <td>4093.847747</td>\n",
       "      <td>4093.847747</td>\n",
       "      <td>4093.847747</td>\n",
       "      <td>43</td>\n",
       "      <td>2014</td>\n",
       "      <td>2014-43</td>\n",
       "      <td>False</td>\n",
       "    </tr>\n",
       "    <tr>\n",
       "      <th>4</th>\n",
       "      <td>544976fad4cde8f3415bedb0</td>\n",
       "      <td>GB-CUS-P7798401</td>\n",
       "      <td>male</td>\n",
       "      <td>None</td>\n",
       "      <td>0.000000</td>\n",
       "      <td>1190</td>\n",
       "      <td>0.0</td>\n",
       "      <td>1.0</td>\n",
       "      <td>False</td>\n",
       "      <td>False</td>\n",
       "      <td>...</td>\n",
       "      <td>0.0</td>\n",
       "      <td>WC2B 5</td>\n",
       "      <td>wc</td>\n",
       "      <td>4129.535924</td>\n",
       "      <td>4129.535924</td>\n",
       "      <td>4129.535924</td>\n",
       "      <td>7</td>\n",
       "      <td>2015</td>\n",
       "      <td>2015-7</td>\n",
       "      <td>False</td>\n",
       "    </tr>\n",
       "  </tbody>\n",
       "</table>\n",
       "<p>5 rows × 75 columns</p>\n",
       "</div>"
      ],
      "text/plain": [
       "             customer_db_id      customer_id  gender segment        aov  \\\n",
       "0  54478736d4cde82247f1345f  GB-CUS-Y8922200    male    None   0.000000   \n",
       "1  54478fa4d3cde8d17ca5e4db  GB-CUS-K3854440  female     RED  10.150078   \n",
       "2  5447eefcd3cde8cf7ca5e4eb  GB-CUS-L2277081    male    None   0.000000   \n",
       "3  5447f1a2d4cde82147f1347d  GB-CUS-C3589820    male    None   0.000000   \n",
       "4  544976fad4cde8f3415bedb0  GB-CUS-P7798401    male    None   0.000000   \n",
       "\n",
       "   recency  frequency  churn_factor  referred  newsletter_optin   ...    \\\n",
       "0     1370        0.0           1.0     False             False   ...     \n",
       "1     1211        0.0           1.0     False             False   ...     \n",
       "2     1370        0.0           1.0     False             False   ...     \n",
       "3     1370        0.0           1.0     False             False   ...     \n",
       "4     1190        0.0           1.0     False             False   ...     \n",
       "\n",
       "  pickup_evening      zip  zip_area  avg_hub_distance  \\\n",
       "0            0.0   WC2B 5        wc       4133.502686   \n",
       "1            0.0  W1D 1BS         w       4169.647505   \n",
       "2            1.0   WC2B 5        wc       4133.502686   \n",
       "3            0.0   WC2A 3        wc       4093.847747   \n",
       "4            0.0   WC2B 5        wc       4129.535924   \n",
       "\n",
       "   last_order_hub_distance  first_order_hub_distance  first_order_week  \\\n",
       "0              4133.502686               4133.502686                43   \n",
       "1              4209.759086               4129.535924                43   \n",
       "2              4133.502686               4133.502686                43   \n",
       "3              4093.847747               4093.847747                43   \n",
       "4              4129.535924               4129.535924                 7   \n",
       "\n",
       "  first_order_year first_order_yearweek churned  \n",
       "0             2014              2014-43   False  \n",
       "1             2014              2014-43   False  \n",
       "2             2014              2014-43   False  \n",
       "3             2014              2014-43   False  \n",
       "4             2015               2015-7   False  \n",
       "\n",
       "[5 rows x 75 columns]"
      ]
     },
     "execution_count": 15,
     "metadata": {},
     "output_type": "execute_result"
    }
   ],
   "source": [
    "df.head()"
   ]
  },
  {
   "cell_type": "code",
   "execution_count": 16,
   "metadata": {},
   "outputs": [
    {
     "data": {
      "text/plain": [
       "<matplotlib.axes._subplots.AxesSubplot at 0x20f2fde8208>"
      ]
     },
     "execution_count": 16,
     "metadata": {},
     "output_type": "execute_result"
    },
    {
     "data": {
      "image/png": "[encoded data removed]",
      "text/plain": [
       "<Figure size 432x288 with 1 Axes>"
      ]
     },
     "metadata": {},
     "output_type": "display_data"
    }
   ],
   "source": [
    "sns.distplot(df.loc[df.valid_orders > 1].frequency)"
   ]
  },
  {
   "cell_type": "code",
   "execution_count": 17,
   "metadata": {},
   "outputs": [],
   "source": [
    "zips = df.groupby(['zip'])['customer_db_id'].nunique().sort_values(ascending=False)\n",
    "zips = zips.loc[zips > 20].reset_index().zip.unique()\n",
    "\n",
    "df_seg = df.loc[df.zip.isin(zips)].groupby(['segment', 'zip_area', 'zip'])\\\n",
    "                    ['customer_db_id'].nunique()\\\n",
    "                    .reset_index()\\\n",
    "                    .rename(columns={'customer_db_id': 'customers'})\n",
    "df_seg = df_seg.merge(df_seg.groupby(['segment'])\\\n",
    "                      ['customers'].sum()\\\n",
    "                      .reset_index()\\\n",
    "                      .rename(columns={'customers': 'segment_total'}), on='segment')\n",
    "df_seg['customers_segment'] = df_seg.customers / df_seg.segment_total"
   ]
  },
  {
   "cell_type": "code",
   "execution_count": 18,
   "metadata": {},
   "outputs": [
    {
     "data": {
      "image/png": "[encoded data removed]",
      "text/plain": [
       "<Figure size 576x1800 with 9 Axes>"
      ]
     },
     "metadata": {},
     "output_type": "display_data"
    }
   ],
   "source": [
    "flatui = [\"BLACK\", \"YELLOW\", \"RED\", \"GREEN\", \"GREEN\", \"GRAY\"]\n",
    "sns.set_palette(flatui)\n",
    "\n",
    "# zip_areas = df_seg.zip_area.unique().tolist()\n",
    "# fig, axarray = plt.subplots(nrows=len(zip_areas), figsize=(10,10))\n",
    "\n",
    "# for idx, zip_area in enumerate(zip_areas):\n",
    "    \n",
    "#     ax = axarray[idx]\n",
    "#     sns.barplot(data=df_seg.loc[df_seg.zip_area == zip_area], x='zip', y='customers_segment', hue='segment', \n",
    "#                 hue_order=['BLACK', 'GOLD', 'RED', 'GREEN.PROFIT', 'GREEN.DENSITY', 'None'], ax=ax)\n",
    "#     ax.legend_.remove()\n",
    "# plt.tight_layout()\n",
    "\n",
    "zip_areas = df_seg.zip_area.unique().tolist()\n",
    "fig=plt.figure(figsize=(8, 25))\n",
    "\n",
    "for idx, zip_area in enumerate(zip_areas):\n",
    "    ax = fig.add_subplot(len(zip_areas), 1, idx+1)\n",
    "    sns.barplot(data=df_seg.loc[df_seg.zip_area == zip_area], x='zip', y='customers_segment', hue='segment', \n",
    "                hue_order=['BLACK', 'GOLD', 'RED', 'GREEN.PROFIT', 'GREEN.DENSITY', 'None'])\n",
    "    ax.legend_.remove()\n",
    "plt.tight_layout()"
   ]
  },
  {
   "cell_type": "markdown",
   "metadata": {},
   "source": [
    "# Bad vs Good Voucher Customers\n",
    "*Assumption: Bad customers are customers who had one completed order using a voucher, had a good customer experience and didn't place another order for more than a year. These customers should be excluded from churn analysis.*\n",
    "\n",
    "We want to analyse, if there are any specific features, such as area, channels, products that identify bad customers. In order to analyse, we create a 'Good Customers' group, which are customers, who have returned after their first order with vouchers.\n",
    "\n",
    "Bad Voucher customers: \n",
    "- First_Order_Voucher == TRUE\n",
    "- Completed_Orders == 1\n",
    "- Total_Orders == 1\n",
    "- Last_Order > 365 days ago\n",
    "\n",
    "Good Voucher customers:\n",
    "- First_Order_Voucher == TRUE\n",
    "- Completed_Orders > 1"
   ]
  },
  {
   "cell_type": "code",
   "execution_count": 19,
   "metadata": {},
   "outputs": [],
   "source": [
    "df_vou = df.loc[df.first_order_voucher & df.valid_orders > 0]\n",
    "df_vou_good = df_vou.loc[(df_vou.valid_orders > 1)]\n",
    "df_vou_bad = df_vou.loc[(df_vou.valid_orders == 1) & (df_vou.total_orders == 1) & (df_vou.recency > 365)]"
   ]
  },
  {
   "cell_type": "code",
   "execution_count": 20,
   "metadata": {},
   "outputs": [
    {
     "name": "stdout",
     "output_type": "stream",
     "text": [
      "Number of Bad customers:  6875\n",
      "Number of Good customers:  2605\n"
     ]
    }
   ],
   "source": [
    "print('Number of Bad customers: ', df_vou_bad.shape[0])\n",
    "print('Number of Good customers: ', df_vou_good.shape[0])\n",
    "\n",
    "df_vou_bad['customer_type'] = 'bad'\n",
    "df_vou_good['customer_type'] = 'good'"
   ]
  },
  {
   "cell_type": "code",
   "execution_count": 21,
   "metadata": {},
   "outputs": [],
   "source": [
    "def plot_bad_vs_good_by_column(column_name):\n",
    "    df_bad = df_vou_bad.groupby(column_name)['customer_db_id'].nunique() / df_vou_bad.shape[0]\n",
    "    df_good = df_vou_good.groupby(column_name)['customer_db_id'].nunique() / df_vou_good.shape[0]\n",
    "    df_diff = df_good - df_bad\n",
    "    df_diff_relative = df_diff / (df_bad + df_good)\n",
    "    df = pd.concat([df_bad, df_good, df_diff, df_diff_relative], \n",
    "                  axis=1, keys=['bad', 'good', 'diff', 'diff_relative'], sort=True)\n",
    "    \n",
    "    df = df.sort_values('diff', ascending=False)\n",
    "    df[['bad', 'good']].plot(kind='bar', title=column_name)\n",
    "    df[['diff']].plot(kind='bar', title='diff (+ more good / - more bad)', color='orange')\n",
    "#     df[['diff_relative']].sort_values('diff_relative', ascending=False).plot(kind='bar', title='diff relative (diff / all customers)', color='orange')"
   ]
  },
  {
   "cell_type": "markdown",
   "metadata": {},
   "source": [
    "# Bad customers with Bad experience\n",
    "*Assumption: If a BAD customer churned because of bad experience, he should be included in the churn analysis*\n",
    "\n",
    "Customers falling into the following groups should not be excluded from analysis:\n",
    "* reclean_order\n",
    "* order_rating < 4\n",
    "* internal_reschedules > 1\n",
    "* refund"
   ]
  },
  {
   "cell_type": "code",
   "execution_count": 22,
   "metadata": {
    "scrolled": false
   },
   "outputs": [
    {
     "data": {
      "text/plain": [
       "reclean_orders\n",
       "0    6863\n",
       "1      12\n",
       "Name: customer_db_id, dtype: int64"
      ]
     },
     "execution_count": 22,
     "metadata": {},
     "output_type": "execute_result"
    }
   ],
   "source": [
    "df_vou_bad.groupby(['reclean_orders'])['customer_db_id'].nunique()"
   ]
  },
  {
   "cell_type": "code",
   "execution_count": 23,
   "metadata": {
    "scrolled": false
   },
   "outputs": [
    {
     "data": {
      "text/plain": [
       "last_order_rating\n",
       "-999.0    5706\n",
       " 1.0       101\n",
       " 2.0        37\n",
       " 3.0       106\n",
       " 4.0       247\n",
       " 5.0       678\n",
       "Name: customer_db_id, dtype: int64"
      ]
     },
     "execution_count": 23,
     "metadata": {},
     "output_type": "execute_result"
    }
   ],
   "source": [
    "df_vou_bad.groupby(['last_order_rating'])['customer_db_id'].nunique()"
   ]
  },
  {
   "cell_type": "code",
   "execution_count": 24,
   "metadata": {
    "scrolled": false
   },
   "outputs": [
    {
     "data": {
      "text/plain": [
       "internal_reschedules\n",
       "0    6548\n",
       "1     249\n",
       "2      56\n",
       "3      18\n",
       "4       3\n",
       "5       1\n",
       "Name: customer_db_id, dtype: int64"
      ]
     },
     "execution_count": 24,
     "metadata": {},
     "output_type": "execute_result"
    }
   ],
   "source": [
    "df_vou_bad.groupby(['internal_reschedules'])['customer_db_id'].nunique()"
   ]
  },
  {
   "cell_type": "code",
   "execution_count": 25,
   "metadata": {
    "scrolled": false
   },
   "outputs": [
    {
     "data": {
      "text/plain": [
       "refunds_success\n",
       "0.0    6867\n",
       "1.0       8\n",
       "Name: customer_db_id, dtype: int64"
      ]
     },
     "execution_count": 25,
     "metadata": {},
     "output_type": "execute_result"
    }
   ],
   "source": [
    "df_vou_bad.groupby(['refunds_success'])['customer_db_id'].nunique()"
   ]
  },
  {
   "cell_type": "code",
   "execution_count": 26,
   "metadata": {},
   "outputs": [
    {
     "name": "stdout",
     "output_type": "stream",
     "text": [
      "Bad with bad experience:  5960\n",
      "Bad with good experience:  915\n"
     ]
    }
   ],
   "source": [
    "df_vou_bad_exp = df_vou_bad.loc[\n",
    "    (df_vou_bad.reclean_orders == 1) |\n",
    "    (df_vou_bad.last_order_rating < 4) |\n",
    "    (df_vou_bad.refunds_success == 1) |\n",
    "    (df_vou_bad.internal_reschedules > 1)\n",
    "]\n",
    "\n",
    "df_vou_bad = df_vou_bad.loc[~df_vou_bad.customer_db_id.isin(df_vou_bad_exp.customer_db_id)]\n",
    "df_both = pd.concat([df_vou_bad, df_vou_good])\n",
    "\n",
    "print('Bad with bad experience: ', df_vou_bad_exp.shape[0])\n",
    "print('Bad with good experience: ', df_vou_bad.shape[0])"
   ]
  },
  {
   "cell_type": "markdown",
   "metadata": {},
   "source": [
    "# Bad Customers with Good Experience"
   ]
  },
  {
   "cell_type": "markdown",
   "metadata": {},
   "source": [
    "## Voucher Channel\n",
    "*Assumption: The channel through which the customer has received the voucher influences if the acquired customer is going to come back after the first order.*"
   ]
  },
  {
   "cell_type": "code",
   "execution_count": null,
   "metadata": {},
   "outputs": [],
   "source": [
    "plot_bad_vs_good_by_column('first_order_voucher_channel')"
   ]
  },
  {
   "cell_type": "markdown",
   "metadata": {},
   "source": [
    "Conclusion: Customers that have acquired their vouchers from the following channels are **likely to churn after first order, even if they had a good customer experience**, and should be excluded from the analysis.\n",
    "* SEO\n",
    "* SEM\n",
    "* Appco/Direct Sales\n",
    "\n"
   ]
  },
  {
   "cell_type": "code",
   "execution_count": null,
   "metadata": {},
   "outputs": [],
   "source": [
    "bad_voucher_channels = ['SEO', 'SEM', 'Appco/Direct Sales']"
   ]
  },
  {
   "cell_type": "markdown",
   "metadata": {},
   "source": [
    "## Distance to Hub\n",
    "*Assumption: The distance of the customer to the hub influences the availability he/she sees when they place an order. If there is bad availability, the customer might not come back.*"
   ]
  },
  {
   "cell_type": "code",
   "execution_count": null,
   "metadata": {},
   "outputs": [],
   "source": [
    "a = df_both.loc[df_both.first_order_hub_distance != -999, ['customer_type', 'first_order_hub_distance']]\n",
    "sns.categorical.stripplot(data=a, x='customer_type', y='first_order_hub_distance')"
   ]
  },
  {
   "cell_type": "code",
   "execution_count": null,
   "metadata": {},
   "outputs": [],
   "source": [
    "f, (ax1, ax2) = plt.subplots(2, sharex=True, sharey=True,figsize=(6,6))\n",
    "sns.distplot(a.loc[a.customer_type == 'bad', 'first_order_hub_distance'], ax=ax1, color='red', bins=25)\n",
    "ax1.set_title('Bad Customers')\n",
    "sns.distplot(a.loc[a.customer_type == 'good', 'first_order_hub_distance'], ax=ax2, color='blue', bins=25)\n",
    "ax2.set_title('Good Customers')\n",
    "plt.tight_layout()"
   ]
  },
  {
   "cell_type": "markdown",
   "metadata": {},
   "source": [
    "*Conclusion*: It doesn't seem that distance to hub plays a role in the first_voucher_order churn."
   ]
  },
  {
   "cell_type": "markdown",
   "metadata": {},
   "source": [
    "## Dates\n",
    "*Assumption: The dates when more bad customers came than good, could mean that there was a certain period of campaigns that attracted undesirable customers.*"
   ]
  },
  {
   "cell_type": "code",
   "execution_count": null,
   "metadata": {},
   "outputs": [],
   "source": [
    "bad_limit = df_vou_bad.loc[df_vou_bad.first_order_date < \"2017-07-21\"]\n",
    "good_limit = df_vou_good.loc[df_vou_good.first_order_date < \"2017-07-21\"]\n",
    "bad = bad_limit\\\n",
    "        .groupby('first_order_date')['customer_db_id']\\\n",
    "        .nunique() / bad_limit.shape[0]\n",
    "good = good_limit\\\n",
    "        .groupby('first_order_date')['customer_db_id']\\\n",
    "        .nunique() / good_limit.shape[0]\n",
    "\n",
    "df_plot = pd.concat([bad, good], axis=1, keys=['bad', 'good']).reset_index()\n",
    "df_plot = df_plot.groupby([pd.Grouper(key='first_order_date', freq='MS')])[['bad', 'good']]\\\n",
    "        .sum()\\\n",
    "        .reset_index()\\\n",
    "        .sort_values('first_order_date')\\\n",
    "        .set_index('first_order_date')"
   ]
  },
  {
   "cell_type": "code",
   "execution_count": null,
   "metadata": {},
   "outputs": [],
   "source": [
    "df_plot.plot()"
   ]
  },
  {
   "cell_type": "markdown",
   "metadata": {},
   "source": [
    "*Conclusion*: Seems that there were some areas, especially around Feb - April 2016, where loads of \"bad customers\" were coming in. We should look at what kind of campaigns there were running at that time."
   ]
  },
  {
   "cell_type": "markdown",
   "metadata": {},
   "source": [
    "## Facility\n",
    "*Assumption: Some facilities provide better services and therefore customers who churned after first order, although having a 'good' facility, are concidered bad.*"
   ]
  },
  {
   "cell_type": "code",
   "execution_count": null,
   "metadata": {},
   "outputs": [],
   "source": [
    "plot_bad_vs_good_by_column('first_order_fac_name')"
   ]
  },
  {
   "cell_type": "markdown",
   "metadata": {},
   "source": [
    "## Product Segmentation\n",
    "*Assumption: Bad customers order certain type of products*\n",
    "\n",
    "TODO: too many UNKNOWN values for bad customers, need to include itemization"
   ]
  },
  {
   "cell_type": "code",
   "execution_count": null,
   "metadata": {},
   "outputs": [],
   "source": [
    "plot_bad_vs_good_by_column('first_order_products')"
   ]
  },
  {
   "cell_type": "markdown",
   "metadata": {},
   "source": [
    "## Service Class"
   ]
  },
  {
   "cell_type": "code",
   "execution_count": null,
   "metadata": {},
   "outputs": [],
   "source": [
    "plot_bad_vs_good_by_column('first_order_service_class')"
   ]
  },
  {
   "cell_type": "markdown",
   "metadata": {},
   "source": [
    "## Gender"
   ]
  },
  {
   "cell_type": "code",
   "execution_count": null,
   "metadata": {},
   "outputs": [],
   "source": [
    "plot_bad_vs_good_by_column('gender')"
   ]
  },
  {
   "cell_type": "markdown",
   "metadata": {},
   "source": [
    "## Zip Area"
   ]
  },
  {
   "cell_type": "code",
   "execution_count": null,
   "metadata": {},
   "outputs": [],
   "source": [
    "plot_bad_vs_good_by_column('zip_area')"
   ]
  },
  {
   "cell_type": "code",
   "execution_count": null,
   "metadata": {},
   "outputs": [],
   "source": [
    "df_both.columns"
   ]
  },
  {
   "cell_type": "code",
   "execution_count": null,
   "metadata": {},
   "outputs": [],
   "source": [
    "features = ['first_order_products', 'first_order_voucher_channel', 'first_order_fac_name', 'avg_hub_distance']\n",
    "df_good = df_vou_good.sample(df_vou_bad.shape[0])\n",
    "df_bad = df_vou_bad.copy()\n",
    "df_both = pd.concat([df_good, df_bad])"
   ]
  },
  {
   "cell_type": "code",
   "execution_count": null,
   "metadata": {},
   "outputs": [],
   "source": [
    "df_both = df_both[['customer_type'] + features]\n",
    "df_both.columns"
   ]
  },
  {
   "cell_type": "code",
   "execution_count": null,
   "metadata": {},
   "outputs": [],
   "source": [
    "voucher_channel_le = LabelEncoder()\n",
    "voucher_channel_le.fit(df_both.first_order_voucher_channel)\n",
    "df_both['first_order_voucher_channel_enc'] = voucher_channel_le.transform(df_both.first_order_voucher_channel.tolist())"
   ]
  },
  {
   "cell_type": "code",
   "execution_count": null,
   "metadata": {},
   "outputs": [],
   "source": [
    "products_le = LabelEncoder()\n",
    "products_le.fit(df_both.first_order_products)\n",
    "df_both['first_order_products_enc'] = products_le.transform(df_both.first_order_products.tolist())"
   ]
  },
  {
   "cell_type": "code",
   "execution_count": null,
   "metadata": {},
   "outputs": [],
   "source": [
    "facility_le = LabelEncoder()\n",
    "facility_le.fit(df_both.first_order_fac_name)\n",
    "df_both['first_order_fac_name_enc'] = facility_le.transform(df_both.first_order_fac_name.tolist())"
   ]
  },
  {
   "cell_type": "code",
   "execution_count": null,
   "metadata": {},
   "outputs": [],
   "source": [
    "df_both['customer_type'] = df_both['customer_type'].map({'bad': -1, 'good': 1})"
   ]
  },
  {
   "cell_type": "code",
   "execution_count": null,
   "metadata": {},
   "outputs": [],
   "source": [
    "df_both = df_both[['first_order_products_enc', 'first_order_voucher_channel_enc', \n",
    "         'first_order_fac_name_enc', 'avg_hub_distance', 'customer_type']]"
   ]
  },
  {
   "cell_type": "code",
   "execution_count": null,
   "metadata": {},
   "outputs": [],
   "source": [
    "df_both.corr()"
   ]
  },
  {
   "cell_type": "code",
   "execution_count": null,
   "metadata": {},
   "outputs": [],
   "source": [
    "sns.heatmap(df_both.corr(), \n",
    "            xticklabels=df_both.corr().columns.values,\n",
    "            yticklabels=df_both.corr().columns.values)"
   ]
  },
  {
   "cell_type": "code",
   "execution_count": null,
   "metadata": {},
   "outputs": [],
   "source": [
    "X = df_both[['first_order_products_enc', 'first_order_voucher_channel_enc', \n",
    "         'first_order_fac_name_enc', 'avg_hub_distance']].values\n",
    "y = df_both[['customer_type']].values"
   ]
  },
  {
   "cell_type": "code",
   "execution_count": null,
   "metadata": {},
   "outputs": [],
   "source": [
    "from sklearn.tree import DecisionTreeClassifier\n",
    "import sklearn.tree as tree\n",
    "neigh = DecisionTreeClassifier()\n",
    "neigh.fit(X, y)"
   ]
  },
  {
   "cell_type": "code",
   "execution_count": null,
   "metadata": {},
   "outputs": [],
   "source": [
    "neigh.decision_path(X)"
   ]
  },
  {
   "cell_type": "code",
   "execution_count": null,
   "metadata": {},
   "outputs": [],
   "source": [
    "tree.export_graphviz(neigh, out_file='tree.dot')"
   ]
  },
  {
   "cell_type": "code",
   "execution_count": null,
   "metadata": {},
   "outputs": [],
   "source": []
  }
 ],
 "metadata": {
  "kernelspec": {
   "display_name": "Python 3",
   "language": "python",
   "name": "python3"
  },
  "language_info": {
   "codemirror_mode": {
    "name": "ipython",
    "version": 3
   },
   "file_extension": ".py",
   "mimetype": "text/x-python",
   "name": "python",
   "nbconvert_exporter": "python",
   "pygments_lexer": "ipython3",
   "version": "3.6.5"
  }
 },
 "nbformat": 4,
 "nbformat_minor": 2
}
