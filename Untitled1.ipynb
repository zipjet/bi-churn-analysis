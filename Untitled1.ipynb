{
 "cells": [
  {
   "cell_type": "code",
   "execution_count": 1,
   "metadata": {},
   "outputs": [],
   "source": [
    "from pymongo import MongoClient\n",
    "import pandas as pd"
   ]
  },
  {
   "cell_type": "code",
   "execution_count": 2,
   "metadata": {},
   "outputs": [],
   "source": [
    "client = MongoClient('172.31.51.215:27017')"
   ]
  },
  {
   "cell_type": "code",
   "execution_count": 3,
   "metadata": {},
   "outputs": [],
   "source": [
    "df = pd.read_csv(\"data/itemization1.csv\")"
   ]
  },
  {
   "cell_type": "code",
   "execution_count": 4,
   "metadata": {},
   "outputs": [
    {
     "data": {
      "text/html": [
       "<div>\n",
       "<style scoped>\n",
       "    .dataframe tbody tr th:only-of-type {\n",
       "        vertical-align: middle;\n",
       "    }\n",
       "\n",
       "    .dataframe tbody tr th {\n",
       "        vertical-align: top;\n",
       "    }\n",
       "\n",
       "    .dataframe thead th {\n",
       "        text-align: right;\n",
       "    }\n",
       "</style>\n",
       "<table border=\"1\" class=\"dataframe\">\n",
       "  <thead>\n",
       "    <tr style=\"text-align: right;\">\n",
       "      <th></th>\n",
       "      <th>Product Names</th>\n",
       "      <th>Product Type</th>\n",
       "      <th>Product Group</th>\n",
       "      <th>Product Regularity</th>\n",
       "    </tr>\n",
       "  </thead>\n",
       "  <tbody>\n",
       "    <tr>\n",
       "      <th>0</th>\n",
       "      <td>Apron</td>\n",
       "      <td>Apron</td>\n",
       "      <td>Household</td>\n",
       "      <td>Occasional</td>\n",
       "    </tr>\n",
       "    <tr>\n",
       "      <th>1</th>\n",
       "      <td>Bag of Folded Laundry (8kg)</td>\n",
       "      <td>Wash &amp; Fold</td>\n",
       "      <td>Casualwear</td>\n",
       "      <td>Everyday</td>\n",
       "    </tr>\n",
       "    <tr>\n",
       "      <th>2</th>\n",
       "      <td>Bag of Folded Laundry (up to 8kg)</td>\n",
       "      <td>Wash &amp; Fold</td>\n",
       "      <td>Casualwear</td>\n",
       "      <td>Everyday</td>\n",
       "    </tr>\n",
       "    <tr>\n",
       "      <th>3</th>\n",
       "      <td>Bag of Folded Laundry (up to 8kg) - Colour Sep...</td>\n",
       "      <td>Wash &amp; Fold</td>\n",
       "      <td>Casualwear</td>\n",
       "      <td>Everyday</td>\n",
       "    </tr>\n",
       "    <tr>\n",
       "      <th>4</th>\n",
       "      <td>Bed sheet</td>\n",
       "      <td>Bedsheets</td>\n",
       "      <td>Household</td>\n",
       "      <td>Regular</td>\n",
       "    </tr>\n",
       "  </tbody>\n",
       "</table>\n",
       "</div>"
      ],
      "text/plain": [
       "                                       Product Names Product Type  \\\n",
       "0                                              Apron        Apron   \n",
       "1                        Bag of Folded Laundry (8kg)  Wash & Fold   \n",
       "2                 Bag of Folded Laundry (up to 8kg)   Wash & Fold   \n",
       "3  Bag of Folded Laundry (up to 8kg) - Colour Sep...  Wash & Fold   \n",
       "4                                          Bed sheet    Bedsheets   \n",
       "\n",
       "  Product Group Product Regularity  \n",
       "0     Household         Occasional  \n",
       "1    Casualwear           Everyday  \n",
       "2    Casualwear           Everyday  \n",
       "3    Casualwear           Everyday  \n",
       "4     Household            Regular  "
      ]
     },
     "execution_count": 4,
     "metadata": {},
     "output_type": "execute_result"
    }
   ],
   "source": [
    "df.head()"
   ]
  },
  {
   "cell_type": "code",
   "execution_count": 9,
   "metadata": {},
   "outputs": [
    {
     "data": {
      "text/plain": [
       "['Apron',\n",
       " 'Bedsheets',\n",
       " 'Bedspread',\n",
       " 'Belt',\n",
       " 'Blanket',\n",
       " 'Blazer',\n",
       " 'Blouse',\n",
       " 'Bolster',\n",
       " 'Cardigan',\n",
       " 'Coat',\n",
       " 'Cover',\n",
       " 'Curtain',\n",
       " 'Cushion',\n",
       " 'Dress',\n",
       " 'Duvet',\n",
       " 'Hat',\n",
       " 'Jacket',\n",
       " 'Jumpsuit',\n",
       " 'Mattress',\n",
       " 'Napkin',\n",
       " 'Pillow',\n",
       " 'Scarf',\n",
       " 'Shirt',\n",
       " 'Shorts',\n",
       " 'Ski',\n",
       " 'Skirt',\n",
       " 'Suit',\n",
       " 'T-Shirt',\n",
       " 'Tablecloth',\n",
       " 'Tie',\n",
       " 'Top',\n",
       " 'Towel',\n",
       " 'Trousers',\n",
       " 'Underwear',\n",
       " 'Vest',\n",
       " 'Wash & Fold',\n",
       " nan]"
      ]
     },
     "execution_count": 9,
     "metadata": {},
     "output_type": "execute_result"
    }
   ],
   "source": [
    "df['Product Type'].sort_values().unique().tolist()"
   ]
  },
  {
   "cell_type": "code",
   "execution_count": null,
   "metadata": {},
   "outputs": [],
   "source": []
  }
 ],
 "metadata": {
  "kernelspec": {
   "display_name": "Python 3",
   "language": "python",
   "name": "python3"
  },
  "language_info": {
   "codemirror_mode": {
    "name": "ipython",
    "version": 3
   },
   "file_extension": ".py",
   "mimetype": "text/x-python",
   "name": "python",
   "nbconvert_exporter": "python",
   "pygments_lexer": "ipython3",
   "version": "3.6.5"
  }
 },
 "nbformat": 4,
 "nbformat_minor": 2
}
